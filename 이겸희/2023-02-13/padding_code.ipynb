{
 "cells": [
  {
   "cell_type": "code",
   "execution_count": null,
   "id": "5482c672",
   "metadata": {},
   "outputs": [],
   "source": [
    "xml_dir = \"/content/drive/MyDrive/나무_xml/\"\n",
    "img_dir = \"/content/drive/MyDrive/나무 그림/\"\n",
    "cnt1, cnt2, cnt3, cnt4 = 0, 0, 0, 0\n",
    "for xml in tree_label:\n",
    "    xml_file = (xml)\n",
    "    tree = ET.parse(xml_file)\n",
    "    root = tree.getroot()\n",
    "    image_name = root.find('filename').text\n",
    "    full_image_name = os.path.join(img_dir, image_name)\n",
    "    img = cv2.imread(full_image_name)\n",
    "    draw_img = img.copy()\n",
    "    for obj in root.findall('object'):\n",
    "        xmlbox = obj.find('bndbox')\n",
    "        left = int(xmlbox.find('xmin').text)\n",
    "        top = int(xmlbox.find('ymin').text)\n",
    "        right = int(xmlbox.find('xmax').text)\n",
    "        bottom = int(xmlbox.find('ymax').text)\n",
    "        class_name = obj.find('name').text\n",
    "        crop_img = draw_img[top:bottom,left:right]\n",
    "        img_sep = cv2.cvtColor(crop_img, cv2.COLOR_BGR2RGB)\n",
    "\n",
    "        if class_name == 1001:\n",
    "            save_dir = '/content/drive/MyDrive/잎/'\n",
    "            part = '잎'\n",
    "            cnt1 +=1 \n",
    "            cv2.imwrite(save_dir + part + str(cnt1) + '.png',img_sep)\n",
    "        elif class_name == 1002:\n",
    "            save_dir = '/content/drive/MyDrive/줄기/'\n",
    "            part = '줄기'\n",
    "            cnt2 +=1 \n",
    "            cv2.imwrite(save_dir + part + str(cnt2) + '.png',img_sep)\n",
    "        elif class_name == 1003:\n",
    "            save_dir = '/content/drive/MyDrive/뿌리/'\n",
    "            part = '뿌리'\n",
    "            cnt3 +=1 \n",
    "            cv2.imwrite(save_dir + part + str(cnt3) + '.png',img_sep)\n",
    "        else:\n",
    "            save_dir = '/content/drive/MyDrive/전체/'\n",
    "            part = '전체'\n",
    "            cnt4 +=1 \n",
    "            cv2.imwrite(save_dir + part + str(cnt4) + '.png',img_sep)\n",
    "    "
   ]
  },
  {
   "cell_type": "code",
   "execution_count": 1,
   "id": "3fc2da6f",
   "metadata": {},
   "outputs": [
    {
     "ename": "SyntaxError",
     "evalue": "invalid syntax (1468573168.py, line 2)",
     "output_type": "error",
     "traceback": [
      "\u001b[1;36m  File \u001b[1;32m\"C:\\Users\\User\\AppData\\Local\\Temp\\ipykernel_14308\\1468573168.py\"\u001b[1;36m, line \u001b[1;32m2\u001b[0m\n\u001b[1;33m    [OpenCV] Python으로 이미지 크기 줄이고 padding 입혀 저장하기\u001b[0m\n\u001b[1;37m             ^\u001b[0m\n\u001b[1;31mSyntaxError\u001b[0m\u001b[1;31m:\u001b[0m invalid syntax\n"
     ]
    }
   ],
   "source": [
    "import cv2\n",
    "import numpy as np\n",
    "import matplotlib.pyplot as plt\n",
    "\n",
    "# Image load (cv2.imread는 BGR로 load 하기에 RGB로 변환)\n",
    "image = cv2.imread(\"dog.jpg\")\n",
    "image = cv2.cvtColor(image, cv2.COLOR_BGR2RGB)\n",
    "\n",
    "# 가로, 세로에 대해 부족한 margin 계산\n",
    "height, width = image.shape[0:2]\n",
    "margin = [np.abs(height - width) // 2, np.abs(height - width) // 2]\n",
    "\n",
    "# 부족한 길이가 절반으로 안 떨어질 경우 +1\n",
    "if np.abs(height-width) % 2 != 0:\n",
    "    margin[0] += 1\n",
    "\n",
    "# 가로, 세로 가운데 부족한 쪽에 margin 추가\n",
    "if height < width:\n",
    "    margin_list = [margin, [0, 0]]\n",
    "else:\n",
    "    margin_list = [[0, 0], margin]\n",
    "\n",
    "# color 이미지일 경우 color 채널 margin 추가\n",
    "if len(image.shape) == 3:\n",
    "    margin_list.append([0,0])\n",
    "\n",
    "# 이미지에 margin 추가\n",
    "output = np.pad(image, margin_list, mode='constant')\n",
    "\n",
    "# view\n",
    "plt.imshow(output)\n",
    "plt.show()\n",
    "\n",
    "#save\n",
    "new_output = cv2.cvtColor(output, cv2.COLOR_RGB2BGR)\n",
    "cv2.imwrite('output.jpg', new_output)"
   ]
  },
  {
   "cell_type": "code",
   "execution_count": null,
   "id": "e3ac0711",
   "metadata": {},
   "outputs": [],
   "source": []
  },
  {
   "cell_type": "code",
   "execution_count": null,
   "id": "a301196f",
   "metadata": {},
   "outputs": [],
   "source": []
  }
 ],
 "metadata": {
  "kernelspec": {
   "display_name": "Python 3 (ipykernel)",
   "language": "python",
   "name": "python3"
  },
  "language_info": {
   "codemirror_mode": {
    "name": "ipython",
    "version": 3
   },
   "file_extension": ".py",
   "mimetype": "text/x-python",
   "name": "python",
   "nbconvert_exporter": "python",
   "pygments_lexer": "ipython3",
   "version": "3.9.15"
  }
 },
 "nbformat": 4,
 "nbformat_minor": 5
}
