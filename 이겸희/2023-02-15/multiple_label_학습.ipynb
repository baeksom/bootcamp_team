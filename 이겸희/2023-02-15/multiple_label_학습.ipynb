{
  "nbformat": 4,
  "nbformat_minor": 0,
  "metadata": {
    "colab": {
      "provenance": [],
      "machine_shape": "hm",
      "authorship_tag": "ABX9TyNLRNYRB3f+eemUhEnOQJOU",
      "include_colab_link": true
    },
    "kernelspec": {
      "name": "python3",
      "display_name": "Python 3"
    },
    "language_info": {
      "name": "python"
    },
    "gpuClass": "standard"
  },
  "cells": [
    {
      "cell_type": "markdown",
      "metadata": {
        "id": "view-in-github",
        "colab_type": "text"
      },
      "source": [
        "<a href=\"https://colab.research.google.com/github/chaeeerish/bootcamp_team/blob/main/%EC%9D%B4%EA%B2%B8%ED%9D%AC/2023-02-15/multiple_label_%ED%95%99%EC%8A%B5.ipynb\" target=\"_parent\"><img src=\"https://colab.research.google.com/assets/colab-badge.svg\" alt=\"Open In Colab\"/></a>"
      ]
    },
    {
      "cell_type": "code",
      "execution_count": 7,
      "metadata": {
        "id": "SJEogrtbjeth"
      },
      "outputs": [],
      "source": [
        "from google.colab import drive"
      ]
    },
    {
      "cell_type": "code",
      "source": [
        "drive.mount('/content/drive')"
      ],
      "metadata": {
        "colab": {
          "base_uri": "https://localhost:8080/"
        },
        "id": "Stu4IQ9FxXEL",
        "outputId": "556ea409-c8fe-4c76-e963-3d41a7977cee"
      },
      "execution_count": 8,
      "outputs": [
        {
          "output_type": "stream",
          "name": "stdout",
          "text": [
            "Drive already mounted at /content/drive; to attempt to forcibly remount, call drive.mount(\"/content/drive\", force_remount=True).\n"
          ]
        }
      ]
    },
    {
      "cell_type": "code",
      "source": [
        "import cv2\n",
        "import matplotlib.pyplot as plt\n",
        "import os\n",
        "import random\n",
        "import glob\n",
        "from os.path import isdir"
      ],
      "metadata": {
        "id": "-ZgrmPs3xXKA"
      },
      "execution_count": 3,
      "outputs": []
    },
    {
      "cell_type": "code",
      "source": [
        "dir = '/content/drive/MyDrive/tree_test/'"
      ],
      "metadata": {
        "id": "r51cX-R13Iwy"
      },
      "execution_count": 14,
      "outputs": []
    },
    {
      "cell_type": "code",
      "source": [
        "name = os.listdir(dir)\n",
        "name"
      ],
      "metadata": {
        "colab": {
          "base_uri": "https://localhost:8080/"
        },
        "id": "9Znt9uvb3Z_S",
        "outputId": "d1642a23-789d-4d99-d294-4750c861010f"
      },
      "execution_count": 12,
      "outputs": [
        {
          "output_type": "execute_result",
          "data": {
            "text/plain": [
              "['잎이 큰',\n",
              " '잎을 무성하게 그린',\n",
              " '윗쪽으로 안 뻗는',\n",
              " '윗쪽으로 뻗는',\n",
              " '열매있음',\n",
              " '열매없음',\n",
              " '잎이 없는',\n",
              " '잎이 안 큰',\n",
              " '잎을 안 무성하게 그린']"
            ]
          },
          "metadata": {},
          "execution_count": 12
        }
      ]
    },
    {
      "cell_type": "code",
      "source": [
        "tree = glob.glob('/content/drive/MyDrive/tree_test/**')"
      ],
      "metadata": {
        "id": "5Gn6L4JoxXMX"
      },
      "execution_count": 9,
      "outputs": []
    },
    {
      "cell_type": "code",
      "source": [
        "_1, _2, _3, _4, _5, _6 = [],[],[],[],[],[]\n",
        "_1.append(os.listdir(dir + '열매없음'))\n",
        "_2.append(os.listdir(dir +'열매있음'))\n",
        "_3.append(os.listdir(dir + '윗쪽으로 뻗는'))\n",
        "_4.append(os.listdir(dir + '윗쪽으로 안 뻗는'))\n",
        "_5.append(os.listdir(dir + '잎을 무성하게 그린'))\n",
        "_6.append(os.listdir(dir + '잎을 안 무성하게 그린'))"
      ],
      "metadata": {
        "id": "mMS1kNRE6n4U"
      },
      "execution_count": 31,
      "outputs": []
    },
    {
      "cell_type": "code",
      "source": [
        "total_list = []\n",
        "total_list.append(os.listdir(dir + '열매없음'))\n",
        "total_list.append(os.listdir(dir +'열매있음'))\n",
        "total_list.append(os.listdir(dir + '윗쪽으로 뻗는'))\n",
        "total_list.append(os.listdir(dir + '윗쪽으로 안 뻗는'))\n",
        "total_list.append(os.listdir(dir + '잎을 무성하게 그린'))\n",
        "total_list.append(os.listdir(dir + '잎을 안 무성하게 그린'))\n",
        "# x = set(total_list)\n",
        "print(total_list)"
      ],
      "metadata": {
        "colab": {
          "base_uri": "https://localhost:8080/"
        },
        "id": "LADF7UJ9-5Rp",
        "outputId": "c9452aa8-b3bb-43c9-fcd1-d62d3d77447d"
      },
      "execution_count": 32,
      "outputs": [
        {
          "output_type": "stream",
          "name": "stdout",
          "text": [
            "[['잎243.png', '잎242.png', '잎241.png', '잎240.png', '잎239.png', '잎216.png', '잎260.png', '잎244.png', '잎215.png', '잎237.png', '잎234.png', '잎233.png', '잎235.png', '잎236.png', '잎212.png', '잎213.png', '잎214.png', '잎232.png', '잎228.png', '잎231.png', '잎230.png', '잎211.png', '잎227.png', '잎284.png', '잎285.png', '잎281.png', '잎282.png', '잎283.png', '잎273.png', '전체826.png', '전체827.png', '전체822.png', '잎274.png', '잎268.png', '잎272.png', '잎270.png', '잎269.png', '전체825.png', '전체823.png', '전체824.png', '잎257.png', '잎258.png', '잎271.png', '잎305.png', '잎298.png', '잎302.png', '잎304.png', '잎300.png', '잎301.png', '잎299.png', '잎303.png', '잎259.png', '잎256.png', '잎224.png', '잎226.png', '잎223.png', '잎280.png', '잎279.png', '잎267.png', '잎264.png', '잎266.png', '잎265.png', '잎297.png', '잎249.png', '잎250.png', '잎253.png', '잎251.png', '잎254.png', '잎225.png', '전체785.png', '전체784.png', '전체782.png', '잎278.png', '잎252.png', '잎262.png', '잎296.png', '잎221.png', '잎222.png', '잎277.png', '전체821.png', '전체783.png', '잎263.png', '잎276.png', '잎261.png', '잎295.png', '잎294.png', '잎293.png', '잎292.png', '잎246.png', '잎248.png', '전체781.png', '잎275.png', '잎219.png', '잎220.png', '잎247.png', '잎245.png', '잎218.png', '잎291.png', '잎290.png', '잎287.png', '잎286.png', '잎288.png'], ['잎550.png', '잎545.png', '잎542.png', '잎540.png', '잎539.png', '잎538.png', '잎445.png', '잎444.png', '잎430.png', '잎427.png', '잎426.png', '잎424.png', '잎423.png', '잎422.png', '잎420.png', '잎419.png', '잎417.png', '잎416.png', '잎415.png', '잎410.png', '잎409.png', '잎376.png', '잎374.png', '잎365.png', '잎33.png', '잎524.png', '잎523.png', '잎255.png', '잎20.png', '잎24.png', '잎238.png', '잎229.png', '잎289.png', '잎217.png', '잎508.png', '잎507.png', '잎506.png', '잎505.png', '잎504.png', '잎522.png', '잎520.png', '잎519.png', '잎518.png', '잎517.png', '잎516.png', '잎515.png', '잎514.png', '잎513.png', '잎569.png', '잎537.png', '잎536.png', '잎534.png', '잎533.png', '잎532.png', '잎531.png', '잎530.png', '잎529.png', '잎443.png', '잎440.png', '잎439.png', '잎438.png', '잎442.png', '잎441.png', '잎437.png', '잎434.png', '잎435.png', '잎436.png', '잎433.png', '잎432.png', '잎503.png', '잎501.png', '잎500.png', '잎499.png', '잎498.png', '잎497.png', '잎496.png', '잎495.png', '잎570.png', '잎414.png', '잎413.png', '잎412.png', '잎512.png', '잎511.png', '잎510.png', '잎493.png', '잎19.png', '잎528.png', '잎566.png', '잎562.png', '잎555.png', '잎431.png', '잎13.png', '잎509.png', '잎551.png', '잎411.png', '잎446.png'], ['잎386.png', '잎383.png', '잎381.png', '잎355.png', '잎336.png', '잎334.png', '잎156.png', '잎154.png', '잎96.png', '잎64.png', '잎516.png', '잎52.png', '잎45.png', '잎530.png', '잎523.png', '잎489.png', '잎487.png', '잎12.png', '잎331.png', '잎328.png', '잎110.png', '잎323.png', '잎111.png', '잎43.png', '잎153.png', '잎29.png', '잎152.png', '잎281.png', '잎28.png', '잎151.png', '잎264.png', '잎261.png', '잎276.png', '잎141.png', '잎25.png', '잎23.png', '잎131.png', '잎135.png', '잎206.png', '잎129.png', '잎160.png', '잎201.png', '잎200.png', '잎392.png', '잎404.png', '잎41.png', '잎18.png', '잎419.png', '잎406.png'], ['잎106.png', '잎171.png', '잎89.png', '잎86.png', '잎85.png', '잎8.png', '잎571.png', '잎570.png', '잎551.png', '잎514.png', '잎509.png', '잎534.png', '잎503.png', '잎248.png', '잎24.png', '잎209.png', '잎432.png', '잎426.png', '잎422.png', '잎399.png', '잎99.png', '잎420.png', '잎418.png', '잎401.png', '잎400.png', '잎388.png', '잎397.png', '잎398.png', '잎161.png', '잎502.png', '잎14.png', '잎362.png', '잎122.png', '잎31.png', '잎326.png', '잎117.png', '잎313.png', '잎114.png', '잎109.png', '잎490.png', '잎463.png', '잎284.png', '잎273.png', '잎275.png', '잎30.png', '잎266.png', '잎46.png', '잎309.png'], ['잎127.png', '잎120.png', '잎18.png', '잎46.png', '잎326.png', '잎322.png', '잎7.png', '잎8.png', '전체647.png', '전체646.png', '잎354.png', '잎352.png', '잎350.png', '잎17.png', '전체778.png', '잎313.png', '잎300.png', '잎303.png', '잎302.png', '전체640.png', '잎572.png', '잎66.png', '잎549.png', '잎163.png', '잎309.png', '잎342.png', '잎141.png', '잎299.png', '잎349.png', '잎539.png', '잎407.png', '잎295.png', '잎537.png', '잎284.png', '잎138.png', '잎14.png', '잎130.png', '잎264.png', '잎263.png', '잎248.png', '잎397.png', '잎336.png', '잎339.png', '잎535.png', '잎534.png', '잎528.png', '잎523.png', '잎522.png', '잎520.png', '잎519.png', '잎518.png', '잎245.png', '잎244.png', '잎401.png', '잎391.png', '잎382.png', '잎386.png', '잎388.png', '잎228.png', '잎222.png', '전체774.png', '전체666.png', '전체668.png', '전체735.png', '전체650.png', '전체771.png', '전체776.png', '전체773.png', '전체775.png', '전체728.png', '전체730.png', '잎333.png', '전체784.png', '전체786.png', '잎334.png', '잎475.png', '전체672.png', '잎221.png', '잎21.png', '잎2.png', '전체43.png', '전체613.png', '전체779.png', '전체782.png', '전체781.png', '잎19.png', '잎332.png', '잎362.png', '잎356.png', '잎364.png', '잎360.png', '전체637.png', '잎506.png', '잎504.png', '잎495.png', '잎477.png', '전체636.png', '전체632.png', '전체617.png', '전체618.png', '잎99.png'], ['전체186.png', '전체185.png', '전체196.png', '전체24.png', '전체467.png', '전체411.png', '전체379.png', '전체403.png', '전체373.png', '전체369.png', '전체315.png', '전체364.png', '전체34.png', '전체317.png', '잎308.png', '잎3.png', '잎310.png', '잎255.png', '잎272.png', '전체216.png', '전체238.png', '전체262.png', '전체230.png', '전체221.png', '전체215.png', '전체20.png', '전체298.png', '전체3.png', '전체299.png', '잎311.png', '잎306.png', '잎234.png', '잎206.png', '잎569.png', '전체11.png', '전체1.png', '전체10.png', '전체301.png', '잎488.png', '잎484.png', '잎485.png', '잎482.png', '잎481.png', '잎480.png', '잎48.png', '잎43.png', '잎42.png', '잎565.png', '잎566.png', '잎568.png', '전체274.png', '잎451.png', '잎47.png', '잎449.png', '전체121.png', '전체161.png', '잎184.png', '잎191.png', '잎157.png', '잎440.png', '잎438.png', '잎437.png', '잎435.png', '잎434.png', '전체127.png', '잎173.png', '잎479.png', '잎560.png', '잎559.png', '잎553.png', '잎550.png', '잎545.png', '잎527.png', '잎521.png', '잎104.png', '잎367.png', '잎380.png', '잎392.png', '잎384.png', '전체119.png', '잎446.png', '잎445.png', '잎443.png', '잎100.png', '잎341.png', '잎359.png', '잎353.png', '잎318.png', '잎492.png', '잎442.png', '전체626.png', '전체99.png', '전체88.png', '전체84.png', '전체62.png', '전체648.png', '전체621.png', '전체620.png', '전체619.png', '전체577.png', '전체615.png']]\n"
          ]
        }
      ]
    },
    {
      "cell_type": "code",
      "source": [
        "total_list = np.concatenate(total_list).tolist()\n",
        "print(total_list)"
      ],
      "metadata": {
        "colab": {
          "base_uri": "https://localhost:8080/"
        },
        "id": "voDO7lRZ_Pv_",
        "outputId": "5fc32a7e-e08e-4792-de80-962b0472ab4e"
      },
      "execution_count": 33,
      "outputs": [
        {
          "output_type": "stream",
          "name": "stdout",
          "text": [
            "['잎243.png', '잎242.png', '잎241.png', '잎240.png', '잎239.png', '잎216.png', '잎260.png', '잎244.png', '잎215.png', '잎237.png', '잎234.png', '잎233.png', '잎235.png', '잎236.png', '잎212.png', '잎213.png', '잎214.png', '잎232.png', '잎228.png', '잎231.png', '잎230.png', '잎211.png', '잎227.png', '잎284.png', '잎285.png', '잎281.png', '잎282.png', '잎283.png', '잎273.png', '전체826.png', '전체827.png', '전체822.png', '잎274.png', '잎268.png', '잎272.png', '잎270.png', '잎269.png', '전체825.png', '전체823.png', '전체824.png', '잎257.png', '잎258.png', '잎271.png', '잎305.png', '잎298.png', '잎302.png', '잎304.png', '잎300.png', '잎301.png', '잎299.png', '잎303.png', '잎259.png', '잎256.png', '잎224.png', '잎226.png', '잎223.png', '잎280.png', '잎279.png', '잎267.png', '잎264.png', '잎266.png', '잎265.png', '잎297.png', '잎249.png', '잎250.png', '잎253.png', '잎251.png', '잎254.png', '잎225.png', '전체785.png', '전체784.png', '전체782.png', '잎278.png', '잎252.png', '잎262.png', '잎296.png', '잎221.png', '잎222.png', '잎277.png', '전체821.png', '전체783.png', '잎263.png', '잎276.png', '잎261.png', '잎295.png', '잎294.png', '잎293.png', '잎292.png', '잎246.png', '잎248.png', '전체781.png', '잎275.png', '잎219.png', '잎220.png', '잎247.png', '잎245.png', '잎218.png', '잎291.png', '잎290.png', '잎287.png', '잎286.png', '잎288.png', '잎550.png', '잎545.png', '잎542.png', '잎540.png', '잎539.png', '잎538.png', '잎445.png', '잎444.png', '잎430.png', '잎427.png', '잎426.png', '잎424.png', '잎423.png', '잎422.png', '잎420.png', '잎419.png', '잎417.png', '잎416.png', '잎415.png', '잎410.png', '잎409.png', '잎376.png', '잎374.png', '잎365.png', '잎33.png', '잎524.png', '잎523.png', '잎255.png', '잎20.png', '잎24.png', '잎238.png', '잎229.png', '잎289.png', '잎217.png', '잎508.png', '잎507.png', '잎506.png', '잎505.png', '잎504.png', '잎522.png', '잎520.png', '잎519.png', '잎518.png', '잎517.png', '잎516.png', '잎515.png', '잎514.png', '잎513.png', '잎569.png', '잎537.png', '잎536.png', '잎534.png', '잎533.png', '잎532.png', '잎531.png', '잎530.png', '잎529.png', '잎443.png', '잎440.png', '잎439.png', '잎438.png', '잎442.png', '잎441.png', '잎437.png', '잎434.png', '잎435.png', '잎436.png', '잎433.png', '잎432.png', '잎503.png', '잎501.png', '잎500.png', '잎499.png', '잎498.png', '잎497.png', '잎496.png', '잎495.png', '잎570.png', '잎414.png', '잎413.png', '잎412.png', '잎512.png', '잎511.png', '잎510.png', '잎493.png', '잎19.png', '잎528.png', '잎566.png', '잎562.png', '잎555.png', '잎431.png', '잎13.png', '잎509.png', '잎551.png', '잎411.png', '잎446.png', '잎386.png', '잎383.png', '잎381.png', '잎355.png', '잎336.png', '잎334.png', '잎156.png', '잎154.png', '잎96.png', '잎64.png', '잎516.png', '잎52.png', '잎45.png', '잎530.png', '잎523.png', '잎489.png', '잎487.png', '잎12.png', '잎331.png', '잎328.png', '잎110.png', '잎323.png', '잎111.png', '잎43.png', '잎153.png', '잎29.png', '잎152.png', '잎281.png', '잎28.png', '잎151.png', '잎264.png', '잎261.png', '잎276.png', '잎141.png', '잎25.png', '잎23.png', '잎131.png', '잎135.png', '잎206.png', '잎129.png', '잎160.png', '잎201.png', '잎200.png', '잎392.png', '잎404.png', '잎41.png', '잎18.png', '잎419.png', '잎406.png', '잎106.png', '잎171.png', '잎89.png', '잎86.png', '잎85.png', '잎8.png', '잎571.png', '잎570.png', '잎551.png', '잎514.png', '잎509.png', '잎534.png', '잎503.png', '잎248.png', '잎24.png', '잎209.png', '잎432.png', '잎426.png', '잎422.png', '잎399.png', '잎99.png', '잎420.png', '잎418.png', '잎401.png', '잎400.png', '잎388.png', '잎397.png', '잎398.png', '잎161.png', '잎502.png', '잎14.png', '잎362.png', '잎122.png', '잎31.png', '잎326.png', '잎117.png', '잎313.png', '잎114.png', '잎109.png', '잎490.png', '잎463.png', '잎284.png', '잎273.png', '잎275.png', '잎30.png', '잎266.png', '잎46.png', '잎309.png', '잎127.png', '잎120.png', '잎18.png', '잎46.png', '잎326.png', '잎322.png', '잎7.png', '잎8.png', '전체647.png', '전체646.png', '잎354.png', '잎352.png', '잎350.png', '잎17.png', '전체778.png', '잎313.png', '잎300.png', '잎303.png', '잎302.png', '전체640.png', '잎572.png', '잎66.png', '잎549.png', '잎163.png', '잎309.png', '잎342.png', '잎141.png', '잎299.png', '잎349.png', '잎539.png', '잎407.png', '잎295.png', '잎537.png', '잎284.png', '잎138.png', '잎14.png', '잎130.png', '잎264.png', '잎263.png', '잎248.png', '잎397.png', '잎336.png', '잎339.png', '잎535.png', '잎534.png', '잎528.png', '잎523.png', '잎522.png', '잎520.png', '잎519.png', '잎518.png', '잎245.png', '잎244.png', '잎401.png', '잎391.png', '잎382.png', '잎386.png', '잎388.png', '잎228.png', '잎222.png', '전체774.png', '전체666.png', '전체668.png', '전체735.png', '전체650.png', '전체771.png', '전체776.png', '전체773.png', '전체775.png', '전체728.png', '전체730.png', '잎333.png', '전체784.png', '전체786.png', '잎334.png', '잎475.png', '전체672.png', '잎221.png', '잎21.png', '잎2.png', '전체43.png', '전체613.png', '전체779.png', '전체782.png', '전체781.png', '잎19.png', '잎332.png', '잎362.png', '잎356.png', '잎364.png', '잎360.png', '전체637.png', '잎506.png', '잎504.png', '잎495.png', '잎477.png', '전체636.png', '전체632.png', '전체617.png', '전체618.png', '잎99.png', '전체186.png', '전체185.png', '전체196.png', '전체24.png', '전체467.png', '전체411.png', '전체379.png', '전체403.png', '전체373.png', '전체369.png', '전체315.png', '전체364.png', '전체34.png', '전체317.png', '잎308.png', '잎3.png', '잎310.png', '잎255.png', '잎272.png', '전체216.png', '전체238.png', '전체262.png', '전체230.png', '전체221.png', '전체215.png', '전체20.png', '전체298.png', '전체3.png', '전체299.png', '잎311.png', '잎306.png', '잎234.png', '잎206.png', '잎569.png', '전체11.png', '전체1.png', '전체10.png', '전체301.png', '잎488.png', '잎484.png', '잎485.png', '잎482.png', '잎481.png', '잎480.png', '잎48.png', '잎43.png', '잎42.png', '잎565.png', '잎566.png', '잎568.png', '전체274.png', '잎451.png', '잎47.png', '잎449.png', '전체121.png', '전체161.png', '잎184.png', '잎191.png', '잎157.png', '잎440.png', '잎438.png', '잎437.png', '잎435.png', '잎434.png', '전체127.png', '잎173.png', '잎479.png', '잎560.png', '잎559.png', '잎553.png', '잎550.png', '잎545.png', '잎527.png', '잎521.png', '잎104.png', '잎367.png', '잎380.png', '잎392.png', '잎384.png', '전체119.png', '잎446.png', '잎445.png', '잎443.png', '잎100.png', '잎341.png', '잎359.png', '잎353.png', '잎318.png', '잎492.png', '잎442.png', '전체626.png', '전체99.png', '전체88.png', '전체84.png', '전체62.png', '전체648.png', '전체621.png', '전체620.png', '전체619.png', '전체577.png', '전체615.png']\n"
          ]
        }
      ]
    },
    {
      "cell_type": "code",
      "source": [
        "_1 = np.concatenate(_1).tolist()\n",
        "_2 = np.concatenate(_2).tolist()\n",
        "_3 = np.concatenate(_3).tolist()\n",
        "_4 = np.concatenate(_4).tolist()\n",
        "_5 = np.concatenate(_5).tolist()\n",
        "_6 = np.concatenate(_6).tolist()"
      ],
      "metadata": {
        "id": "1S51CSVq8czV"
      },
      "execution_count": 34,
      "outputs": []
    },
    {
      "cell_type": "code",
      "source": [
        "df = pd.DataFrame({\n",
        "    'imgs' : total_list\n",
        "})"
      ],
      "metadata": {
        "id": "-OnwxyfM_cBp"
      },
      "execution_count": 50,
      "outputs": []
    },
    {
      "cell_type": "code",
      "source": [
        "df1 = pd.DataFrame({\n",
        "    '_1' : _1\n",
        "})\n",
        "df2 = pd.DataFrame({\n",
        "    '_2' : _2\n",
        "})\n",
        "df3 = pd.DataFrame({\n",
        "    '_3' : _3\n",
        "})\n",
        "df4 = pd.DataFrame({\n",
        "    '_4' : _4\n",
        "})\n",
        "df5 = pd.DataFrame({\n",
        "    '_5' : _5\n",
        "})\n",
        "df6 = pd.DataFrame({\n",
        "    '_6' : _6\n",
        "})"
      ],
      "metadata": {
        "id": "xH11NCEQ_2X4"
      },
      "execution_count": 49,
      "outputs": []
    },
    {
      "cell_type": "code",
      "source": [
        "result = pd.merge(df,df1, how='left', left_on='imgs', right_on='_1')\n",
        "result = pd.merge(result,df2, how='left', left_on='imgs', right_on='_2')\n",
        "result = pd.merge(result,df3, how='left', left_on='imgs', right_on='_3')\n",
        "result = pd.merge(result,df4, how='left', left_on='imgs', right_on='_4')\n",
        "result = pd.merge(result,df5, how='left', left_on='imgs', right_on='_5')\n",
        "result = pd.merge(result,df6, how='left', left_on='imgs', right_on='_6')"
      ],
      "metadata": {
        "id": "7JHB1So8ANKg"
      },
      "execution_count": 51,
      "outputs": []
    },
    {
      "cell_type": "code",
      "source": [
        "result = result.fillna(0)"
      ],
      "metadata": {
        "id": "xTwtGkWcANjn"
      },
      "execution_count": 53,
      "outputs": []
    },
    {
      "cell_type": "code",
      "source": [
        "result"
      ],
      "metadata": {
        "colab": {
          "base_uri": "https://localhost:8080/",
          "height": 423
        },
        "id": "TZL7Sz8YANqe",
        "outputId": "8b720691-0a50-49a2-a706-c2b5c96ff2d1"
      },
      "execution_count": 54,
      "outputs": [
        {
          "output_type": "execute_result",
          "data": {
            "text/plain": [
              "             imgs          _1 _2 _3 _4 _5            _6\n",
              "0      잎243.png  잎243.png  0  0  0  0             0\n",
              "1      잎242.png  잎242.png  0  0  0  0             0\n",
              "2      잎241.png  잎241.png  0  0  0  0             0\n",
              "3      잎240.png  잎240.png  0  0  0  0             0\n",
              "4      잎239.png  잎239.png  0  0  0  0             0\n",
              "..            ...         ... .. .. .. ..           ...\n",
              "492  전체621.png           0  0  0  0  0  전체621.png\n",
              "493  전체620.png           0  0  0  0  0  전체620.png\n",
              "494  전체619.png           0  0  0  0  0  전체619.png\n",
              "495  전체577.png           0  0  0  0  0  전체577.png\n",
              "496  전체615.png           0  0  0  0  0  전체615.png\n",
              "\n",
              "[497 rows x 7 columns]"
            ],
            "text/html": [
              "\n",
              "  <div id=\"df-0d0c288e-a15d-4844-a7ad-47afc4e82b64\">\n",
              "    <div class=\"colab-df-container\">\n",
              "      <div>\n",
              "<style scoped>\n",
              "    .dataframe tbody tr th:only-of-type {\n",
              "        vertical-align: middle;\n",
              "    }\n",
              "\n",
              "    .dataframe tbody tr th {\n",
              "        vertical-align: top;\n",
              "    }\n",
              "\n",
              "    .dataframe thead th {\n",
              "        text-align: right;\n",
              "    }\n",
              "</style>\n",
              "<table border=\"1\" class=\"dataframe\">\n",
              "  <thead>\n",
              "    <tr style=\"text-align: right;\">\n",
              "      <th></th>\n",
              "      <th>imgs</th>\n",
              "      <th>_1</th>\n",
              "      <th>_2</th>\n",
              "      <th>_3</th>\n",
              "      <th>_4</th>\n",
              "      <th>_5</th>\n",
              "      <th>_6</th>\n",
              "    </tr>\n",
              "  </thead>\n",
              "  <tbody>\n",
              "    <tr>\n",
              "      <th>0</th>\n",
              "      <td>잎243.png</td>\n",
              "      <td>잎243.png</td>\n",
              "      <td>0</td>\n",
              "      <td>0</td>\n",
              "      <td>0</td>\n",
              "      <td>0</td>\n",
              "      <td>0</td>\n",
              "    </tr>\n",
              "    <tr>\n",
              "      <th>1</th>\n",
              "      <td>잎242.png</td>\n",
              "      <td>잎242.png</td>\n",
              "      <td>0</td>\n",
              "      <td>0</td>\n",
              "      <td>0</td>\n",
              "      <td>0</td>\n",
              "      <td>0</td>\n",
              "    </tr>\n",
              "    <tr>\n",
              "      <th>2</th>\n",
              "      <td>잎241.png</td>\n",
              "      <td>잎241.png</td>\n",
              "      <td>0</td>\n",
              "      <td>0</td>\n",
              "      <td>0</td>\n",
              "      <td>0</td>\n",
              "      <td>0</td>\n",
              "    </tr>\n",
              "    <tr>\n",
              "      <th>3</th>\n",
              "      <td>잎240.png</td>\n",
              "      <td>잎240.png</td>\n",
              "      <td>0</td>\n",
              "      <td>0</td>\n",
              "      <td>0</td>\n",
              "      <td>0</td>\n",
              "      <td>0</td>\n",
              "    </tr>\n",
              "    <tr>\n",
              "      <th>4</th>\n",
              "      <td>잎239.png</td>\n",
              "      <td>잎239.png</td>\n",
              "      <td>0</td>\n",
              "      <td>0</td>\n",
              "      <td>0</td>\n",
              "      <td>0</td>\n",
              "      <td>0</td>\n",
              "    </tr>\n",
              "    <tr>\n",
              "      <th>...</th>\n",
              "      <td>...</td>\n",
              "      <td>...</td>\n",
              "      <td>...</td>\n",
              "      <td>...</td>\n",
              "      <td>...</td>\n",
              "      <td>...</td>\n",
              "      <td>...</td>\n",
              "    </tr>\n",
              "    <tr>\n",
              "      <th>492</th>\n",
              "      <td>전체621.png</td>\n",
              "      <td>0</td>\n",
              "      <td>0</td>\n",
              "      <td>0</td>\n",
              "      <td>0</td>\n",
              "      <td>0</td>\n",
              "      <td>전체621.png</td>\n",
              "    </tr>\n",
              "    <tr>\n",
              "      <th>493</th>\n",
              "      <td>전체620.png</td>\n",
              "      <td>0</td>\n",
              "      <td>0</td>\n",
              "      <td>0</td>\n",
              "      <td>0</td>\n",
              "      <td>0</td>\n",
              "      <td>전체620.png</td>\n",
              "    </tr>\n",
              "    <tr>\n",
              "      <th>494</th>\n",
              "      <td>전체619.png</td>\n",
              "      <td>0</td>\n",
              "      <td>0</td>\n",
              "      <td>0</td>\n",
              "      <td>0</td>\n",
              "      <td>0</td>\n",
              "      <td>전체619.png</td>\n",
              "    </tr>\n",
              "    <tr>\n",
              "      <th>495</th>\n",
              "      <td>전체577.png</td>\n",
              "      <td>0</td>\n",
              "      <td>0</td>\n",
              "      <td>0</td>\n",
              "      <td>0</td>\n",
              "      <td>0</td>\n",
              "      <td>전체577.png</td>\n",
              "    </tr>\n",
              "    <tr>\n",
              "      <th>496</th>\n",
              "      <td>전체615.png</td>\n",
              "      <td>0</td>\n",
              "      <td>0</td>\n",
              "      <td>0</td>\n",
              "      <td>0</td>\n",
              "      <td>0</td>\n",
              "      <td>전체615.png</td>\n",
              "    </tr>\n",
              "  </tbody>\n",
              "</table>\n",
              "<p>497 rows × 7 columns</p>\n",
              "</div>\n",
              "      <button class=\"colab-df-convert\" onclick=\"convertToInteractive('df-0d0c288e-a15d-4844-a7ad-47afc4e82b64')\"\n",
              "              title=\"Convert this dataframe to an interactive table.\"\n",
              "              style=\"display:none;\">\n",
              "        \n",
              "  <svg xmlns=\"http://www.w3.org/2000/svg\" height=\"24px\"viewBox=\"0 0 24 24\"\n",
              "       width=\"24px\">\n",
              "    <path d=\"M0 0h24v24H0V0z\" fill=\"none\"/>\n",
              "    <path d=\"M18.56 5.44l.94 2.06.94-2.06 2.06-.94-2.06-.94-.94-2.06-.94 2.06-2.06.94zm-11 1L8.5 8.5l.94-2.06 2.06-.94-2.06-.94L8.5 2.5l-.94 2.06-2.06.94zm10 10l.94 2.06.94-2.06 2.06-.94-2.06-.94-.94-2.06-.94 2.06-2.06.94z\"/><path d=\"M17.41 7.96l-1.37-1.37c-.4-.4-.92-.59-1.43-.59-.52 0-1.04.2-1.43.59L10.3 9.45l-7.72 7.72c-.78.78-.78 2.05 0 2.83L4 21.41c.39.39.9.59 1.41.59.51 0 1.02-.2 1.41-.59l7.78-7.78 2.81-2.81c.8-.78.8-2.07 0-2.86zM5.41 20L4 18.59l7.72-7.72 1.47 1.35L5.41 20z\"/>\n",
              "  </svg>\n",
              "      </button>\n",
              "      \n",
              "  <style>\n",
              "    .colab-df-container {\n",
              "      display:flex;\n",
              "      flex-wrap:wrap;\n",
              "      gap: 12px;\n",
              "    }\n",
              "\n",
              "    .colab-df-convert {\n",
              "      background-color: #E8F0FE;\n",
              "      border: none;\n",
              "      border-radius: 50%;\n",
              "      cursor: pointer;\n",
              "      display: none;\n",
              "      fill: #1967D2;\n",
              "      height: 32px;\n",
              "      padding: 0 0 0 0;\n",
              "      width: 32px;\n",
              "    }\n",
              "\n",
              "    .colab-df-convert:hover {\n",
              "      background-color: #E2EBFA;\n",
              "      box-shadow: 0px 1px 2px rgba(60, 64, 67, 0.3), 0px 1px 3px 1px rgba(60, 64, 67, 0.15);\n",
              "      fill: #174EA6;\n",
              "    }\n",
              "\n",
              "    [theme=dark] .colab-df-convert {\n",
              "      background-color: #3B4455;\n",
              "      fill: #D2E3FC;\n",
              "    }\n",
              "\n",
              "    [theme=dark] .colab-df-convert:hover {\n",
              "      background-color: #434B5C;\n",
              "      box-shadow: 0px 1px 3px 1px rgba(0, 0, 0, 0.15);\n",
              "      filter: drop-shadow(0px 1px 2px rgba(0, 0, 0, 0.3));\n",
              "      fill: #FFFFFF;\n",
              "    }\n",
              "  </style>\n",
              "\n",
              "      <script>\n",
              "        const buttonEl =\n",
              "          document.querySelector('#df-0d0c288e-a15d-4844-a7ad-47afc4e82b64 button.colab-df-convert');\n",
              "        buttonEl.style.display =\n",
              "          google.colab.kernel.accessAllowed ? 'block' : 'none';\n",
              "\n",
              "        async function convertToInteractive(key) {\n",
              "          const element = document.querySelector('#df-0d0c288e-a15d-4844-a7ad-47afc4e82b64');\n",
              "          const dataTable =\n",
              "            await google.colab.kernel.invokeFunction('convertToInteractive',\n",
              "                                                     [key], {});\n",
              "          if (!dataTable) return;\n",
              "\n",
              "          const docLinkHtml = 'Like what you see? Visit the ' +\n",
              "            '<a target=\"_blank\" href=https://colab.research.google.com/notebooks/data_table.ipynb>data table notebook</a>'\n",
              "            + ' to learn more about interactive tables.';\n",
              "          element.innerHTML = '';\n",
              "          dataTable['output_type'] = 'display_data';\n",
              "          await google.colab.output.renderOutput(dataTable, element);\n",
              "          const docLink = document.createElement('div');\n",
              "          docLink.innerHTML = docLinkHtml;\n",
              "          element.appendChild(docLink);\n",
              "        }\n",
              "      </script>\n",
              "    </div>\n",
              "  </div>\n",
              "  "
            ]
          },
          "metadata": {},
          "execution_count": 54
        }
      ]
    },
    {
      "cell_type": "code",
      "source": [
        "def binary(data):\n",
        "    if data != 0:\n",
        "        data = 1\n",
        "        return data\n",
        "    else:\n",
        "        return data\n",
        "result['_1'] = result['_1'].apply(binary)\n",
        "result['_2'] = result['_2'].apply(binary)\n",
        "result['_3'] = result['_3'].apply(binary)\n",
        "result['_4'] = result['_4'].apply(binary)\n",
        "result['_5'] = result['_5'].apply(binary)\n",
        "result['_6'] = result['_6'].apply(binary)"
      ],
      "metadata": {
        "id": "PmfI6UJPC1iM"
      },
      "execution_count": 56,
      "outputs": []
    },
    {
      "cell_type": "code",
      "source": [
        "result"
      ],
      "metadata": {
        "colab": {
          "base_uri": "https://localhost:8080/",
          "height": 423
        },
        "id": "SkV-uNMyANtI",
        "outputId": "1a55f524-fb22-4818-d3c1-9712d02032b2"
      },
      "execution_count": 57,
      "outputs": [
        {
          "output_type": "execute_result",
          "data": {
            "text/plain": [
              "             imgs  _1  _2  _3  _4  _5  _6\n",
              "0      잎243.png   1   0   0   0   0   0\n",
              "1      잎242.png   1   0   0   0   0   0\n",
              "2      잎241.png   1   0   0   0   0   0\n",
              "3      잎240.png   1   0   0   0   0   0\n",
              "4      잎239.png   1   0   0   0   0   0\n",
              "..            ...  ..  ..  ..  ..  ..  ..\n",
              "492  전체621.png   0   0   0   0   0   1\n",
              "493  전체620.png   0   0   0   0   0   1\n",
              "494  전체619.png   0   0   0   0   0   1\n",
              "495  전체577.png   0   0   0   0   0   1\n",
              "496  전체615.png   0   0   0   0   0   1\n",
              "\n",
              "[497 rows x 7 columns]"
            ],
            "text/html": [
              "\n",
              "  <div id=\"df-472bd836-8cd6-4fe6-981e-71081885eb12\">\n",
              "    <div class=\"colab-df-container\">\n",
              "      <div>\n",
              "<style scoped>\n",
              "    .dataframe tbody tr th:only-of-type {\n",
              "        vertical-align: middle;\n",
              "    }\n",
              "\n",
              "    .dataframe tbody tr th {\n",
              "        vertical-align: top;\n",
              "    }\n",
              "\n",
              "    .dataframe thead th {\n",
              "        text-align: right;\n",
              "    }\n",
              "</style>\n",
              "<table border=\"1\" class=\"dataframe\">\n",
              "  <thead>\n",
              "    <tr style=\"text-align: right;\">\n",
              "      <th></th>\n",
              "      <th>imgs</th>\n",
              "      <th>_1</th>\n",
              "      <th>_2</th>\n",
              "      <th>_3</th>\n",
              "      <th>_4</th>\n",
              "      <th>_5</th>\n",
              "      <th>_6</th>\n",
              "    </tr>\n",
              "  </thead>\n",
              "  <tbody>\n",
              "    <tr>\n",
              "      <th>0</th>\n",
              "      <td>잎243.png</td>\n",
              "      <td>1</td>\n",
              "      <td>0</td>\n",
              "      <td>0</td>\n",
              "      <td>0</td>\n",
              "      <td>0</td>\n",
              "      <td>0</td>\n",
              "    </tr>\n",
              "    <tr>\n",
              "      <th>1</th>\n",
              "      <td>잎242.png</td>\n",
              "      <td>1</td>\n",
              "      <td>0</td>\n",
              "      <td>0</td>\n",
              "      <td>0</td>\n",
              "      <td>0</td>\n",
              "      <td>0</td>\n",
              "    </tr>\n",
              "    <tr>\n",
              "      <th>2</th>\n",
              "      <td>잎241.png</td>\n",
              "      <td>1</td>\n",
              "      <td>0</td>\n",
              "      <td>0</td>\n",
              "      <td>0</td>\n",
              "      <td>0</td>\n",
              "      <td>0</td>\n",
              "    </tr>\n",
              "    <tr>\n",
              "      <th>3</th>\n",
              "      <td>잎240.png</td>\n",
              "      <td>1</td>\n",
              "      <td>0</td>\n",
              "      <td>0</td>\n",
              "      <td>0</td>\n",
              "      <td>0</td>\n",
              "      <td>0</td>\n",
              "    </tr>\n",
              "    <tr>\n",
              "      <th>4</th>\n",
              "      <td>잎239.png</td>\n",
              "      <td>1</td>\n",
              "      <td>0</td>\n",
              "      <td>0</td>\n",
              "      <td>0</td>\n",
              "      <td>0</td>\n",
              "      <td>0</td>\n",
              "    </tr>\n",
              "    <tr>\n",
              "      <th>...</th>\n",
              "      <td>...</td>\n",
              "      <td>...</td>\n",
              "      <td>...</td>\n",
              "      <td>...</td>\n",
              "      <td>...</td>\n",
              "      <td>...</td>\n",
              "      <td>...</td>\n",
              "    </tr>\n",
              "    <tr>\n",
              "      <th>492</th>\n",
              "      <td>전체621.png</td>\n",
              "      <td>0</td>\n",
              "      <td>0</td>\n",
              "      <td>0</td>\n",
              "      <td>0</td>\n",
              "      <td>0</td>\n",
              "      <td>1</td>\n",
              "    </tr>\n",
              "    <tr>\n",
              "      <th>493</th>\n",
              "      <td>전체620.png</td>\n",
              "      <td>0</td>\n",
              "      <td>0</td>\n",
              "      <td>0</td>\n",
              "      <td>0</td>\n",
              "      <td>0</td>\n",
              "      <td>1</td>\n",
              "    </tr>\n",
              "    <tr>\n",
              "      <th>494</th>\n",
              "      <td>전체619.png</td>\n",
              "      <td>0</td>\n",
              "      <td>0</td>\n",
              "      <td>0</td>\n",
              "      <td>0</td>\n",
              "      <td>0</td>\n",
              "      <td>1</td>\n",
              "    </tr>\n",
              "    <tr>\n",
              "      <th>495</th>\n",
              "      <td>전체577.png</td>\n",
              "      <td>0</td>\n",
              "      <td>0</td>\n",
              "      <td>0</td>\n",
              "      <td>0</td>\n",
              "      <td>0</td>\n",
              "      <td>1</td>\n",
              "    </tr>\n",
              "    <tr>\n",
              "      <th>496</th>\n",
              "      <td>전체615.png</td>\n",
              "      <td>0</td>\n",
              "      <td>0</td>\n",
              "      <td>0</td>\n",
              "      <td>0</td>\n",
              "      <td>0</td>\n",
              "      <td>1</td>\n",
              "    </tr>\n",
              "  </tbody>\n",
              "</table>\n",
              "<p>497 rows × 7 columns</p>\n",
              "</div>\n",
              "      <button class=\"colab-df-convert\" onclick=\"convertToInteractive('df-472bd836-8cd6-4fe6-981e-71081885eb12')\"\n",
              "              title=\"Convert this dataframe to an interactive table.\"\n",
              "              style=\"display:none;\">\n",
              "        \n",
              "  <svg xmlns=\"http://www.w3.org/2000/svg\" height=\"24px\"viewBox=\"0 0 24 24\"\n",
              "       width=\"24px\">\n",
              "    <path d=\"M0 0h24v24H0V0z\" fill=\"none\"/>\n",
              "    <path d=\"M18.56 5.44l.94 2.06.94-2.06 2.06-.94-2.06-.94-.94-2.06-.94 2.06-2.06.94zm-11 1L8.5 8.5l.94-2.06 2.06-.94-2.06-.94L8.5 2.5l-.94 2.06-2.06.94zm10 10l.94 2.06.94-2.06 2.06-.94-2.06-.94-.94-2.06-.94 2.06-2.06.94z\"/><path d=\"M17.41 7.96l-1.37-1.37c-.4-.4-.92-.59-1.43-.59-.52 0-1.04.2-1.43.59L10.3 9.45l-7.72 7.72c-.78.78-.78 2.05 0 2.83L4 21.41c.39.39.9.59 1.41.59.51 0 1.02-.2 1.41-.59l7.78-7.78 2.81-2.81c.8-.78.8-2.07 0-2.86zM5.41 20L4 18.59l7.72-7.72 1.47 1.35L5.41 20z\"/>\n",
              "  </svg>\n",
              "      </button>\n",
              "      \n",
              "  <style>\n",
              "    .colab-df-container {\n",
              "      display:flex;\n",
              "      flex-wrap:wrap;\n",
              "      gap: 12px;\n",
              "    }\n",
              "\n",
              "    .colab-df-convert {\n",
              "      background-color: #E8F0FE;\n",
              "      border: none;\n",
              "      border-radius: 50%;\n",
              "      cursor: pointer;\n",
              "      display: none;\n",
              "      fill: #1967D2;\n",
              "      height: 32px;\n",
              "      padding: 0 0 0 0;\n",
              "      width: 32px;\n",
              "    }\n",
              "\n",
              "    .colab-df-convert:hover {\n",
              "      background-color: #E2EBFA;\n",
              "      box-shadow: 0px 1px 2px rgba(60, 64, 67, 0.3), 0px 1px 3px 1px rgba(60, 64, 67, 0.15);\n",
              "      fill: #174EA6;\n",
              "    }\n",
              "\n",
              "    [theme=dark] .colab-df-convert {\n",
              "      background-color: #3B4455;\n",
              "      fill: #D2E3FC;\n",
              "    }\n",
              "\n",
              "    [theme=dark] .colab-df-convert:hover {\n",
              "      background-color: #434B5C;\n",
              "      box-shadow: 0px 1px 3px 1px rgba(0, 0, 0, 0.15);\n",
              "      filter: drop-shadow(0px 1px 2px rgba(0, 0, 0, 0.3));\n",
              "      fill: #FFFFFF;\n",
              "    }\n",
              "  </style>\n",
              "\n",
              "      <script>\n",
              "        const buttonEl =\n",
              "          document.querySelector('#df-472bd836-8cd6-4fe6-981e-71081885eb12 button.colab-df-convert');\n",
              "        buttonEl.style.display =\n",
              "          google.colab.kernel.accessAllowed ? 'block' : 'none';\n",
              "\n",
              "        async function convertToInteractive(key) {\n",
              "          const element = document.querySelector('#df-472bd836-8cd6-4fe6-981e-71081885eb12');\n",
              "          const dataTable =\n",
              "            await google.colab.kernel.invokeFunction('convertToInteractive',\n",
              "                                                     [key], {});\n",
              "          if (!dataTable) return;\n",
              "\n",
              "          const docLinkHtml = 'Like what you see? Visit the ' +\n",
              "            '<a target=\"_blank\" href=https://colab.research.google.com/notebooks/data_table.ipynb>data table notebook</a>'\n",
              "            + ' to learn more about interactive tables.';\n",
              "          element.innerHTML = '';\n",
              "          dataTable['output_type'] = 'display_data';\n",
              "          await google.colab.output.renderOutput(dataTable, element);\n",
              "          const docLink = document.createElement('div');\n",
              "          docLink.innerHTML = docLinkHtml;\n",
              "          element.appendChild(docLink);\n",
              "        }\n",
              "      </script>\n",
              "    </div>\n",
              "  </div>\n",
              "  "
            ]
          },
          "metadata": {},
          "execution_count": 57
        }
      ]
    },
    {
      "cell_type": "code",
      "source": [
        "result.columns = ['imgs','열매없음', '열매있음','윗쪽으로 뻗는','윗쪽으로 안 뻗는','잎을 무성하게 그린','잎을 안 무성하게 그린']"
      ],
      "metadata": {
        "id": "L4bvtPQAANvA"
      },
      "execution_count": 58,
      "outputs": []
    },
    {
      "cell_type": "code",
      "source": [
        "result"
      ],
      "metadata": {
        "colab": {
          "base_uri": "https://localhost:8080/",
          "height": 423
        },
        "id": "Kf0ksNpa_2vw",
        "outputId": "cfad161e-a017-4f10-d035-244cca3f1900"
      },
      "execution_count": 59,
      "outputs": [
        {
          "output_type": "execute_result",
          "data": {
            "text/plain": [
              "             imgs  열매없음  열매있음  윗쪽으로 뻗는  윗쪽으로 안 뻗는  잎을 무성하게 그린  잎을 안 무성하게 그린\n",
              "0      잎243.png     1     0        0          0           0             0\n",
              "1      잎242.png     1     0        0          0           0             0\n",
              "2      잎241.png     1     0        0          0           0             0\n",
              "3      잎240.png     1     0        0          0           0             0\n",
              "4      잎239.png     1     0        0          0           0             0\n",
              "..            ...   ...   ...      ...        ...         ...           ...\n",
              "492  전체621.png     0     0        0          0           0             1\n",
              "493  전체620.png     0     0        0          0           0             1\n",
              "494  전체619.png     0     0        0          0           0             1\n",
              "495  전체577.png     0     0        0          0           0             1\n",
              "496  전체615.png     0     0        0          0           0             1\n",
              "\n",
              "[497 rows x 7 columns]"
            ],
            "text/html": [
              "\n",
              "  <div id=\"df-0802780a-527a-48a9-ae20-4e50290abe10\">\n",
              "    <div class=\"colab-df-container\">\n",
              "      <div>\n",
              "<style scoped>\n",
              "    .dataframe tbody tr th:only-of-type {\n",
              "        vertical-align: middle;\n",
              "    }\n",
              "\n",
              "    .dataframe tbody tr th {\n",
              "        vertical-align: top;\n",
              "    }\n",
              "\n",
              "    .dataframe thead th {\n",
              "        text-align: right;\n",
              "    }\n",
              "</style>\n",
              "<table border=\"1\" class=\"dataframe\">\n",
              "  <thead>\n",
              "    <tr style=\"text-align: right;\">\n",
              "      <th></th>\n",
              "      <th>imgs</th>\n",
              "      <th>열매없음</th>\n",
              "      <th>열매있음</th>\n",
              "      <th>윗쪽으로 뻗는</th>\n",
              "      <th>윗쪽으로 안 뻗는</th>\n",
              "      <th>잎을 무성하게 그린</th>\n",
              "      <th>잎을 안 무성하게 그린</th>\n",
              "    </tr>\n",
              "  </thead>\n",
              "  <tbody>\n",
              "    <tr>\n",
              "      <th>0</th>\n",
              "      <td>잎243.png</td>\n",
              "      <td>1</td>\n",
              "      <td>0</td>\n",
              "      <td>0</td>\n",
              "      <td>0</td>\n",
              "      <td>0</td>\n",
              "      <td>0</td>\n",
              "    </tr>\n",
              "    <tr>\n",
              "      <th>1</th>\n",
              "      <td>잎242.png</td>\n",
              "      <td>1</td>\n",
              "      <td>0</td>\n",
              "      <td>0</td>\n",
              "      <td>0</td>\n",
              "      <td>0</td>\n",
              "      <td>0</td>\n",
              "    </tr>\n",
              "    <tr>\n",
              "      <th>2</th>\n",
              "      <td>잎241.png</td>\n",
              "      <td>1</td>\n",
              "      <td>0</td>\n",
              "      <td>0</td>\n",
              "      <td>0</td>\n",
              "      <td>0</td>\n",
              "      <td>0</td>\n",
              "    </tr>\n",
              "    <tr>\n",
              "      <th>3</th>\n",
              "      <td>잎240.png</td>\n",
              "      <td>1</td>\n",
              "      <td>0</td>\n",
              "      <td>0</td>\n",
              "      <td>0</td>\n",
              "      <td>0</td>\n",
              "      <td>0</td>\n",
              "    </tr>\n",
              "    <tr>\n",
              "      <th>4</th>\n",
              "      <td>잎239.png</td>\n",
              "      <td>1</td>\n",
              "      <td>0</td>\n",
              "      <td>0</td>\n",
              "      <td>0</td>\n",
              "      <td>0</td>\n",
              "      <td>0</td>\n",
              "    </tr>\n",
              "    <tr>\n",
              "      <th>...</th>\n",
              "      <td>...</td>\n",
              "      <td>...</td>\n",
              "      <td>...</td>\n",
              "      <td>...</td>\n",
              "      <td>...</td>\n",
              "      <td>...</td>\n",
              "      <td>...</td>\n",
              "    </tr>\n",
              "    <tr>\n",
              "      <th>492</th>\n",
              "      <td>전체621.png</td>\n",
              "      <td>0</td>\n",
              "      <td>0</td>\n",
              "      <td>0</td>\n",
              "      <td>0</td>\n",
              "      <td>0</td>\n",
              "      <td>1</td>\n",
              "    </tr>\n",
              "    <tr>\n",
              "      <th>493</th>\n",
              "      <td>전체620.png</td>\n",
              "      <td>0</td>\n",
              "      <td>0</td>\n",
              "      <td>0</td>\n",
              "      <td>0</td>\n",
              "      <td>0</td>\n",
              "      <td>1</td>\n",
              "    </tr>\n",
              "    <tr>\n",
              "      <th>494</th>\n",
              "      <td>전체619.png</td>\n",
              "      <td>0</td>\n",
              "      <td>0</td>\n",
              "      <td>0</td>\n",
              "      <td>0</td>\n",
              "      <td>0</td>\n",
              "      <td>1</td>\n",
              "    </tr>\n",
              "    <tr>\n",
              "      <th>495</th>\n",
              "      <td>전체577.png</td>\n",
              "      <td>0</td>\n",
              "      <td>0</td>\n",
              "      <td>0</td>\n",
              "      <td>0</td>\n",
              "      <td>0</td>\n",
              "      <td>1</td>\n",
              "    </tr>\n",
              "    <tr>\n",
              "      <th>496</th>\n",
              "      <td>전체615.png</td>\n",
              "      <td>0</td>\n",
              "      <td>0</td>\n",
              "      <td>0</td>\n",
              "      <td>0</td>\n",
              "      <td>0</td>\n",
              "      <td>1</td>\n",
              "    </tr>\n",
              "  </tbody>\n",
              "</table>\n",
              "<p>497 rows × 7 columns</p>\n",
              "</div>\n",
              "      <button class=\"colab-df-convert\" onclick=\"convertToInteractive('df-0802780a-527a-48a9-ae20-4e50290abe10')\"\n",
              "              title=\"Convert this dataframe to an interactive table.\"\n",
              "              style=\"display:none;\">\n",
              "        \n",
              "  <svg xmlns=\"http://www.w3.org/2000/svg\" height=\"24px\"viewBox=\"0 0 24 24\"\n",
              "       width=\"24px\">\n",
              "    <path d=\"M0 0h24v24H0V0z\" fill=\"none\"/>\n",
              "    <path d=\"M18.56 5.44l.94 2.06.94-2.06 2.06-.94-2.06-.94-.94-2.06-.94 2.06-2.06.94zm-11 1L8.5 8.5l.94-2.06 2.06-.94-2.06-.94L8.5 2.5l-.94 2.06-2.06.94zm10 10l.94 2.06.94-2.06 2.06-.94-2.06-.94-.94-2.06-.94 2.06-2.06.94z\"/><path d=\"M17.41 7.96l-1.37-1.37c-.4-.4-.92-.59-1.43-.59-.52 0-1.04.2-1.43.59L10.3 9.45l-7.72 7.72c-.78.78-.78 2.05 0 2.83L4 21.41c.39.39.9.59 1.41.59.51 0 1.02-.2 1.41-.59l7.78-7.78 2.81-2.81c.8-.78.8-2.07 0-2.86zM5.41 20L4 18.59l7.72-7.72 1.47 1.35L5.41 20z\"/>\n",
              "  </svg>\n",
              "      </button>\n",
              "      \n",
              "  <style>\n",
              "    .colab-df-container {\n",
              "      display:flex;\n",
              "      flex-wrap:wrap;\n",
              "      gap: 12px;\n",
              "    }\n",
              "\n",
              "    .colab-df-convert {\n",
              "      background-color: #E8F0FE;\n",
              "      border: none;\n",
              "      border-radius: 50%;\n",
              "      cursor: pointer;\n",
              "      display: none;\n",
              "      fill: #1967D2;\n",
              "      height: 32px;\n",
              "      padding: 0 0 0 0;\n",
              "      width: 32px;\n",
              "    }\n",
              "\n",
              "    .colab-df-convert:hover {\n",
              "      background-color: #E2EBFA;\n",
              "      box-shadow: 0px 1px 2px rgba(60, 64, 67, 0.3), 0px 1px 3px 1px rgba(60, 64, 67, 0.15);\n",
              "      fill: #174EA6;\n",
              "    }\n",
              "\n",
              "    [theme=dark] .colab-df-convert {\n",
              "      background-color: #3B4455;\n",
              "      fill: #D2E3FC;\n",
              "    }\n",
              "\n",
              "    [theme=dark] .colab-df-convert:hover {\n",
              "      background-color: #434B5C;\n",
              "      box-shadow: 0px 1px 3px 1px rgba(0, 0, 0, 0.15);\n",
              "      filter: drop-shadow(0px 1px 2px rgba(0, 0, 0, 0.3));\n",
              "      fill: #FFFFFF;\n",
              "    }\n",
              "  </style>\n",
              "\n",
              "      <script>\n",
              "        const buttonEl =\n",
              "          document.querySelector('#df-0802780a-527a-48a9-ae20-4e50290abe10 button.colab-df-convert');\n",
              "        buttonEl.style.display =\n",
              "          google.colab.kernel.accessAllowed ? 'block' : 'none';\n",
              "\n",
              "        async function convertToInteractive(key) {\n",
              "          const element = document.querySelector('#df-0802780a-527a-48a9-ae20-4e50290abe10');\n",
              "          const dataTable =\n",
              "            await google.colab.kernel.invokeFunction('convertToInteractive',\n",
              "                                                     [key], {});\n",
              "          if (!dataTable) return;\n",
              "\n",
              "          const docLinkHtml = 'Like what you see? Visit the ' +\n",
              "            '<a target=\"_blank\" href=https://colab.research.google.com/notebooks/data_table.ipynb>data table notebook</a>'\n",
              "            + ' to learn more about interactive tables.';\n",
              "          element.innerHTML = '';\n",
              "          dataTable['output_type'] = 'display_data';\n",
              "          await google.colab.output.renderOutput(dataTable, element);\n",
              "          const docLink = document.createElement('div');\n",
              "          docLink.innerHTML = docLinkHtml;\n",
              "          element.appendChild(docLink);\n",
              "        }\n",
              "      </script>\n",
              "    </div>\n",
              "  </div>\n",
              "  "
            ]
          },
          "metadata": {},
          "execution_count": 59
        }
      ]
    },
    {
      "cell_type": "code",
      "source": [
        "import keras\n",
        "from keras.models import Sequential\n",
        "from keras.layers import Dense, Dropout, Flatten\n",
        "from keras.layers import Conv2D, MaxPooling2D\n",
        "import keras.utils as image\n",
        "import numpy as np\n",
        "import pandas as pd\n",
        "import matplotlib.pyplot as plt\n",
        "from sklearn.model_selection import train_test_split\n",
        "from tqdm import tqdm\n",
        "from keras.layers import BatchNormalization"
      ],
      "metadata": {
        "id": "yZAqAGiWxcjJ"
      },
      "execution_count": 66,
      "outputs": []
    },
    {
      "cell_type": "code",
      "source": [
        "image_directory = '/content/drive/MyDrive/test_total_image/'"
      ],
      "metadata": {
        "id": "7g70Syij2Muj"
      },
      "execution_count": 68,
      "outputs": []
    },
    {
      "cell_type": "code",
      "source": [
        "SIZE = 200\n",
        "X_dataset = []  \n",
        "for i in tqdm(range(result.shape[0])):\n",
        "    img = image.load_img(image_directory + result['imgs'][i], target_size=(SIZE,SIZE,3))\n",
        "    img = image.img_to_array(img)\n",
        "    img = img/255.\n",
        "    X_dataset.append(img)\n",
        "    \n",
        "X = np.array(X_dataset)"
      ],
      "metadata": {
        "colab": {
          "base_uri": "https://localhost:8080/"
        },
        "id": "znKhRY13xcn3",
        "outputId": "b61cfab3-00c3-4527-bf18-9c2b04fa1903"
      },
      "execution_count": 77,
      "outputs": [
        {
          "output_type": "stream",
          "name": "stderr",
          "text": [
            "100%|██████████| 497/497 [00:05<00:00, 93.08it/s] \n"
          ]
        }
      ]
    },
    {
      "cell_type": "code",
      "source": [
        "#Id and Genre are not labels to be trained. So drop them from the dataframe.\n",
        "#No need to convert to categorical as the dataset is already in the right format.\n",
        "y = np.array(result.drop(['imgs'], axis=1))\n",
        "\n",
        "X_train, X_test, y_train, y_test = train_test_split(X, y, random_state=20, test_size=0.3)\n",
        "\n",
        "\n",
        "model = Sequential()\n",
        "\n",
        "model.add(Conv2D(filters=16, kernel_size=(5, 5), activation=\"relu\", input_shape=(SIZE,SIZE,3)))\n",
        "model.add(BatchNormalization())\n",
        "model.add(MaxPooling2D(pool_size=(2, 2)))\n",
        "model.add(Dropout(0.2))\n",
        "\n",
        "model.add(Conv2D(filters=32, kernel_size=(5, 5), activation='relu'))\n",
        "model.add(MaxPooling2D(pool_size=(2, 2)))\n",
        "model.add(BatchNormalization())\n",
        "model.add(Dropout(0.2))\n",
        "\n",
        "model.add(Conv2D(filters=64, kernel_size=(5, 5), activation=\"relu\"))\n",
        "model.add(MaxPooling2D(pool_size=(2, 2)))\n",
        "model.add(BatchNormalization())\n",
        "model.add(Dropout(0.2))\n",
        "\n",
        "model.add(Conv2D(filters=64, kernel_size=(5, 5), activation='relu'))\n",
        "model.add(MaxPooling2D(pool_size=(2, 2)))\n",
        "model.add(BatchNormalization())\n",
        "model.add(Dropout(0.2))\n",
        "\n",
        "model.add(Flatten())\n",
        "model.add(Dense(128, activation='relu'))\n",
        "model.add(Dropout(0.5))\n",
        "model.add(Dense(64, activation='relu'))\n",
        "model.add(Dropout(0.5))\n",
        "model.add(Dense(6, activation='sigmoid'))\n",
        "model.summary()"
      ],
      "metadata": {
        "colab": {
          "base_uri": "https://localhost:8080/"
        },
        "id": "qa49AB3t01Hy",
        "outputId": "42de1dac-dade-4069-abf7-f45664490574"
      },
      "execution_count": 81,
      "outputs": [
        {
          "output_type": "stream",
          "name": "stdout",
          "text": [
            "Model: \"sequential_1\"\n",
            "_________________________________________________________________\n",
            " Layer (type)                Output Shape              Param #   \n",
            "=================================================================\n",
            " conv2d_4 (Conv2D)           (None, 196, 196, 16)      1216      \n",
            "                                                                 \n",
            " batch_normalization_4 (Batc  (None, 196, 196, 16)     64        \n",
            " hNormalization)                                                 \n",
            "                                                                 \n",
            " max_pooling2d_4 (MaxPooling  (None, 98, 98, 16)       0         \n",
            " 2D)                                                             \n",
            "                                                                 \n",
            " dropout_6 (Dropout)         (None, 98, 98, 16)        0         \n",
            "                                                                 \n",
            " conv2d_5 (Conv2D)           (None, 94, 94, 32)        12832     \n",
            "                                                                 \n",
            " max_pooling2d_5 (MaxPooling  (None, 47, 47, 32)       0         \n",
            " 2D)                                                             \n",
            "                                                                 \n",
            " batch_normalization_5 (Batc  (None, 47, 47, 32)       128       \n",
            " hNormalization)                                                 \n",
            "                                                                 \n",
            " dropout_7 (Dropout)         (None, 47, 47, 32)        0         \n",
            "                                                                 \n",
            " conv2d_6 (Conv2D)           (None, 43, 43, 64)        51264     \n",
            "                                                                 \n",
            " max_pooling2d_6 (MaxPooling  (None, 21, 21, 64)       0         \n",
            " 2D)                                                             \n",
            "                                                                 \n",
            " batch_normalization_6 (Batc  (None, 21, 21, 64)       256       \n",
            " hNormalization)                                                 \n",
            "                                                                 \n",
            " dropout_8 (Dropout)         (None, 21, 21, 64)        0         \n",
            "                                                                 \n",
            " conv2d_7 (Conv2D)           (None, 17, 17, 64)        102464    \n",
            "                                                                 \n",
            " max_pooling2d_7 (MaxPooling  (None, 8, 8, 64)         0         \n",
            " 2D)                                                             \n",
            "                                                                 \n",
            " batch_normalization_7 (Batc  (None, 8, 8, 64)         256       \n",
            " hNormalization)                                                 \n",
            "                                                                 \n",
            " dropout_9 (Dropout)         (None, 8, 8, 64)          0         \n",
            "                                                                 \n",
            " flatten_1 (Flatten)         (None, 4096)              0         \n",
            "                                                                 \n",
            " dense_3 (Dense)             (None, 128)               524416    \n",
            "                                                                 \n",
            " dropout_10 (Dropout)        (None, 128)               0         \n",
            "                                                                 \n",
            " dense_4 (Dense)             (None, 64)                8256      \n",
            "                                                                 \n",
            " dropout_11 (Dropout)        (None, 64)                0         \n",
            "                                                                 \n",
            " dense_5 (Dense)             (None, 6)                 390       \n",
            "                                                                 \n",
            "=================================================================\n",
            "Total params: 701,542\n",
            "Trainable params: 701,190\n",
            "Non-trainable params: 352\n",
            "_________________________________________________________________\n"
          ]
        }
      ]
    },
    {
      "cell_type": "code",
      "source": [
        "model.compile(optimizer='adam', loss='binary_crossentropy', metrics=['accuracy'])"
      ],
      "metadata": {
        "id": "POKffmNM01KY"
      },
      "execution_count": 82,
      "outputs": []
    },
    {
      "cell_type": "code",
      "source": [
        "history = model.fit(X_train, y_train, epochs=10, validation_data=(X_test, y_test), batch_size=64)"
      ],
      "metadata": {
        "colab": {
          "base_uri": "https://localhost:8080/"
        },
        "id": "8hcTO0nA09PS",
        "outputId": "aae5b2be-d12c-4403-dbe7-e8561a843c9b"
      },
      "execution_count": 83,
      "outputs": [
        {
          "output_type": "stream",
          "name": "stdout",
          "text": [
            "Epoch 1/10\n",
            "6/6 [==============================] - 15s 2s/step - loss: 0.9606 - accuracy: 0.1844 - val_loss: 0.6533 - val_accuracy: 0.1667\n",
            "Epoch 2/10\n",
            "6/6 [==============================] - 12s 2s/step - loss: 0.8526 - accuracy: 0.2392 - val_loss: 0.6316 - val_accuracy: 0.3067\n",
            "Epoch 3/10\n",
            "6/6 [==============================] - 12s 2s/step - loss: 0.7788 - accuracy: 0.2161 - val_loss: 0.5922 - val_accuracy: 0.2733\n",
            "Epoch 4/10\n",
            "6/6 [==============================] - 12s 2s/step - loss: 0.7519 - accuracy: 0.2190 - val_loss: 0.5845 - val_accuracy: 0.2133\n",
            "Epoch 5/10\n",
            "6/6 [==============================] - 12s 2s/step - loss: 0.7631 - accuracy: 0.2046 - val_loss: 0.5533 - val_accuracy: 0.1733\n",
            "Epoch 6/10\n",
            "6/6 [==============================] - 11s 2s/step - loss: 0.6378 - accuracy: 0.3112 - val_loss: 0.5291 - val_accuracy: 0.1133\n",
            "Epoch 7/10\n",
            "6/6 [==============================] - 12s 2s/step - loss: 0.6463 - accuracy: 0.3026 - val_loss: 0.5313 - val_accuracy: 0.1200\n",
            "Epoch 8/10\n",
            "6/6 [==============================] - 12s 2s/step - loss: 0.6177 - accuracy: 0.2853 - val_loss: 0.5623 - val_accuracy: 0.2400\n",
            "Epoch 9/10\n",
            "6/6 [==============================] - 12s 2s/step - loss: 0.6212 - accuracy: 0.3256 - val_loss: 0.5508 - val_accuracy: 0.1867\n",
            "Epoch 10/10\n",
            "6/6 [==============================] - 12s 2s/step - loss: 0.5928 - accuracy: 0.3862 - val_loss: 0.5254 - val_accuracy: 0.2133\n"
          ]
        }
      ]
    },
    {
      "cell_type": "code",
      "source": [
        "loss = history.history['loss']\n",
        "val_loss = history.history['val_loss']\n",
        "epochs = range(1, len(loss) + 1)\n",
        "plt.plot(epochs, loss, 'y', label='Training loss')\n",
        "plt.plot(epochs, val_loss, 'r', label='Validation loss')\n",
        "plt.title('Training and validation loss')\n",
        "plt.xlabel('Epochs')\n",
        "plt.ylabel('Loss')\n",
        "plt.legend()\n",
        "plt.show()"
      ],
      "metadata": {
        "colab": {
          "base_uri": "https://localhost:8080/",
          "height": 295
        },
        "id": "jo1K6b461Ais",
        "outputId": "258316fc-ddb1-4dcb-9295-37bc08fbbcf6"
      },
      "execution_count": 84,
      "outputs": [
        {
          "output_type": "display_data",
          "data": {
            "text/plain": [
              "<Figure size 432x288 with 1 Axes>"
            ],
            "image/png": "[encoded data removed]"
          },
          "metadata": {
            "needs_background": "light"
          }
        }
      ]
    },
    {
      "cell_type": "code",
      "source": [
        "acc = history.history['acc']\n",
        "val_acc = history.history['val_acc']\n",
        "plt.plot(epochs, acc, 'y', label='Training acc')\n",
        "plt.plot(epochs, val_acc, 'r', label='Validation acc')\n",
        "plt.title('Training and validation accuracy')\n",
        "plt.xlabel('Epochs')\n",
        "plt.ylabel('Accuracy')\n",
        "plt.legend()\n",
        "plt.show()"
      ],
      "metadata": {
        "colab": {
          "base_uri": "https://localhost:8080/",
          "height": 248
        },
        "id": "xOW4EruZ1G7Q",
        "outputId": "99e6fa65-7bd1-43dc-97b0-943fa2fd8511"
      },
      "execution_count": 85,
      "outputs": [
        {
          "output_type": "error",
          "ename": "KeyError",
          "evalue": "ignored",
          "traceback": [
            "\u001b[0;31m---------------------------------------------------------------------------\u001b[0m",
            "\u001b[0;31mKeyError\u001b[0m                                  Traceback (most recent call last)",
            "\u001b[0;32m<ipython-input-85-a3cd5d2775f7>\u001b[0m in \u001b[0;36m<module>\u001b[0;34m\u001b[0m\n\u001b[0;32m----> 1\u001b[0;31m \u001b[0macc\u001b[0m \u001b[0;34m=\u001b[0m \u001b[0mhistory\u001b[0m\u001b[0;34m.\u001b[0m\u001b[0mhistory\u001b[0m\u001b[0;34m[\u001b[0m\u001b[0;34m'acc'\u001b[0m\u001b[0;34m]\u001b[0m\u001b[0;34m\u001b[0m\u001b[0;34m\u001b[0m\u001b[0m\n\u001b[0m\u001b[1;32m      2\u001b[0m \u001b[0mval_acc\u001b[0m \u001b[0;34m=\u001b[0m \u001b[0mhistory\u001b[0m\u001b[0;34m.\u001b[0m\u001b[0mhistory\u001b[0m\u001b[0;34m[\u001b[0m\u001b[0;34m'val_acc'\u001b[0m\u001b[0;34m]\u001b[0m\u001b[0;34m\u001b[0m\u001b[0;34m\u001b[0m\u001b[0m\n\u001b[1;32m      3\u001b[0m \u001b[0mplt\u001b[0m\u001b[0;34m.\u001b[0m\u001b[0mplot\u001b[0m\u001b[0;34m(\u001b[0m\u001b[0mepochs\u001b[0m\u001b[0;34m,\u001b[0m \u001b[0macc\u001b[0m\u001b[0;34m,\u001b[0m \u001b[0;34m'y'\u001b[0m\u001b[0;34m,\u001b[0m \u001b[0mlabel\u001b[0m\u001b[0;34m=\u001b[0m\u001b[0;34m'Training acc'\u001b[0m\u001b[0;34m)\u001b[0m\u001b[0;34m\u001b[0m\u001b[0;34m\u001b[0m\u001b[0m\n\u001b[1;32m      4\u001b[0m \u001b[0mplt\u001b[0m\u001b[0;34m.\u001b[0m\u001b[0mplot\u001b[0m\u001b[0;34m(\u001b[0m\u001b[0mepochs\u001b[0m\u001b[0;34m,\u001b[0m \u001b[0mval_acc\u001b[0m\u001b[0;34m,\u001b[0m \u001b[0;34m'r'\u001b[0m\u001b[0;34m,\u001b[0m \u001b[0mlabel\u001b[0m\u001b[0;34m=\u001b[0m\u001b[0;34m'Validation acc'\u001b[0m\u001b[0;34m)\u001b[0m\u001b[0;34m\u001b[0m\u001b[0;34m\u001b[0m\u001b[0m\n\u001b[1;32m      5\u001b[0m \u001b[0mplt\u001b[0m\u001b[0;34m.\u001b[0m\u001b[0mtitle\u001b[0m\u001b[0;34m(\u001b[0m\u001b[0;34m'Training and validation accuracy'\u001b[0m\u001b[0;34m)\u001b[0m\u001b[0;34m\u001b[0m\u001b[0;34m\u001b[0m\u001b[0m\n",
            "\u001b[0;31mKeyError\u001b[0m: 'acc'"
          ]
        }
      ]
    },
    {
      "cell_type": "code",
      "source": [
        "img = image.load_img('ddlj.jpg', target_size=(SIZE,SIZE,3))\n",
        "img = image.img_to_array(img)\n",
        "img = img/255.\n",
        "plt.imshow(img)\n",
        "img = np.expand_dims(img, axis=0)\n",
        "\n",
        "classes = np.array(df.columns[2:]) #Get array of all classes\n",
        "proba = model.predict(img)  #Get probabilities for each class\n",
        "sorted_categories = np.argsort(proba[0])[:-11:-1]  #Get class names for top 10 categories\n",
        "\n",
        "#Print classes and corresponding probabilities\n",
        "for i in range(10):\n",
        "    print(\"{}\".format(classes[sorted_categories[i]])+\" ({:.3})\".format(proba[0][sorted_categories[i]]))\n",
        "\n",
        "###################################################\n",
        "\n",
        "_, acc = model.evaluate(X_test, y_test)\n",
        "print(\"Accuracy = \", (acc * 100.0), \"%\")\n",
        "\n",
        "################################################################\n",
        "\n"
      ],
      "metadata": {
        "id": "PkwmaA7j1Ibb"
      },
      "execution_count": null,
      "outputs": []
    }
  ]
}