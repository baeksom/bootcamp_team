{
  "nbformat": 4,
  "nbformat_minor": 0,
  "metadata": {
    "colab": {
      "provenance": [],
      "machine_shape": "hm",
      "authorship_tag": "ABX9TyPty9VdpIu2KYq/1UR1JPKa",
      "include_colab_link": true
    },
    "kernelspec": {
      "name": "python3",
      "display_name": "Python 3"
    },
    "language_info": {
      "name": "python"
    },
    "gpuClass": "premium",
    "accelerator": "GPU"
  },
  "cells": [
    {
      "cell_type": "markdown",
      "metadata": {
        "id": "view-in-github",
        "colab_type": "text"
      },
      "source": [
        "<a href=\"https://colab.research.google.com/github/chaeeerish/bootcamp_team/blob/main/bootcamp_team/deeplearning/%EB%AC%B4%EC%84%B1%ED%95%9C_class_3%EA%B0%9C.ipynb\" target=\"_parent\"><img src=\"https://colab.research.google.com/assets/colab-badge.svg\" alt=\"Open In Colab\"/></a>"
      ]
    },
    {
      "cell_type": "code",
      "source": [
        "import keras\n",
        "from keras.models import Sequential\n",
        "from keras.layers import Dense, Dropout, Flatten\n",
        "from keras.layers import Conv2D, MaxPooling2D\n",
        "import keras.utils as image\n",
        "import numpy as np\n",
        "import pandas as pd\n",
        "import matplotlib.pyplot as plt\n",
        "from sklearn.model_selection import train_test_split\n",
        "from tqdm import tqdm\n",
        "from keras.layers import BatchNormalization\n",
        "import cv2\n",
        "import matplotlib.pyplot as plt\n",
        "import os\n",
        "import random\n",
        "import glob\n",
        "from os.path import isdir"
      ],
      "metadata": {
        "id": "D4hm8ZWZEWT8"
      },
      "execution_count": 1,
      "outputs": []
    },
    {
      "cell_type": "code",
      "execution_count": 2,
      "metadata": {
        "id": "SJEogrtbjeth"
      },
      "outputs": [],
      "source": [
        "from google.colab import drive"
      ]
    },
    {
      "cell_type": "code",
      "source": [
        "drive.mount('/content/drive')"
      ],
      "metadata": {
        "colab": {
          "base_uri": "https://localhost:8080/"
        },
        "id": "Stu4IQ9FxXEL",
        "outputId": "fdf975e8-5d15-4567-a097-fa7570ffb1d7"
      },
      "execution_count": 3,
      "outputs": [
        {
          "output_type": "stream",
          "name": "stdout",
          "text": [
            "Mounted at /content/drive\n"
          ]
        }
      ]
    },
    {
      "cell_type": "code",
      "source": [
        "dir = '/content/drive/MyDrive/tree_test/'"
      ],
      "metadata": {
        "id": "r51cX-R13Iwy"
      },
      "execution_count": 4,
      "outputs": []
    },
    {
      "cell_type": "code",
      "source": [
        "name = os.listdir(dir)\n",
        "name"
      ],
      "metadata": {
        "colab": {
          "base_uri": "https://localhost:8080/"
        },
        "id": "9Znt9uvb3Z_S",
        "outputId": "63e7060e-d804-4068-b9d7-73e983914d1c"
      },
      "execution_count": 5,
      "outputs": [
        {
          "output_type": "execute_result",
          "data": {
            "text/plain": [
              "['잎을 무성하게 그린',\n",
              " '잎을 안 무성하게 그린',\n",
              " '잎이 없는',\n",
              " '잎이 큰',\n",
              " '잎이 안 큰',\n",
              " '윗쪽으로 뻗는',\n",
              " '윗쪽으로 안 뻗는',\n",
              " '열매있음',\n",
              " '열매없음',\n",
              " '그물 아닌',\n",
              " '꽃없음',\n",
              " '그물',\n",
              " '꽃있음']"
            ]
          },
          "metadata": {},
          "execution_count": 5
        }
      ]
    },
    {
      "cell_type": "code",
      "source": [
        "_1, _2, _3, _4, _5, _6 = [],[],[],[],[],[]\n",
        "_1.append(os.listdir(dir + '잎을 무성하게 그린'))\n",
        "_2.append(os.listdir(dir +'잎을 안 무성하게 그린'))\n",
        "# _3.append(os.listdir(dir + '잎이 안 큰'))\n",
        "# _4.append(os.listdir(dir + '윗쪽으로 안 뻗는'))\n",
        "# _5.append(os.listdir(dir + '잎을 무성하게 그린'))\n",
        "# _6.append(os.listdir(dir + '잎을 안 무성하게 그린'))"
      ],
      "metadata": {
        "id": "mMS1kNRE6n4U"
      },
      "execution_count": 6,
      "outputs": []
    },
    {
      "cell_type": "code",
      "source": [
        "total_list = []\n",
        "total_list.append(os.listdir(dir + '잎을 무성하게 그린'))\n",
        "total_list.append(os.listdir(dir +'잎을 안 무성하게 그린'))\n",
        "# total_list.append(os.listdir(dir + '잎이 안 큰'))\n",
        "# total_list.append(os.listdir(dir + '윗쪽으로 안 뻗는'))\n",
        "# total_list.append(os.listdir(dir + '잎을 무성하게 그린'))\n",
        "# total_list.append(os.listdir(dir + '잎을 안 무성하게 그린'))\n",
        "# x = set(total_list)\n",
        "print(total_list)"
      ],
      "metadata": {
        "colab": {
          "base_uri": "https://localhost:8080/"
        },
        "id": "LADF7UJ9-5Rp",
        "outputId": "e428e4b0-a425-4397-d16b-d6f08705c9ee"
      },
      "execution_count": 7,
      "outputs": [
        {
          "output_type": "stream",
          "name": "stdout",
          "text": [
            "[['전체43.png', '잎2.png', '잎8.png', '잎7.png', '잎17.png', '잎21.png', '잎14.png', '잎19.png', '잎18.png', '잎46.png', '잎66.png', '잎99.png', '잎120.png', '잎127.png', '잎130.png', '잎138.png', '잎141.png', '잎163.png', '잎221.png', '잎222.png', '잎228.png', '잎244.png', '잎245.png', '잎248.png', '잎263.png', '잎264.png', '잎284.png', '잎302.png', '잎303.png', '잎313.png', '잎299.png', '잎309.png', '잎295.png', '잎300.png', '잎322.png', '잎326.png', '잎332.png', '잎333.png', '잎334.png', '잎336.png', '잎339.png', '잎342.png', '잎349.png', '잎350.png', '잎352.png', '잎356.png', '잎354.png', '잎360.png', '잎364.png', '잎362.png', '잎382.png', '잎388.png', '잎386.png', '잎391.png', '잎397.png', '잎401.png', '잎407.png', '잎475.png', '잎477.png', '잎495.png', '잎506.png', '잎504.png', '잎518.png', '잎519.png', '잎520.png', '잎522.png', '잎523.png', '잎528.png', '잎534.png', '잎535.png', '잎537.png', '잎539.png', '잎549.png', '잎572.png', '전체618.png', '전체617.png', '전체632.png', '전체636.png', '전체647.png', '전체646.png', '전체640.png', '전체650.png', '전체613.png', '전체637.png', '전체672.png', '전체666.png', '전체668.png', '전체735.png', '전체773.png', '전체775.png', '전체774.png', '전체776.png', '전체778.png', '전체779.png', '전체781.png', '전체786.png', '전체782.png', '전체784.png', '전체771.png', '전체728.png', '전체730.png'], ['전체1.png', '전체3.png', '전체10.png', '전체11.png', '전체24.png', '전체20.png', '전체34.png', '전체62.png', '전체88.png', '전체84.png', '전체99.png', '전체119.png', '전체121.png', '전체127.png', '전체161.png', '전체196.png', '전체185.png', '전체186.png', '전체215.png', '전체221.png', '전체216.png', '전체230.png', '전체238.png', '전체262.png', '전체274.png', '전체299.png', '전체298.png', '전체301.png', '전체315.png', '전체317.png', '전체364.png', '전체369.png', '전체379.png', '전체403.png', '전체411.png', '전체467.png', '전체577.png', '잎3.png', '잎42.png', '잎43.png', '잎48.png', '잎47.png', '잎100.png', '잎104.png', '잎157.png', '잎173.png', '잎191.png', '잎184.png', '잎206.png', '잎234.png', '잎255.png', '잎272.png', '잎311.png', '잎306.png', '잎310.png', '잎308.png', '잎318.png', '잎341.png', '잎353.png', '잎359.png', '잎367.png', '잎380.png', '잎384.png', '잎392.png', '잎437.png', '잎434.png', '잎435.png', '잎438.png', '잎440.png', '잎442.png', '잎443.png', '잎445.png', '잎446.png', '잎449.png', '잎451.png', '잎481.png', '잎479.png', '잎480.png', '잎482.png', '잎484.png', '잎488.png', '잎485.png', '잎492.png', '잎521.png', '잎527.png', '잎545.png', '잎550.png', '잎553.png', '잎559.png', '잎560.png', '잎566.png', '잎565.png', '잎568.png', '잎569.png', '전체373.png', '전체615.png', '전체620.png', '전체621.png', '전체619.png', '전체626.png', '전체648.png']]\n"
          ]
        }
      ]
    },
    {
      "cell_type": "code",
      "source": [
        "total_list = np.concatenate(total_list).tolist()\n",
        "print(total_list)"
      ],
      "metadata": {
        "colab": {
          "base_uri": "https://localhost:8080/"
        },
        "id": "voDO7lRZ_Pv_",
        "outputId": "4f419371-0306-4c93-a47c-bed1ed9d3741"
      },
      "execution_count": 8,
      "outputs": [
        {
          "output_type": "stream",
          "name": "stdout",
          "text": [
            "['전체43.png', '잎2.png', '잎8.png', '잎7.png', '잎17.png', '잎21.png', '잎14.png', '잎19.png', '잎18.png', '잎46.png', '잎66.png', '잎99.png', '잎120.png', '잎127.png', '잎130.png', '잎138.png', '잎141.png', '잎163.png', '잎221.png', '잎222.png', '잎228.png', '잎244.png', '잎245.png', '잎248.png', '잎263.png', '잎264.png', '잎284.png', '잎302.png', '잎303.png', '잎313.png', '잎299.png', '잎309.png', '잎295.png', '잎300.png', '잎322.png', '잎326.png', '잎332.png', '잎333.png', '잎334.png', '잎336.png', '잎339.png', '잎342.png', '잎349.png', '잎350.png', '잎352.png', '잎356.png', '잎354.png', '잎360.png', '잎364.png', '잎362.png', '잎382.png', '잎388.png', '잎386.png', '잎391.png', '잎397.png', '잎401.png', '잎407.png', '잎475.png', '잎477.png', '잎495.png', '잎506.png', '잎504.png', '잎518.png', '잎519.png', '잎520.png', '잎522.png', '잎523.png', '잎528.png', '잎534.png', '잎535.png', '잎537.png', '잎539.png', '잎549.png', '잎572.png', '전체618.png', '전체617.png', '전체632.png', '전체636.png', '전체647.png', '전체646.png', '전체640.png', '전체650.png', '전체613.png', '전체637.png', '전체672.png', '전체666.png', '전체668.png', '전체735.png', '전체773.png', '전체775.png', '전체774.png', '전체776.png', '전체778.png', '전체779.png', '전체781.png', '전체786.png', '전체782.png', '전체784.png', '전체771.png', '전체728.png', '전체730.png', '전체1.png', '전체3.png', '전체10.png', '전체11.png', '전체24.png', '전체20.png', '전체34.png', '전체62.png', '전체88.png', '전체84.png', '전체99.png', '전체119.png', '전체121.png', '전체127.png', '전체161.png', '전체196.png', '전체185.png', '전체186.png', '전체215.png', '전체221.png', '전체216.png', '전체230.png', '전체238.png', '전체262.png', '전체274.png', '전체299.png', '전체298.png', '전체301.png', '전체315.png', '전체317.png', '전체364.png', '전체369.png', '전체379.png', '전체403.png', '전체411.png', '전체467.png', '전체577.png', '잎3.png', '잎42.png', '잎43.png', '잎48.png', '잎47.png', '잎100.png', '잎104.png', '잎157.png', '잎173.png', '잎191.png', '잎184.png', '잎206.png', '잎234.png', '잎255.png', '잎272.png', '잎311.png', '잎306.png', '잎310.png', '잎308.png', '잎318.png', '잎341.png', '잎353.png', '잎359.png', '잎367.png', '잎380.png', '잎384.png', '잎392.png', '잎437.png', '잎434.png', '잎435.png', '잎438.png', '잎440.png', '잎442.png', '잎443.png', '잎445.png', '잎446.png', '잎449.png', '잎451.png', '잎481.png', '잎479.png', '잎480.png', '잎482.png', '잎484.png', '잎488.png', '잎485.png', '잎492.png', '잎521.png', '잎527.png', '잎545.png', '잎550.png', '잎553.png', '잎559.png', '잎560.png', '잎566.png', '잎565.png', '잎568.png', '잎569.png', '전체373.png', '전체615.png', '전체620.png', '전체621.png', '전체619.png', '전체626.png', '전체648.png']\n"
          ]
        }
      ]
    },
    {
      "cell_type": "code",
      "source": [
        "_1 = np.concatenate(_1).tolist()\n",
        "_2 = np.concatenate(_2).tolist()\n",
        "# _3 = np.concatenate(_3).tolist()\n",
        "# _4 = np.concatenate(_4).tolist()\n",
        "# _5 = np.concatenate(_5).tolist()\n",
        "# _6 = np.concatenate(_6).tolist()"
      ],
      "metadata": {
        "id": "1S51CSVq8czV"
      },
      "execution_count": 9,
      "outputs": []
    },
    {
      "cell_type": "code",
      "source": [
        "df = pd.DataFrame({\n",
        "    'imgs' : total_list\n",
        "})"
      ],
      "metadata": {
        "id": "-OnwxyfM_cBp"
      },
      "execution_count": 10,
      "outputs": []
    },
    {
      "cell_type": "code",
      "source": [
        "df1 = pd.DataFrame({\n",
        "    '_1' : _1\n",
        "})\n",
        "df2 = pd.DataFrame({\n",
        "    '_2' : _2\n",
        "})\n",
        "# df3 = pd.DataFrame({\n",
        "#     '_3' : _3\n",
        "# })\n",
        "# df4 = pd.DataFrame({\n",
        "#     '_4' : _4\n",
        "# })\n",
        "# df5 = pd.DataFrame({\n",
        "#     '_5' : _5\n",
        "# })\n",
        "# df6 = pd.DataFrame({\n",
        "#     '_6' : _6\n",
        "# })"
      ],
      "metadata": {
        "id": "xH11NCEQ_2X4"
      },
      "execution_count": 11,
      "outputs": []
    },
    {
      "cell_type": "code",
      "source": [
        "result = pd.merge(df,df1, how='left', left_on='imgs', right_on='_1')\n",
        "result = pd.merge(result,df2, how='left', left_on='imgs', right_on='_2')\n",
        "# result = pd.merge(result,df3, how='left', left_on='imgs', right_on='_3')\n",
        "# result = pd.merge(result,df4, how='left', left_on='imgs', right_on='_4')\n",
        "# result = pd.merge(result,df5, how='left', left_on='imgs', right_on='_5')\n",
        "# result = pd.merge(result,df6, how='left', left_on='imgs', right_on='_6')"
      ],
      "metadata": {
        "id": "7JHB1So8ANKg"
      },
      "execution_count": 12,
      "outputs": []
    },
    {
      "cell_type": "code",
      "source": [
        "result = result.fillna(0)"
      ],
      "metadata": {
        "id": "xTwtGkWcANjn"
      },
      "execution_count": 13,
      "outputs": []
    },
    {
      "cell_type": "code",
      "source": [
        "result"
      ],
      "metadata": {
        "colab": {
          "base_uri": "https://localhost:8080/",
          "height": 423
        },
        "id": "TZL7Sz8YANqe",
        "outputId": "630faae1-4588-4dc6-a157-2291da120506"
      },
      "execution_count": 14,
      "outputs": [
        {
          "output_type": "execute_result",
          "data": {
            "text/plain": [
              "             imgs           _1            _2\n",
              "0     전체43.png  전체43.png             0\n",
              "1        잎2.png     잎2.png             0\n",
              "2        잎8.png     잎8.png             0\n",
              "3        잎7.png     잎7.png             0\n",
              "4       잎17.png    잎17.png             0\n",
              "..            ...          ...           ...\n",
              "197  전체620.png            0  전체620.png\n",
              "198  전체621.png            0  전체621.png\n",
              "199  전체619.png            0  전체619.png\n",
              "200  전체626.png            0  전체626.png\n",
              "201  전체648.png            0  전체648.png\n",
              "\n",
              "[202 rows x 3 columns]"
            ],
            "text/html": [
              "\n",
              "  <div id=\"df-5d0dfac2-0271-4018-8ca9-5e980d92bbd6\">\n",
              "    <div class=\"colab-df-container\">\n",
              "      <div>\n",
              "<style scoped>\n",
              "    .dataframe tbody tr th:only-of-type {\n",
              "        vertical-align: middle;\n",
              "    }\n",
              "\n",
              "    .dataframe tbody tr th {\n",
              "        vertical-align: top;\n",
              "    }\n",
              "\n",
              "    .dataframe thead th {\n",
              "        text-align: right;\n",
              "    }\n",
              "</style>\n",
              "<table border=\"1\" class=\"dataframe\">\n",
              "  <thead>\n",
              "    <tr style=\"text-align: right;\">\n",
              "      <th></th>\n",
              "      <th>imgs</th>\n",
              "      <th>_1</th>\n",
              "      <th>_2</th>\n",
              "    </tr>\n",
              "  </thead>\n",
              "  <tbody>\n",
              "    <tr>\n",
              "      <th>0</th>\n",
              "      <td>전체43.png</td>\n",
              "      <td>전체43.png</td>\n",
              "      <td>0</td>\n",
              "    </tr>\n",
              "    <tr>\n",
              "      <th>1</th>\n",
              "      <td>잎2.png</td>\n",
              "      <td>잎2.png</td>\n",
              "      <td>0</td>\n",
              "    </tr>\n",
              "    <tr>\n",
              "      <th>2</th>\n",
              "      <td>잎8.png</td>\n",
              "      <td>잎8.png</td>\n",
              "      <td>0</td>\n",
              "    </tr>\n",
              "    <tr>\n",
              "      <th>3</th>\n",
              "      <td>잎7.png</td>\n",
              "      <td>잎7.png</td>\n",
              "      <td>0</td>\n",
              "    </tr>\n",
              "    <tr>\n",
              "      <th>4</th>\n",
              "      <td>잎17.png</td>\n",
              "      <td>잎17.png</td>\n",
              "      <td>0</td>\n",
              "    </tr>\n",
              "    <tr>\n",
              "      <th>...</th>\n",
              "      <td>...</td>\n",
              "      <td>...</td>\n",
              "      <td>...</td>\n",
              "    </tr>\n",
              "    <tr>\n",
              "      <th>197</th>\n",
              "      <td>전체620.png</td>\n",
              "      <td>0</td>\n",
              "      <td>전체620.png</td>\n",
              "    </tr>\n",
              "    <tr>\n",
              "      <th>198</th>\n",
              "      <td>전체621.png</td>\n",
              "      <td>0</td>\n",
              "      <td>전체621.png</td>\n",
              "    </tr>\n",
              "    <tr>\n",
              "      <th>199</th>\n",
              "      <td>전체619.png</td>\n",
              "      <td>0</td>\n",
              "      <td>전체619.png</td>\n",
              "    </tr>\n",
              "    <tr>\n",
              "      <th>200</th>\n",
              "      <td>전체626.png</td>\n",
              "      <td>0</td>\n",
              "      <td>전체626.png</td>\n",
              "    </tr>\n",
              "    <tr>\n",
              "      <th>201</th>\n",
              "      <td>전체648.png</td>\n",
              "      <td>0</td>\n",
              "      <td>전체648.png</td>\n",
              "    </tr>\n",
              "  </tbody>\n",
              "</table>\n",
              "<p>202 rows × 3 columns</p>\n",
              "</div>\n",
              "      <button class=\"colab-df-convert\" onclick=\"convertToInteractive('df-5d0dfac2-0271-4018-8ca9-5e980d92bbd6')\"\n",
              "              title=\"Convert this dataframe to an interactive table.\"\n",
              "              style=\"display:none;\">\n",
              "        \n",
              "  <svg xmlns=\"http://www.w3.org/2000/svg\" height=\"24px\"viewBox=\"0 0 24 24\"\n",
              "       width=\"24px\">\n",
              "    <path d=\"M0 0h24v24H0V0z\" fill=\"none\"/>\n",
              "    <path d=\"M18.56 5.44l.94 2.06.94-2.06 2.06-.94-2.06-.94-.94-2.06-.94 2.06-2.06.94zm-11 1L8.5 8.5l.94-2.06 2.06-.94-2.06-.94L8.5 2.5l-.94 2.06-2.06.94zm10 10l.94 2.06.94-2.06 2.06-.94-2.06-.94-.94-2.06-.94 2.06-2.06.94z\"/><path d=\"M17.41 7.96l-1.37-1.37c-.4-.4-.92-.59-1.43-.59-.52 0-1.04.2-1.43.59L10.3 9.45l-7.72 7.72c-.78.78-.78 2.05 0 2.83L4 21.41c.39.39.9.59 1.41.59.51 0 1.02-.2 1.41-.59l7.78-7.78 2.81-2.81c.8-.78.8-2.07 0-2.86zM5.41 20L4 18.59l7.72-7.72 1.47 1.35L5.41 20z\"/>\n",
              "  </svg>\n",
              "      </button>\n",
              "      \n",
              "  <style>\n",
              "    .colab-df-container {\n",
              "      display:flex;\n",
              "      flex-wrap:wrap;\n",
              "      gap: 12px;\n",
              "    }\n",
              "\n",
              "    .colab-df-convert {\n",
              "      background-color: #E8F0FE;\n",
              "      border: none;\n",
              "      border-radius: 50%;\n",
              "      cursor: pointer;\n",
              "      display: none;\n",
              "      fill: #1967D2;\n",
              "      height: 32px;\n",
              "      padding: 0 0 0 0;\n",
              "      width: 32px;\n",
              "    }\n",
              "\n",
              "    .colab-df-convert:hover {\n",
              "      background-color: #E2EBFA;\n",
              "      box-shadow: 0px 1px 2px rgba(60, 64, 67, 0.3), 0px 1px 3px 1px rgba(60, 64, 67, 0.15);\n",
              "      fill: #174EA6;\n",
              "    }\n",
              "\n",
              "    [theme=dark] .colab-df-convert {\n",
              "      background-color: #3B4455;\n",
              "      fill: #D2E3FC;\n",
              "    }\n",
              "\n",
              "    [theme=dark] .colab-df-convert:hover {\n",
              "      background-color: #434B5C;\n",
              "      box-shadow: 0px 1px 3px 1px rgba(0, 0, 0, 0.15);\n",
              "      filter: drop-shadow(0px 1px 2px rgba(0, 0, 0, 0.3));\n",
              "      fill: #FFFFFF;\n",
              "    }\n",
              "  </style>\n",
              "\n",
              "      <script>\n",
              "        const buttonEl =\n",
              "          document.querySelector('#df-5d0dfac2-0271-4018-8ca9-5e980d92bbd6 button.colab-df-convert');\n",
              "        buttonEl.style.display =\n",
              "          google.colab.kernel.accessAllowed ? 'block' : 'none';\n",
              "\n",
              "        async function convertToInteractive(key) {\n",
              "          const element = document.querySelector('#df-5d0dfac2-0271-4018-8ca9-5e980d92bbd6');\n",
              "          const dataTable =\n",
              "            await google.colab.kernel.invokeFunction('convertToInteractive',\n",
              "                                                     [key], {});\n",
              "          if (!dataTable) return;\n",
              "\n",
              "          const docLinkHtml = 'Like what you see? Visit the ' +\n",
              "            '<a target=\"_blank\" href=https://colab.research.google.com/notebooks/data_table.ipynb>data table notebook</a>'\n",
              "            + ' to learn more about interactive tables.';\n",
              "          element.innerHTML = '';\n",
              "          dataTable['output_type'] = 'display_data';\n",
              "          await google.colab.output.renderOutput(dataTable, element);\n",
              "          const docLink = document.createElement('div');\n",
              "          docLink.innerHTML = docLinkHtml;\n",
              "          element.appendChild(docLink);\n",
              "        }\n",
              "      </script>\n",
              "    </div>\n",
              "  </div>\n",
              "  "
            ]
          },
          "metadata": {},
          "execution_count": 14
        }
      ]
    },
    {
      "cell_type": "code",
      "source": [
        "def binary(data):\n",
        "    if data != 0:\n",
        "        data = 1\n",
        "        return data\n",
        "    else:\n",
        "        return data\n",
        "result['_1'] = result['_1'].apply(binary)\n",
        "result['_2'] = result['_2'].apply(binary)\n",
        "# result['_3'] = result['_3'].apply(binary)\n",
        "# result['_4'] = result['_4'].apply(binary)\n",
        "# result['_5'] = result['_5'].apply(binary)\n",
        "# result['_6'] = result['_6'].apply(binary)"
      ],
      "metadata": {
        "id": "PmfI6UJPC1iM"
      },
      "execution_count": 15,
      "outputs": []
    },
    {
      "cell_type": "code",
      "source": [
        "result"
      ],
      "metadata": {
        "colab": {
          "base_uri": "https://localhost:8080/",
          "height": 423
        },
        "id": "SkV-uNMyANtI",
        "outputId": "3c53b51a-3361-4a7f-fcc1-8cd0c0ccbba9"
      },
      "execution_count": 16,
      "outputs": [
        {
          "output_type": "execute_result",
          "data": {
            "text/plain": [
              "             imgs  _1  _2\n",
              "0     전체43.png   1   0\n",
              "1        잎2.png   1   0\n",
              "2        잎8.png   1   0\n",
              "3        잎7.png   1   0\n",
              "4       잎17.png   1   0\n",
              "..            ...  ..  ..\n",
              "197  전체620.png   0   1\n",
              "198  전체621.png   0   1\n",
              "199  전체619.png   0   1\n",
              "200  전체626.png   0   1\n",
              "201  전체648.png   0   1\n",
              "\n",
              "[202 rows x 3 columns]"
            ],
            "text/html": [
              "\n",
              "  <div id=\"df-e39edc5e-01dc-485a-aa9c-b3e3dfc33ae7\">\n",
              "    <div class=\"colab-df-container\">\n",
              "      <div>\n",
              "<style scoped>\n",
              "    .dataframe tbody tr th:only-of-type {\n",
              "        vertical-align: middle;\n",
              "    }\n",
              "\n",
              "    .dataframe tbody tr th {\n",
              "        vertical-align: top;\n",
              "    }\n",
              "\n",
              "    .dataframe thead th {\n",
              "        text-align: right;\n",
              "    }\n",
              "</style>\n",
              "<table border=\"1\" class=\"dataframe\">\n",
              "  <thead>\n",
              "    <tr style=\"text-align: right;\">\n",
              "      <th></th>\n",
              "      <th>imgs</th>\n",
              "      <th>_1</th>\n",
              "      <th>_2</th>\n",
              "    </tr>\n",
              "  </thead>\n",
              "  <tbody>\n",
              "    <tr>\n",
              "      <th>0</th>\n",
              "      <td>전체43.png</td>\n",
              "      <td>1</td>\n",
              "      <td>0</td>\n",
              "    </tr>\n",
              "    <tr>\n",
              "      <th>1</th>\n",
              "      <td>잎2.png</td>\n",
              "      <td>1</td>\n",
              "      <td>0</td>\n",
              "    </tr>\n",
              "    <tr>\n",
              "      <th>2</th>\n",
              "      <td>잎8.png</td>\n",
              "      <td>1</td>\n",
              "      <td>0</td>\n",
              "    </tr>\n",
              "    <tr>\n",
              "      <th>3</th>\n",
              "      <td>잎7.png</td>\n",
              "      <td>1</td>\n",
              "      <td>0</td>\n",
              "    </tr>\n",
              "    <tr>\n",
              "      <th>4</th>\n",
              "      <td>잎17.png</td>\n",
              "      <td>1</td>\n",
              "      <td>0</td>\n",
              "    </tr>\n",
              "    <tr>\n",
              "      <th>...</th>\n",
              "      <td>...</td>\n",
              "      <td>...</td>\n",
              "      <td>...</td>\n",
              "    </tr>\n",
              "    <tr>\n",
              "      <th>197</th>\n",
              "      <td>전체620.png</td>\n",
              "      <td>0</td>\n",
              "      <td>1</td>\n",
              "    </tr>\n",
              "    <tr>\n",
              "      <th>198</th>\n",
              "      <td>전체621.png</td>\n",
              "      <td>0</td>\n",
              "      <td>1</td>\n",
              "    </tr>\n",
              "    <tr>\n",
              "      <th>199</th>\n",
              "      <td>전체619.png</td>\n",
              "      <td>0</td>\n",
              "      <td>1</td>\n",
              "    </tr>\n",
              "    <tr>\n",
              "      <th>200</th>\n",
              "      <td>전체626.png</td>\n",
              "      <td>0</td>\n",
              "      <td>1</td>\n",
              "    </tr>\n",
              "    <tr>\n",
              "      <th>201</th>\n",
              "      <td>전체648.png</td>\n",
              "      <td>0</td>\n",
              "      <td>1</td>\n",
              "    </tr>\n",
              "  </tbody>\n",
              "</table>\n",
              "<p>202 rows × 3 columns</p>\n",
              "</div>\n",
              "      <button class=\"colab-df-convert\" onclick=\"convertToInteractive('df-e39edc5e-01dc-485a-aa9c-b3e3dfc33ae7')\"\n",
              "              title=\"Convert this dataframe to an interactive table.\"\n",
              "              style=\"display:none;\">\n",
              "        \n",
              "  <svg xmlns=\"http://www.w3.org/2000/svg\" height=\"24px\"viewBox=\"0 0 24 24\"\n",
              "       width=\"24px\">\n",
              "    <path d=\"M0 0h24v24H0V0z\" fill=\"none\"/>\n",
              "    <path d=\"M18.56 5.44l.94 2.06.94-2.06 2.06-.94-2.06-.94-.94-2.06-.94 2.06-2.06.94zm-11 1L8.5 8.5l.94-2.06 2.06-.94-2.06-.94L8.5 2.5l-.94 2.06-2.06.94zm10 10l.94 2.06.94-2.06 2.06-.94-2.06-.94-.94-2.06-.94 2.06-2.06.94z\"/><path d=\"M17.41 7.96l-1.37-1.37c-.4-.4-.92-.59-1.43-.59-.52 0-1.04.2-1.43.59L10.3 9.45l-7.72 7.72c-.78.78-.78 2.05 0 2.83L4 21.41c.39.39.9.59 1.41.59.51 0 1.02-.2 1.41-.59l7.78-7.78 2.81-2.81c.8-.78.8-2.07 0-2.86zM5.41 20L4 18.59l7.72-7.72 1.47 1.35L5.41 20z\"/>\n",
              "  </svg>\n",
              "      </button>\n",
              "      \n",
              "  <style>\n",
              "    .colab-df-container {\n",
              "      display:flex;\n",
              "      flex-wrap:wrap;\n",
              "      gap: 12px;\n",
              "    }\n",
              "\n",
              "    .colab-df-convert {\n",
              "      background-color: #E8F0FE;\n",
              "      border: none;\n",
              "      border-radius: 50%;\n",
              "      cursor: pointer;\n",
              "      display: none;\n",
              "      fill: #1967D2;\n",
              "      height: 32px;\n",
              "      padding: 0 0 0 0;\n",
              "      width: 32px;\n",
              "    }\n",
              "\n",
              "    .colab-df-convert:hover {\n",
              "      background-color: #E2EBFA;\n",
              "      box-shadow: 0px 1px 2px rgba(60, 64, 67, 0.3), 0px 1px 3px 1px rgba(60, 64, 67, 0.15);\n",
              "      fill: #174EA6;\n",
              "    }\n",
              "\n",
              "    [theme=dark] .colab-df-convert {\n",
              "      background-color: #3B4455;\n",
              "      fill: #D2E3FC;\n",
              "    }\n",
              "\n",
              "    [theme=dark] .colab-df-convert:hover {\n",
              "      background-color: #434B5C;\n",
              "      box-shadow: 0px 1px 3px 1px rgba(0, 0, 0, 0.15);\n",
              "      filter: drop-shadow(0px 1px 2px rgba(0, 0, 0, 0.3));\n",
              "      fill: #FFFFFF;\n",
              "    }\n",
              "  </style>\n",
              "\n",
              "      <script>\n",
              "        const buttonEl =\n",
              "          document.querySelector('#df-e39edc5e-01dc-485a-aa9c-b3e3dfc33ae7 button.colab-df-convert');\n",
              "        buttonEl.style.display =\n",
              "          google.colab.kernel.accessAllowed ? 'block' : 'none';\n",
              "\n",
              "        async function convertToInteractive(key) {\n",
              "          const element = document.querySelector('#df-e39edc5e-01dc-485a-aa9c-b3e3dfc33ae7');\n",
              "          const dataTable =\n",
              "            await google.colab.kernel.invokeFunction('convertToInteractive',\n",
              "                                                     [key], {});\n",
              "          if (!dataTable) return;\n",
              "\n",
              "          const docLinkHtml = 'Like what you see? Visit the ' +\n",
              "            '<a target=\"_blank\" href=https://colab.research.google.com/notebooks/data_table.ipynb>data table notebook</a>'\n",
              "            + ' to learn more about interactive tables.';\n",
              "          element.innerHTML = '';\n",
              "          dataTable['output_type'] = 'display_data';\n",
              "          await google.colab.output.renderOutput(dataTable, element);\n",
              "          const docLink = document.createElement('div');\n",
              "          docLink.innerHTML = docLinkHtml;\n",
              "          element.appendChild(docLink);\n",
              "        }\n",
              "      </script>\n",
              "    </div>\n",
              "  </div>\n",
              "  "
            ]
          },
          "metadata": {},
          "execution_count": 16
        }
      ]
    },
    {
      "cell_type": "code",
      "source": [
        "result.columns = ['imgs','잎을 무성하게 그린', '잎을 안 무성하게 그린']"
      ],
      "metadata": {
        "id": "L4bvtPQAANvA"
      },
      "execution_count": 17,
      "outputs": []
    },
    {
      "cell_type": "code",
      "source": [
        "result1 = result.copy()"
      ],
      "metadata": {
        "id": "Kf0ksNpa_2vw"
      },
      "execution_count": 18,
      "outputs": []
    },
    {
      "cell_type": "code",
      "source": [
        "# def chage(data):\n",
        "#     if data == 1:\n",
        "#         data = 0\n",
        "#         return data\n",
        "#     else:\n",
        "#         data = 1\n",
        "#         return data\n",
        "# result1['잎을 무성하게 그린'] = result1['잎을 무성하게 그린'].apply(chage)\n",
        "\n",
        "# result['_2'] = result['_2'].apply(binary)\n",
        "# result['_3'] = result['_3'].apply(binary)"
      ],
      "metadata": {
        "id": "5TA80HcuZtie"
      },
      "execution_count": null,
      "outputs": []
    },
    {
      "cell_type": "code",
      "source": [
        "# def chage2(data):\n",
        "#     if data == 1:\n",
        "#         data = 2\n",
        "#         return data\n",
        "#     else:\n",
        "#         data = 0\n",
        "#         return data\n",
        "# result['잎을 안 무성하게 그린'] = result['잎을 안 무성하게 그린'].apply(chage2)"
      ],
      "metadata": {
        "id": "sb2vRDx1gPty"
      },
      "execution_count": null,
      "outputs": []
    },
    {
      "cell_type": "code",
      "source": [
        "result1.iloc[101:120]"
      ],
      "metadata": {
        "colab": {
          "base_uri": "https://localhost:8080/",
          "height": 645
        },
        "id": "-LEDNDJa1O6E",
        "outputId": "b5df65e2-25da-4e02-9c2f-784d9812c09e"
      },
      "execution_count": 19,
      "outputs": [
        {
          "output_type": "execute_result",
          "data": {
            "text/plain": [
              "             imgs  잎을 무성하게 그린  잎을 안 무성하게 그린\n",
              "101    전체1.png           0             1\n",
              "102    전체3.png           0             1\n",
              "103   전체10.png           0             1\n",
              "104   전체11.png           0             1\n",
              "105   전체24.png           0             1\n",
              "106   전체20.png           0             1\n",
              "107   전체34.png           0             1\n",
              "108   전체62.png           0             1\n",
              "109   전체88.png           0             1\n",
              "110   전체84.png           0             1\n",
              "111   전체99.png           0             1\n",
              "112  전체119.png           0             1\n",
              "113  전체121.png           0             1\n",
              "114  전체127.png           0             1\n",
              "115  전체161.png           0             1\n",
              "116  전체196.png           0             1\n",
              "117  전체185.png           0             1\n",
              "118  전체186.png           0             1\n",
              "119  전체215.png           0             1"
            ],
            "text/html": [
              "\n",
              "  <div id=\"df-e4f10b64-56d4-4a52-a0e7-4b136ccbd440\">\n",
              "    <div class=\"colab-df-container\">\n",
              "      <div>\n",
              "<style scoped>\n",
              "    .dataframe tbody tr th:only-of-type {\n",
              "        vertical-align: middle;\n",
              "    }\n",
              "\n",
              "    .dataframe tbody tr th {\n",
              "        vertical-align: top;\n",
              "    }\n",
              "\n",
              "    .dataframe thead th {\n",
              "        text-align: right;\n",
              "    }\n",
              "</style>\n",
              "<table border=\"1\" class=\"dataframe\">\n",
              "  <thead>\n",
              "    <tr style=\"text-align: right;\">\n",
              "      <th></th>\n",
              "      <th>imgs</th>\n",
              "      <th>잎을 무성하게 그린</th>\n",
              "      <th>잎을 안 무성하게 그린</th>\n",
              "    </tr>\n",
              "  </thead>\n",
              "  <tbody>\n",
              "    <tr>\n",
              "      <th>101</th>\n",
              "      <td>전체1.png</td>\n",
              "      <td>0</td>\n",
              "      <td>1</td>\n",
              "    </tr>\n",
              "    <tr>\n",
              "      <th>102</th>\n",
              "      <td>전체3.png</td>\n",
              "      <td>0</td>\n",
              "      <td>1</td>\n",
              "    </tr>\n",
              "    <tr>\n",
              "      <th>103</th>\n",
              "      <td>전체10.png</td>\n",
              "      <td>0</td>\n",
              "      <td>1</td>\n",
              "    </tr>\n",
              "    <tr>\n",
              "      <th>104</th>\n",
              "      <td>전체11.png</td>\n",
              "      <td>0</td>\n",
              "      <td>1</td>\n",
              "    </tr>\n",
              "    <tr>\n",
              "      <th>105</th>\n",
              "      <td>전체24.png</td>\n",
              "      <td>0</td>\n",
              "      <td>1</td>\n",
              "    </tr>\n",
              "    <tr>\n",
              "      <th>106</th>\n",
              "      <td>전체20.png</td>\n",
              "      <td>0</td>\n",
              "      <td>1</td>\n",
              "    </tr>\n",
              "    <tr>\n",
              "      <th>107</th>\n",
              "      <td>전체34.png</td>\n",
              "      <td>0</td>\n",
              "      <td>1</td>\n",
              "    </tr>\n",
              "    <tr>\n",
              "      <th>108</th>\n",
              "      <td>전체62.png</td>\n",
              "      <td>0</td>\n",
              "      <td>1</td>\n",
              "    </tr>\n",
              "    <tr>\n",
              "      <th>109</th>\n",
              "      <td>전체88.png</td>\n",
              "      <td>0</td>\n",
              "      <td>1</td>\n",
              "    </tr>\n",
              "    <tr>\n",
              "      <th>110</th>\n",
              "      <td>전체84.png</td>\n",
              "      <td>0</td>\n",
              "      <td>1</td>\n",
              "    </tr>\n",
              "    <tr>\n",
              "      <th>111</th>\n",
              "      <td>전체99.png</td>\n",
              "      <td>0</td>\n",
              "      <td>1</td>\n",
              "    </tr>\n",
              "    <tr>\n",
              "      <th>112</th>\n",
              "      <td>전체119.png</td>\n",
              "      <td>0</td>\n",
              "      <td>1</td>\n",
              "    </tr>\n",
              "    <tr>\n",
              "      <th>113</th>\n",
              "      <td>전체121.png</td>\n",
              "      <td>0</td>\n",
              "      <td>1</td>\n",
              "    </tr>\n",
              "    <tr>\n",
              "      <th>114</th>\n",
              "      <td>전체127.png</td>\n",
              "      <td>0</td>\n",
              "      <td>1</td>\n",
              "    </tr>\n",
              "    <tr>\n",
              "      <th>115</th>\n",
              "      <td>전체161.png</td>\n",
              "      <td>0</td>\n",
              "      <td>1</td>\n",
              "    </tr>\n",
              "    <tr>\n",
              "      <th>116</th>\n",
              "      <td>전체196.png</td>\n",
              "      <td>0</td>\n",
              "      <td>1</td>\n",
              "    </tr>\n",
              "    <tr>\n",
              "      <th>117</th>\n",
              "      <td>전체185.png</td>\n",
              "      <td>0</td>\n",
              "      <td>1</td>\n",
              "    </tr>\n",
              "    <tr>\n",
              "      <th>118</th>\n",
              "      <td>전체186.png</td>\n",
              "      <td>0</td>\n",
              "      <td>1</td>\n",
              "    </tr>\n",
              "    <tr>\n",
              "      <th>119</th>\n",
              "      <td>전체215.png</td>\n",
              "      <td>0</td>\n",
              "      <td>1</td>\n",
              "    </tr>\n",
              "  </tbody>\n",
              "</table>\n",
              "</div>\n",
              "      <button class=\"colab-df-convert\" onclick=\"convertToInteractive('df-e4f10b64-56d4-4a52-a0e7-4b136ccbd440')\"\n",
              "              title=\"Convert this dataframe to an interactive table.\"\n",
              "              style=\"display:none;\">\n",
              "        \n",
              "  <svg xmlns=\"http://www.w3.org/2000/svg\" height=\"24px\"viewBox=\"0 0 24 24\"\n",
              "       width=\"24px\">\n",
              "    <path d=\"M0 0h24v24H0V0z\" fill=\"none\"/>\n",
              "    <path d=\"M18.56 5.44l.94 2.06.94-2.06 2.06-.94-2.06-.94-.94-2.06-.94 2.06-2.06.94zm-11 1L8.5 8.5l.94-2.06 2.06-.94-2.06-.94L8.5 2.5l-.94 2.06-2.06.94zm10 10l.94 2.06.94-2.06 2.06-.94-2.06-.94-.94-2.06-.94 2.06-2.06.94z\"/><path d=\"M17.41 7.96l-1.37-1.37c-.4-.4-.92-.59-1.43-.59-.52 0-1.04.2-1.43.59L10.3 9.45l-7.72 7.72c-.78.78-.78 2.05 0 2.83L4 21.41c.39.39.9.59 1.41.59.51 0 1.02-.2 1.41-.59l7.78-7.78 2.81-2.81c.8-.78.8-2.07 0-2.86zM5.41 20L4 18.59l7.72-7.72 1.47 1.35L5.41 20z\"/>\n",
              "  </svg>\n",
              "      </button>\n",
              "      \n",
              "  <style>\n",
              "    .colab-df-container {\n",
              "      display:flex;\n",
              "      flex-wrap:wrap;\n",
              "      gap: 12px;\n",
              "    }\n",
              "\n",
              "    .colab-df-convert {\n",
              "      background-color: #E8F0FE;\n",
              "      border: none;\n",
              "      border-radius: 50%;\n",
              "      cursor: pointer;\n",
              "      display: none;\n",
              "      fill: #1967D2;\n",
              "      height: 32px;\n",
              "      padding: 0 0 0 0;\n",
              "      width: 32px;\n",
              "    }\n",
              "\n",
              "    .colab-df-convert:hover {\n",
              "      background-color: #E2EBFA;\n",
              "      box-shadow: 0px 1px 2px rgba(60, 64, 67, 0.3), 0px 1px 3px 1px rgba(60, 64, 67, 0.15);\n",
              "      fill: #174EA6;\n",
              "    }\n",
              "\n",
              "    [theme=dark] .colab-df-convert {\n",
              "      background-color: #3B4455;\n",
              "      fill: #D2E3FC;\n",
              "    }\n",
              "\n",
              "    [theme=dark] .colab-df-convert:hover {\n",
              "      background-color: #434B5C;\n",
              "      box-shadow: 0px 1px 3px 1px rgba(0, 0, 0, 0.15);\n",
              "      filter: drop-shadow(0px 1px 2px rgba(0, 0, 0, 0.3));\n",
              "      fill: #FFFFFF;\n",
              "    }\n",
              "  </style>\n",
              "\n",
              "      <script>\n",
              "        const buttonEl =\n",
              "          document.querySelector('#df-e4f10b64-56d4-4a52-a0e7-4b136ccbd440 button.colab-df-convert');\n",
              "        buttonEl.style.display =\n",
              "          google.colab.kernel.accessAllowed ? 'block' : 'none';\n",
              "\n",
              "        async function convertToInteractive(key) {\n",
              "          const element = document.querySelector('#df-e4f10b64-56d4-4a52-a0e7-4b136ccbd440');\n",
              "          const dataTable =\n",
              "            await google.colab.kernel.invokeFunction('convertToInteractive',\n",
              "                                                     [key], {});\n",
              "          if (!dataTable) return;\n",
              "\n",
              "          const docLinkHtml = 'Like what you see? Visit the ' +\n",
              "            '<a target=\"_blank\" href=https://colab.research.google.com/notebooks/data_table.ipynb>data table notebook</a>'\n",
              "            + ' to learn more about interactive tables.';\n",
              "          element.innerHTML = '';\n",
              "          dataTable['output_type'] = 'display_data';\n",
              "          await google.colab.output.renderOutput(dataTable, element);\n",
              "          const docLink = document.createElement('div');\n",
              "          docLink.innerHTML = docLinkHtml;\n",
              "          element.appendChild(docLink);\n",
              "        }\n",
              "      </script>\n",
              "    </div>\n",
              "  </div>\n",
              "  "
            ]
          },
          "metadata": {},
          "execution_count": 19
        }
      ]
    },
    {
      "cell_type": "code",
      "source": [
        "data_1 = result1[['imgs','잎을 무성하게 그린']]\n",
        "data_1.columns = ['imgs','잎']"
      ],
      "metadata": {
        "id": "-Sp8eDTjazTo"
      },
      "execution_count": 20,
      "outputs": []
    },
    {
      "cell_type": "code",
      "source": [
        "data_1['잎'].value_counts()"
      ],
      "metadata": {
        "colab": {
          "base_uri": "https://localhost:8080/"
        },
        "id": "2EhrRcGEfvk5",
        "outputId": "d15515e8-ff67-40f3-c825-f2746a2064dd"
      },
      "execution_count": 21,
      "outputs": [
        {
          "output_type": "execute_result",
          "data": {
            "text/plain": [
              "1    101\n",
              "0    101\n",
              "Name: 잎, dtype: int64"
            ]
          },
          "metadata": {},
          "execution_count": 21
        }
      ]
    },
    {
      "cell_type": "code",
      "source": [
        "import sklearn\n",
        "data_merge2_shuffled = sklearn.utils.shuffle(data_1)"
      ],
      "metadata": {
        "id": "oxAX2flsfWh_"
      },
      "execution_count": 22,
      "outputs": []
    },
    {
      "cell_type": "code",
      "source": [
        "data_merge2_shuffled"
      ],
      "metadata": {
        "colab": {
          "base_uri": "https://localhost:8080/",
          "height": 423
        },
        "id": "f1EU7ATajxP0",
        "outputId": "e1f2ab7f-bfe4-44fc-c999-c5c520f36e76"
      },
      "execution_count": 23,
      "outputs": [
        {
          "output_type": "execute_result",
          "data": {
            "text/plain": [
              "             imgs  잎\n",
              "39     잎336.png    1\n",
              "168    잎438.png    0\n",
              "131  전체364.png    0\n",
              "143    잎100.png    0\n",
              "52     잎386.png    1\n",
              "..            ...  ...\n",
              "89   전체775.png    1\n",
              "94   전체781.png    1\n",
              "2        잎8.png    1\n",
              "190    잎560.png    0\n",
              "50     잎382.png    1\n",
              "\n",
              "[202 rows x 2 columns]"
            ],
            "text/html": [
              "\n",
              "  <div id=\"df-a6e363d1-bd00-456f-9a99-510b9beaf5fe\">\n",
              "    <div class=\"colab-df-container\">\n",
              "      <div>\n",
              "<style scoped>\n",
              "    .dataframe tbody tr th:only-of-type {\n",
              "        vertical-align: middle;\n",
              "    }\n",
              "\n",
              "    .dataframe tbody tr th {\n",
              "        vertical-align: top;\n",
              "    }\n",
              "\n",
              "    .dataframe thead th {\n",
              "        text-align: right;\n",
              "    }\n",
              "</style>\n",
              "<table border=\"1\" class=\"dataframe\">\n",
              "  <thead>\n",
              "    <tr style=\"text-align: right;\">\n",
              "      <th></th>\n",
              "      <th>imgs</th>\n",
              "      <th>잎</th>\n",
              "    </tr>\n",
              "  </thead>\n",
              "  <tbody>\n",
              "    <tr>\n",
              "      <th>39</th>\n",
              "      <td>잎336.png</td>\n",
              "      <td>1</td>\n",
              "    </tr>\n",
              "    <tr>\n",
              "      <th>168</th>\n",
              "      <td>잎438.png</td>\n",
              "      <td>0</td>\n",
              "    </tr>\n",
              "    <tr>\n",
              "      <th>131</th>\n",
              "      <td>전체364.png</td>\n",
              "      <td>0</td>\n",
              "    </tr>\n",
              "    <tr>\n",
              "      <th>143</th>\n",
              "      <td>잎100.png</td>\n",
              "      <td>0</td>\n",
              "    </tr>\n",
              "    <tr>\n",
              "      <th>52</th>\n",
              "      <td>잎386.png</td>\n",
              "      <td>1</td>\n",
              "    </tr>\n",
              "    <tr>\n",
              "      <th>...</th>\n",
              "      <td>...</td>\n",
              "      <td>...</td>\n",
              "    </tr>\n",
              "    <tr>\n",
              "      <th>89</th>\n",
              "      <td>전체775.png</td>\n",
              "      <td>1</td>\n",
              "    </tr>\n",
              "    <tr>\n",
              "      <th>94</th>\n",
              "      <td>전체781.png</td>\n",
              "      <td>1</td>\n",
              "    </tr>\n",
              "    <tr>\n",
              "      <th>2</th>\n",
              "      <td>잎8.png</td>\n",
              "      <td>1</td>\n",
              "    </tr>\n",
              "    <tr>\n",
              "      <th>190</th>\n",
              "      <td>잎560.png</td>\n",
              "      <td>0</td>\n",
              "    </tr>\n",
              "    <tr>\n",
              "      <th>50</th>\n",
              "      <td>잎382.png</td>\n",
              "      <td>1</td>\n",
              "    </tr>\n",
              "  </tbody>\n",
              "</table>\n",
              "<p>202 rows × 2 columns</p>\n",
              "</div>\n",
              "      <button class=\"colab-df-convert\" onclick=\"convertToInteractive('df-a6e363d1-bd00-456f-9a99-510b9beaf5fe')\"\n",
              "              title=\"Convert this dataframe to an interactive table.\"\n",
              "              style=\"display:none;\">\n",
              "        \n",
              "  <svg xmlns=\"http://www.w3.org/2000/svg\" height=\"24px\"viewBox=\"0 0 24 24\"\n",
              "       width=\"24px\">\n",
              "    <path d=\"M0 0h24v24H0V0z\" fill=\"none\"/>\n",
              "    <path d=\"M18.56 5.44l.94 2.06.94-2.06 2.06-.94-2.06-.94-.94-2.06-.94 2.06-2.06.94zm-11 1L8.5 8.5l.94-2.06 2.06-.94-2.06-.94L8.5 2.5l-.94 2.06-2.06.94zm10 10l.94 2.06.94-2.06 2.06-.94-2.06-.94-.94-2.06-.94 2.06-2.06.94z\"/><path d=\"M17.41 7.96l-1.37-1.37c-.4-.4-.92-.59-1.43-.59-.52 0-1.04.2-1.43.59L10.3 9.45l-7.72 7.72c-.78.78-.78 2.05 0 2.83L4 21.41c.39.39.9.59 1.41.59.51 0 1.02-.2 1.41-.59l7.78-7.78 2.81-2.81c.8-.78.8-2.07 0-2.86zM5.41 20L4 18.59l7.72-7.72 1.47 1.35L5.41 20z\"/>\n",
              "  </svg>\n",
              "      </button>\n",
              "      \n",
              "  <style>\n",
              "    .colab-df-container {\n",
              "      display:flex;\n",
              "      flex-wrap:wrap;\n",
              "      gap: 12px;\n",
              "    }\n",
              "\n",
              "    .colab-df-convert {\n",
              "      background-color: #E8F0FE;\n",
              "      border: none;\n",
              "      border-radius: 50%;\n",
              "      cursor: pointer;\n",
              "      display: none;\n",
              "      fill: #1967D2;\n",
              "      height: 32px;\n",
              "      padding: 0 0 0 0;\n",
              "      width: 32px;\n",
              "    }\n",
              "\n",
              "    .colab-df-convert:hover {\n",
              "      background-color: #E2EBFA;\n",
              "      box-shadow: 0px 1px 2px rgba(60, 64, 67, 0.3), 0px 1px 3px 1px rgba(60, 64, 67, 0.15);\n",
              "      fill: #174EA6;\n",
              "    }\n",
              "\n",
              "    [theme=dark] .colab-df-convert {\n",
              "      background-color: #3B4455;\n",
              "      fill: #D2E3FC;\n",
              "    }\n",
              "\n",
              "    [theme=dark] .colab-df-convert:hover {\n",
              "      background-color: #434B5C;\n",
              "      box-shadow: 0px 1px 3px 1px rgba(0, 0, 0, 0.15);\n",
              "      filter: drop-shadow(0px 1px 2px rgba(0, 0, 0, 0.3));\n",
              "      fill: #FFFFFF;\n",
              "    }\n",
              "  </style>\n",
              "\n",
              "      <script>\n",
              "        const buttonEl =\n",
              "          document.querySelector('#df-a6e363d1-bd00-456f-9a99-510b9beaf5fe button.colab-df-convert');\n",
              "        buttonEl.style.display =\n",
              "          google.colab.kernel.accessAllowed ? 'block' : 'none';\n",
              "\n",
              "        async function convertToInteractive(key) {\n",
              "          const element = document.querySelector('#df-a6e363d1-bd00-456f-9a99-510b9beaf5fe');\n",
              "          const dataTable =\n",
              "            await google.colab.kernel.invokeFunction('convertToInteractive',\n",
              "                                                     [key], {});\n",
              "          if (!dataTable) return;\n",
              "\n",
              "          const docLinkHtml = 'Like what you see? Visit the ' +\n",
              "            '<a target=\"_blank\" href=https://colab.research.google.com/notebooks/data_table.ipynb>data table notebook</a>'\n",
              "            + ' to learn more about interactive tables.';\n",
              "          element.innerHTML = '';\n",
              "          dataTable['output_type'] = 'display_data';\n",
              "          await google.colab.output.renderOutput(dataTable, element);\n",
              "          const docLink = document.createElement('div');\n",
              "          docLink.innerHTML = docLinkHtml;\n",
              "          element.appendChild(docLink);\n",
              "        }\n",
              "      </script>\n",
              "    </div>\n",
              "  </div>\n",
              "  "
            ]
          },
          "metadata": {},
          "execution_count": 23
        }
      ]
    },
    {
      "cell_type": "code",
      "source": [
        "data = data_merge2_shuffled"
      ],
      "metadata": {
        "id": "63bdXeDTfmVU"
      },
      "execution_count": 45,
      "outputs": []
    },
    {
      "cell_type": "code",
      "source": [
        "train_df, test_df = train_test_split(data, test_size=0.2, random_state=1, stratify=data['잎'])"
      ],
      "metadata": {
        "id": "jym8c3zOaI8A"
      },
      "execution_count": 46,
      "outputs": []
    },
    {
      "cell_type": "code",
      "source": [
        "#확인\n",
        "print(\"Train set rows: {}\".format(train_df.shape[0]))\n",
        "print(\"Test  set rows: {}\".format(test_df.shape[0]))"
      ],
      "metadata": {
        "colab": {
          "base_uri": "https://localhost:8080/"
        },
        "id": "lsjd1jkaiIuW",
        "outputId": "66c61fcf-b329-4123-8098-98c52b74d170"
      },
      "execution_count": 47,
      "outputs": [
        {
          "output_type": "stream",
          "name": "stdout",
          "text": [
            "Train set rows: 161\n",
            "Test  set rows: 41\n"
          ]
        }
      ]
    },
    {
      "cell_type": "code",
      "source": [
        "IMAGE_PATH = '/content/drive/MyDrive/무성_total/'"
      ],
      "metadata": {
        "id": "N7fZ0g0iis4V"
      },
      "execution_count": 54,
      "outputs": []
    },
    {
      "cell_type": "code",
      "source": [
        "def read_image(file_name):\n",
        "  # print(file_name)\n",
        "  image = cv2.imread(IMAGE_PATH + file_name)\n",
        "  image = cv2.resize(image, dsize=(300, 300))\n",
        "  # print(image.shape)\n",
        "  return image[:,:,:3]"
      ],
      "metadata": {
        "id": "HmOaK-HbiKGU"
      },
      "execution_count": 55,
      "outputs": []
    },
    {
      "cell_type": "code",
      "source": [
        "def categories_encoder(dataset):\n",
        "    #file명을 읽어 이미지 경로에서 불러온다. X 값.\n",
        "    X = np.stack(dataset['imgs'].apply(read_image))\n",
        "    # subspecies를 더미변수화 하여 y값으로\n",
        "    y = pd.get_dummies(dataset['잎'], drop_first=False)\n",
        "    return X, y"
      ],
      "metadata": {
        "id": "yqrWZL4Tidab"
      },
      "execution_count": 56,
      "outputs": []
    },
    {
      "cell_type": "code",
      "source": [
        "#file명을 읽어 이미지 경로에서 불러온다. X 값.\n",
        "X_train, y_train = categories_encoder(train_df)\n",
        "X_test, y_test = categories_encoder(test_df)"
      ],
      "metadata": {
        "id": "JWw01MbiiddK"
      },
      "execution_count": 57,
      "outputs": []
    },
    {
      "cell_type": "code",
      "source": [
        "#개수, size, channel\n",
        "print(X_train.shape)\n",
        "print(y_train.shape)\n",
        "print(X_test.shape)\n",
        "print(y_test.shape)"
      ],
      "metadata": {
        "colab": {
          "base_uri": "https://localhost:8080/"
        },
        "id": "NpcvbeVmidf6",
        "outputId": "a667530f-b317-47d9-f9b9-bc3025260e15"
      },
      "execution_count": 60,
      "outputs": [
        {
          "output_type": "stream",
          "name": "stdout",
          "text": [
            "(161, 300, 300, 3)\n",
            "(161, 2)\n",
            "(41, 300, 300, 3)\n",
            "(41, 2)\n"
          ]
        }
      ]
    },
    {
      "cell_type": "code",
      "source": [
        "#하이퍼 파라미터 생성\n",
        "BATCH_SIZE = 7 # 한 번에 처리할 데이터량 설정\n",
        "EPOCHS = 20 # 신경망을 학습할 횟수\n",
        "VERBOSE = 1 # 학습 진행 상황 출력 모드 설정 "
      ],
      "metadata": {
        "id": "mi7q3L6UidiS"
      },
      "execution_count": 59,
      "outputs": []
    },
    {
      "cell_type": "code",
      "source": [
        "!pip install -U efficientnet"
      ],
      "metadata": {
        "colab": {
          "base_uri": "https://localhost:8080/"
        },
        "id": "cqDnBEzridkj",
        "outputId": "16ccbb92-7bb3-4c40-dcc1-02bfc41a5dca"
      },
      "execution_count": 93,
      "outputs": [
        {
          "output_type": "stream",
          "name": "stdout",
          "text": [
            "Looking in indexes: https://pypi.org/simple, https://us-python.pkg.dev/colab-wheels/public/simple/\n",
            "Requirement already satisfied: efficientnet in /usr/local/lib/python3.8/dist-packages (1.1.1)\n",
            "Requirement already satisfied: scikit-image in /usr/local/lib/python3.8/dist-packages (from efficientnet) (0.18.3)\n",
            "Requirement already satisfied: keras-applications<=1.0.8,>=1.0.7 in /usr/local/lib/python3.8/dist-packages (from efficientnet) (1.0.8)\n",
            "Requirement already satisfied: h5py in /usr/local/lib/python3.8/dist-packages (from keras-applications<=1.0.8,>=1.0.7->efficientnet) (3.1.0)\n",
            "Requirement already satisfied: numpy>=1.9.1 in /usr/local/lib/python3.8/dist-packages (from keras-applications<=1.0.8,>=1.0.7->efficientnet) (1.21.6)\n",
            "Requirement already satisfied: imageio>=2.3.0 in /usr/local/lib/python3.8/dist-packages (from scikit-image->efficientnet) (2.9.0)\n",
            "Requirement already satisfied: PyWavelets>=1.1.1 in /usr/local/lib/python3.8/dist-packages (from scikit-image->efficientnet) (1.4.1)\n",
            "Requirement already satisfied: pillow!=7.1.0,!=7.1.1,>=4.3.0 in /usr/local/lib/python3.8/dist-packages (from scikit-image->efficientnet) (7.1.2)\n",
            "Requirement already satisfied: scipy>=1.0.1 in /usr/local/lib/python3.8/dist-packages (from scikit-image->efficientnet) (1.7.3)\n",
            "Requirement already satisfied: networkx>=2.0 in /usr/local/lib/python3.8/dist-packages (from scikit-image->efficientnet) (3.0)\n",
            "Requirement already satisfied: matplotlib!=3.0.0,>=2.0.0 in /usr/local/lib/python3.8/dist-packages (from scikit-image->efficientnet) (3.2.2)\n",
            "Requirement already satisfied: tifffile>=2019.7.26 in /usr/local/lib/python3.8/dist-packages (from scikit-image->efficientnet) (2023.2.3)\n",
            "Requirement already satisfied: kiwisolver>=1.0.1 in /usr/local/lib/python3.8/dist-packages (from matplotlib!=3.0.0,>=2.0.0->scikit-image->efficientnet) (1.4.4)\n",
            "Requirement already satisfied: pyparsing!=2.0.4,!=2.1.2,!=2.1.6,>=2.0.1 in /usr/local/lib/python3.8/dist-packages (from matplotlib!=3.0.0,>=2.0.0->scikit-image->efficientnet) (3.0.9)\n",
            "Requirement already satisfied: python-dateutil>=2.1 in /usr/local/lib/python3.8/dist-packages (from matplotlib!=3.0.0,>=2.0.0->scikit-image->efficientnet) (2.8.2)\n",
            "Requirement already satisfied: cycler>=0.10 in /usr/local/lib/python3.8/dist-packages (from matplotlib!=3.0.0,>=2.0.0->scikit-image->efficientnet) (0.11.0)\n",
            "Requirement already satisfied: six>=1.5 in /usr/local/lib/python3.8/dist-packages (from python-dateutil>=2.1->matplotlib!=3.0.0,>=2.0.0->scikit-image->efficientnet) (1.15.0)\n"
          ]
        }
      ]
    },
    {
      "cell_type": "code",
      "source": [
        "import numpy as np\n",
        "import pandas as pd\n",
        "from skimage.io import imread\n",
        "import matplotlib.pyplot as plt\n",
        "import efficientnet.keras as efn \n",
        "import keras \n",
        "from keras.models import Model\n",
        "\n",
        "from keras.applications.imagenet_utils import decode_predictions\n",
        "\n",
        "from efficientnet.keras import EfficientNetB0, EfficientNetB3\n",
        "from efficientnet.keras import center_crop_and_resize, preprocess_input\n",
        "\n",
        "## if you use tensorflow.keras: \n",
        "# from efficientnet.tfkeras import EfficientNetB0\n",
        "# from efficientnet.tfkeras import center_crop_and_resize, preprocess_input\n",
        "\n",
        "import os"
      ],
      "metadata": {
        "id": "9WolpeAtidnI"
      },
      "execution_count": 94,
      "outputs": []
    },
    {
      "cell_type": "code",
      "source": [
        "base_model = efn.EfficientNetB3(weights='imagenet') #imagenet 가중치 사용"
      ],
      "metadata": {
        "id": "Fbp-xjVyiKIi"
      },
      "execution_count": 95,
      "outputs": []
    },
    {
      "cell_type": "code",
      "source": [
        "#output layer 변경\n",
        "from tensorflow.keras.models import Sequential\n",
        "from tensorflow.keras.layers import Conv2D, MaxPooling2D, Dense, Flatten, Dropout\n",
        "net = Dense(2, activation='softmax')(base_model.layers[-2].output)"
      ],
      "metadata": {
        "id": "nRIveZ8ej_i7"
      },
      "execution_count": 96,
      "outputs": []
    },
    {
      "cell_type": "code",
      "source": [
        "# model = Model(inputs=base_model.input, outputs=net)\n",
        "\n",
        "\n",
        "model = Sequential()\n",
        "\n",
        "model.add(Conv2D(filters=16, kernel_size=(5, 5), activation=\"relu\", input_shape=(300,300,3)))\n",
        "model.add(BatchNormalization())\n",
        "model.add(MaxPooling2D(pool_size=(2, 2)))\n",
        "model.add(Dropout(0.2))\n",
        "\n",
        "model.add(Conv2D(filters=32, kernel_size=(5, 5), activation='relu'))\n",
        "model.add(MaxPooling2D(pool_size=(2, 2)))\n",
        "model.add(BatchNormalization())\n",
        "model.add(Dropout(0.2))\n",
        "\n",
        "model.add(Conv2D(filters=64, kernel_size=(5, 5), activation=\"relu\"))\n",
        "model.add(MaxPooling2D(pool_size=(2, 2)))\n",
        "model.add(BatchNormalization())\n",
        "model.add(Dropout(0.2))\n",
        "\n",
        "model.add(Conv2D(filters=64, kernel_size=(5, 5), activation='relu'))\n",
        "model.add(MaxPooling2D(pool_size=(2, 2)))\n",
        "model.add(BatchNormalization())\n",
        "model.add(Dropout(0.2))\n",
        "\n",
        "model.add(Flatten())\n",
        "model.add(Dense(128, activation='relu'))\n",
        "model.add(Dropout(0.5))\n",
        "model.add(Dense(64, activation='relu'))\n",
        "model.add(Dropout(0.5))\n",
        "model.add(Dense(2, activation='sigmoid'))\n",
        "\n",
        "#Do not use softmax for multilabel classification\n",
        "#Softmax is useful for mutually exclusive classes, either cat or dog but not both.\n",
        "#Also, softmax outputs all add to 1. So good for multi class problems where each\n",
        "#class is given a probability and all add to 1. Highest one wins. \n",
        "\n",
        "#Sigmoid outputs probability. Can be used for non-mutually exclusive problems.\n",
        "#like multi label, in this example.\n",
        "#But, also good for binary mutually exclusive (cat or not cat). \n",
        "\n",
        "model.summary()\n",
        "\n"
      ],
      "metadata": {
        "id": "LdTUheeQj_z0",
        "colab": {
          "base_uri": "https://localhost:8080/"
        },
        "outputId": "a9d49147-537d-4f32-c58c-e3a6f7576f26"
      },
      "execution_count": 100,
      "outputs": [
        {
          "output_type": "stream",
          "name": "stdout",
          "text": [
            "Model: \"sequential\"\n",
            "_________________________________________________________________\n",
            " Layer (type)                Output Shape              Param #   \n",
            "=================================================================\n",
            " conv2d (Conv2D)             (None, 296, 296, 16)      1216      \n",
            "                                                                 \n",
            " batch_normalization (BatchN  (None, 296, 296, 16)     64        \n",
            " ormalization)                                                   \n",
            "                                                                 \n",
            " max_pooling2d (MaxPooling2D  (None, 148, 148, 16)     0         \n",
            " )                                                               \n",
            "                                                                 \n",
            " dropout (Dropout)           (None, 148, 148, 16)      0         \n",
            "                                                                 \n",
            " conv2d_1 (Conv2D)           (None, 144, 144, 32)      12832     \n",
            "                                                                 \n",
            " max_pooling2d_1 (MaxPooling  (None, 72, 72, 32)       0         \n",
            " 2D)                                                             \n",
            "                                                                 \n",
            " batch_normalization_1 (Batc  (None, 72, 72, 32)       128       \n",
            " hNormalization)                                                 \n",
            "                                                                 \n",
            " dropout_1 (Dropout)         (None, 72, 72, 32)        0         \n",
            "                                                                 \n",
            " conv2d_2 (Conv2D)           (None, 68, 68, 64)        51264     \n",
            "                                                                 \n",
            " max_pooling2d_2 (MaxPooling  (None, 34, 34, 64)       0         \n",
            " 2D)                                                             \n",
            "                                                                 \n",
            " batch_normalization_2 (Batc  (None, 34, 34, 64)       256       \n",
            " hNormalization)                                                 \n",
            "                                                                 \n",
            " dropout_2 (Dropout)         (None, 34, 34, 64)        0         \n",
            "                                                                 \n",
            " conv2d_3 (Conv2D)           (None, 30, 30, 64)        102464    \n",
            "                                                                 \n",
            " max_pooling2d_3 (MaxPooling  (None, 15, 15, 64)       0         \n",
            " 2D)                                                             \n",
            "                                                                 \n",
            " batch_normalization_3 (Batc  (None, 15, 15, 64)       256       \n",
            " hNormalization)                                                 \n",
            "                                                                 \n",
            " dropout_3 (Dropout)         (None, 15, 15, 64)        0         \n",
            "                                                                 \n",
            " flatten (Flatten)           (None, 14400)             0         \n",
            "                                                                 \n",
            " dense_4 (Dense)             (None, 128)               1843328   \n",
            "                                                                 \n",
            " dropout_4 (Dropout)         (None, 128)               0         \n",
            "                                                                 \n",
            " dense_5 (Dense)             (None, 64)                8256      \n",
            "                                                                 \n",
            " dropout_5 (Dropout)         (None, 64)                0         \n",
            "                                                                 \n",
            " dense_6 (Dense)             (None, 2)                 130       \n",
            "                                                                 \n",
            "=================================================================\n",
            "Total params: 2,020,194\n",
            "Trainable params: 2,019,842\n",
            "Non-trainable params: 352\n",
            "_________________________________________________________________\n"
          ]
        }
      ]
    },
    {
      "cell_type": "code",
      "source": [
        "model.compile(\n",
        "    optimizer='adam',\n",
        "    loss='categorical_crossentropy', \n",
        "    metrics=['accuracy']\n",
        ")"
      ],
      "metadata": {
        "id": "1W20AqHCj_2Q"
      },
      "execution_count": 101,
      "outputs": []
    },
    {
      "cell_type": "code",
      "source": [
        "model.summary()"
      ],
      "metadata": {
        "colab": {
          "base_uri": "https://localhost:8080/"
        },
        "id": "zG1tXB9Kj_4Z",
        "outputId": "daa4b488-8811-4549-e5c1-1b3106975e96"
      },
      "execution_count": 102,
      "outputs": [
        {
          "output_type": "stream",
          "name": "stdout",
          "text": [
            "Model: \"sequential\"\n",
            "_________________________________________________________________\n",
            " Layer (type)                Output Shape              Param #   \n",
            "=================================================================\n",
            " conv2d (Conv2D)             (None, 296, 296, 16)      1216      \n",
            "                                                                 \n",
            " batch_normalization (BatchN  (None, 296, 296, 16)     64        \n",
            " ormalization)                                                   \n",
            "                                                                 \n",
            " max_pooling2d (MaxPooling2D  (None, 148, 148, 16)     0         \n",
            " )                                                               \n",
            "                                                                 \n",
            " dropout (Dropout)           (None, 148, 148, 16)      0         \n",
            "                                                                 \n",
            " conv2d_1 (Conv2D)           (None, 144, 144, 32)      12832     \n",
            "                                                                 \n",
            " max_pooling2d_1 (MaxPooling  (None, 72, 72, 32)       0         \n",
            " 2D)                                                             \n",
            "                                                                 \n",
            " batch_normalization_1 (Batc  (None, 72, 72, 32)       128       \n",
            " hNormalization)                                                 \n",
            "                                                                 \n",
            " dropout_1 (Dropout)         (None, 72, 72, 32)        0         \n",
            "                                                                 \n",
            " conv2d_2 (Conv2D)           (None, 68, 68, 64)        51264     \n",
            "                                                                 \n",
            " max_pooling2d_2 (MaxPooling  (None, 34, 34, 64)       0         \n",
            " 2D)                                                             \n",
            "                                                                 \n",
            " batch_normalization_2 (Batc  (None, 34, 34, 64)       256       \n",
            " hNormalization)                                                 \n",
            "                                                                 \n",
            " dropout_2 (Dropout)         (None, 34, 34, 64)        0         \n",
            "                                                                 \n",
            " conv2d_3 (Conv2D)           (None, 30, 30, 64)        102464    \n",
            "                                                                 \n",
            " max_pooling2d_3 (MaxPooling  (None, 15, 15, 64)       0         \n",
            " 2D)                                                             \n",
            "                                                                 \n",
            " batch_normalization_3 (Batc  (None, 15, 15, 64)       256       \n",
            " hNormalization)                                                 \n",
            "                                                                 \n",
            " dropout_3 (Dropout)         (None, 15, 15, 64)        0         \n",
            "                                                                 \n",
            " flatten (Flatten)           (None, 14400)             0         \n",
            "                                                                 \n",
            " dense_4 (Dense)             (None, 128)               1843328   \n",
            "                                                                 \n",
            " dropout_4 (Dropout)         (None, 128)               0         \n",
            "                                                                 \n",
            " dense_5 (Dense)             (None, 64)                8256      \n",
            "                                                                 \n",
            " dropout_5 (Dropout)         (None, 64)                0         \n",
            "                                                                 \n",
            " dense_6 (Dense)             (None, 2)                 130       \n",
            "                                                                 \n",
            "=================================================================\n",
            "Total params: 2,020,194\n",
            "Trainable params: 2,019,842\n",
            "Non-trainable params: 352\n",
            "_________________________________________________________________\n"
          ]
        }
      ]
    },
    {
      "cell_type": "code",
      "source": [
        "%mkdir /content/drive/MyDrive/models/\n",
        "%mkdir /content/drive/MyDrive/models/무성한/\n",
        "%mkdir /content/drive/MyDrive/models/무성한/check_point\n",
        "checkpoint_path = \"/content/drive/MyDrive/models/무성한/check_point/cp-{epoch:04d}.ckpt\"\n",
        "checkpoint_dir = os.path.dirname(checkpoint_path)"
      ],
      "metadata": {
        "colab": {
          "base_uri": "https://localhost:8080/"
        },
        "id": "llgd8SHztu3L",
        "outputId": "ccb870c3-2787-4984-eae0-a778b1f9cbfa"
      },
      "execution_count": 103,
      "outputs": [
        {
          "output_type": "stream",
          "name": "stdout",
          "text": [
            "mkdir: cannot create directory ‘/content/drive/MyDrive/models/’: File exists\n",
            "mkdir: cannot create directory ‘/content/drive/MyDrive/models/무성한/’: File exists\n",
            "mkdir: cannot create directory ‘/content/drive/MyDrive/models/무성한/check_point’: File exists\n"
          ]
        }
      ]
    },
    {
      "cell_type": "code",
      "source": [
        "from keras.callbacks import EarlyStopping \n",
        "\n",
        "early_stopping = EarlyStopping(patience=10)\n",
        "cp_callback = keras.callbacks.ModelCheckpoint(\n",
        "    filepath=checkpoint_path, \n",
        "    verbose=1, \n",
        "    save_weights_only=True,\n",
        "    save_freq=10*8)\n",
        "\n",
        "history = model.fit(\n",
        "    X_train, y_train,\n",
        "    epochs=100,\n",
        "    batch_size=10,\n",
        "    verbose=VERBOSE,\n",
        "    validation_split=0.2,\n",
        "    callbacks=[cp_callback]\n",
        ")"
      ],
      "metadata": {
        "colab": {
          "base_uri": "https://localhost:8080/"
        },
        "id": "JT4W4G08j_7F",
        "outputId": "a4c73c97-cb1e-4a9b-e3cd-c2ae2be795c1"
      },
      "execution_count": 104,
      "outputs": [
        {
          "output_type": "stream",
          "name": "stdout",
          "text": [
            "Epoch 1/100\n",
            "13/13 [==============================] - 5s 49ms/step - loss: 4.5106 - accuracy: 0.5000 - val_loss: 27.5350 - val_accuracy: 0.4848\n",
            "Epoch 2/100\n",
            "13/13 [==============================] - 0s 15ms/step - loss: 3.7024 - accuracy: 0.5781 - val_loss: 5.7852 - val_accuracy: 0.4848\n",
            "Epoch 3/100\n",
            "13/13 [==============================] - 0s 16ms/step - loss: 3.7171 - accuracy: 0.6484 - val_loss: 14.9743 - val_accuracy: 0.5152\n",
            "Epoch 4/100\n",
            "13/13 [==============================] - 0s 15ms/step - loss: 3.7389 - accuracy: 0.6953 - val_loss: 8.7887 - val_accuracy: 0.6061\n",
            "Epoch 5/100\n",
            "13/13 [==============================] - 0s 15ms/step - loss: 2.9003 - accuracy: 0.7031 - val_loss: 11.7291 - val_accuracy: 0.5455\n",
            "Epoch 6/100\n",
            "13/13 [==============================] - 0s 15ms/step - loss: 4.1078 - accuracy: 0.6172 - val_loss: 37.8857 - val_accuracy: 0.5152\n",
            "Epoch 7/100\n",
            " 1/13 [=>............................] - ETA: 0s - loss: 2.0112 - accuracy: 0.7000\n",
            "Epoch 7: saving model to /content/drive/MyDrive/models/무성한/check_point/cp-0007.ckpt\n",
            "13/13 [==============================] - 0s 32ms/step - loss: 2.1008 - accuracy: 0.7344 - val_loss: 57.1000 - val_accuracy: 0.5152\n",
            "Epoch 8/100\n",
            "13/13 [==============================] - 0s 15ms/step - loss: 3.2406 - accuracy: 0.7031 - val_loss: 30.8667 - val_accuracy: 0.5455\n",
            "Epoch 9/100\n",
            "13/13 [==============================] - 0s 16ms/step - loss: 1.8841 - accuracy: 0.7422 - val_loss: 22.1033 - val_accuracy: 0.5758\n",
            "Epoch 10/100\n",
            "13/13 [==============================] - 0s 15ms/step - loss: 1.4701 - accuracy: 0.7734 - val_loss: 44.9158 - val_accuracy: 0.6061\n",
            "Epoch 11/100\n",
            "13/13 [==============================] - 0s 15ms/step - loss: 2.2093 - accuracy: 0.7266 - val_loss: 39.5574 - val_accuracy: 0.6364\n",
            "Epoch 12/100\n",
            "13/13 [==============================] - 0s 15ms/step - loss: 1.1940 - accuracy: 0.7891 - val_loss: 27.8987 - val_accuracy: 0.6061\n",
            "Epoch 13/100\n",
            " 1/13 [=>............................] - ETA: 0s - loss: 2.0538 - accuracy: 0.6000\n",
            "Epoch 13: saving model to /content/drive/MyDrive/models/무성한/check_point/cp-0013.ckpt\n",
            "13/13 [==============================] - 0s 28ms/step - loss: 0.9958 - accuracy: 0.7812 - val_loss: 18.6610 - val_accuracy: 0.6667\n",
            "Epoch 14/100\n",
            "13/13 [==============================] - 0s 15ms/step - loss: 1.0828 - accuracy: 0.8047 - val_loss: 28.3353 - val_accuracy: 0.6364\n",
            "Epoch 15/100\n",
            "13/13 [==============================] - 0s 15ms/step - loss: 1.9243 - accuracy: 0.8047 - val_loss: 13.6552 - val_accuracy: 0.6061\n",
            "Epoch 16/100\n",
            "13/13 [==============================] - 0s 15ms/step - loss: 1.4029 - accuracy: 0.7031 - val_loss: 12.3672 - val_accuracy: 0.6667\n",
            "Epoch 17/100\n",
            "13/13 [==============================] - 0s 15ms/step - loss: 1.3530 - accuracy: 0.8281 - val_loss: 51.9726 - val_accuracy: 0.5152\n",
            "Epoch 18/100\n",
            "13/13 [==============================] - 0s 15ms/step - loss: 1.8415 - accuracy: 0.7812 - val_loss: 69.6239 - val_accuracy: 0.5152\n",
            "Epoch 19/100\n",
            " 1/13 [=>............................] - ETA: 0s - loss: 0.5562 - accuracy: 0.8000\n",
            "Epoch 19: saving model to /content/drive/MyDrive/models/무성한/check_point/cp-0019.ckpt\n",
            "13/13 [==============================] - 0s 36ms/step - loss: 2.2237 - accuracy: 0.7500 - val_loss: 25.6064 - val_accuracy: 0.6061\n",
            "Epoch 20/100\n",
            "13/13 [==============================] - 0s 15ms/step - loss: 0.8110 - accuracy: 0.8203 - val_loss: 6.0294 - val_accuracy: 0.6970\n",
            "Epoch 21/100\n",
            "13/13 [==============================] - 0s 16ms/step - loss: 1.8907 - accuracy: 0.7422 - val_loss: 27.5229 - val_accuracy: 0.5152\n",
            "Epoch 22/100\n",
            "13/13 [==============================] - 0s 15ms/step - loss: 1.7237 - accuracy: 0.7969 - val_loss: 3.3737 - val_accuracy: 0.6970\n",
            "Epoch 23/100\n",
            "13/13 [==============================] - 0s 16ms/step - loss: 1.4250 - accuracy: 0.7969 - val_loss: 0.9345 - val_accuracy: 0.7273\n",
            "Epoch 24/100\n",
            "13/13 [==============================] - 0s 15ms/step - loss: 1.0648 - accuracy: 0.8281 - val_loss: 0.7114 - val_accuracy: 0.7576\n",
            "Epoch 25/100\n",
            " 6/13 [============>.................] - ETA: 0s - loss: 1.0136 - accuracy: 0.7500\n",
            "Epoch 25: saving model to /content/drive/MyDrive/models/무성한/check_point/cp-0025.ckpt\n",
            "13/13 [==============================] - 0s 28ms/step - loss: 0.7862 - accuracy: 0.7969 - val_loss: 3.1828 - val_accuracy: 0.6364\n",
            "Epoch 26/100\n",
            "13/13 [==============================] - 0s 16ms/step - loss: 1.5735 - accuracy: 0.7812 - val_loss: 2.2878 - val_accuracy: 0.6667\n",
            "Epoch 27/100\n",
            "13/13 [==============================] - 0s 16ms/step - loss: 0.6652 - accuracy: 0.8281 - val_loss: 1.4961 - val_accuracy: 0.6970\n",
            "Epoch 28/100\n",
            "13/13 [==============================] - 0s 15ms/step - loss: 0.6172 - accuracy: 0.8516 - val_loss: 1.8178 - val_accuracy: 0.6364\n",
            "Epoch 29/100\n",
            "13/13 [==============================] - 0s 16ms/step - loss: 0.7399 - accuracy: 0.7891 - val_loss: 1.5184 - val_accuracy: 0.6667\n",
            "Epoch 30/100\n",
            "13/13 [==============================] - 0s 16ms/step - loss: 0.5770 - accuracy: 0.7891 - val_loss: 0.6436 - val_accuracy: 0.7273\n",
            "Epoch 31/100\n",
            " 6/13 [============>.................] - ETA: 0s - loss: 0.4820 - accuracy: 0.8833\n",
            "Epoch 31: saving model to /content/drive/MyDrive/models/무성한/check_point/cp-0031.ckpt\n",
            "13/13 [==============================] - 0s 31ms/step - loss: 0.7099 - accuracy: 0.8203 - val_loss: 0.5927 - val_accuracy: 0.7576\n",
            "Epoch 32/100\n",
            "13/13 [==============================] - 0s 16ms/step - loss: 0.5783 - accuracy: 0.8359 - val_loss: 1.4504 - val_accuracy: 0.7273\n",
            "Epoch 33/100\n",
            "13/13 [==============================] - 0s 15ms/step - loss: 0.6330 - accuracy: 0.8438 - val_loss: 1.3794 - val_accuracy: 0.6364\n",
            "Epoch 34/100\n",
            "13/13 [==============================] - 0s 15ms/step - loss: 0.5012 - accuracy: 0.8438 - val_loss: 0.9678 - val_accuracy: 0.7576\n",
            "Epoch 35/100\n",
            "13/13 [==============================] - 0s 15ms/step - loss: 0.6267 - accuracy: 0.8125 - val_loss: 2.6207 - val_accuracy: 0.6364\n",
            "Epoch 36/100\n",
            "13/13 [==============================] - 0s 15ms/step - loss: 0.7779 - accuracy: 0.8359 - val_loss: 1.1298 - val_accuracy: 0.6970\n",
            "Epoch 37/100\n",
            "11/13 [========================>.....] - ETA: 0s - loss: 0.3445 - accuracy: 0.8545\n",
            "Epoch 37: saving model to /content/drive/MyDrive/models/무성한/check_point/cp-0037.ckpt\n",
            "13/13 [==============================] - 0s 28ms/step - loss: 0.4395 - accuracy: 0.8516 - val_loss: 0.6650 - val_accuracy: 0.6061\n",
            "Epoch 38/100\n",
            "13/13 [==============================] - 0s 15ms/step - loss: 0.5117 - accuracy: 0.8203 - val_loss: 0.8955 - val_accuracy: 0.7879\n",
            "Epoch 39/100\n",
            "13/13 [==============================] - 0s 15ms/step - loss: 0.4573 - accuracy: 0.9062 - val_loss: 0.8655 - val_accuracy: 0.8485\n",
            "Epoch 40/100\n",
            "13/13 [==============================] - 0s 15ms/step - loss: 0.2326 - accuracy: 0.9219 - val_loss: 1.3751 - val_accuracy: 0.8788\n",
            "Epoch 41/100\n",
            "13/13 [==============================] - 0s 15ms/step - loss: 0.4586 - accuracy: 0.8906 - val_loss: 1.1091 - val_accuracy: 0.8182\n",
            "Epoch 42/100\n",
            "13/13 [==============================] - 0s 15ms/step - loss: 0.4164 - accuracy: 0.8984 - val_loss: 1.3001 - val_accuracy: 0.8485\n",
            "Epoch 43/100\n",
            "13/13 [==============================] - 0s 15ms/step - loss: 0.5091 - accuracy: 0.8594 - val_loss: 2.7329 - val_accuracy: 0.7576\n",
            "Epoch 44/100\n",
            "\n",
            "Epoch 44: saving model to /content/drive/MyDrive/models/무성한/check_point/cp-0044.ckpt\n",
            "13/13 [==============================] - 0s 15ms/step - loss: 0.2740 - accuracy: 0.8750 - val_loss: 2.6811 - val_accuracy: 0.8485\n",
            "Epoch 45/100\n",
            "13/13 [==============================] - 0s 15ms/step - loss: 0.2668 - accuracy: 0.8984 - val_loss: 2.1231 - val_accuracy: 0.7879\n",
            "Epoch 46/100\n",
            "13/13 [==============================] - 0s 15ms/step - loss: 0.6491 - accuracy: 0.8750 - val_loss: 2.1225 - val_accuracy: 0.7576\n",
            "Epoch 47/100\n",
            "13/13 [==============================] - 0s 15ms/step - loss: 0.3188 - accuracy: 0.8672 - val_loss: 2.3613 - val_accuracy: 0.6667\n",
            "Epoch 48/100\n",
            "13/13 [==============================] - 0s 16ms/step - loss: 1.1200 - accuracy: 0.8516 - val_loss: 0.8983 - val_accuracy: 0.8788\n",
            "Epoch 49/100\n",
            "13/13 [==============================] - 0s 15ms/step - loss: 0.4217 - accuracy: 0.8438 - val_loss: 4.3177 - val_accuracy: 0.6667\n",
            "Epoch 50/100\n",
            " 1/13 [=>............................] - ETA: 0s - loss: 0.0752 - accuracy: 1.0000\n",
            "Epoch 50: saving model to /content/drive/MyDrive/models/무성한/check_point/cp-0050.ckpt\n",
            "13/13 [==============================] - 0s 30ms/step - loss: 0.2660 - accuracy: 0.8984 - val_loss: 2.9149 - val_accuracy: 0.7879\n",
            "Epoch 51/100\n",
            "13/13 [==============================] - 0s 16ms/step - loss: 0.4153 - accuracy: 0.8750 - val_loss: 1.7040 - val_accuracy: 0.8182\n",
            "Epoch 52/100\n",
            "13/13 [==============================] - 0s 17ms/step - loss: 0.1918 - accuracy: 0.9219 - val_loss: 1.3415 - val_accuracy: 0.8485\n",
            "Epoch 53/100\n",
            "13/13 [==============================] - 0s 16ms/step - loss: 0.3530 - accuracy: 0.8828 - val_loss: 1.4789 - val_accuracy: 0.8788\n",
            "Epoch 54/100\n",
            "13/13 [==============================] - 0s 15ms/step - loss: 0.3078 - accuracy: 0.9062 - val_loss: 1.2066 - val_accuracy: 0.8182\n",
            "Epoch 55/100\n",
            "13/13 [==============================] - 0s 16ms/step - loss: 0.1887 - accuracy: 0.9062 - val_loss: 1.2522 - val_accuracy: 0.8182\n",
            "Epoch 56/100\n",
            " 1/13 [=>............................] - ETA: 0s - loss: 0.0125 - accuracy: 1.0000\n",
            "Epoch 56: saving model to /content/drive/MyDrive/models/무성한/check_point/cp-0056.ckpt\n",
            "13/13 [==============================] - 0s 30ms/step - loss: 0.2264 - accuracy: 0.9297 - val_loss: 1.5270 - val_accuracy: 0.9091\n",
            "Epoch 57/100\n",
            "13/13 [==============================] - 0s 15ms/step - loss: 0.1558 - accuracy: 0.9531 - val_loss: 1.2800 - val_accuracy: 0.9697\n",
            "Epoch 58/100\n",
            "13/13 [==============================] - 0s 15ms/step - loss: 0.3938 - accuracy: 0.9297 - val_loss: 1.0347 - val_accuracy: 0.9697\n",
            "Epoch 59/100\n",
            "13/13 [==============================] - 0s 15ms/step - loss: 0.1565 - accuracy: 0.9375 - val_loss: 0.9863 - val_accuracy: 0.9091\n",
            "Epoch 60/100\n",
            "13/13 [==============================] - 0s 16ms/step - loss: 0.2961 - accuracy: 0.9141 - val_loss: 0.8264 - val_accuracy: 0.9697\n",
            "Epoch 61/100\n",
            "13/13 [==============================] - 0s 16ms/step - loss: 0.3583 - accuracy: 0.9141 - val_loss: 1.1813 - val_accuracy: 0.7879\n",
            "Epoch 62/100\n",
            " 6/13 [============>.................] - ETA: 0s - loss: 0.2618 - accuracy: 0.9333\n",
            "Epoch 62: saving model to /content/drive/MyDrive/models/무성한/check_point/cp-0062.ckpt\n",
            "13/13 [==============================] - 0s 29ms/step - loss: 0.4721 - accuracy: 0.8906 - val_loss: 0.8110 - val_accuracy: 0.8788\n",
            "Epoch 63/100\n",
            "13/13 [==============================] - 0s 15ms/step - loss: 0.1841 - accuracy: 0.9141 - val_loss: 0.5636 - val_accuracy: 0.9091\n",
            "Epoch 64/100\n",
            "13/13 [==============================] - 0s 15ms/step - loss: 0.2340 - accuracy: 0.9219 - val_loss: 0.6362 - val_accuracy: 0.8788\n",
            "Epoch 65/100\n",
            "13/13 [==============================] - 0s 15ms/step - loss: 0.1954 - accuracy: 0.9141 - val_loss: 0.6535 - val_accuracy: 0.8788\n",
            "Epoch 66/100\n",
            "13/13 [==============================] - 0s 16ms/step - loss: 0.2384 - accuracy: 0.9219 - val_loss: 0.7545 - val_accuracy: 0.9091\n",
            "Epoch 67/100\n",
            "13/13 [==============================] - 0s 16ms/step - loss: 0.1270 - accuracy: 0.9609 - val_loss: 0.7525 - val_accuracy: 0.8788\n",
            "Epoch 68/100\n",
            " 5/13 [==========>...................] - ETA: 0s - loss: 0.4866 - accuracy: 0.9400\n",
            "Epoch 68: saving model to /content/drive/MyDrive/models/무성한/check_point/cp-0068.ckpt\n",
            "13/13 [==============================] - 0s 31ms/step - loss: 0.3052 - accuracy: 0.9297 - val_loss: 1.8400 - val_accuracy: 0.8485\n",
            "Epoch 69/100\n",
            "13/13 [==============================] - 0s 15ms/step - loss: 0.2311 - accuracy: 0.9297 - val_loss: 1.2308 - val_accuracy: 0.8485\n",
            "Epoch 70/100\n",
            "13/13 [==============================] - 0s 16ms/step - loss: 0.1256 - accuracy: 0.9531 - val_loss: 1.3952 - val_accuracy: 0.8485\n",
            "Epoch 71/100\n",
            "13/13 [==============================] - 0s 16ms/step - loss: 0.1370 - accuracy: 0.9531 - val_loss: 1.1376 - val_accuracy: 0.9091\n",
            "Epoch 72/100\n",
            "13/13 [==============================] - 0s 16ms/step - loss: 0.2018 - accuracy: 0.9219 - val_loss: 0.9158 - val_accuracy: 0.9091\n",
            "Epoch 73/100\n",
            "13/13 [==============================] - 0s 16ms/step - loss: 0.1612 - accuracy: 0.9453 - val_loss: 0.7022 - val_accuracy: 0.9091\n",
            "Epoch 74/100\n",
            " 6/13 [============>.................] - ETA: 0s - loss: 0.1644 - accuracy: 0.9500\n",
            "Epoch 74: saving model to /content/drive/MyDrive/models/무성한/check_point/cp-0074.ckpt\n",
            "13/13 [==============================] - 0s 28ms/step - loss: 0.1191 - accuracy: 0.9609 - val_loss: 1.1336 - val_accuracy: 0.8788\n",
            "Epoch 75/100\n",
            "13/13 [==============================] - 0s 15ms/step - loss: 0.0543 - accuracy: 0.9844 - val_loss: 0.8174 - val_accuracy: 0.9394\n",
            "Epoch 76/100\n",
            "13/13 [==============================] - 0s 16ms/step - loss: 0.1038 - accuracy: 0.9609 - val_loss: 0.9868 - val_accuracy: 0.9394\n",
            "Epoch 77/100\n",
            "13/13 [==============================] - 0s 16ms/step - loss: 0.0816 - accuracy: 0.9688 - val_loss: 0.8837 - val_accuracy: 0.8788\n",
            "Epoch 78/100\n",
            "13/13 [==============================] - 0s 15ms/step - loss: 0.1266 - accuracy: 0.9453 - val_loss: 0.7418 - val_accuracy: 0.9091\n",
            "Epoch 79/100\n",
            "13/13 [==============================] - 0s 16ms/step - loss: 0.1182 - accuracy: 0.9531 - val_loss: 1.5638 - val_accuracy: 0.6667\n",
            "Epoch 80/100\n",
            "11/13 [========================>.....] - ETA: 0s - loss: 0.2460 - accuracy: 0.9364\n",
            "Epoch 80: saving model to /content/drive/MyDrive/models/무성한/check_point/cp-0080.ckpt\n",
            "13/13 [==============================] - 0s 29ms/step - loss: 0.2175 - accuracy: 0.9453 - val_loss: 1.3929 - val_accuracy: 0.7879\n",
            "Epoch 81/100\n",
            "13/13 [==============================] - 0s 15ms/step - loss: 0.2547 - accuracy: 0.9219 - val_loss: 1.2091 - val_accuracy: 0.8485\n",
            "Epoch 82/100\n",
            "13/13 [==============================] - 0s 16ms/step - loss: 0.1253 - accuracy: 0.9609 - val_loss: 1.0544 - val_accuracy: 0.9394\n",
            "Epoch 83/100\n",
            "13/13 [==============================] - 0s 15ms/step - loss: 0.2189 - accuracy: 0.9219 - val_loss: 1.1468 - val_accuracy: 0.9394\n",
            "Epoch 84/100\n",
            "13/13 [==============================] - 0s 15ms/step - loss: 0.1175 - accuracy: 0.9609 - val_loss: 1.3668 - val_accuracy: 0.8788\n",
            "Epoch 85/100\n",
            "13/13 [==============================] - 0s 16ms/step - loss: 0.0472 - accuracy: 0.9766 - val_loss: 1.6134 - val_accuracy: 0.8788\n",
            "Epoch 86/100\n",
            "13/13 [==============================] - 0s 15ms/step - loss: 0.1278 - accuracy: 0.9531 - val_loss: 1.2602 - val_accuracy: 0.9091\n",
            "Epoch 87/100\n",
            " 1/13 [=>............................] - ETA: 0s - loss: 0.0253 - accuracy: 1.0000\n",
            "Epoch 87: saving model to /content/drive/MyDrive/models/무성한/check_point/cp-0087.ckpt\n",
            "13/13 [==============================] - 0s 28ms/step - loss: 0.0415 - accuracy: 0.9766 - val_loss: 1.1985 - val_accuracy: 0.8788\n",
            "Epoch 88/100\n",
            "13/13 [==============================] - 0s 15ms/step - loss: 0.0456 - accuracy: 0.9844 - val_loss: 1.0832 - val_accuracy: 0.8788\n",
            "Epoch 89/100\n",
            "13/13 [==============================] - 0s 15ms/step - loss: 0.0147 - accuracy: 0.9922 - val_loss: 1.0579 - val_accuracy: 0.8788\n",
            "Epoch 90/100\n",
            "13/13 [==============================] - 0s 15ms/step - loss: 0.1732 - accuracy: 0.9688 - val_loss: 1.4464 - val_accuracy: 0.8788\n",
            "Epoch 91/100\n",
            "13/13 [==============================] - 0s 15ms/step - loss: 0.1104 - accuracy: 0.9766 - val_loss: 1.9151 - val_accuracy: 0.8485\n",
            "Epoch 92/100\n",
            "13/13 [==============================] - 0s 16ms/step - loss: 0.0875 - accuracy: 0.9844 - val_loss: 2.0371 - val_accuracy: 0.8485\n",
            "Epoch 93/100\n",
            " 1/13 [=>............................] - ETA: 0s - loss: 3.4316e-05 - accuracy: 1.0000\n",
            "Epoch 93: saving model to /content/drive/MyDrive/models/무성한/check_point/cp-0093.ckpt\n",
            "13/13 [==============================] - 0s 28ms/step - loss: 0.0538 - accuracy: 0.9844 - val_loss: 1.7556 - val_accuracy: 0.8788\n",
            "Epoch 94/100\n",
            "13/13 [==============================] - 0s 15ms/step - loss: 0.0546 - accuracy: 0.9688 - val_loss: 1.4057 - val_accuracy: 0.8485\n",
            "Epoch 95/100\n",
            "13/13 [==============================] - 0s 15ms/step - loss: 0.0236 - accuracy: 0.9922 - val_loss: 1.0907 - val_accuracy: 0.8182\n",
            "Epoch 96/100\n",
            "13/13 [==============================] - 0s 15ms/step - loss: 0.0476 - accuracy: 0.9844 - val_loss: 0.9694 - val_accuracy: 0.8485\n",
            "Epoch 97/100\n",
            "13/13 [==============================] - 0s 15ms/step - loss: 0.0465 - accuracy: 0.9844 - val_loss: 0.6934 - val_accuracy: 0.8788\n",
            "Epoch 98/100\n",
            "13/13 [==============================] - 0s 16ms/step - loss: 0.0357 - accuracy: 0.9844 - val_loss: 0.7255 - val_accuracy: 0.7879\n",
            "Epoch 99/100\n",
            " 1/13 [=>............................] - ETA: 0s - loss: 0.0051 - accuracy: 1.0000\n",
            "Epoch 99: saving model to /content/drive/MyDrive/models/무성한/check_point/cp-0099.ckpt\n",
            "13/13 [==============================] - 0s 29ms/step - loss: 0.0164 - accuracy: 1.0000 - val_loss: 0.9997 - val_accuracy: 0.7273\n",
            "Epoch 100/100\n",
            "13/13 [==============================] - 0s 15ms/step - loss: 0.0965 - accuracy: 0.9766 - val_loss: 1.3585 - val_accuracy: 0.7576\n"
          ]
        }
      ]
    },
    {
      "cell_type": "code",
      "source": [
        "plt.figure(figsize=(14, 5))\n",
        "\n",
        "plt.subplot(1, 2, 1)\n",
        "plt.plot(history.history['accuracy'], label='Training Accuracy')\n",
        "plt.plot(history.history['val_accuracy'], label='Validation Accuracy')\n",
        "plt.legend(loc='lower right')\n",
        "plt.title('Training and Validation Accuracy (subspecies)')\n",
        "\n",
        "plt.subplot(1, 2, 2)\n",
        "plt.plot(history.history['loss'], label='Training Loss')\n",
        "plt.plot(history.history['val_loss'], label='Validation Loss')\n",
        "plt.legend(loc='upper right')\n",
        "plt.title('Training and Validation Loss (subspecies)')\n",
        "\n",
        "plt.show()"
      ],
      "metadata": {
        "colab": {
          "base_uri": "https://localhost:8080/",
          "height": 336
        },
        "id": "Pra97sy0j_9l",
        "outputId": "643db7c7-1743-4fa1-d0c5-011b3078d8a7"
      },
      "execution_count": 105,
      "outputs": [
        {
          "output_type": "display_data",
          "data": {
            "text/plain": [
              "<Figure size 1008x360 with 2 Axes>"
            ],
            "image/png": "[encoded data removed]"
          },
          "metadata": {
            "needs_background": "light"
          }
        }
      ]
    },
    {
      "cell_type": "code",
      "source": [
        "model.evaluate(X_test, y_test)"
      ],
      "metadata": {
        "colab": {
          "base_uri": "https://localhost:8080/"
        },
        "id": "NafVOLpQj__H",
        "outputId": "af60ed98-d1dc-415a-bc60-2b7aad9f4852"
      },
      "execution_count": 106,
      "outputs": [
        {
          "output_type": "stream",
          "name": "stdout",
          "text": [
            "2/2 [==============================] - 0s 57ms/step - loss: 1.2166 - accuracy: 0.7317\n"
          ]
        },
        {
          "output_type": "execute_result",
          "data": {
            "text/plain": [
              "[1.2166403532028198, 0.7317073345184326]"
            ]
          },
          "metadata": {},
          "execution_count": 106
        }
      ]
    },
    {
      "cell_type": "code",
      "source": [
        "predictions = model.predict(X_test)"
      ],
      "metadata": {
        "colab": {
          "base_uri": "https://localhost:8080/"
        },
        "id": "1jNu9EA5lzbF",
        "outputId": "09255262-2043-407b-94ee-3e55bb3bef5e"
      },
      "execution_count": 107,
      "outputs": [
        {
          "output_type": "stream",
          "name": "stdout",
          "text": [
            "2/2 [==============================] - 0s 5ms/step\n"
          ]
        }
      ]
    },
    {
      "cell_type": "code",
      "source": [
        "np.argmax(predictions[2])"
      ],
      "metadata": {
        "colab": {
          "base_uri": "https://localhost:8080/"
        },
        "id": "HSXlqezZlq0U",
        "outputId": "d8be23ff-44f2-425d-d93f-f77b04a2c62e"
      },
      "execution_count": 87,
      "outputs": [
        {
          "output_type": "execute_result",
          "data": {
            "text/plain": [
              "0"
            ]
          },
          "metadata": {},
          "execution_count": 87
        }
      ]
    },
    {
      "cell_type": "code",
      "source": [
        "y_test"
      ],
      "metadata": {
        "colab": {
          "base_uri": "https://localhost:8080/",
          "height": 927
        },
        "id": "rcM_q8SUlq2_",
        "outputId": "a0d22da2-4fc4-42d6-b6f9-cc4ac5769506"
      },
      "execution_count": null,
      "outputs": [
        {
          "output_type": "execute_result",
          "data": {
            "text/plain": [
              "     0  1  2\n",
              "123  0  0  1\n",
              "41   1  0  0\n",
              "72   0  1  0\n",
              "74   0  1  0\n",
              "122  0  0  1\n",
              "93   0  1  0\n",
              "99   0  0  1\n",
              "53   1  0  0\n",
              "92   0  1  0\n",
              "125  0  0  1\n",
              "0    1  0  0\n",
              "57   0  1  0\n",
              "40   1  0  0\n",
              "9    1  0  0\n",
              "76   0  1  0\n",
              "3    1  0  0\n",
              "117  0  0  1\n",
              "102  0  0  1\n",
              "132  0  0  1\n",
              "19   1  0  0\n",
              "70   0  1  0\n",
              "30   1  0  0\n",
              "22   1  0  0\n",
              "129  0  0  1\n",
              "44   1  0  0\n",
              "61   0  1  0\n",
              "16   1  0  0\n",
              "33   1  0  0"
            ],
            "text/html": [
              "\n",
              "  <div id=\"df-d4c8b2f9-bf86-4482-800a-3c20684a354a\">\n",
              "    <div class=\"colab-df-container\">\n",
              "      <div>\n",
              "<style scoped>\n",
              "    .dataframe tbody tr th:only-of-type {\n",
              "        vertical-align: middle;\n",
              "    }\n",
              "\n",
              "    .dataframe tbody tr th {\n",
              "        vertical-align: top;\n",
              "    }\n",
              "\n",
              "    .dataframe thead th {\n",
              "        text-align: right;\n",
              "    }\n",
              "</style>\n",
              "<table border=\"1\" class=\"dataframe\">\n",
              "  <thead>\n",
              "    <tr style=\"text-align: right;\">\n",
              "      <th></th>\n",
              "      <th>0</th>\n",
              "      <th>1</th>\n",
              "      <th>2</th>\n",
              "    </tr>\n",
              "  </thead>\n",
              "  <tbody>\n",
              "    <tr>\n",
              "      <th>123</th>\n",
              "      <td>0</td>\n",
              "      <td>0</td>\n",
              "      <td>1</td>\n",
              "    </tr>\n",
              "    <tr>\n",
              "      <th>41</th>\n",
              "      <td>1</td>\n",
              "      <td>0</td>\n",
              "      <td>0</td>\n",
              "    </tr>\n",
              "    <tr>\n",
              "      <th>72</th>\n",
              "      <td>0</td>\n",
              "      <td>1</td>\n",
              "      <td>0</td>\n",
              "    </tr>\n",
              "    <tr>\n",
              "      <th>74</th>\n",
              "      <td>0</td>\n",
              "      <td>1</td>\n",
              "      <td>0</td>\n",
              "    </tr>\n",
              "    <tr>\n",
              "      <th>122</th>\n",
              "      <td>0</td>\n",
              "      <td>0</td>\n",
              "      <td>1</td>\n",
              "    </tr>\n",
              "    <tr>\n",
              "      <th>93</th>\n",
              "      <td>0</td>\n",
              "      <td>1</td>\n",
              "      <td>0</td>\n",
              "    </tr>\n",
              "    <tr>\n",
              "      <th>99</th>\n",
              "      <td>0</td>\n",
              "      <td>0</td>\n",
              "      <td>1</td>\n",
              "    </tr>\n",
              "    <tr>\n",
              "      <th>53</th>\n",
              "      <td>1</td>\n",
              "      <td>0</td>\n",
              "      <td>0</td>\n",
              "    </tr>\n",
              "    <tr>\n",
              "      <th>92</th>\n",
              "      <td>0</td>\n",
              "      <td>1</td>\n",
              "      <td>0</td>\n",
              "    </tr>\n",
              "    <tr>\n",
              "      <th>125</th>\n",
              "      <td>0</td>\n",
              "      <td>0</td>\n",
              "      <td>1</td>\n",
              "    </tr>\n",
              "    <tr>\n",
              "      <th>0</th>\n",
              "      <td>1</td>\n",
              "      <td>0</td>\n",
              "      <td>0</td>\n",
              "    </tr>\n",
              "    <tr>\n",
              "      <th>57</th>\n",
              "      <td>0</td>\n",
              "      <td>1</td>\n",
              "      <td>0</td>\n",
              "    </tr>\n",
              "    <tr>\n",
              "      <th>40</th>\n",
              "      <td>1</td>\n",
              "      <td>0</td>\n",
              "      <td>0</td>\n",
              "    </tr>\n",
              "    <tr>\n",
              "      <th>9</th>\n",
              "      <td>1</td>\n",
              "      <td>0</td>\n",
              "      <td>0</td>\n",
              "    </tr>\n",
              "    <tr>\n",
              "      <th>76</th>\n",
              "      <td>0</td>\n",
              "      <td>1</td>\n",
              "      <td>0</td>\n",
              "    </tr>\n",
              "    <tr>\n",
              "      <th>3</th>\n",
              "      <td>1</td>\n",
              "      <td>0</td>\n",
              "      <td>0</td>\n",
              "    </tr>\n",
              "    <tr>\n",
              "      <th>117</th>\n",
              "      <td>0</td>\n",
              "      <td>0</td>\n",
              "      <td>1</td>\n",
              "    </tr>\n",
              "    <tr>\n",
              "      <th>102</th>\n",
              "      <td>0</td>\n",
              "      <td>0</td>\n",
              "      <td>1</td>\n",
              "    </tr>\n",
              "    <tr>\n",
              "      <th>132</th>\n",
              "      <td>0</td>\n",
              "      <td>0</td>\n",
              "      <td>1</td>\n",
              "    </tr>\n",
              "    <tr>\n",
              "      <th>19</th>\n",
              "      <td>1</td>\n",
              "      <td>0</td>\n",
              "      <td>0</td>\n",
              "    </tr>\n",
              "    <tr>\n",
              "      <th>70</th>\n",
              "      <td>0</td>\n",
              "      <td>1</td>\n",
              "      <td>0</td>\n",
              "    </tr>\n",
              "    <tr>\n",
              "      <th>30</th>\n",
              "      <td>1</td>\n",
              "      <td>0</td>\n",
              "      <td>0</td>\n",
              "    </tr>\n",
              "    <tr>\n",
              "      <th>22</th>\n",
              "      <td>1</td>\n",
              "      <td>0</td>\n",
              "      <td>0</td>\n",
              "    </tr>\n",
              "    <tr>\n",
              "      <th>129</th>\n",
              "      <td>0</td>\n",
              "      <td>0</td>\n",
              "      <td>1</td>\n",
              "    </tr>\n",
              "    <tr>\n",
              "      <th>44</th>\n",
              "      <td>1</td>\n",
              "      <td>0</td>\n",
              "      <td>0</td>\n",
              "    </tr>\n",
              "    <tr>\n",
              "      <th>61</th>\n",
              "      <td>0</td>\n",
              "      <td>1</td>\n",
              "      <td>0</td>\n",
              "    </tr>\n",
              "    <tr>\n",
              "      <th>16</th>\n",
              "      <td>1</td>\n",
              "      <td>0</td>\n",
              "      <td>0</td>\n",
              "    </tr>\n",
              "    <tr>\n",
              "      <th>33</th>\n",
              "      <td>1</td>\n",
              "      <td>0</td>\n",
              "      <td>0</td>\n",
              "    </tr>\n",
              "  </tbody>\n",
              "</table>\n",
              "</div>\n",
              "      <button class=\"colab-df-convert\" onclick=\"convertToInteractive('df-d4c8b2f9-bf86-4482-800a-3c20684a354a')\"\n",
              "              title=\"Convert this dataframe to an interactive table.\"\n",
              "              style=\"display:none;\">\n",
              "        \n",
              "  <svg xmlns=\"http://www.w3.org/2000/svg\" height=\"24px\"viewBox=\"0 0 24 24\"\n",
              "       width=\"24px\">\n",
              "    <path d=\"M0 0h24v24H0V0z\" fill=\"none\"/>\n",
              "    <path d=\"M18.56 5.44l.94 2.06.94-2.06 2.06-.94-2.06-.94-.94-2.06-.94 2.06-2.06.94zm-11 1L8.5 8.5l.94-2.06 2.06-.94-2.06-.94L8.5 2.5l-.94 2.06-2.06.94zm10 10l.94 2.06.94-2.06 2.06-.94-2.06-.94-.94-2.06-.94 2.06-2.06.94z\"/><path d=\"M17.41 7.96l-1.37-1.37c-.4-.4-.92-.59-1.43-.59-.52 0-1.04.2-1.43.59L10.3 9.45l-7.72 7.72c-.78.78-.78 2.05 0 2.83L4 21.41c.39.39.9.59 1.41.59.51 0 1.02-.2 1.41-.59l7.78-7.78 2.81-2.81c.8-.78.8-2.07 0-2.86zM5.41 20L4 18.59l7.72-7.72 1.47 1.35L5.41 20z\"/>\n",
              "  </svg>\n",
              "      </button>\n",
              "      \n",
              "  <style>\n",
              "    .colab-df-container {\n",
              "      display:flex;\n",
              "      flex-wrap:wrap;\n",
              "      gap: 12px;\n",
              "    }\n",
              "\n",
              "    .colab-df-convert {\n",
              "      background-color: #E8F0FE;\n",
              "      border: none;\n",
              "      border-radius: 50%;\n",
              "      cursor: pointer;\n",
              "      display: none;\n",
              "      fill: #1967D2;\n",
              "      height: 32px;\n",
              "      padding: 0 0 0 0;\n",
              "      width: 32px;\n",
              "    }\n",
              "\n",
              "    .colab-df-convert:hover {\n",
              "      background-color: #E2EBFA;\n",
              "      box-shadow: 0px 1px 2px rgba(60, 64, 67, 0.3), 0px 1px 3px 1px rgba(60, 64, 67, 0.15);\n",
              "      fill: #174EA6;\n",
              "    }\n",
              "\n",
              "    [theme=dark] .colab-df-convert {\n",
              "      background-color: #3B4455;\n",
              "      fill: #D2E3FC;\n",
              "    }\n",
              "\n",
              "    [theme=dark] .colab-df-convert:hover {\n",
              "      background-color: #434B5C;\n",
              "      box-shadow: 0px 1px 3px 1px rgba(0, 0, 0, 0.15);\n",
              "      filter: drop-shadow(0px 1px 2px rgba(0, 0, 0, 0.3));\n",
              "      fill: #FFFFFF;\n",
              "    }\n",
              "  </style>\n",
              "\n",
              "      <script>\n",
              "        const buttonEl =\n",
              "          document.querySelector('#df-d4c8b2f9-bf86-4482-800a-3c20684a354a button.colab-df-convert');\n",
              "        buttonEl.style.display =\n",
              "          google.colab.kernel.accessAllowed ? 'block' : 'none';\n",
              "\n",
              "        async function convertToInteractive(key) {\n",
              "          const element = document.querySelector('#df-d4c8b2f9-bf86-4482-800a-3c20684a354a');\n",
              "          const dataTable =\n",
              "            await google.colab.kernel.invokeFunction('convertToInteractive',\n",
              "                                                     [key], {});\n",
              "          if (!dataTable) return;\n",
              "\n",
              "          const docLinkHtml = 'Like what you see? Visit the ' +\n",
              "            '<a target=\"_blank\" href=https://colab.research.google.com/notebooks/data_table.ipynb>data table notebook</a>'\n",
              "            + ' to learn more about interactive tables.';\n",
              "          element.innerHTML = '';\n",
              "          dataTable['output_type'] = 'display_data';\n",
              "          await google.colab.output.renderOutput(dataTable, element);\n",
              "          const docLink = document.createElement('div');\n",
              "          docLink.innerHTML = docLinkHtml;\n",
              "          element.appendChild(docLink);\n",
              "        }\n",
              "      </script>\n",
              "    </div>\n",
              "  </div>\n",
              "  "
            ]
          },
          "metadata": {},
          "execution_count": 58
        }
      ]
    },
    {
      "cell_type": "code",
      "source": [
        "\n",
        "%cd /content/drive/MyDrive/models/잎/\n",
        "from keras.models import load_model\n",
        "model.save('잎_model.h5')"
      ],
      "metadata": {
        "colab": {
          "base_uri": "https://localhost:8080/"
        },
        "id": "1Uq7tMWplq6X",
        "outputId": "0b6ac4eb-2f8e-4b25-b0d6-9178cea1eef9"
      },
      "execution_count": null,
      "outputs": [
        {
          "output_type": "stream",
          "name": "stdout",
          "text": [
            "/content/drive/MyDrive/models/잎\n"
          ]
        }
      ]
    },
    {
      "cell_type": "code",
      "source": [],
      "metadata": {
        "id": "BJyL-Vf8mK1r"
      },
      "execution_count": null,
      "outputs": []
    },
    {
      "cell_type": "code",
      "source": [],
      "metadata": {
        "id": "BRlpitWImK__"
      },
      "execution_count": null,
      "outputs": []
    },
    {
      "cell_type": "code",
      "source": [],
      "metadata": {
        "id": "KKEqpI41lq8x"
      },
      "execution_count": null,
      "outputs": []
    },
    {
      "cell_type": "code",
      "source": [],
      "metadata": {
        "id": "Faf9_yWOzVCv"
      },
      "execution_count": null,
      "outputs": []
    },
    {
      "cell_type": "code",
      "source": [],
      "metadata": {
        "id": "YlwfZuE8zVFY"
      },
      "execution_count": null,
      "outputs": []
    },
    {
      "cell_type": "code",
      "source": [],
      "metadata": {
        "id": "Pm94xL9FzVHd"
      },
      "execution_count": null,
      "outputs": []
    }
  ]
}