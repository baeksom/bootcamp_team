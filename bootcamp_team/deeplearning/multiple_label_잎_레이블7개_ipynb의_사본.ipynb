{
  "nbformat": 4,
  "nbformat_minor": 0,
  "metadata": {
    "colab": {
      "provenance": [],
      "machine_shape": "hm",
      "authorship_tag": "ABX9TyOxRR0Rp3Eu+5riKv8yqPSo",
      "include_colab_link": true
    },
    "kernelspec": {
      "name": "python3",
      "display_name": "Python 3"
    },
    "language_info": {
      "name": "python"
    },
    "gpuClass": "standard",
    "accelerator": "GPU"
  },
  "cells": [
    {
      "cell_type": "markdown",
      "metadata": {
        "id": "view-in-github",
        "colab_type": "text"
      },
      "source": [
        "<a href=\"https://colab.research.google.com/github/chaeeerish/bootcamp_team/blob/main/bootcamp_team/deeplearning/multiple_label_%EC%9E%8E_%EB%A0%88%EC%9D%B4%EB%B8%947%EA%B0%9C_ipynb%EC%9D%98_%EC%82%AC%EB%B3%B8.ipynb\" target=\"_parent\"><img src=\"https://colab.research.google.com/assets/colab-badge.svg\" alt=\"Open In Colab\"/></a>"
      ]
    },
    {
      "cell_type": "code",
      "source": [
        "import keras\n",
        "from keras.models import Sequential\n",
        "from keras.layers import Dense, Dropout, Flatten\n",
        "from keras.layers import Conv2D, MaxPooling2D\n",
        "import keras.utils as image\n",
        "import numpy as np\n",
        "import pandas as pd\n",
        "import matplotlib.pyplot as plt\n",
        "from sklearn.model_selection import train_test_split\n",
        "from tqdm import tqdm\n",
        "from keras.layers import BatchNormalization\n",
        "import cv2\n",
        "import matplotlib.pyplot as plt\n",
        "import os\n",
        "import random\n",
        "import glob\n",
        "from os.path import isdir"
      ],
      "metadata": {
        "id": "D4hm8ZWZEWT8"
      },
      "execution_count": 1,
      "outputs": []
    },
    {
      "cell_type": "code",
      "execution_count": 2,
      "metadata": {
        "id": "SJEogrtbjeth"
      },
      "outputs": [],
      "source": [
        "from google.colab import drive"
      ]
    },
    {
      "cell_type": "code",
      "source": [
        "drive.mount('/content/drive')"
      ],
      "metadata": {
        "colab": {
          "base_uri": "https://localhost:8080/"
        },
        "id": "Stu4IQ9FxXEL",
        "outputId": "3b77fa1d-b7ee-4aab-837c-e1ed03882083"
      },
      "execution_count": 3,
      "outputs": [
        {
          "output_type": "stream",
          "name": "stdout",
          "text": [
            "Mounted at /content/drive\n"
          ]
        }
      ]
    },
    {
      "cell_type": "code",
      "source": [
        "dir = '/content/drive/MyDrive/tree_test/'"
      ],
      "metadata": {
        "id": "r51cX-R13Iwy"
      },
      "execution_count": 4,
      "outputs": []
    },
    {
      "cell_type": "code",
      "source": [
        "name = os.listdir(dir)\n",
        "name"
      ],
      "metadata": {
        "colab": {
          "base_uri": "https://localhost:8080/"
        },
        "id": "9Znt9uvb3Z_S",
        "outputId": "dcdb6c1d-19e3-4a7d-8a62-5e51234ffd7d"
      },
      "execution_count": 5,
      "outputs": [
        {
          "output_type": "execute_result",
          "data": {
            "text/plain": [
              "['잎을 무성하게 그린',\n",
              " '잎을 안 무성하게 그린',\n",
              " '잎이 없는',\n",
              " '잎이 큰',\n",
              " '잎이 안 큰',\n",
              " '윗쪽으로 뻗는',\n",
              " '윗쪽으로 안 뻗는',\n",
              " '열매있음',\n",
              " '열매없음',\n",
              " '그물 아닌',\n",
              " '꽃없음',\n",
              " '그물',\n",
              " '꽃있음']"
            ]
          },
          "metadata": {},
          "execution_count": 5
        }
      ]
    },
    {
      "cell_type": "code",
      "source": [
        "tree = glob.glob('/content/drive/MyDrive/tree_test/**')"
      ],
      "metadata": {
        "id": "5Gn6L4JoxXMX"
      },
      "execution_count": 6,
      "outputs": []
    },
    {
      "cell_type": "code",
      "source": [
        "_1, _2, _3, _4, _5, _6, _7 = [],[],[],[],[],[],[]\n",
        "_1.append(os.listdir(dir + '열매있음'))\n",
        "_2.append(os.listdir(dir +'윗쪽으로 뻗는'))\n",
        "_3.append(os.listdir(dir + '잎이 안 큰'))\n",
        "_4.append(os.listdir(dir + '잎을 무성하게 그린'))\n",
        "_5.append(os.listdir(dir + '꽃있음'))\n",
        "_6.append(os.listdir(dir + '그물'))\n",
        "_7.append(os.listdir(dir + '잎이 큰'))"
      ],
      "metadata": {
        "id": "mMS1kNRE6n4U"
      },
      "execution_count": 7,
      "outputs": []
    },
    {
      "cell_type": "code",
      "source": [
        "total_list = []\n",
        "total_list.append(os.listdir(dir + '열매있음'))\n",
        "total_list.append(os.listdir(dir +'윗쪽으로 뻗는'))\n",
        "total_list.append(os.listdir(dir + '잎이 안 큰'))\n",
        "total_list.append(os.listdir(dir + '잎을 무성하게 그린'))\n",
        "total_list.append(os.listdir(dir + '꽃있음'))\n",
        "total_list.append(os.listdir(dir + '그물'))\n",
        "total_list.append(os.listdir(dir + '잎이 큰'))\n",
        "# x = set(total_list)\n",
        "print(total_list)"
      ],
      "metadata": {
        "colab": {
          "base_uri": "https://localhost:8080/"
        },
        "id": "LADF7UJ9-5Rp",
        "outputId": "e88b9e5a-464d-4f94-cc06-96ecbae5291d"
      },
      "execution_count": 8,
      "outputs": [
        {
          "output_type": "stream",
          "name": "stdout",
          "text": [
            "[['잎13.png', '잎19.png', '잎24.png', '잎20.png', '잎33.png', '잎217.png', '잎229.png', '잎238.png', '잎255.png', '잎289.png', '잎365.png', '잎374.png', '잎376.png', '잎409.png', '잎411.png', '잎410.png', '잎412.png', '잎413.png', '잎414.png', '잎416.png', '잎417.png', '잎415.png', '잎419.png', '잎420.png', '잎424.png', '잎422.png', '잎423.png', '잎426.png', '잎427.png', '잎430.png', '잎431.png', '잎432.png', '잎434.png', '잎435.png', '잎436.png', '잎438.png', '잎437.png', '잎433.png', '잎440.png', '잎439.png', '잎442.png', '잎441.png', '잎445.png', '잎444.png', '잎443.png', '잎446.png', '잎496.png', '잎495.png', '잎493.png', '잎499.png', '잎498.png', '잎497.png', '잎501.png', '잎500.png', '잎503.png', '잎505.png', '잎506.png', '잎504.png', '잎509.png', '잎507.png', '잎508.png', '잎510.png', '잎513.png', '잎512.png', '잎511.png', '잎516.png', '잎515.png', '잎517.png', '잎518.png', '잎514.png', '잎519.png', '잎520.png', '잎523.png', '잎524.png', '잎522.png', '잎528.png', '잎529.png', '잎530.png', '잎533.png', '잎532.png', '잎531.png', '잎536.png', '잎534.png', '잎539.png', '잎537.png', '잎538.png', '잎542.png', '잎540.png', '잎545.png', '잎550.png', '잎551.png', '잎555.png', '잎562.png', '잎566.png', '잎569.png', '잎570.png'], ['잎28.png', '잎12.png', '잎18.png', '잎29.png', '잎23.png', '잎25.png', '잎41.png', '잎43.png', '잎45.png', '잎52.png', '잎64.png', '잎96.png', '잎111.png', '잎110.png', '잎131.png', '잎129.png', '잎135.png', '잎141.png', '잎151.png', '잎152.png', '잎154.png', '잎153.png', '잎156.png', '잎160.png', '잎206.png', '잎200.png', '잎201.png', '잎261.png', '잎264.png', '잎276.png', '잎281.png', '잎323.png', '잎328.png', '잎331.png', '잎334.png', '잎336.png', '잎355.png', '잎383.png', '잎381.png', '잎386.png', '잎392.png', '잎404.png', '잎406.png', '잎419.png', '잎487.png', '잎489.png', '잎516.png', '잎523.png', '잎530.png'], ['잎8.png', '잎22.png', '잎36.png', '잎35.png', '잎63.png', '잎120.png', '잎130.png', '잎136.png', '잎245.png', '잎248.png', '잎262.png', '잎264.png', '잎268.png', '잎275.png', '잎280.png', '잎284.png', '잎295.png', '잎332.png', '잎350.png', '잎362.png', '잎364.png', '잎386.png', '잎388.png', '잎391.png', '잎397.png', '잎471.png', '잎475.png', '잎477.png', '잎528.png', '잎527.png', '잎571.png', '잎572.png', '전체598.png', '전체596.png', '전체614.png', '전체624.png', '전체620.png', '전체621.png', '전체638.png', '전체651.png', '전체645.png'], ['전체43.png', '잎2.png', '잎8.png', '잎7.png', '잎17.png', '잎21.png', '잎14.png', '잎19.png', '잎18.png', '잎46.png', '잎66.png', '잎99.png', '잎120.png', '잎127.png', '잎130.png', '잎138.png', '잎141.png', '잎163.png', '잎221.png', '잎222.png', '잎228.png', '잎244.png', '잎245.png', '잎248.png', '잎263.png', '잎264.png', '잎284.png', '잎302.png', '잎303.png', '잎313.png', '잎299.png', '잎309.png', '잎295.png', '잎300.png', '잎322.png', '잎326.png', '잎332.png', '잎333.png', '잎334.png', '잎336.png', '잎339.png', '잎342.png', '잎349.png', '잎350.png', '잎352.png', '잎356.png', '잎354.png', '잎360.png', '잎364.png', '잎362.png', '잎382.png', '잎388.png', '잎386.png', '잎391.png', '잎397.png', '잎401.png', '잎407.png', '잎475.png', '잎477.png', '잎495.png', '잎506.png', '잎504.png', '잎518.png', '잎519.png', '잎520.png', '잎522.png', '잎523.png', '잎528.png', '잎534.png', '잎535.png', '잎537.png', '잎539.png', '잎549.png', '잎572.png', '전체618.png', '전체617.png', '전체632.png', '전체636.png', '전체647.png', '전체646.png', '전체640.png', '전체650.png', '전체613.png', '전체637.png', '전체672.png', '전체666.png', '전체668.png', '전체735.png', '전체773.png', '전체775.png', '전체774.png', '전체776.png', '전체778.png', '전체779.png', '전체781.png', '전체786.png', '전체782.png', '전체784.png', '전체771.png', '전체728.png', '전체730.png'], ['잎395.png', '잎394.png', '잎401.png', '잎559.png', '1.jpg', '2.jpg', '3.jpg', '4.jpg', '5.jpg', '6.jpg', '7.jpg', '8.jpg', '9.jpg', '10.jpg', '11.jpg', '12.jpg', '13.jpg', '15.jpg', '16.jpg', '17.jpg', '18.jpg', '19.jpg', '20.jpg', '21.jpg', '23.jpg', '24.jpg', '25.jpg', '26.jpg', '27.jpg', '28.jpg', '29.jpg', '30.jpg', '31.jpg', '32.jpg', '33.jpg', '34.jpg', '35.jpg', '36.jpg', '37.jpg', '38.jpg', '39.jpg', '40.jpg', '41.jpg', '42.jpg', '43.jpg', '44.jpg', '45.jpg', '46.jpg', '47.jpg', '48.jpg', '49.jpg', '50.jpg', '51.jpg', '52.jpg', '53.jpg', '54.jpg', '55.jpg', '56.jpg', '57.jpg', '58.jpg', '59.jpg', '60.jpg', '61.jpg', '62.jpg', '63.jpg', '64.jpg', '65.jpg', '66.jpg', '68.jpg', '67.jpg'], ['잎31.png', '잎28.png', '잎42.png', '잎47.png', '잎48.png', '잎72.png', '잎64.png', '잎77.png', '잎94.png', '잎92.png', '잎98.png', '잎119.png', '잎132.png', '잎149.png', '잎197.png', '잎196.png', '잎202.png', '잎236.png', '잎271.png', '잎282.png', '잎315.png', '잎297.png', '잎321.png', '잎331.png', '잎337.png', '잎340.png', '잎447.png', '잎448.png', '잎453.png', '잎452.png', '잎455.png', '잎454.png', '잎457.png', '잎458.png', '잎461.png', '잎462.png', '잎459.png', '잎465.png', '잎463.png', '잎464.png', '전체824.png'], ['잎3.png', '잎7.png', '잎18.png', '잎21.png', '잎19.png', '잎17.png', '잎70.png', '잎164.png', '잎157.png', '잎166.png', '잎177.png', '잎168.png', '잎203.png', '잎215.png', '잎238.png', '잎313.png', '잎299.png', '잎311.png', '잎298.png', '잎318.png', '잎354.png', '잎360.png', '잎365.png', '잎384.png', '잎495.png', '잎504.png', '잎506.png', '잎511.png', '잎513.png', '잎520.png', '잎519.png', '잎522.png', '잎523.png', '잎534.png', '잎535.png', '잎549.png', '전체609.png', '전체618.png', '전체783.png']]\n"
          ]
        }
      ]
    },
    {
      "cell_type": "code",
      "source": [
        "total_list = np.concatenate(total_list).tolist()\n",
        "print(total_list)"
      ],
      "metadata": {
        "colab": {
          "base_uri": "https://localhost:8080/"
        },
        "id": "voDO7lRZ_Pv_",
        "outputId": "e50caf55-5ae6-492f-80b0-32fcaf0eb760"
      },
      "execution_count": 9,
      "outputs": [
        {
          "output_type": "stream",
          "name": "stdout",
          "text": [
            "['잎13.png', '잎19.png', '잎24.png', '잎20.png', '잎33.png', '잎217.png', '잎229.png', '잎238.png', '잎255.png', '잎289.png', '잎365.png', '잎374.png', '잎376.png', '잎409.png', '잎411.png', '잎410.png', '잎412.png', '잎413.png', '잎414.png', '잎416.png', '잎417.png', '잎415.png', '잎419.png', '잎420.png', '잎424.png', '잎422.png', '잎423.png', '잎426.png', '잎427.png', '잎430.png', '잎431.png', '잎432.png', '잎434.png', '잎435.png', '잎436.png', '잎438.png', '잎437.png', '잎433.png', '잎440.png', '잎439.png', '잎442.png', '잎441.png', '잎445.png', '잎444.png', '잎443.png', '잎446.png', '잎496.png', '잎495.png', '잎493.png', '잎499.png', '잎498.png', '잎497.png', '잎501.png', '잎500.png', '잎503.png', '잎505.png', '잎506.png', '잎504.png', '잎509.png', '잎507.png', '잎508.png', '잎510.png', '잎513.png', '잎512.png', '잎511.png', '잎516.png', '잎515.png', '잎517.png', '잎518.png', '잎514.png', '잎519.png', '잎520.png', '잎523.png', '잎524.png', '잎522.png', '잎528.png', '잎529.png', '잎530.png', '잎533.png', '잎532.png', '잎531.png', '잎536.png', '잎534.png', '잎539.png', '잎537.png', '잎538.png', '잎542.png', '잎540.png', '잎545.png', '잎550.png', '잎551.png', '잎555.png', '잎562.png', '잎566.png', '잎569.png', '잎570.png', '잎28.png', '잎12.png', '잎18.png', '잎29.png', '잎23.png', '잎25.png', '잎41.png', '잎43.png', '잎45.png', '잎52.png', '잎64.png', '잎96.png', '잎111.png', '잎110.png', '잎131.png', '잎129.png', '잎135.png', '잎141.png', '잎151.png', '잎152.png', '잎154.png', '잎153.png', '잎156.png', '잎160.png', '잎206.png', '잎200.png', '잎201.png', '잎261.png', '잎264.png', '잎276.png', '잎281.png', '잎323.png', '잎328.png', '잎331.png', '잎334.png', '잎336.png', '잎355.png', '잎383.png', '잎381.png', '잎386.png', '잎392.png', '잎404.png', '잎406.png', '잎419.png', '잎487.png', '잎489.png', '잎516.png', '잎523.png', '잎530.png', '잎8.png', '잎22.png', '잎36.png', '잎35.png', '잎63.png', '잎120.png', '잎130.png', '잎136.png', '잎245.png', '잎248.png', '잎262.png', '잎264.png', '잎268.png', '잎275.png', '잎280.png', '잎284.png', '잎295.png', '잎332.png', '잎350.png', '잎362.png', '잎364.png', '잎386.png', '잎388.png', '잎391.png', '잎397.png', '잎471.png', '잎475.png', '잎477.png', '잎528.png', '잎527.png', '잎571.png', '잎572.png', '전체598.png', '전체596.png', '전체614.png', '전체624.png', '전체620.png', '전체621.png', '전체638.png', '전체651.png', '전체645.png', '전체43.png', '잎2.png', '잎8.png', '잎7.png', '잎17.png', '잎21.png', '잎14.png', '잎19.png', '잎18.png', '잎46.png', '잎66.png', '잎99.png', '잎120.png', '잎127.png', '잎130.png', '잎138.png', '잎141.png', '잎163.png', '잎221.png', '잎222.png', '잎228.png', '잎244.png', '잎245.png', '잎248.png', '잎263.png', '잎264.png', '잎284.png', '잎302.png', '잎303.png', '잎313.png', '잎299.png', '잎309.png', '잎295.png', '잎300.png', '잎322.png', '잎326.png', '잎332.png', '잎333.png', '잎334.png', '잎336.png', '잎339.png', '잎342.png', '잎349.png', '잎350.png', '잎352.png', '잎356.png', '잎354.png', '잎360.png', '잎364.png', '잎362.png', '잎382.png', '잎388.png', '잎386.png', '잎391.png', '잎397.png', '잎401.png', '잎407.png', '잎475.png', '잎477.png', '잎495.png', '잎506.png', '잎504.png', '잎518.png', '잎519.png', '잎520.png', '잎522.png', '잎523.png', '잎528.png', '잎534.png', '잎535.png', '잎537.png', '잎539.png', '잎549.png', '잎572.png', '전체618.png', '전체617.png', '전체632.png', '전체636.png', '전체647.png', '전체646.png', '전체640.png', '전체650.png', '전체613.png', '전체637.png', '전체672.png', '전체666.png', '전체668.png', '전체735.png', '전체773.png', '전체775.png', '전체774.png', '전체776.png', '전체778.png', '전체779.png', '전체781.png', '전체786.png', '전체782.png', '전체784.png', '전체771.png', '전체728.png', '전체730.png', '잎395.png', '잎394.png', '잎401.png', '잎559.png', '1.jpg', '2.jpg', '3.jpg', '4.jpg', '5.jpg', '6.jpg', '7.jpg', '8.jpg', '9.jpg', '10.jpg', '11.jpg', '12.jpg', '13.jpg', '15.jpg', '16.jpg', '17.jpg', '18.jpg', '19.jpg', '20.jpg', '21.jpg', '23.jpg', '24.jpg', '25.jpg', '26.jpg', '27.jpg', '28.jpg', '29.jpg', '30.jpg', '31.jpg', '32.jpg', '33.jpg', '34.jpg', '35.jpg', '36.jpg', '37.jpg', '38.jpg', '39.jpg', '40.jpg', '41.jpg', '42.jpg', '43.jpg', '44.jpg', '45.jpg', '46.jpg', '47.jpg', '48.jpg', '49.jpg', '50.jpg', '51.jpg', '52.jpg', '53.jpg', '54.jpg', '55.jpg', '56.jpg', '57.jpg', '58.jpg', '59.jpg', '60.jpg', '61.jpg', '62.jpg', '63.jpg', '64.jpg', '65.jpg', '66.jpg', '68.jpg', '67.jpg', '잎31.png', '잎28.png', '잎42.png', '잎47.png', '잎48.png', '잎72.png', '잎64.png', '잎77.png', '잎94.png', '잎92.png', '잎98.png', '잎119.png', '잎132.png', '잎149.png', '잎197.png', '잎196.png', '잎202.png', '잎236.png', '잎271.png', '잎282.png', '잎315.png', '잎297.png', '잎321.png', '잎331.png', '잎337.png', '잎340.png', '잎447.png', '잎448.png', '잎453.png', '잎452.png', '잎455.png', '잎454.png', '잎457.png', '잎458.png', '잎461.png', '잎462.png', '잎459.png', '잎465.png', '잎463.png', '잎464.png', '전체824.png', '잎3.png', '잎7.png', '잎18.png', '잎21.png', '잎19.png', '잎17.png', '잎70.png', '잎164.png', '잎157.png', '잎166.png', '잎177.png', '잎168.png', '잎203.png', '잎215.png', '잎238.png', '잎313.png', '잎299.png', '잎311.png', '잎298.png', '잎318.png', '잎354.png', '잎360.png', '잎365.png', '잎384.png', '잎495.png', '잎504.png', '잎506.png', '잎511.png', '잎513.png', '잎520.png', '잎519.png', '잎522.png', '잎523.png', '잎534.png', '잎535.png', '잎549.png', '전체609.png', '전체618.png', '전체783.png']\n"
          ]
        }
      ]
    },
    {
      "cell_type": "code",
      "source": [
        "_1 = np.concatenate(_1).tolist()\n",
        "_2 = np.concatenate(_2).tolist()\n",
        "_3 = np.concatenate(_3).tolist()\n",
        "_4 = np.concatenate(_4).tolist()\n",
        "_5 = np.concatenate(_5).tolist()\n",
        "_6 = np.concatenate(_6).tolist()\n",
        "_7 = np.concatenate(_7).tolist()"
      ],
      "metadata": {
        "id": "1S51CSVq8czV"
      },
      "execution_count": 10,
      "outputs": []
    },
    {
      "cell_type": "code",
      "source": [
        "df = pd.DataFrame({\n",
        "    'imgs' : total_list\n",
        "})"
      ],
      "metadata": {
        "id": "-OnwxyfM_cBp"
      },
      "execution_count": 11,
      "outputs": []
    },
    {
      "cell_type": "code",
      "source": [
        "df1 = pd.DataFrame({\n",
        "    '_1' : _1\n",
        "})\n",
        "df2 = pd.DataFrame({\n",
        "    '_2' : _2\n",
        "})\n",
        "df3 = pd.DataFrame({\n",
        "    '_3' : _3\n",
        "})\n",
        "df4 = pd.DataFrame({\n",
        "    '_4' : _4\n",
        "})\n",
        "df5 = pd.DataFrame({\n",
        "    '_5' : _5\n",
        "})\n",
        "df6 = pd.DataFrame({\n",
        "    '_6' : _6\n",
        "})\n",
        "df7 = pd.DataFrame({\n",
        "    '_7' : _7\n",
        "})"
      ],
      "metadata": {
        "id": "xH11NCEQ_2X4"
      },
      "execution_count": 12,
      "outputs": []
    },
    {
      "cell_type": "code",
      "source": [
        "result = pd.merge(df,df1, how='left', left_on='imgs', right_on='_1')\n",
        "result = pd.merge(result,df2, how='left', left_on='imgs', right_on='_2')\n",
        "result = pd.merge(result,df3, how='left', left_on='imgs', right_on='_3')\n",
        "result = pd.merge(result,df4, how='left', left_on='imgs', right_on='_4')\n",
        "result = pd.merge(result,df5, how='left', left_on='imgs', right_on='_5')\n",
        "result = pd.merge(result,df6, how='left', left_on='imgs', right_on='_6')\n",
        "result = pd.merge(result,df7, how='left', left_on='imgs', right_on='_7')"
      ],
      "metadata": {
        "id": "7JHB1So8ANKg"
      },
      "execution_count": 13,
      "outputs": []
    },
    {
      "cell_type": "code",
      "source": [
        "result = result.fillna(0)"
      ],
      "metadata": {
        "id": "xTwtGkWcANjn"
      },
      "execution_count": 14,
      "outputs": []
    },
    {
      "cell_type": "code",
      "source": [
        "result"
      ],
      "metadata": {
        "colab": {
          "base_uri": "https://localhost:8080/",
          "height": 423
        },
        "id": "TZL7Sz8YANqe",
        "outputId": "6a411c63-80e9-4162-849d-ccafa661c938"
      },
      "execution_count": 15,
      "outputs": [
        {
          "output_type": "execute_result",
          "data": {
            "text/plain": [
              "             imgs         _1 _2 _3            _4 _5 _6            _7\n",
              "0       잎13.png  잎13.png  0  0             0  0  0             0\n",
              "1       잎19.png  잎19.png  0  0     잎19.png  0  0     잎19.png\n",
              "2       잎24.png  잎24.png  0  0             0  0  0             0\n",
              "3       잎20.png  잎20.png  0  0             0  0  0             0\n",
              "4       잎33.png  잎33.png  0  0             0  0  0             0\n",
              "..            ...        ... .. ..           ... .. ..           ...\n",
              "432    잎535.png          0  0  0    잎535.png  0  0    잎535.png\n",
              "433    잎549.png          0  0  0    잎549.png  0  0    잎549.png\n",
              "434  전체609.png          0  0  0             0  0  0  전체609.png\n",
              "435  전체618.png          0  0  0  전체618.png  0  0  전체618.png\n",
              "436  전체783.png          0  0  0             0  0  0  전체783.png\n",
              "\n",
              "[437 rows x 8 columns]"
            ],
            "text/html": [
              "\n",
              "  <div id=\"df-b12c5b0b-88c3-42a1-9b76-cc3e9220ac7b\">\n",
              "    <div class=\"colab-df-container\">\n",
              "      <div>\n",
              "<style scoped>\n",
              "    .dataframe tbody tr th:only-of-type {\n",
              "        vertical-align: middle;\n",
              "    }\n",
              "\n",
              "    .dataframe tbody tr th {\n",
              "        vertical-align: top;\n",
              "    }\n",
              "\n",
              "    .dataframe thead th {\n",
              "        text-align: right;\n",
              "    }\n",
              "</style>\n",
              "<table border=\"1\" class=\"dataframe\">\n",
              "  <thead>\n",
              "    <tr style=\"text-align: right;\">\n",
              "      <th></th>\n",
              "      <th>imgs</th>\n",
              "      <th>_1</th>\n",
              "      <th>_2</th>\n",
              "      <th>_3</th>\n",
              "      <th>_4</th>\n",
              "      <th>_5</th>\n",
              "      <th>_6</th>\n",
              "      <th>_7</th>\n",
              "    </tr>\n",
              "  </thead>\n",
              "  <tbody>\n",
              "    <tr>\n",
              "      <th>0</th>\n",
              "      <td>잎13.png</td>\n",
              "      <td>잎13.png</td>\n",
              "      <td>0</td>\n",
              "      <td>0</td>\n",
              "      <td>0</td>\n",
              "      <td>0</td>\n",
              "      <td>0</td>\n",
              "      <td>0</td>\n",
              "    </tr>\n",
              "    <tr>\n",
              "      <th>1</th>\n",
              "      <td>잎19.png</td>\n",
              "      <td>잎19.png</td>\n",
              "      <td>0</td>\n",
              "      <td>0</td>\n",
              "      <td>잎19.png</td>\n",
              "      <td>0</td>\n",
              "      <td>0</td>\n",
              "      <td>잎19.png</td>\n",
              "    </tr>\n",
              "    <tr>\n",
              "      <th>2</th>\n",
              "      <td>잎24.png</td>\n",
              "      <td>잎24.png</td>\n",
              "      <td>0</td>\n",
              "      <td>0</td>\n",
              "      <td>0</td>\n",
              "      <td>0</td>\n",
              "      <td>0</td>\n",
              "      <td>0</td>\n",
              "    </tr>\n",
              "    <tr>\n",
              "      <th>3</th>\n",
              "      <td>잎20.png</td>\n",
              "      <td>잎20.png</td>\n",
              "      <td>0</td>\n",
              "      <td>0</td>\n",
              "      <td>0</td>\n",
              "      <td>0</td>\n",
              "      <td>0</td>\n",
              "      <td>0</td>\n",
              "    </tr>\n",
              "    <tr>\n",
              "      <th>4</th>\n",
              "      <td>잎33.png</td>\n",
              "      <td>잎33.png</td>\n",
              "      <td>0</td>\n",
              "      <td>0</td>\n",
              "      <td>0</td>\n",
              "      <td>0</td>\n",
              "      <td>0</td>\n",
              "      <td>0</td>\n",
              "    </tr>\n",
              "    <tr>\n",
              "      <th>...</th>\n",
              "      <td>...</td>\n",
              "      <td>...</td>\n",
              "      <td>...</td>\n",
              "      <td>...</td>\n",
              "      <td>...</td>\n",
              "      <td>...</td>\n",
              "      <td>...</td>\n",
              "      <td>...</td>\n",
              "    </tr>\n",
              "    <tr>\n",
              "      <th>432</th>\n",
              "      <td>잎535.png</td>\n",
              "      <td>0</td>\n",
              "      <td>0</td>\n",
              "      <td>0</td>\n",
              "      <td>잎535.png</td>\n",
              "      <td>0</td>\n",
              "      <td>0</td>\n",
              "      <td>잎535.png</td>\n",
              "    </tr>\n",
              "    <tr>\n",
              "      <th>433</th>\n",
              "      <td>잎549.png</td>\n",
              "      <td>0</td>\n",
              "      <td>0</td>\n",
              "      <td>0</td>\n",
              "      <td>잎549.png</td>\n",
              "      <td>0</td>\n",
              "      <td>0</td>\n",
              "      <td>잎549.png</td>\n",
              "    </tr>\n",
              "    <tr>\n",
              "      <th>434</th>\n",
              "      <td>전체609.png</td>\n",
              "      <td>0</td>\n",
              "      <td>0</td>\n",
              "      <td>0</td>\n",
              "      <td>0</td>\n",
              "      <td>0</td>\n",
              "      <td>0</td>\n",
              "      <td>전체609.png</td>\n",
              "    </tr>\n",
              "    <tr>\n",
              "      <th>435</th>\n",
              "      <td>전체618.png</td>\n",
              "      <td>0</td>\n",
              "      <td>0</td>\n",
              "      <td>0</td>\n",
              "      <td>전체618.png</td>\n",
              "      <td>0</td>\n",
              "      <td>0</td>\n",
              "      <td>전체618.png</td>\n",
              "    </tr>\n",
              "    <tr>\n",
              "      <th>436</th>\n",
              "      <td>전체783.png</td>\n",
              "      <td>0</td>\n",
              "      <td>0</td>\n",
              "      <td>0</td>\n",
              "      <td>0</td>\n",
              "      <td>0</td>\n",
              "      <td>0</td>\n",
              "      <td>전체783.png</td>\n",
              "    </tr>\n",
              "  </tbody>\n",
              "</table>\n",
              "<p>437 rows × 8 columns</p>\n",
              "</div>\n",
              "      <button class=\"colab-df-convert\" onclick=\"convertToInteractive('df-b12c5b0b-88c3-42a1-9b76-cc3e9220ac7b')\"\n",
              "              title=\"Convert this dataframe to an interactive table.\"\n",
              "              style=\"display:none;\">\n",
              "        \n",
              "  <svg xmlns=\"http://www.w3.org/2000/svg\" height=\"24px\"viewBox=\"0 0 24 24\"\n",
              "       width=\"24px\">\n",
              "    <path d=\"M0 0h24v24H0V0z\" fill=\"none\"/>\n",
              "    <path d=\"M18.56 5.44l.94 2.06.94-2.06 2.06-.94-2.06-.94-.94-2.06-.94 2.06-2.06.94zm-11 1L8.5 8.5l.94-2.06 2.06-.94-2.06-.94L8.5 2.5l-.94 2.06-2.06.94zm10 10l.94 2.06.94-2.06 2.06-.94-2.06-.94-.94-2.06-.94 2.06-2.06.94z\"/><path d=\"M17.41 7.96l-1.37-1.37c-.4-.4-.92-.59-1.43-.59-.52 0-1.04.2-1.43.59L10.3 9.45l-7.72 7.72c-.78.78-.78 2.05 0 2.83L4 21.41c.39.39.9.59 1.41.59.51 0 1.02-.2 1.41-.59l7.78-7.78 2.81-2.81c.8-.78.8-2.07 0-2.86zM5.41 20L4 18.59l7.72-7.72 1.47 1.35L5.41 20z\"/>\n",
              "  </svg>\n",
              "      </button>\n",
              "      \n",
              "  <style>\n",
              "    .colab-df-container {\n",
              "      display:flex;\n",
              "      flex-wrap:wrap;\n",
              "      gap: 12px;\n",
              "    }\n",
              "\n",
              "    .colab-df-convert {\n",
              "      background-color: #E8F0FE;\n",
              "      border: none;\n",
              "      border-radius: 50%;\n",
              "      cursor: pointer;\n",
              "      display: none;\n",
              "      fill: #1967D2;\n",
              "      height: 32px;\n",
              "      padding: 0 0 0 0;\n",
              "      width: 32px;\n",
              "    }\n",
              "\n",
              "    .colab-df-convert:hover {\n",
              "      background-color: #E2EBFA;\n",
              "      box-shadow: 0px 1px 2px rgba(60, 64, 67, 0.3), 0px 1px 3px 1px rgba(60, 64, 67, 0.15);\n",
              "      fill: #174EA6;\n",
              "    }\n",
              "\n",
              "    [theme=dark] .colab-df-convert {\n",
              "      background-color: #3B4455;\n",
              "      fill: #D2E3FC;\n",
              "    }\n",
              "\n",
              "    [theme=dark] .colab-df-convert:hover {\n",
              "      background-color: #434B5C;\n",
              "      box-shadow: 0px 1px 3px 1px rgba(0, 0, 0, 0.15);\n",
              "      filter: drop-shadow(0px 1px 2px rgba(0, 0, 0, 0.3));\n",
              "      fill: #FFFFFF;\n",
              "    }\n",
              "  </style>\n",
              "\n",
              "      <script>\n",
              "        const buttonEl =\n",
              "          document.querySelector('#df-b12c5b0b-88c3-42a1-9b76-cc3e9220ac7b button.colab-df-convert');\n",
              "        buttonEl.style.display =\n",
              "          google.colab.kernel.accessAllowed ? 'block' : 'none';\n",
              "\n",
              "        async function convertToInteractive(key) {\n",
              "          const element = document.querySelector('#df-b12c5b0b-88c3-42a1-9b76-cc3e9220ac7b');\n",
              "          const dataTable =\n",
              "            await google.colab.kernel.invokeFunction('convertToInteractive',\n",
              "                                                     [key], {});\n",
              "          if (!dataTable) return;\n",
              "\n",
              "          const docLinkHtml = 'Like what you see? Visit the ' +\n",
              "            '<a target=\"_blank\" href=https://colab.research.google.com/notebooks/data_table.ipynb>data table notebook</a>'\n",
              "            + ' to learn more about interactive tables.';\n",
              "          element.innerHTML = '';\n",
              "          dataTable['output_type'] = 'display_data';\n",
              "          await google.colab.output.renderOutput(dataTable, element);\n",
              "          const docLink = document.createElement('div');\n",
              "          docLink.innerHTML = docLinkHtml;\n",
              "          element.appendChild(docLink);\n",
              "        }\n",
              "      </script>\n",
              "    </div>\n",
              "  </div>\n",
              "  "
            ]
          },
          "metadata": {},
          "execution_count": 15
        }
      ]
    },
    {
      "cell_type": "code",
      "source": [
        "def binary(data):\n",
        "    if data != 0:\n",
        "        data = 1\n",
        "        return data\n",
        "    else:\n",
        "        return data\n",
        "result['_1'] = result['_1'].apply(binary)\n",
        "result['_2'] = result['_2'].apply(binary)\n",
        "result['_3'] = result['_3'].apply(binary)\n",
        "result['_4'] = result['_4'].apply(binary)\n",
        "result['_5'] = result['_5'].apply(binary)\n",
        "result['_6'] = result['_6'].apply(binary)\n",
        "result['_7'] = result['_7'].apply(binary)"
      ],
      "metadata": {
        "id": "PmfI6UJPC1iM"
      },
      "execution_count": 16,
      "outputs": []
    },
    {
      "cell_type": "code",
      "source": [
        "result"
      ],
      "metadata": {
        "colab": {
          "base_uri": "https://localhost:8080/",
          "height": 423
        },
        "id": "SkV-uNMyANtI",
        "outputId": "7298d428-948e-4e8e-e499-10892b63e1f9"
      },
      "execution_count": 17,
      "outputs": [
        {
          "output_type": "execute_result",
          "data": {
            "text/plain": [
              "             imgs  _1  _2  _3  _4  _5  _6  _7\n",
              "0       잎13.png   1   0   0   0   0   0   0\n",
              "1       잎19.png   1   0   0   1   0   0   1\n",
              "2       잎24.png   1   0   0   0   0   0   0\n",
              "3       잎20.png   1   0   0   0   0   0   0\n",
              "4       잎33.png   1   0   0   0   0   0   0\n",
              "..            ...  ..  ..  ..  ..  ..  ..  ..\n",
              "432    잎535.png   0   0   0   1   0   0   1\n",
              "433    잎549.png   0   0   0   1   0   0   1\n",
              "434  전체609.png   0   0   0   0   0   0   1\n",
              "435  전체618.png   0   0   0   1   0   0   1\n",
              "436  전체783.png   0   0   0   0   0   0   1\n",
              "\n",
              "[437 rows x 8 columns]"
            ],
            "text/html": [
              "\n",
              "  <div id=\"df-f86ea3ef-6e4a-400f-8ae7-678761dc76ec\">\n",
              "    <div class=\"colab-df-container\">\n",
              "      <div>\n",
              "<style scoped>\n",
              "    .dataframe tbody tr th:only-of-type {\n",
              "        vertical-align: middle;\n",
              "    }\n",
              "\n",
              "    .dataframe tbody tr th {\n",
              "        vertical-align: top;\n",
              "    }\n",
              "\n",
              "    .dataframe thead th {\n",
              "        text-align: right;\n",
              "    }\n",
              "</style>\n",
              "<table border=\"1\" class=\"dataframe\">\n",
              "  <thead>\n",
              "    <tr style=\"text-align: right;\">\n",
              "      <th></th>\n",
              "      <th>imgs</th>\n",
              "      <th>_1</th>\n",
              "      <th>_2</th>\n",
              "      <th>_3</th>\n",
              "      <th>_4</th>\n",
              "      <th>_5</th>\n",
              "      <th>_6</th>\n",
              "      <th>_7</th>\n",
              "    </tr>\n",
              "  </thead>\n",
              "  <tbody>\n",
              "    <tr>\n",
              "      <th>0</th>\n",
              "      <td>잎13.png</td>\n",
              "      <td>1</td>\n",
              "      <td>0</td>\n",
              "      <td>0</td>\n",
              "      <td>0</td>\n",
              "      <td>0</td>\n",
              "      <td>0</td>\n",
              "      <td>0</td>\n",
              "    </tr>\n",
              "    <tr>\n",
              "      <th>1</th>\n",
              "      <td>잎19.png</td>\n",
              "      <td>1</td>\n",
              "      <td>0</td>\n",
              "      <td>0</td>\n",
              "      <td>1</td>\n",
              "      <td>0</td>\n",
              "      <td>0</td>\n",
              "      <td>1</td>\n",
              "    </tr>\n",
              "    <tr>\n",
              "      <th>2</th>\n",
              "      <td>잎24.png</td>\n",
              "      <td>1</td>\n",
              "      <td>0</td>\n",
              "      <td>0</td>\n",
              "      <td>0</td>\n",
              "      <td>0</td>\n",
              "      <td>0</td>\n",
              "      <td>0</td>\n",
              "    </tr>\n",
              "    <tr>\n",
              "      <th>3</th>\n",
              "      <td>잎20.png</td>\n",
              "      <td>1</td>\n",
              "      <td>0</td>\n",
              "      <td>0</td>\n",
              "      <td>0</td>\n",
              "      <td>0</td>\n",
              "      <td>0</td>\n",
              "      <td>0</td>\n",
              "    </tr>\n",
              "    <tr>\n",
              "      <th>4</th>\n",
              "      <td>잎33.png</td>\n",
              "      <td>1</td>\n",
              "      <td>0</td>\n",
              "      <td>0</td>\n",
              "      <td>0</td>\n",
              "      <td>0</td>\n",
              "      <td>0</td>\n",
              "      <td>0</td>\n",
              "    </tr>\n",
              "    <tr>\n",
              "      <th>...</th>\n",
              "      <td>...</td>\n",
              "      <td>...</td>\n",
              "      <td>...</td>\n",
              "      <td>...</td>\n",
              "      <td>...</td>\n",
              "      <td>...</td>\n",
              "      <td>...</td>\n",
              "      <td>...</td>\n",
              "    </tr>\n",
              "    <tr>\n",
              "      <th>432</th>\n",
              "      <td>잎535.png</td>\n",
              "      <td>0</td>\n",
              "      <td>0</td>\n",
              "      <td>0</td>\n",
              "      <td>1</td>\n",
              "      <td>0</td>\n",
              "      <td>0</td>\n",
              "      <td>1</td>\n",
              "    </tr>\n",
              "    <tr>\n",
              "      <th>433</th>\n",
              "      <td>잎549.png</td>\n",
              "      <td>0</td>\n",
              "      <td>0</td>\n",
              "      <td>0</td>\n",
              "      <td>1</td>\n",
              "      <td>0</td>\n",
              "      <td>0</td>\n",
              "      <td>1</td>\n",
              "    </tr>\n",
              "    <tr>\n",
              "      <th>434</th>\n",
              "      <td>전체609.png</td>\n",
              "      <td>0</td>\n",
              "      <td>0</td>\n",
              "      <td>0</td>\n",
              "      <td>0</td>\n",
              "      <td>0</td>\n",
              "      <td>0</td>\n",
              "      <td>1</td>\n",
              "    </tr>\n",
              "    <tr>\n",
              "      <th>435</th>\n",
              "      <td>전체618.png</td>\n",
              "      <td>0</td>\n",
              "      <td>0</td>\n",
              "      <td>0</td>\n",
              "      <td>1</td>\n",
              "      <td>0</td>\n",
              "      <td>0</td>\n",
              "      <td>1</td>\n",
              "    </tr>\n",
              "    <tr>\n",
              "      <th>436</th>\n",
              "      <td>전체783.png</td>\n",
              "      <td>0</td>\n",
              "      <td>0</td>\n",
              "      <td>0</td>\n",
              "      <td>0</td>\n",
              "      <td>0</td>\n",
              "      <td>0</td>\n",
              "      <td>1</td>\n",
              "    </tr>\n",
              "  </tbody>\n",
              "</table>\n",
              "<p>437 rows × 8 columns</p>\n",
              "</div>\n",
              "      <button class=\"colab-df-convert\" onclick=\"convertToInteractive('df-f86ea3ef-6e4a-400f-8ae7-678761dc76ec')\"\n",
              "              title=\"Convert this dataframe to an interactive table.\"\n",
              "              style=\"display:none;\">\n",
              "        \n",
              "  <svg xmlns=\"http://www.w3.org/2000/svg\" height=\"24px\"viewBox=\"0 0 24 24\"\n",
              "       width=\"24px\">\n",
              "    <path d=\"M0 0h24v24H0V0z\" fill=\"none\"/>\n",
              "    <path d=\"M18.56 5.44l.94 2.06.94-2.06 2.06-.94-2.06-.94-.94-2.06-.94 2.06-2.06.94zm-11 1L8.5 8.5l.94-2.06 2.06-.94-2.06-.94L8.5 2.5l-.94 2.06-2.06.94zm10 10l.94 2.06.94-2.06 2.06-.94-2.06-.94-.94-2.06-.94 2.06-2.06.94z\"/><path d=\"M17.41 7.96l-1.37-1.37c-.4-.4-.92-.59-1.43-.59-.52 0-1.04.2-1.43.59L10.3 9.45l-7.72 7.72c-.78.78-.78 2.05 0 2.83L4 21.41c.39.39.9.59 1.41.59.51 0 1.02-.2 1.41-.59l7.78-7.78 2.81-2.81c.8-.78.8-2.07 0-2.86zM5.41 20L4 18.59l7.72-7.72 1.47 1.35L5.41 20z\"/>\n",
              "  </svg>\n",
              "      </button>\n",
              "      \n",
              "  <style>\n",
              "    .colab-df-container {\n",
              "      display:flex;\n",
              "      flex-wrap:wrap;\n",
              "      gap: 12px;\n",
              "    }\n",
              "\n",
              "    .colab-df-convert {\n",
              "      background-color: #E8F0FE;\n",
              "      border: none;\n",
              "      border-radius: 50%;\n",
              "      cursor: pointer;\n",
              "      display: none;\n",
              "      fill: #1967D2;\n",
              "      height: 32px;\n",
              "      padding: 0 0 0 0;\n",
              "      width: 32px;\n",
              "    }\n",
              "\n",
              "    .colab-df-convert:hover {\n",
              "      background-color: #E2EBFA;\n",
              "      box-shadow: 0px 1px 2px rgba(60, 64, 67, 0.3), 0px 1px 3px 1px rgba(60, 64, 67, 0.15);\n",
              "      fill: #174EA6;\n",
              "    }\n",
              "\n",
              "    [theme=dark] .colab-df-convert {\n",
              "      background-color: #3B4455;\n",
              "      fill: #D2E3FC;\n",
              "    }\n",
              "\n",
              "    [theme=dark] .colab-df-convert:hover {\n",
              "      background-color: #434B5C;\n",
              "      box-shadow: 0px 1px 3px 1px rgba(0, 0, 0, 0.15);\n",
              "      filter: drop-shadow(0px 1px 2px rgba(0, 0, 0, 0.3));\n",
              "      fill: #FFFFFF;\n",
              "    }\n",
              "  </style>\n",
              "\n",
              "      <script>\n",
              "        const buttonEl =\n",
              "          document.querySelector('#df-f86ea3ef-6e4a-400f-8ae7-678761dc76ec button.colab-df-convert');\n",
              "        buttonEl.style.display =\n",
              "          google.colab.kernel.accessAllowed ? 'block' : 'none';\n",
              "\n",
              "        async function convertToInteractive(key) {\n",
              "          const element = document.querySelector('#df-f86ea3ef-6e4a-400f-8ae7-678761dc76ec');\n",
              "          const dataTable =\n",
              "            await google.colab.kernel.invokeFunction('convertToInteractive',\n",
              "                                                     [key], {});\n",
              "          if (!dataTable) return;\n",
              "\n",
              "          const docLinkHtml = 'Like what you see? Visit the ' +\n",
              "            '<a target=\"_blank\" href=https://colab.research.google.com/notebooks/data_table.ipynb>data table notebook</a>'\n",
              "            + ' to learn more about interactive tables.';\n",
              "          element.innerHTML = '';\n",
              "          dataTable['output_type'] = 'display_data';\n",
              "          await google.colab.output.renderOutput(dataTable, element);\n",
              "          const docLink = document.createElement('div');\n",
              "          docLink.innerHTML = docLinkHtml;\n",
              "          element.appendChild(docLink);\n",
              "        }\n",
              "      </script>\n",
              "    </div>\n",
              "  </div>\n",
              "  "
            ]
          },
          "metadata": {},
          "execution_count": 17
        }
      ]
    },
    {
      "cell_type": "code",
      "source": [
        "_1.append(os.listdir(dir + '열매있음'))\n",
        "_2.append(os.listdir(dir +'윗쪽으로 뻗는'))\n",
        "_3.append(os.listdir(dir + '잎이 안 큰'))\n",
        "_4.append(os.listdir(dir + '잎을 무성하게 그린'))\n",
        "_5.append(os.listdir(dir + '꽃있음'))\n",
        "_6.append(os.listdir(dir + '그물'))\n",
        "_7.append(os.listdir(dir + '잎이 큰'))\n",
        "\n",
        "result.columns = ['imgs', '열매있음','윗쪽으로 뻗는','잎이 안 큰','잎을 무성하게 그린','꽃있음', '그물', '잎이 큰']"
      ],
      "metadata": {
        "id": "L4bvtPQAANvA"
      },
      "execution_count": 18,
      "outputs": []
    },
    {
      "cell_type": "code",
      "source": [
        "result"
      ],
      "metadata": {
        "colab": {
          "base_uri": "https://localhost:8080/",
          "height": 423
        },
        "id": "Kf0ksNpa_2vw",
        "outputId": "0df1f877-d74c-4533-8ed9-b576734c7690"
      },
      "execution_count": 19,
      "outputs": [
        {
          "output_type": "execute_result",
          "data": {
            "text/plain": [
              "             imgs  열매있음  윗쪽으로 뻗는  잎이 안 큰  잎을 무성하게 그린  꽃있음  그물  잎이 큰\n",
              "0       잎13.png     1        0       0           0    0   0     0\n",
              "1       잎19.png     1        0       0           1    0   0     1\n",
              "2       잎24.png     1        0       0           0    0   0     0\n",
              "3       잎20.png     1        0       0           0    0   0     0\n",
              "4       잎33.png     1        0       0           0    0   0     0\n",
              "..            ...   ...      ...     ...         ...  ...  ..   ...\n",
              "432    잎535.png     0        0       0           1    0   0     1\n",
              "433    잎549.png     0        0       0           1    0   0     1\n",
              "434  전체609.png     0        0       0           0    0   0     1\n",
              "435  전체618.png     0        0       0           1    0   0     1\n",
              "436  전체783.png     0        0       0           0    0   0     1\n",
              "\n",
              "[437 rows x 8 columns]"
            ],
            "text/html": [
              "\n",
              "  <div id=\"df-fafbabbd-030b-4415-a1f2-ee27c4102625\">\n",
              "    <div class=\"colab-df-container\">\n",
              "      <div>\n",
              "<style scoped>\n",
              "    .dataframe tbody tr th:only-of-type {\n",
              "        vertical-align: middle;\n",
              "    }\n",
              "\n",
              "    .dataframe tbody tr th {\n",
              "        vertical-align: top;\n",
              "    }\n",
              "\n",
              "    .dataframe thead th {\n",
              "        text-align: right;\n",
              "    }\n",
              "</style>\n",
              "<table border=\"1\" class=\"dataframe\">\n",
              "  <thead>\n",
              "    <tr style=\"text-align: right;\">\n",
              "      <th></th>\n",
              "      <th>imgs</th>\n",
              "      <th>열매있음</th>\n",
              "      <th>윗쪽으로 뻗는</th>\n",
              "      <th>잎이 안 큰</th>\n",
              "      <th>잎을 무성하게 그린</th>\n",
              "      <th>꽃있음</th>\n",
              "      <th>그물</th>\n",
              "      <th>잎이 큰</th>\n",
              "    </tr>\n",
              "  </thead>\n",
              "  <tbody>\n",
              "    <tr>\n",
              "      <th>0</th>\n",
              "      <td>잎13.png</td>\n",
              "      <td>1</td>\n",
              "      <td>0</td>\n",
              "      <td>0</td>\n",
              "      <td>0</td>\n",
              "      <td>0</td>\n",
              "      <td>0</td>\n",
              "      <td>0</td>\n",
              "    </tr>\n",
              "    <tr>\n",
              "      <th>1</th>\n",
              "      <td>잎19.png</td>\n",
              "      <td>1</td>\n",
              "      <td>0</td>\n",
              "      <td>0</td>\n",
              "      <td>1</td>\n",
              "      <td>0</td>\n",
              "      <td>0</td>\n",
              "      <td>1</td>\n",
              "    </tr>\n",
              "    <tr>\n",
              "      <th>2</th>\n",
              "      <td>잎24.png</td>\n",
              "      <td>1</td>\n",
              "      <td>0</td>\n",
              "      <td>0</td>\n",
              "      <td>0</td>\n",
              "      <td>0</td>\n",
              "      <td>0</td>\n",
              "      <td>0</td>\n",
              "    </tr>\n",
              "    <tr>\n",
              "      <th>3</th>\n",
              "      <td>잎20.png</td>\n",
              "      <td>1</td>\n",
              "      <td>0</td>\n",
              "      <td>0</td>\n",
              "      <td>0</td>\n",
              "      <td>0</td>\n",
              "      <td>0</td>\n",
              "      <td>0</td>\n",
              "    </tr>\n",
              "    <tr>\n",
              "      <th>4</th>\n",
              "      <td>잎33.png</td>\n",
              "      <td>1</td>\n",
              "      <td>0</td>\n",
              "      <td>0</td>\n",
              "      <td>0</td>\n",
              "      <td>0</td>\n",
              "      <td>0</td>\n",
              "      <td>0</td>\n",
              "    </tr>\n",
              "    <tr>\n",
              "      <th>...</th>\n",
              "      <td>...</td>\n",
              "      <td>...</td>\n",
              "      <td>...</td>\n",
              "      <td>...</td>\n",
              "      <td>...</td>\n",
              "      <td>...</td>\n",
              "      <td>...</td>\n",
              "      <td>...</td>\n",
              "    </tr>\n",
              "    <tr>\n",
              "      <th>432</th>\n",
              "      <td>잎535.png</td>\n",
              "      <td>0</td>\n",
              "      <td>0</td>\n",
              "      <td>0</td>\n",
              "      <td>1</td>\n",
              "      <td>0</td>\n",
              "      <td>0</td>\n",
              "      <td>1</td>\n",
              "    </tr>\n",
              "    <tr>\n",
              "      <th>433</th>\n",
              "      <td>잎549.png</td>\n",
              "      <td>0</td>\n",
              "      <td>0</td>\n",
              "      <td>0</td>\n",
              "      <td>1</td>\n",
              "      <td>0</td>\n",
              "      <td>0</td>\n",
              "      <td>1</td>\n",
              "    </tr>\n",
              "    <tr>\n",
              "      <th>434</th>\n",
              "      <td>전체609.png</td>\n",
              "      <td>0</td>\n",
              "      <td>0</td>\n",
              "      <td>0</td>\n",
              "      <td>0</td>\n",
              "      <td>0</td>\n",
              "      <td>0</td>\n",
              "      <td>1</td>\n",
              "    </tr>\n",
              "    <tr>\n",
              "      <th>435</th>\n",
              "      <td>전체618.png</td>\n",
              "      <td>0</td>\n",
              "      <td>0</td>\n",
              "      <td>0</td>\n",
              "      <td>1</td>\n",
              "      <td>0</td>\n",
              "      <td>0</td>\n",
              "      <td>1</td>\n",
              "    </tr>\n",
              "    <tr>\n",
              "      <th>436</th>\n",
              "      <td>전체783.png</td>\n",
              "      <td>0</td>\n",
              "      <td>0</td>\n",
              "      <td>0</td>\n",
              "      <td>0</td>\n",
              "      <td>0</td>\n",
              "      <td>0</td>\n",
              "      <td>1</td>\n",
              "    </tr>\n",
              "  </tbody>\n",
              "</table>\n",
              "<p>437 rows × 8 columns</p>\n",
              "</div>\n",
              "      <button class=\"colab-df-convert\" onclick=\"convertToInteractive('df-fafbabbd-030b-4415-a1f2-ee27c4102625')\"\n",
              "              title=\"Convert this dataframe to an interactive table.\"\n",
              "              style=\"display:none;\">\n",
              "        \n",
              "  <svg xmlns=\"http://www.w3.org/2000/svg\" height=\"24px\"viewBox=\"0 0 24 24\"\n",
              "       width=\"24px\">\n",
              "    <path d=\"M0 0h24v24H0V0z\" fill=\"none\"/>\n",
              "    <path d=\"M18.56 5.44l.94 2.06.94-2.06 2.06-.94-2.06-.94-.94-2.06-.94 2.06-2.06.94zm-11 1L8.5 8.5l.94-2.06 2.06-.94-2.06-.94L8.5 2.5l-.94 2.06-2.06.94zm10 10l.94 2.06.94-2.06 2.06-.94-2.06-.94-.94-2.06-.94 2.06-2.06.94z\"/><path d=\"M17.41 7.96l-1.37-1.37c-.4-.4-.92-.59-1.43-.59-.52 0-1.04.2-1.43.59L10.3 9.45l-7.72 7.72c-.78.78-.78 2.05 0 2.83L4 21.41c.39.39.9.59 1.41.59.51 0 1.02-.2 1.41-.59l7.78-7.78 2.81-2.81c.8-.78.8-2.07 0-2.86zM5.41 20L4 18.59l7.72-7.72 1.47 1.35L5.41 20z\"/>\n",
              "  </svg>\n",
              "      </button>\n",
              "      \n",
              "  <style>\n",
              "    .colab-df-container {\n",
              "      display:flex;\n",
              "      flex-wrap:wrap;\n",
              "      gap: 12px;\n",
              "    }\n",
              "\n",
              "    .colab-df-convert {\n",
              "      background-color: #E8F0FE;\n",
              "      border: none;\n",
              "      border-radius: 50%;\n",
              "      cursor: pointer;\n",
              "      display: none;\n",
              "      fill: #1967D2;\n",
              "      height: 32px;\n",
              "      padding: 0 0 0 0;\n",
              "      width: 32px;\n",
              "    }\n",
              "\n",
              "    .colab-df-convert:hover {\n",
              "      background-color: #E2EBFA;\n",
              "      box-shadow: 0px 1px 2px rgba(60, 64, 67, 0.3), 0px 1px 3px 1px rgba(60, 64, 67, 0.15);\n",
              "      fill: #174EA6;\n",
              "    }\n",
              "\n",
              "    [theme=dark] .colab-df-convert {\n",
              "      background-color: #3B4455;\n",
              "      fill: #D2E3FC;\n",
              "    }\n",
              "\n",
              "    [theme=dark] .colab-df-convert:hover {\n",
              "      background-color: #434B5C;\n",
              "      box-shadow: 0px 1px 3px 1px rgba(0, 0, 0, 0.15);\n",
              "      filter: drop-shadow(0px 1px 2px rgba(0, 0, 0, 0.3));\n",
              "      fill: #FFFFFF;\n",
              "    }\n",
              "  </style>\n",
              "\n",
              "      <script>\n",
              "        const buttonEl =\n",
              "          document.querySelector('#df-fafbabbd-030b-4415-a1f2-ee27c4102625 button.colab-df-convert');\n",
              "        buttonEl.style.display =\n",
              "          google.colab.kernel.accessAllowed ? 'block' : 'none';\n",
              "\n",
              "        async function convertToInteractive(key) {\n",
              "          const element = document.querySelector('#df-fafbabbd-030b-4415-a1f2-ee27c4102625');\n",
              "          const dataTable =\n",
              "            await google.colab.kernel.invokeFunction('convertToInteractive',\n",
              "                                                     [key], {});\n",
              "          if (!dataTable) return;\n",
              "\n",
              "          const docLinkHtml = 'Like what you see? Visit the ' +\n",
              "            '<a target=\"_blank\" href=https://colab.research.google.com/notebooks/data_table.ipynb>data table notebook</a>'\n",
              "            + ' to learn more about interactive tables.';\n",
              "          element.innerHTML = '';\n",
              "          dataTable['output_type'] = 'display_data';\n",
              "          await google.colab.output.renderOutput(dataTable, element);\n",
              "          const docLink = document.createElement('div');\n",
              "          docLink.innerHTML = docLinkHtml;\n",
              "          element.appendChild(docLink);\n",
              "        }\n",
              "      </script>\n",
              "    </div>\n",
              "  </div>\n",
              "  "
            ]
          },
          "metadata": {},
          "execution_count": 19
        }
      ]
    },
    {
      "cell_type": "code",
      "source": [
        "result.iloc[227:229]"
      ],
      "metadata": {
        "colab": {
          "base_uri": "https://localhost:8080/",
          "height": 112
        },
        "id": "9oRSXSvPPryP",
        "outputId": "b260deef-3175-4e8c-e02f-fed7cd043227"
      },
      "execution_count": 20,
      "outputs": [
        {
          "output_type": "execute_result",
          "data": {
            "text/plain": [
              "           imgs  열매있음  윗쪽으로 뻗는  잎이 안 큰  잎을 무성하게 그린  꽃있음  그물  잎이 큰\n",
              "227  잎342.png     0        0       0           1    0   0     0\n",
              "228  잎349.png     0        0       0           1    0   0     0"
            ],
            "text/html": [
              "\n",
              "  <div id=\"df-5aa83582-b3bb-4097-8c5a-d31e8438780a\">\n",
              "    <div class=\"colab-df-container\">\n",
              "      <div>\n",
              "<style scoped>\n",
              "    .dataframe tbody tr th:only-of-type {\n",
              "        vertical-align: middle;\n",
              "    }\n",
              "\n",
              "    .dataframe tbody tr th {\n",
              "        vertical-align: top;\n",
              "    }\n",
              "\n",
              "    .dataframe thead th {\n",
              "        text-align: right;\n",
              "    }\n",
              "</style>\n",
              "<table border=\"1\" class=\"dataframe\">\n",
              "  <thead>\n",
              "    <tr style=\"text-align: right;\">\n",
              "      <th></th>\n",
              "      <th>imgs</th>\n",
              "      <th>열매있음</th>\n",
              "      <th>윗쪽으로 뻗는</th>\n",
              "      <th>잎이 안 큰</th>\n",
              "      <th>잎을 무성하게 그린</th>\n",
              "      <th>꽃있음</th>\n",
              "      <th>그물</th>\n",
              "      <th>잎이 큰</th>\n",
              "    </tr>\n",
              "  </thead>\n",
              "  <tbody>\n",
              "    <tr>\n",
              "      <th>227</th>\n",
              "      <td>잎342.png</td>\n",
              "      <td>0</td>\n",
              "      <td>0</td>\n",
              "      <td>0</td>\n",
              "      <td>1</td>\n",
              "      <td>0</td>\n",
              "      <td>0</td>\n",
              "      <td>0</td>\n",
              "    </tr>\n",
              "    <tr>\n",
              "      <th>228</th>\n",
              "      <td>잎349.png</td>\n",
              "      <td>0</td>\n",
              "      <td>0</td>\n",
              "      <td>0</td>\n",
              "      <td>1</td>\n",
              "      <td>0</td>\n",
              "      <td>0</td>\n",
              "      <td>0</td>\n",
              "    </tr>\n",
              "  </tbody>\n",
              "</table>\n",
              "</div>\n",
              "      <button class=\"colab-df-convert\" onclick=\"convertToInteractive('df-5aa83582-b3bb-4097-8c5a-d31e8438780a')\"\n",
              "              title=\"Convert this dataframe to an interactive table.\"\n",
              "              style=\"display:none;\">\n",
              "        \n",
              "  <svg xmlns=\"http://www.w3.org/2000/svg\" height=\"24px\"viewBox=\"0 0 24 24\"\n",
              "       width=\"24px\">\n",
              "    <path d=\"M0 0h24v24H0V0z\" fill=\"none\"/>\n",
              "    <path d=\"M18.56 5.44l.94 2.06.94-2.06 2.06-.94-2.06-.94-.94-2.06-.94 2.06-2.06.94zm-11 1L8.5 8.5l.94-2.06 2.06-.94-2.06-.94L8.5 2.5l-.94 2.06-2.06.94zm10 10l.94 2.06.94-2.06 2.06-.94-2.06-.94-.94-2.06-.94 2.06-2.06.94z\"/><path d=\"M17.41 7.96l-1.37-1.37c-.4-.4-.92-.59-1.43-.59-.52 0-1.04.2-1.43.59L10.3 9.45l-7.72 7.72c-.78.78-.78 2.05 0 2.83L4 21.41c.39.39.9.59 1.41.59.51 0 1.02-.2 1.41-.59l7.78-7.78 2.81-2.81c.8-.78.8-2.07 0-2.86zM5.41 20L4 18.59l7.72-7.72 1.47 1.35L5.41 20z\"/>\n",
              "  </svg>\n",
              "      </button>\n",
              "      \n",
              "  <style>\n",
              "    .colab-df-container {\n",
              "      display:flex;\n",
              "      flex-wrap:wrap;\n",
              "      gap: 12px;\n",
              "    }\n",
              "\n",
              "    .colab-df-convert {\n",
              "      background-color: #E8F0FE;\n",
              "      border: none;\n",
              "      border-radius: 50%;\n",
              "      cursor: pointer;\n",
              "      display: none;\n",
              "      fill: #1967D2;\n",
              "      height: 32px;\n",
              "      padding: 0 0 0 0;\n",
              "      width: 32px;\n",
              "    }\n",
              "\n",
              "    .colab-df-convert:hover {\n",
              "      background-color: #E2EBFA;\n",
              "      box-shadow: 0px 1px 2px rgba(60, 64, 67, 0.3), 0px 1px 3px 1px rgba(60, 64, 67, 0.15);\n",
              "      fill: #174EA6;\n",
              "    }\n",
              "\n",
              "    [theme=dark] .colab-df-convert {\n",
              "      background-color: #3B4455;\n",
              "      fill: #D2E3FC;\n",
              "    }\n",
              "\n",
              "    [theme=dark] .colab-df-convert:hover {\n",
              "      background-color: #434B5C;\n",
              "      box-shadow: 0px 1px 3px 1px rgba(0, 0, 0, 0.15);\n",
              "      filter: drop-shadow(0px 1px 2px rgba(0, 0, 0, 0.3));\n",
              "      fill: #FFFFFF;\n",
              "    }\n",
              "  </style>\n",
              "\n",
              "      <script>\n",
              "        const buttonEl =\n",
              "          document.querySelector('#df-5aa83582-b3bb-4097-8c5a-d31e8438780a button.colab-df-convert');\n",
              "        buttonEl.style.display =\n",
              "          google.colab.kernel.accessAllowed ? 'block' : 'none';\n",
              "\n",
              "        async function convertToInteractive(key) {\n",
              "          const element = document.querySelector('#df-5aa83582-b3bb-4097-8c5a-d31e8438780a');\n",
              "          const dataTable =\n",
              "            await google.colab.kernel.invokeFunction('convertToInteractive',\n",
              "                                                     [key], {});\n",
              "          if (!dataTable) return;\n",
              "\n",
              "          const docLinkHtml = 'Like what you see? Visit the ' +\n",
              "            '<a target=\"_blank\" href=https://colab.research.google.com/notebooks/data_table.ipynb>data table notebook</a>'\n",
              "            + ' to learn more about interactive tables.';\n",
              "          element.innerHTML = '';\n",
              "          dataTable['output_type'] = 'display_data';\n",
              "          await google.colab.output.renderOutput(dataTable, element);\n",
              "          const docLink = document.createElement('div');\n",
              "          docLink.innerHTML = docLinkHtml;\n",
              "          element.appendChild(docLink);\n",
              "        }\n",
              "      </script>\n",
              "    </div>\n",
              "  </div>\n",
              "  "
            ]
          },
          "metadata": {},
          "execution_count": 20
        }
      ]
    },
    {
      "cell_type": "code",
      "source": [
        "image_directory = '/content/drive/MyDrive/test_total_image/'\n"
      ],
      "metadata": {
        "id": "7g70Syij2Muj"
      },
      "execution_count": 21,
      "outputs": []
    },
    {
      "cell_type": "code",
      "source": [
        "SIZE = 200\n",
        "X_dataset = []  \n",
        "for i in tqdm(range(result.shape[0])):\n",
        "    img = image.load_img(image_directory + result['imgs'][i], target_size=(SIZE,SIZE,3))\n",
        "    img = image.img_to_array(img)\n",
        "    img = img/255.\n",
        "    X_dataset.append(img)\n",
        "    \n",
        "X = np.array(X_dataset)"
      ],
      "metadata": {
        "colab": {
          "base_uri": "https://localhost:8080/"
        },
        "id": "znKhRY13xcn3",
        "outputId": "22405240-4aa4-4123-95fe-49e3eb05eac6"
      },
      "execution_count": 22,
      "outputs": [
        {
          "output_type": "stream",
          "name": "stderr",
          "text": [
            "100%|██████████| 437/437 [00:42<00:00, 10.28it/s]\n"
          ]
        }
      ]
    },
    {
      "cell_type": "code",
      "source": [
        "X.shape"
      ],
      "metadata": {
        "colab": {
          "base_uri": "https://localhost:8080/"
        },
        "id": "3bHLjkpnIv8n",
        "outputId": "007d24d3-4ea3-4e2c-c7fc-cf81981f0eda"
      },
      "execution_count": 23,
      "outputs": [
        {
          "output_type": "execute_result",
          "data": {
            "text/plain": [
              "(437, 200, 200, 3)"
            ]
          },
          "metadata": {},
          "execution_count": 23
        }
      ]
    },
    {
      "cell_type": "code",
      "source": [
        "y = np.array(result.drop(['imgs'], axis=1))\n",
        "\n",
        "X_train, X_test, y_train, y_test = train_test_split(X, y, random_state=20, test_size=0.3)\n"
      ],
      "metadata": {
        "id": "qgbhkdRXqlKL"
      },
      "execution_count": 24,
      "outputs": []
    },
    {
      "cell_type": "code",
      "source": [
        "from tensorflow import keras\n",
        "from keras import layers"
      ],
      "metadata": {
        "id": "uI5jvYscIbCd"
      },
      "execution_count": 25,
      "outputs": []
    },
    {
      "cell_type": "code",
      "source": [
        "data_augmentation = keras.Sequential(\n",
        "    [layers.RandomFlip(\"horizontal\"), layers.RandomRotation(0.1),]\n",
        ")"
      ],
      "metadata": {
        "id": "y3nPJJrgIaY1"
      },
      "execution_count": 26,
      "outputs": []
    },
    {
      "cell_type": "code",
      "source": [
        "base_model = keras.applications.Xception(\n",
        "    weights=\"imagenet\",  # Load weights pre-trained on ImageNet.\n",
        "    input_shape=(200, 200, 3),\n",
        "    include_top=False,\n",
        ")  # Do not include the ImageNet classifier at the top.\n",
        "\n",
        "# Freeze the base_model\n",
        "base_model.trainable = False\n",
        "\n",
        "# Create new model on top\n",
        "inputs = keras.Input(shape=(200, 200, 3))\n",
        "x = data_augmentation(inputs)  # Apply random data augmentation\n",
        "\n",
        "# Pre-trained Xception weights requires that input be scaled\n",
        "# from (0, 255) to a range of (-1., +1.), the rescaling layer\n",
        "# outputs: `(inputs * scale) + offset`\n",
        "\n",
        "# The base model contains batchnorm layers. We want to keep them in inference mode\n",
        "# when we unfreeze the base model for fine-tuning, so we make sure that the\n",
        "# base_model is running in inference mode here.\n",
        "x = base_model(x, training=False)\n",
        "x = keras.layers.GlobalAveragePooling2D()(x)\n",
        "x = keras.layers.Dropout(0.2)(x)  # Regularize with dropout\n",
        "outputs = keras.layers.Dense(7, activation='sigmoid')(x)\n",
        "model = keras.Model(inputs, outputs)\n",
        "\n",
        "model.summary()"
      ],
      "metadata": {
        "id": "HrDpyJDbrHHN",
        "colab": {
          "base_uri": "https://localhost:8080/"
        },
        "outputId": "fa323a86-6a7c-4876-b31d-d2b50b504de4"
      },
      "execution_count": 27,
      "outputs": [
        {
          "output_type": "stream",
          "name": "stdout",
          "text": [
            "Downloading data from https://storage.googleapis.com/tensorflow/keras-applications/xception/xception_weights_tf_dim_ordering_tf_kernels_notop.h5\n",
            "83683744/83683744 [==============================] - 5s 0us/step\n"
          ]
        },
        {
          "output_type": "stream",
          "name": "stderr",
          "text": [
            "WARNING:tensorflow:Using a while_loop for converting RngReadAndSkip cause there is no registered converter for this op.\n",
            "WARNING:tensorflow:Using a while_loop for converting Bitcast cause there is no registered converter for this op.\n",
            "WARNING:tensorflow:Using a while_loop for converting Bitcast cause there is no registered converter for this op.\n",
            "WARNING:tensorflow:Using a while_loop for converting StatelessRandomUniformV2 cause there is no registered converter for this op.\n",
            "WARNING:tensorflow:Using a while_loop for converting ImageProjectiveTransformV3 cause there is no registered converter for this op.\n",
            "WARNING:tensorflow:Using a while_loop for converting RngReadAndSkip cause there is no registered converter for this op.\n",
            "WARNING:tensorflow:Using a while_loop for converting Bitcast cause there is no registered converter for this op.\n",
            "WARNING:tensorflow:Using a while_loop for converting Bitcast cause there is no registered converter for this op.\n",
            "WARNING:tensorflow:Using a while_loop for converting StatelessRandomUniformV2 cause there is no registered converter for this op.\n",
            "WARNING:tensorflow:Using a while_loop for converting ImageProjectiveTransformV3 cause there is no registered converter for this op.\n"
          ]
        },
        {
          "output_type": "stream",
          "name": "stdout",
          "text": [
            "Model: \"model\"\n",
            "_________________________________________________________________\n",
            " Layer (type)                Output Shape              Param #   \n",
            "=================================================================\n",
            " input_2 (InputLayer)        [(None, 200, 200, 3)]     0         \n",
            "                                                                 \n",
            " sequential (Sequential)     (None, 200, 200, 3)       0         \n",
            "                                                                 \n",
            " xception (Functional)       (None, 7, 7, 2048)        20861480  \n",
            "                                                                 \n",
            " global_average_pooling2d (G  (None, 2048)             0         \n",
            " lobalAveragePooling2D)                                          \n",
            "                                                                 \n",
            " dropout (Dropout)           (None, 2048)              0         \n",
            "                                                                 \n",
            " dense (Dense)               (None, 7)                 14343     \n",
            "                                                                 \n",
            "=================================================================\n",
            "Total params: 20,875,823\n",
            "Trainable params: 14,343\n",
            "Non-trainable params: 20,861,480\n",
            "_________________________________________________________________\n"
          ]
        }
      ]
    },
    {
      "cell_type": "code",
      "source": [
        "model.compile(optimizer = 'adam', loss = 'binary_crossentropy', metrics = ['accuracy'])\n",
        "\n",
        "history = model.fit(X_train, y_train, epochs=100, validation_data=(X_test, y_test), batch_size=20)"
      ],
      "metadata": {
        "colab": {
          "base_uri": "https://localhost:8080/"
        },
        "id": "0siVTbRqY-cO",
        "outputId": "c1bb6acf-27c9-4fa1-8ef4-62adc52a0aac"
      },
      "execution_count": null,
      "outputs": [
        {
          "output_type": "stream",
          "name": "stdout",
          "text": [
            "Epoch 1/100\n"
          ]
        },
        {
          "output_type": "stream",
          "name": "stderr",
          "text": [
            "WARNING:tensorflow:Using a while_loop for converting RngReadAndSkip cause there is no registered converter for this op.\n",
            "WARNING:tensorflow:Using a while_loop for converting Bitcast cause there is no registered converter for this op.\n",
            "WARNING:tensorflow:Using a while_loop for converting Bitcast cause there is no registered converter for this op.\n",
            "WARNING:tensorflow:Using a while_loop for converting StatelessRandomUniformV2 cause there is no registered converter for this op.\n",
            "WARNING:tensorflow:Using a while_loop for converting ImageProjectiveTransformV3 cause there is no registered converter for this op.\n",
            "WARNING:tensorflow:Using a while_loop for converting RngReadAndSkip cause there is no registered converter for this op.\n",
            "WARNING:tensorflow:Using a while_loop for converting Bitcast cause there is no registered converter for this op.\n",
            "WARNING:tensorflow:Using a while_loop for converting Bitcast cause there is no registered converter for this op.\n",
            "WARNING:tensorflow:Using a while_loop for converting StatelessRandomUniformV2 cause there is no registered converter for this op.\n",
            "WARNING:tensorflow:Using a while_loop for converting ImageProjectiveTransformV3 cause there is no registered converter for this op.\n"
          ]
        },
        {
          "output_type": "stream",
          "name": "stdout",
          "text": [
            "16/16 [==============================] - 17s 271ms/step - loss: 0.5080 - accuracy: 0.2557 - val_loss: 0.4246 - val_accuracy: 0.3939\n",
            "Epoch 2/100\n",
            "16/16 [==============================] - 2s 110ms/step - loss: 0.3874 - accuracy: 0.4492 - val_loss: 0.3587 - val_accuracy: 0.4242\n",
            "Epoch 3/100\n",
            "16/16 [==============================] - 2s 112ms/step - loss: 0.3293 - accuracy: 0.5049 - val_loss: 0.3174 - val_accuracy: 0.5606\n",
            "Epoch 4/100\n",
            "16/16 [==============================] - 2s 111ms/step - loss: 0.2925 - accuracy: 0.5672 - val_loss: 0.2941 - val_accuracy: 0.5455\n",
            "Epoch 5/100\n",
            "16/16 [==============================] - 2s 111ms/step - loss: 0.2677 - accuracy: 0.6066 - val_loss: 0.2750 - val_accuracy: 0.5909\n",
            "Epoch 6/100\n",
            "16/16 [==============================] - 2s 111ms/step - loss: 0.2457 - accuracy: 0.6393 - val_loss: 0.2631 - val_accuracy: 0.6061\n",
            "Epoch 7/100\n",
            "16/16 [==============================] - 2s 112ms/step - loss: 0.2283 - accuracy: 0.6393 - val_loss: 0.2530 - val_accuracy: 0.6212\n",
            "Epoch 8/100\n",
            "16/16 [==============================] - 2s 111ms/step - loss: 0.2136 - accuracy: 0.6852 - val_loss: 0.2449 - val_accuracy: 0.6515\n",
            "Epoch 9/100\n",
            "16/16 [==============================] - 2s 112ms/step - loss: 0.2074 - accuracy: 0.6852 - val_loss: 0.2356 - val_accuracy: 0.6364\n",
            "Epoch 10/100\n",
            "16/16 [==============================] - 2s 114ms/step - loss: 0.1993 - accuracy: 0.6820 - val_loss: 0.2320 - val_accuracy: 0.6212\n",
            "Epoch 11/100\n",
            "16/16 [==============================] - 2s 114ms/step - loss: 0.1906 - accuracy: 0.7148 - val_loss: 0.2279 - val_accuracy: 0.6439\n",
            "Epoch 12/100\n",
            "16/16 [==============================] - 2s 112ms/step - loss: 0.1797 - accuracy: 0.7279 - val_loss: 0.2227 - val_accuracy: 0.6742\n",
            "Epoch 13/100\n",
            "16/16 [==============================] - 2s 112ms/step - loss: 0.1702 - accuracy: 0.7344 - val_loss: 0.2175 - val_accuracy: 0.6591\n",
            "Epoch 14/100\n",
            "16/16 [==============================] - 2s 113ms/step - loss: 0.1696 - accuracy: 0.7574 - val_loss: 0.2125 - val_accuracy: 0.6742\n",
            "Epoch 15/100\n",
            "16/16 [==============================] - 2s 114ms/step - loss: 0.1669 - accuracy: 0.7738 - val_loss: 0.2104 - val_accuracy: 0.6818\n",
            "Epoch 16/100\n",
            "16/16 [==============================] - 2s 114ms/step - loss: 0.1566 - accuracy: 0.7410 - val_loss: 0.2075 - val_accuracy: 0.6894\n",
            "Epoch 17/100\n",
            "16/16 [==============================] - 2s 115ms/step - loss: 0.1521 - accuracy: 0.7902 - val_loss: 0.2054 - val_accuracy: 0.6818\n",
            "Epoch 18/100\n",
            "16/16 [==============================] - 2s 113ms/step - loss: 0.1504 - accuracy: 0.7541 - val_loss: 0.2006 - val_accuracy: 0.6818\n",
            "Epoch 19/100\n",
            "16/16 [==============================] - 2s 114ms/step - loss: 0.1452 - accuracy: 0.7574 - val_loss: 0.1991 - val_accuracy: 0.6818\n",
            "Epoch 20/100\n",
            "16/16 [==============================] - 2s 115ms/step - loss: 0.1429 - accuracy: 0.7803 - val_loss: 0.1998 - val_accuracy: 0.6742\n",
            "Epoch 21/100\n",
            "16/16 [==============================] - 2s 114ms/step - loss: 0.1413 - accuracy: 0.7639 - val_loss: 0.1938 - val_accuracy: 0.6894\n",
            "Epoch 22/100\n",
            "16/16 [==============================] - 2s 114ms/step - loss: 0.1362 - accuracy: 0.7344 - val_loss: 0.1932 - val_accuracy: 0.6970\n",
            "Epoch 23/100\n",
            "16/16 [==============================] - 2s 115ms/step - loss: 0.1259 - accuracy: 0.7967 - val_loss: 0.1924 - val_accuracy: 0.6970\n",
            "Epoch 24/100\n",
            "16/16 [==============================] - 2s 116ms/step - loss: 0.1239 - accuracy: 0.7672 - val_loss: 0.1911 - val_accuracy: 0.6894\n",
            "Epoch 25/100\n",
            "16/16 [==============================] - 2s 115ms/step - loss: 0.1269 - accuracy: 0.7836 - val_loss: 0.1891 - val_accuracy: 0.6970\n",
            "Epoch 26/100\n",
            "16/16 [==============================] - 2s 114ms/step - loss: 0.1206 - accuracy: 0.7934 - val_loss: 0.1894 - val_accuracy: 0.6970\n",
            "Epoch 27/100\n",
            "16/16 [==============================] - 2s 115ms/step - loss: 0.1207 - accuracy: 0.7770 - val_loss: 0.1872 - val_accuracy: 0.7045\n",
            "Epoch 28/100\n",
            "16/16 [==============================] - 2s 115ms/step - loss: 0.1147 - accuracy: 0.8098 - val_loss: 0.1868 - val_accuracy: 0.6970\n",
            "Epoch 29/100\n",
            "16/16 [==============================] - 2s 115ms/step - loss: 0.1133 - accuracy: 0.7869 - val_loss: 0.1851 - val_accuracy: 0.6970\n",
            "Epoch 30/100\n",
            "16/16 [==============================] - 2s 116ms/step - loss: 0.1105 - accuracy: 0.8131 - val_loss: 0.1814 - val_accuracy: 0.7045\n",
            "Epoch 31/100\n",
            "16/16 [==============================] - 2s 117ms/step - loss: 0.1090 - accuracy: 0.8000 - val_loss: 0.1845 - val_accuracy: 0.7045\n",
            "Epoch 32/100\n",
            "16/16 [==============================] - 2s 114ms/step - loss: 0.1078 - accuracy: 0.7803 - val_loss: 0.1836 - val_accuracy: 0.7045\n",
            "Epoch 33/100\n",
            "16/16 [==============================] - 2s 116ms/step - loss: 0.1084 - accuracy: 0.8131 - val_loss: 0.1837 - val_accuracy: 0.7045\n",
            "Epoch 34/100\n",
            "16/16 [==============================] - 2s 116ms/step - loss: 0.1050 - accuracy: 0.8066 - val_loss: 0.1821 - val_accuracy: 0.7045\n",
            "Epoch 35/100\n",
            "16/16 [==============================] - 2s 116ms/step - loss: 0.1023 - accuracy: 0.8000 - val_loss: 0.1812 - val_accuracy: 0.7045\n",
            "Epoch 36/100\n",
            "16/16 [==============================] - 2s 116ms/step - loss: 0.0990 - accuracy: 0.8098 - val_loss: 0.1830 - val_accuracy: 0.6894\n",
            "Epoch 37/100\n",
            "16/16 [==============================] - 2s 118ms/step - loss: 0.1004 - accuracy: 0.7869 - val_loss: 0.1795 - val_accuracy: 0.6970\n",
            "Epoch 38/100\n",
            "16/16 [==============================] - 2s 117ms/step - loss: 0.0940 - accuracy: 0.8033 - val_loss: 0.1794 - val_accuracy: 0.6818\n",
            "Epoch 39/100\n",
            "16/16 [==============================] - 2s 117ms/step - loss: 0.0954 - accuracy: 0.8066 - val_loss: 0.1783 - val_accuracy: 0.6894\n",
            "Epoch 40/100\n",
            "16/16 [==============================] - 2s 117ms/step - loss: 0.0976 - accuracy: 0.8066 - val_loss: 0.1782 - val_accuracy: 0.6894\n",
            "Epoch 41/100\n",
            "16/16 [==============================] - 2s 117ms/step - loss: 0.0935 - accuracy: 0.7902 - val_loss: 0.1773 - val_accuracy: 0.6970\n",
            "Epoch 42/100\n",
            "16/16 [==============================] - 2s 117ms/step - loss: 0.0944 - accuracy: 0.7869 - val_loss: 0.1748 - val_accuracy: 0.6970\n",
            "Epoch 43/100\n",
            "16/16 [==============================] - 2s 119ms/step - loss: 0.0896 - accuracy: 0.7934 - val_loss: 0.1785 - val_accuracy: 0.6818\n",
            "Epoch 44/100\n",
            "16/16 [==============================] - 2s 121ms/step - loss: 0.0876 - accuracy: 0.8033 - val_loss: 0.1771 - val_accuracy: 0.6818\n",
            "Epoch 45/100\n",
            "16/16 [==============================] - 2s 118ms/step - loss: 0.0871 - accuracy: 0.8262 - val_loss: 0.1754 - val_accuracy: 0.6818\n",
            "Epoch 46/100\n",
            "16/16 [==============================] - 2s 118ms/step - loss: 0.0885 - accuracy: 0.8066 - val_loss: 0.1735 - val_accuracy: 0.6970\n",
            "Epoch 47/100\n",
            "16/16 [==============================] - 2s 118ms/step - loss: 0.0832 - accuracy: 0.8098 - val_loss: 0.1720 - val_accuracy: 0.6970\n",
            "Epoch 48/100\n",
            "16/16 [==============================] - 2s 118ms/step - loss: 0.0838 - accuracy: 0.8230 - val_loss: 0.1758 - val_accuracy: 0.6742\n",
            "Epoch 49/100\n",
            "16/16 [==============================] - 2s 118ms/step - loss: 0.0823 - accuracy: 0.8262 - val_loss: 0.1744 - val_accuracy: 0.6818\n",
            "Epoch 50/100\n",
            "16/16 [==============================] - 2s 120ms/step - loss: 0.0816 - accuracy: 0.8066 - val_loss: 0.1708 - val_accuracy: 0.7121\n",
            "Epoch 51/100\n",
            "16/16 [==============================] - 2s 120ms/step - loss: 0.0810 - accuracy: 0.8066 - val_loss: 0.1704 - val_accuracy: 0.7045\n",
            "Epoch 52/100\n",
            "16/16 [==============================] - 2s 119ms/step - loss: 0.0791 - accuracy: 0.8328 - val_loss: 0.1721 - val_accuracy: 0.7121\n",
            "Epoch 53/100\n",
            "16/16 [==============================] - 2s 119ms/step - loss: 0.0771 - accuracy: 0.8426 - val_loss: 0.1736 - val_accuracy: 0.6894\n",
            "Epoch 54/100\n",
            "16/16 [==============================] - 2s 120ms/step - loss: 0.0785 - accuracy: 0.8131 - val_loss: 0.1715 - val_accuracy: 0.7121\n",
            "Epoch 55/100\n",
            "16/16 [==============================] - 2s 120ms/step - loss: 0.0774 - accuracy: 0.8361 - val_loss: 0.1710 - val_accuracy: 0.7121\n",
            "Epoch 56/100\n",
            "16/16 [==============================] - 2s 120ms/step - loss: 0.0723 - accuracy: 0.8262 - val_loss: 0.1720 - val_accuracy: 0.6818\n",
            "Epoch 57/100\n",
            "16/16 [==============================] - 2s 121ms/step - loss: 0.0750 - accuracy: 0.8262 - val_loss: 0.1741 - val_accuracy: 0.6818\n",
            "Epoch 58/100\n",
            "16/16 [==============================] - 2s 120ms/step - loss: 0.0710 - accuracy: 0.8525 - val_loss: 0.1754 - val_accuracy: 0.6894\n",
            "Epoch 59/100\n",
            "16/16 [==============================] - 2s 122ms/step - loss: 0.0703 - accuracy: 0.8262 - val_loss: 0.1729 - val_accuracy: 0.6818\n",
            "Epoch 60/100\n",
            "16/16 [==============================] - 2s 121ms/step - loss: 0.0670 - accuracy: 0.8459 - val_loss: 0.1723 - val_accuracy: 0.6818\n",
            "Epoch 61/100\n",
            "16/16 [==============================] - 2s 122ms/step - loss: 0.0732 - accuracy: 0.8230 - val_loss: 0.1699 - val_accuracy: 0.6970\n",
            "Epoch 62/100\n",
            "16/16 [==============================] - 2s 121ms/step - loss: 0.0697 - accuracy: 0.8459 - val_loss: 0.1717 - val_accuracy: 0.6894\n",
            "Epoch 63/100\n",
            "16/16 [==============================] - 2s 122ms/step - loss: 0.0703 - accuracy: 0.8361 - val_loss: 0.1724 - val_accuracy: 0.6894\n",
            "Epoch 64/100\n",
            "16/16 [==============================] - 2s 122ms/step - loss: 0.0687 - accuracy: 0.8328 - val_loss: 0.1686 - val_accuracy: 0.6894\n",
            "Epoch 65/100\n",
            "16/16 [==============================] - 2s 122ms/step - loss: 0.0667 - accuracy: 0.8066 - val_loss: 0.1700 - val_accuracy: 0.6970\n",
            "Epoch 66/100\n",
            "16/16 [==============================] - 2s 122ms/step - loss: 0.0661 - accuracy: 0.8295 - val_loss: 0.1707 - val_accuracy: 0.6894\n",
            "Epoch 67/100\n",
            "16/16 [==============================] - 2s 122ms/step - loss: 0.0651 - accuracy: 0.8361 - val_loss: 0.1730 - val_accuracy: 0.6818\n",
            "Epoch 68/100\n",
            "16/16 [==============================] - 2s 123ms/step - loss: 0.0665 - accuracy: 0.8623 - val_loss: 0.1700 - val_accuracy: 0.6970\n",
            "Epoch 69/100\n",
            "16/16 [==============================] - 2s 123ms/step - loss: 0.0637 - accuracy: 0.8328 - val_loss: 0.1705 - val_accuracy: 0.6894\n",
            "Epoch 70/100\n",
            "16/16 [==============================] - 2s 132ms/step - loss: 0.0650 - accuracy: 0.8098 - val_loss: 0.1673 - val_accuracy: 0.6894\n",
            "Epoch 71/100\n",
            "16/16 [==============================] - 2s 123ms/step - loss: 0.0613 - accuracy: 0.8361 - val_loss: 0.1690 - val_accuracy: 0.6970\n",
            "Epoch 72/100\n",
            "16/16 [==============================] - 2s 121ms/step - loss: 0.0618 - accuracy: 0.8557 - val_loss: 0.1690 - val_accuracy: 0.6970\n",
            "Epoch 73/100\n",
            "16/16 [==============================] - 2s 122ms/step - loss: 0.0600 - accuracy: 0.8164 - val_loss: 0.1705 - val_accuracy: 0.6894\n",
            "Epoch 74/100\n",
            "16/16 [==============================] - 2s 123ms/step - loss: 0.0613 - accuracy: 0.8525 - val_loss: 0.1666 - val_accuracy: 0.6894\n",
            "Epoch 75/100\n",
            "16/16 [==============================] - 2s 122ms/step - loss: 0.0606 - accuracy: 0.8426 - val_loss: 0.1699 - val_accuracy: 0.6970\n",
            "Epoch 76/100\n",
            "16/16 [==============================] - 2s 123ms/step - loss: 0.0588 - accuracy: 0.8361 - val_loss: 0.1681 - val_accuracy: 0.7121\n",
            "Epoch 77/100\n",
            "16/16 [==============================] - 2s 122ms/step - loss: 0.0580 - accuracy: 0.8525 - val_loss: 0.1701 - val_accuracy: 0.7045\n",
            "Epoch 78/100\n",
            "16/16 [==============================] - 2s 122ms/step - loss: 0.0583 - accuracy: 0.8361 - val_loss: 0.1688 - val_accuracy: 0.7121\n",
            "Epoch 79/100\n",
            "16/16 [==============================] - 2s 121ms/step - loss: 0.0583 - accuracy: 0.8262 - val_loss: 0.1687 - val_accuracy: 0.7045\n",
            "Epoch 80/100\n",
            "16/16 [==============================] - 2s 121ms/step - loss: 0.0575 - accuracy: 0.8525 - val_loss: 0.1726 - val_accuracy: 0.6742\n",
            "Epoch 81/100\n",
            "16/16 [==============================] - 2s 121ms/step - loss: 0.0553 - accuracy: 0.8230 - val_loss: 0.1678 - val_accuracy: 0.7045\n",
            "Epoch 82/100\n",
            "16/16 [==============================] - 2s 122ms/step - loss: 0.0541 - accuracy: 0.8426 - val_loss: 0.1673 - val_accuracy: 0.7121\n",
            "Epoch 83/100\n",
            "16/16 [==============================] - 2s 121ms/step - loss: 0.0545 - accuracy: 0.8623 - val_loss: 0.1700 - val_accuracy: 0.7045\n",
            "Epoch 84/100\n",
            "16/16 [==============================] - 2s 121ms/step - loss: 0.0556 - accuracy: 0.8230 - val_loss: 0.1640 - val_accuracy: 0.7197\n",
            "Epoch 85/100\n",
            "16/16 [==============================] - 2s 121ms/step - loss: 0.0541 - accuracy: 0.8557 - val_loss: 0.1691 - val_accuracy: 0.7197\n",
            "Epoch 86/100\n",
            "16/16 [==============================] - 2s 121ms/step - loss: 0.0530 - accuracy: 0.8393 - val_loss: 0.1685 - val_accuracy: 0.7045\n",
            "Epoch 87/100\n",
            "16/16 [==============================] - 2s 121ms/step - loss: 0.0536 - accuracy: 0.8262 - val_loss: 0.1703 - val_accuracy: 0.6970\n",
            "Epoch 88/100\n",
            "16/16 [==============================] - 2s 121ms/step - loss: 0.0539 - accuracy: 0.8361 - val_loss: 0.1701 - val_accuracy: 0.7045\n",
            "Epoch 89/100\n",
            "16/16 [==============================] - 2s 122ms/step - loss: 0.0533 - accuracy: 0.8295 - val_loss: 0.1708 - val_accuracy: 0.6818\n",
            "Epoch 90/100\n",
            "16/16 [==============================] - 2s 121ms/step - loss: 0.0551 - accuracy: 0.8656 - val_loss: 0.1696 - val_accuracy: 0.6970\n",
            "Epoch 91/100\n",
            "16/16 [==============================] - 2s 120ms/step - loss: 0.0510 - accuracy: 0.8590 - val_loss: 0.1673 - val_accuracy: 0.6970\n",
            "Epoch 92/100\n",
            "16/16 [==============================] - 2s 120ms/step - loss: 0.0490 - accuracy: 0.8262 - val_loss: 0.1717 - val_accuracy: 0.6894\n",
            "Epoch 93/100\n",
            "12/16 [=====================>........] - ETA: 0s - loss: 0.0486 - accuracy: 0.8375"
          ]
        }
      ]
    },
    {
      "cell_type": "code",
      "source": [
        "loss = history.history['loss']\n",
        "val_loss = history.history['val_loss']\n",
        "epochs = range(1, len(loss) + 1)\n",
        "plt.plot(epochs, loss, 'y', label='Training loss')\n",
        "plt.plot(epochs, val_loss, 'r', label='Validation loss')\n",
        "plt.title('Training and validation loss')\n",
        "plt.xlabel('Epochs')\n",
        "plt.ylabel('Loss')\n",
        "plt.legend()\n",
        "plt.show()"
      ],
      "metadata": {
        "id": "xdEkAqSqGqD8"
      },
      "execution_count": null,
      "outputs": []
    },
    {
      "cell_type": "code",
      "source": [
        "acc = history.history['accuracy']\n",
        "val_acc = history.history['val_accuracy']\n",
        "plt.plot(epochs, acc, 'y', label='Training acc')\n",
        "plt.plot(epochs, val_acc, 'r', label='Validation acc')\n",
        "plt.title('Training and validation accuracy')\n",
        "plt.xlabel('Epochs')\n",
        "plt.ylabel('Accuracy')\n",
        "plt.legend()\n",
        "plt.show()"
      ],
      "metadata": {
        "id": "o4HUfU7K6jjG"
      },
      "execution_count": null,
      "outputs": []
    },
    {
      "cell_type": "code",
      "source": [
        "predicted = model.predict(X_test)\n",
        "y_pred=[]\n",
        "for sample in  predicted:\n",
        "  y_pred.append([1 if i>=0.5 else 0 for i in sample ] )\n",
        "y_pred = np.array(y_pred)\n",
        "y_pred"
      ],
      "metadata": {
        "id": "_5LfLQqCkphf"
      },
      "execution_count": null,
      "outputs": []
    },
    {
      "cell_type": "code",
      "source": [
        "from sklearn.metrics import accuracy_score\n",
        "accuracy_score(y_test, y_pred)"
      ],
      "metadata": {
        "id": "nyJf7if-i6yY"
      },
      "execution_count": null,
      "outputs": []
    },
    {
      "cell_type": "code",
      "source": [
        "from sklearn.metrics import multilabel_confusion_matrix\n",
        "multilabel_confusion_matrix(y_test, y_pred)"
      ],
      "metadata": {
        "id": "bjISkzqGi634"
      },
      "execution_count": null,
      "outputs": []
    },
    {
      "cell_type": "code",
      "source": [
        "from sklearn.metrics import classification_report\n",
        "\n",
        "label_names = [ '열매있음','윗쪽으로 뻗는','잎이 안 큰','잎무성한','꽃있음', '그물', '잎이 큰']\n",
        "\n",
        "print(classification_report(y_test, y_pred,target_names=label_names))"
      ],
      "metadata": {
        "id": "Y9db_w2FjD2L"
      },
      "execution_count": null,
      "outputs": []
    },
    {
      "cell_type": "code",
      "source": [],
      "metadata": {
        "id": "dO2BjG6HkxZc"
      },
      "execution_count": null,
      "outputs": []
    },
    {
      "cell_type": "code",
      "source": [
        "from google.colab import drive\n",
        "drive.mount('/content/drive')"
      ],
      "metadata": {
        "colab": {
          "base_uri": "https://localhost:8080/"
        },
        "id": "8kJO_Et5kxbt",
        "outputId": "c3d255b1-f658-4f73-ff9e-d2af3b5e843f"
      },
      "execution_count": null,
      "outputs": [
        {
          "output_type": "stream",
          "name": "stdout",
          "text": [
            "Drive already mounted at /content/drive; to attempt to forcibly remount, call drive.mount(\"/content/drive\", force_remount=True).\n"
          ]
        }
      ]
    },
    {
      "cell_type": "code",
      "source": [
        "%cd /content/drive/MyDrive/7 classes model\n",
        "from keras.models import load_model\n",
        "model.save('7class_model.h5')"
      ],
      "metadata": {
        "colab": {
          "base_uri": "https://localhost:8080/"
        },
        "id": "6O-BuYEXjD4Z",
        "outputId": "0a87d918-0eb6-449a-b6f2-deaef055922a"
      },
      "execution_count": null,
      "outputs": [
        {
          "output_type": "stream",
          "name": "stdout",
          "text": [
            "/content/drive/MyDrive/7 classes model\n"
          ]
        }
      ]
    },
    {
      "cell_type": "code",
      "source": [],
      "metadata": {
        "id": "wXjwAstGkcny"
      },
      "execution_count": null,
      "outputs": []
    },
    {
      "cell_type": "code",
      "source": [],
      "metadata": {
        "id": "8NX9q3qVkcqC"
      },
      "execution_count": null,
      "outputs": []
    },
    {
      "cell_type": "code",
      "source": [
        "img = image.load_img('/content/drive/MyDrive/test_total_image/잎132.png', target_size=(SIZE,SIZE,3))\n",
        "img = image.img_to_array(img)\n",
        "img = img/255.\n",
        "plt.imshow(img)\n",
        "img = np.expand_dims(img, axis=0)\n",
        "\n",
        "classes = np.array(result.columns[1:]) #Get array of all classes\n",
        "proba = model.predict(img)  #Get probabilities for each class\n",
        "sorted_categories = np.argsort(proba[0])[:-11:-1]  #Get class names for top 10 categories\n",
        "\n",
        "#Print classes and corresponding probabilities\n",
        "for i in range(7):\n",
        "    print(\"{}\".format(classes[sorted_categories[i]])+\" ({:.3})\".format(proba[0][sorted_categories[i]]))\n",
        "\n",
        "\n",
        "_, acc = model.evaluate(X_test, y_test)\n",
        "print(\"Accuracy = \", (acc * 100.0), \"%\")"
      ],
      "metadata": {
        "id": "PkwmaA7j1Ibb"
      },
      "execution_count": null,
      "outputs": []
    },
    {
      "cell_type": "code",
      "source": [],
      "metadata": {
        "id": "cyXW7m_QqK-T"
      },
      "execution_count": null,
      "outputs": []
    }
  ]
}