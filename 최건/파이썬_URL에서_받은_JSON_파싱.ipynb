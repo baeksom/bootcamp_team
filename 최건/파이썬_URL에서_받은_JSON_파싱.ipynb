{
  "nbformat": 4,
  "nbformat_minor": 0,
  "metadata": {
    "colab": {
      "provenance": []
    },
    "kernelspec": {
      "name": "python3",
      "display_name": "Python 3"
    },
    "language_info": {
      "name": "python"
    }
  },
  "cells": [
    {
      "cell_type": "code",
      "source": [
        "import requests,json\n",
        "\n",
        "\n",
        "# 아마 서버에 올린 값이 이런 json형식으로 존재..\n",
        "url = requests.get(\"https://jsonplaceholder.typicode.com/users/1\")\n",
        "# text로 받아서\n",
        "text = url.text\n",
        "# json으로 만든다\n",
        "data = json.loads(text)\n"
      ],
      "metadata": {
        "id": "uOupsqT0OP2b"
      },
      "execution_count": 25,
      "outputs": []
    },
    {
      "cell_type": "code",
      "source": [
        "\n",
        "# json 데이터 확인하기\n",
        "print(data)\n"
      ],
      "metadata": {
        "colab": {
          "base_uri": "https://localhost:8080/"
        },
        "id": "ZJTLy4qQaZle",
        "outputId": "37c3c412-18b2-4e00-931d-45ae3e57ca8b"
      },
      "execution_count": 26,
      "outputs": [
        {
          "output_type": "stream",
          "name": "stdout",
          "text": [
            "{'id': 1, 'name': 'Leanne Graham', 'username': 'Bret', 'email': 'Sincere@april.biz', 'address': {'street': 'Kulas Light', 'suite': 'Apt. 556', 'city': 'Gwenborough', 'zipcode': '92998-3874', 'geo': {'lat': '-37.3159', 'lng': '81.1496'}}, 'phone': '1-770-736-8031 x56442', 'website': 'hildegard.org', 'company': {'name': 'Romaguera-Crona', 'catchPhrase': 'Multi-layered client-server neural-net', 'bs': 'harness real-time e-markets'}}\n"
          ]
        }
      ]
    },
    {
      "cell_type": "code",
      "source": [
        "\n",
        "# json 데이터를 key를 통해 출력하기\n",
        "print(data['name'])\n"
      ],
      "metadata": {
        "colab": {
          "base_uri": "https://localhost:8080/"
        },
        "id": "HAfKZw7naYHb",
        "outputId": "3f1b546b-12e8-4dcc-ea2b-804c87a2bcfc"
      },
      "execution_count": 27,
      "outputs": [
        {
          "output_type": "stream",
          "name": "stdout",
          "text": [
            "Leanne Graham\n"
          ]
        }
      ]
    }
  ]
}