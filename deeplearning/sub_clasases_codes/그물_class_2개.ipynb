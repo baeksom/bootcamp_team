{
  "nbformat": 4,
  "nbformat_minor": 0,
  "metadata": {
    "colab": {
      "provenance": [],
      "machine_shape": "hm",
      "authorship_tag": "ABX9TyOTGJGxQSCDNVU5ZSJhB/73",
      "include_colab_link": true
    },
    "kernelspec": {
      "name": "python3",
      "display_name": "Python 3"
    },
    "language_info": {
      "name": "python"
    },
    "gpuClass": "premium",
    "accelerator": "GPU"
  },
  "cells": [
    {
      "cell_type": "markdown",
      "metadata": {
        "id": "view-in-github",
        "colab_type": "text"
      },
      "source": [
        "<a href=\"https://colab.research.google.com/github/chaeeerish/bootcamp_team/blob/main/deeplearning/sub_clasases_codes/%EA%B7%B8%EB%AC%BC_class_2%EA%B0%9C.ipynb\" target=\"_parent\"><img src=\"https://colab.research.google.com/assets/colab-badge.svg\" alt=\"Open In Colab\"/></a>"
      ]
    },
    {
      "cell_type": "code",
      "source": [
        "import keras\n",
        "from keras.models import Sequential\n",
        "from keras.layers import Dense, Dropout, Flatten\n",
        "from keras.layers import Conv2D, MaxPooling2D\n",
        "import keras.utils as image\n",
        "import numpy as np\n",
        "import pandas as pd\n",
        "import matplotlib.pyplot as plt\n",
        "from sklearn.model_selection import train_test_split\n",
        "from tqdm import tqdm\n",
        "from keras.layers import BatchNormalization\n",
        "import cv2\n",
        "import matplotlib.pyplot as plt\n",
        "import os\n",
        "import random\n",
        "import glob\n",
        "from os.path import isdir"
      ],
      "metadata": {
        "id": "D4hm8ZWZEWT8"
      },
      "execution_count": 1,
      "outputs": []
    },
    {
      "cell_type": "code",
      "execution_count": 2,
      "metadata": {
        "id": "SJEogrtbjeth"
      },
      "outputs": [],
      "source": [
        "from google.colab import drive"
      ]
    },
    {
      "cell_type": "code",
      "source": [
        "drive.mount('/content/drive')"
      ],
      "metadata": {
        "colab": {
          "base_uri": "https://localhost:8080/"
        },
        "id": "Stu4IQ9FxXEL",
        "outputId": "998d89ec-376b-4d87-8a92-4cb286682240"
      },
      "execution_count": 3,
      "outputs": [
        {
          "output_type": "stream",
          "name": "stdout",
          "text": [
            "Mounted at /content/drive\n"
          ]
        }
      ]
    },
    {
      "cell_type": "code",
      "source": [
        "dir = '/content/drive/MyDrive/tree_test/'"
      ],
      "metadata": {
        "id": "r51cX-R13Iwy"
      },
      "execution_count": 4,
      "outputs": []
    },
    {
      "cell_type": "code",
      "source": [
        "name = os.listdir(dir)\n",
        "name"
      ],
      "metadata": {
        "colab": {
          "base_uri": "https://localhost:8080/"
        },
        "id": "9Znt9uvb3Z_S",
        "outputId": "524d076c-7764-4fa6-e1b4-8a937ff1a781"
      },
      "execution_count": 5,
      "outputs": [
        {
          "output_type": "execute_result",
          "data": {
            "text/plain": [
              "['잎을 무성하게 그린',\n",
              " '잎을 안 무성하게 그린',\n",
              " '잎이 없는',\n",
              " '잎이 큰',\n",
              " '잎이 안 큰',\n",
              " '윗쪽으로 뻗는',\n",
              " '윗쪽으로 안 뻗는',\n",
              " '열매있음',\n",
              " '열매없음',\n",
              " '그물 아닌',\n",
              " '꽃없음',\n",
              " '그물',\n",
              " '꽃있음']"
            ]
          },
          "metadata": {},
          "execution_count": 5
        }
      ]
    },
    {
      "cell_type": "code",
      "source": [
        "_1, _2, _3, _4, _5, _6 = [],[],[],[],[],[]\n",
        "_1.append(os.listdir(dir + '그물'))\n",
        "_2.append(os.listdir(dir +'그물 아닌'))\n",
        "# _3.append(os.listdir(dir + '잎이 안 큰'))\n",
        "# _4.append(os.listdir(dir + '윗쪽으로 안 뻗는'))\n",
        "# _5.append(os.listdir(dir + '잎을 무성하게 그린'))\n",
        "# _6.append(os.listdir(dir + '잎을 안 무성하게 그린'))"
      ],
      "metadata": {
        "id": "mMS1kNRE6n4U"
      },
      "execution_count": 6,
      "outputs": []
    },
    {
      "cell_type": "code",
      "source": [
        "total_list = []\n",
        "total_list.append(os.listdir(dir + '그물'))\n",
        "total_list.append(os.listdir(dir +'그물 아닌'))\n",
        "# total_list.append(os.listdir(dir + '잎이 안 큰'))\n",
        "# total_list.append(os.listdir(dir + '윗쪽으로 안 뻗는'))\n",
        "# total_list.append(os.listdir(dir + '잎을 무성하게 그린'))\n",
        "# total_list.append(os.listdir(dir + '잎을 안 무성하게 그린'))\n",
        "# x = set(total_list)\n",
        "print(total_list)"
      ],
      "metadata": {
        "colab": {
          "base_uri": "https://localhost:8080/"
        },
        "id": "LADF7UJ9-5Rp",
        "outputId": "758b28b9-8fbd-473e-d703-d6a82d138e2c"
      },
      "execution_count": 7,
      "outputs": [
        {
          "output_type": "stream",
          "name": "stdout",
          "text": [
            "[['잎31.png', '잎28.png', '잎42.png', '잎47.png', '잎48.png', '잎72.png', '잎64.png', '잎77.png', '잎94.png', '잎92.png', '잎98.png', '잎119.png', '잎132.png', '잎149.png', '잎197.png', '잎196.png', '잎202.png', '잎236.png', '잎271.png', '잎282.png', '잎315.png', '잎297.png', '잎321.png', '잎331.png', '잎337.png', '잎340.png', '잎447.png', '잎448.png', '잎453.png', '잎452.png', '잎455.png', '잎454.png', '잎457.png', '잎458.png', '잎461.png', '잎462.png', '잎459.png', '잎465.png', '잎463.png', '잎464.png', '전체824.png'], ['잎5.png', '잎3.png', '잎6.png', '잎4.png', '잎1.png', '잎9.png', '잎22.png', '잎13.png', '잎12.png', '잎14.png', '잎41.png', '잎43.png', '잎67.png', '잎62.png', '잎74.png', '잎84.png', '잎82.png', '잎97.png', '잎96.png', '잎99.png', '잎116.png', '잎118.png', '잎190.png', '잎201.png', '잎206.png', '잎467.png', '잎466.png', '잎471.png', '잎469.png', '잎470.png', '잎476.png', '잎478.png', '잎481.png', '잎479.png', '잎480.png', '잎482.png', '잎535.png', '잎539.png', '잎537.png', '잎549.png', '전체598.png', '전체606.png', '전체614.png', '전체618.png', '전체636.png', '전체600.png']]\n"
          ]
        }
      ]
    },
    {
      "cell_type": "code",
      "source": [
        "total_list = np.concatenate(total_list).tolist()\n",
        "print(total_list)"
      ],
      "metadata": {
        "colab": {
          "base_uri": "https://localhost:8080/"
        },
        "id": "voDO7lRZ_Pv_",
        "outputId": "1446ca2a-51c0-457f-f229-986d77552890"
      },
      "execution_count": 8,
      "outputs": [
        {
          "output_type": "stream",
          "name": "stdout",
          "text": [
            "['잎31.png', '잎28.png', '잎42.png', '잎47.png', '잎48.png', '잎72.png', '잎64.png', '잎77.png', '잎94.png', '잎92.png', '잎98.png', '잎119.png', '잎132.png', '잎149.png', '잎197.png', '잎196.png', '잎202.png', '잎236.png', '잎271.png', '잎282.png', '잎315.png', '잎297.png', '잎321.png', '잎331.png', '잎337.png', '잎340.png', '잎447.png', '잎448.png', '잎453.png', '잎452.png', '잎455.png', '잎454.png', '잎457.png', '잎458.png', '잎461.png', '잎462.png', '잎459.png', '잎465.png', '잎463.png', '잎464.png', '전체824.png', '잎5.png', '잎3.png', '잎6.png', '잎4.png', '잎1.png', '잎9.png', '잎22.png', '잎13.png', '잎12.png', '잎14.png', '잎41.png', '잎43.png', '잎67.png', '잎62.png', '잎74.png', '잎84.png', '잎82.png', '잎97.png', '잎96.png', '잎99.png', '잎116.png', '잎118.png', '잎190.png', '잎201.png', '잎206.png', '잎467.png', '잎466.png', '잎471.png', '잎469.png', '잎470.png', '잎476.png', '잎478.png', '잎481.png', '잎479.png', '잎480.png', '잎482.png', '잎535.png', '잎539.png', '잎537.png', '잎549.png', '전체598.png', '전체606.png', '전체614.png', '전체618.png', '전체636.png', '전체600.png']\n"
          ]
        }
      ]
    },
    {
      "cell_type": "code",
      "source": [
        "_1 = np.concatenate(_1).tolist()\n",
        "_2 = np.concatenate(_2).tolist()\n",
        "# _3 = np.concatenate(_3).tolist()\n",
        "# _4 = np.concatenate(_4).tolist()\n",
        "# _5 = np.concatenate(_5).tolist()\n",
        "# _6 = np.concatenate(_6).tolist()"
      ],
      "metadata": {
        "id": "1S51CSVq8czV"
      },
      "execution_count": 9,
      "outputs": []
    },
    {
      "cell_type": "code",
      "source": [
        "df = pd.DataFrame({\n",
        "    'imgs' : total_list\n",
        "})"
      ],
      "metadata": {
        "id": "-OnwxyfM_cBp"
      },
      "execution_count": 10,
      "outputs": []
    },
    {
      "cell_type": "code",
      "source": [
        "df1 = pd.DataFrame({\n",
        "    '_1' : _1\n",
        "})\n",
        "df2 = pd.DataFrame({\n",
        "    '_2' : _2\n",
        "})\n",
        "# df3 = pd.DataFrame({\n",
        "#     '_3' : _3\n",
        "# })\n",
        "# df4 = pd.DataFrame({\n",
        "#     '_4' : _4\n",
        "# })\n",
        "# df5 = pd.DataFrame({\n",
        "#     '_5' : _5\n",
        "# })\n",
        "# df6 = pd.DataFrame({\n",
        "#     '_6' : _6\n",
        "# })"
      ],
      "metadata": {
        "id": "xH11NCEQ_2X4"
      },
      "execution_count": 11,
      "outputs": []
    },
    {
      "cell_type": "code",
      "source": [
        "result = pd.merge(df,df1, how='left', left_on='imgs', right_on='_1')\n",
        "result = pd.merge(result,df2, how='left', left_on='imgs', right_on='_2')\n",
        "# result = pd.merge(result,df3, how='left', left_on='imgs', right_on='_3')\n",
        "# result = pd.merge(result,df4, how='left', left_on='imgs', right_on='_4')\n",
        "# result = pd.merge(result,df5, how='left', left_on='imgs', right_on='_5')\n",
        "# result = pd.merge(result,df6, how='left', left_on='imgs', right_on='_6')"
      ],
      "metadata": {
        "id": "7JHB1So8ANKg"
      },
      "execution_count": 12,
      "outputs": []
    },
    {
      "cell_type": "code",
      "source": [
        "result = result.fillna(0)"
      ],
      "metadata": {
        "id": "xTwtGkWcANjn"
      },
      "execution_count": 13,
      "outputs": []
    },
    {
      "cell_type": "code",
      "source": [
        "result"
      ],
      "metadata": {
        "colab": {
          "base_uri": "https://localhost:8080/",
          "height": 423
        },
        "id": "TZL7Sz8YANqe",
        "outputId": "2997f345-1aee-4b0e-8f87-e09498ec7a17"
      },
      "execution_count": 14,
      "outputs": [
        {
          "output_type": "execute_result",
          "data": {
            "text/plain": [
              "            imgs         _1            _2\n",
              "0      잎31.png  잎31.png             0\n",
              "1      잎28.png  잎28.png             0\n",
              "2      잎42.png  잎42.png             0\n",
              "3      잎47.png  잎47.png             0\n",
              "4      잎48.png  잎48.png             0\n",
              "..           ...        ...           ...\n",
              "82  전체606.png          0  전체606.png\n",
              "83  전체614.png          0  전체614.png\n",
              "84  전체618.png          0  전체618.png\n",
              "85  전체636.png          0  전체636.png\n",
              "86  전체600.png          0  전체600.png\n",
              "\n",
              "[87 rows x 3 columns]"
            ],
            "text/html": [
              "\n",
              "  <div id=\"df-cd0d7b3b-fb36-496d-92af-e285695575f5\">\n",
              "    <div class=\"colab-df-container\">\n",
              "      <div>\n",
              "<style scoped>\n",
              "    .dataframe tbody tr th:only-of-type {\n",
              "        vertical-align: middle;\n",
              "    }\n",
              "\n",
              "    .dataframe tbody tr th {\n",
              "        vertical-align: top;\n",
              "    }\n",
              "\n",
              "    .dataframe thead th {\n",
              "        text-align: right;\n",
              "    }\n",
              "</style>\n",
              "<table border=\"1\" class=\"dataframe\">\n",
              "  <thead>\n",
              "    <tr style=\"text-align: right;\">\n",
              "      <th></th>\n",
              "      <th>imgs</th>\n",
              "      <th>_1</th>\n",
              "      <th>_2</th>\n",
              "    </tr>\n",
              "  </thead>\n",
              "  <tbody>\n",
              "    <tr>\n",
              "      <th>0</th>\n",
              "      <td>잎31.png</td>\n",
              "      <td>잎31.png</td>\n",
              "      <td>0</td>\n",
              "    </tr>\n",
              "    <tr>\n",
              "      <th>1</th>\n",
              "      <td>잎28.png</td>\n",
              "      <td>잎28.png</td>\n",
              "      <td>0</td>\n",
              "    </tr>\n",
              "    <tr>\n",
              "      <th>2</th>\n",
              "      <td>잎42.png</td>\n",
              "      <td>잎42.png</td>\n",
              "      <td>0</td>\n",
              "    </tr>\n",
              "    <tr>\n",
              "      <th>3</th>\n",
              "      <td>잎47.png</td>\n",
              "      <td>잎47.png</td>\n",
              "      <td>0</td>\n",
              "    </tr>\n",
              "    <tr>\n",
              "      <th>4</th>\n",
              "      <td>잎48.png</td>\n",
              "      <td>잎48.png</td>\n",
              "      <td>0</td>\n",
              "    </tr>\n",
              "    <tr>\n",
              "      <th>...</th>\n",
              "      <td>...</td>\n",
              "      <td>...</td>\n",
              "      <td>...</td>\n",
              "    </tr>\n",
              "    <tr>\n",
              "      <th>82</th>\n",
              "      <td>전체606.png</td>\n",
              "      <td>0</td>\n",
              "      <td>전체606.png</td>\n",
              "    </tr>\n",
              "    <tr>\n",
              "      <th>83</th>\n",
              "      <td>전체614.png</td>\n",
              "      <td>0</td>\n",
              "      <td>전체614.png</td>\n",
              "    </tr>\n",
              "    <tr>\n",
              "      <th>84</th>\n",
              "      <td>전체618.png</td>\n",
              "      <td>0</td>\n",
              "      <td>전체618.png</td>\n",
              "    </tr>\n",
              "    <tr>\n",
              "      <th>85</th>\n",
              "      <td>전체636.png</td>\n",
              "      <td>0</td>\n",
              "      <td>전체636.png</td>\n",
              "    </tr>\n",
              "    <tr>\n",
              "      <th>86</th>\n",
              "      <td>전체600.png</td>\n",
              "      <td>0</td>\n",
              "      <td>전체600.png</td>\n",
              "    </tr>\n",
              "  </tbody>\n",
              "</table>\n",
              "<p>87 rows × 3 columns</p>\n",
              "</div>\n",
              "      <button class=\"colab-df-convert\" onclick=\"convertToInteractive('df-cd0d7b3b-fb36-496d-92af-e285695575f5')\"\n",
              "              title=\"Convert this dataframe to an interactive table.\"\n",
              "              style=\"display:none;\">\n",
              "        \n",
              "  <svg xmlns=\"http://www.w3.org/2000/svg\" height=\"24px\"viewBox=\"0 0 24 24\"\n",
              "       width=\"24px\">\n",
              "    <path d=\"M0 0h24v24H0V0z\" fill=\"none\"/>\n",
              "    <path d=\"M18.56 5.44l.94 2.06.94-2.06 2.06-.94-2.06-.94-.94-2.06-.94 2.06-2.06.94zm-11 1L8.5 8.5l.94-2.06 2.06-.94-2.06-.94L8.5 2.5l-.94 2.06-2.06.94zm10 10l.94 2.06.94-2.06 2.06-.94-2.06-.94-.94-2.06-.94 2.06-2.06.94z\"/><path d=\"M17.41 7.96l-1.37-1.37c-.4-.4-.92-.59-1.43-.59-.52 0-1.04.2-1.43.59L10.3 9.45l-7.72 7.72c-.78.78-.78 2.05 0 2.83L4 21.41c.39.39.9.59 1.41.59.51 0 1.02-.2 1.41-.59l7.78-7.78 2.81-2.81c.8-.78.8-2.07 0-2.86zM5.41 20L4 18.59l7.72-7.72 1.47 1.35L5.41 20z\"/>\n",
              "  </svg>\n",
              "      </button>\n",
              "      \n",
              "  <style>\n",
              "    .colab-df-container {\n",
              "      display:flex;\n",
              "      flex-wrap:wrap;\n",
              "      gap: 12px;\n",
              "    }\n",
              "\n",
              "    .colab-df-convert {\n",
              "      background-color: #E8F0FE;\n",
              "      border: none;\n",
              "      border-radius: 50%;\n",
              "      cursor: pointer;\n",
              "      display: none;\n",
              "      fill: #1967D2;\n",
              "      height: 32px;\n",
              "      padding: 0 0 0 0;\n",
              "      width: 32px;\n",
              "    }\n",
              "\n",
              "    .colab-df-convert:hover {\n",
              "      background-color: #E2EBFA;\n",
              "      box-shadow: 0px 1px 2px rgba(60, 64, 67, 0.3), 0px 1px 3px 1px rgba(60, 64, 67, 0.15);\n",
              "      fill: #174EA6;\n",
              "    }\n",
              "\n",
              "    [theme=dark] .colab-df-convert {\n",
              "      background-color: #3B4455;\n",
              "      fill: #D2E3FC;\n",
              "    }\n",
              "\n",
              "    [theme=dark] .colab-df-convert:hover {\n",
              "      background-color: #434B5C;\n",
              "      box-shadow: 0px 1px 3px 1px rgba(0, 0, 0, 0.15);\n",
              "      filter: drop-shadow(0px 1px 2px rgba(0, 0, 0, 0.3));\n",
              "      fill: #FFFFFF;\n",
              "    }\n",
              "  </style>\n",
              "\n",
              "      <script>\n",
              "        const buttonEl =\n",
              "          document.querySelector('#df-cd0d7b3b-fb36-496d-92af-e285695575f5 button.colab-df-convert');\n",
              "        buttonEl.style.display =\n",
              "          google.colab.kernel.accessAllowed ? 'block' : 'none';\n",
              "\n",
              "        async function convertToInteractive(key) {\n",
              "          const element = document.querySelector('#df-cd0d7b3b-fb36-496d-92af-e285695575f5');\n",
              "          const dataTable =\n",
              "            await google.colab.kernel.invokeFunction('convertToInteractive',\n",
              "                                                     [key], {});\n",
              "          if (!dataTable) return;\n",
              "\n",
              "          const docLinkHtml = 'Like what you see? Visit the ' +\n",
              "            '<a target=\"_blank\" href=https://colab.research.google.com/notebooks/data_table.ipynb>data table notebook</a>'\n",
              "            + ' to learn more about interactive tables.';\n",
              "          element.innerHTML = '';\n",
              "          dataTable['output_type'] = 'display_data';\n",
              "          await google.colab.output.renderOutput(dataTable, element);\n",
              "          const docLink = document.createElement('div');\n",
              "          docLink.innerHTML = docLinkHtml;\n",
              "          element.appendChild(docLink);\n",
              "        }\n",
              "      </script>\n",
              "    </div>\n",
              "  </div>\n",
              "  "
            ]
          },
          "metadata": {},
          "execution_count": 14
        }
      ]
    },
    {
      "cell_type": "code",
      "source": [
        "def binary(data):\n",
        "    if data != 0:\n",
        "        data = 1\n",
        "        return data\n",
        "    else:\n",
        "        return data\n",
        "result['_1'] = result['_1'].apply(binary)\n",
        "result['_2'] = result['_2'].apply(binary)\n",
        "# result['_3'] = result['_3'].apply(binary)\n",
        "# result['_4'] = result['_4'].apply(binary)\n",
        "# result['_5'] = result['_5'].apply(binary)\n",
        "# result['_6'] = result['_6'].apply(binary)"
      ],
      "metadata": {
        "id": "PmfI6UJPC1iM"
      },
      "execution_count": 15,
      "outputs": []
    },
    {
      "cell_type": "code",
      "source": [
        "result"
      ],
      "metadata": {
        "colab": {
          "base_uri": "https://localhost:8080/",
          "height": 423
        },
        "id": "SkV-uNMyANtI",
        "outputId": "aef99337-fc9d-4c89-8d81-d85c39135a51"
      },
      "execution_count": 16,
      "outputs": [
        {
          "output_type": "execute_result",
          "data": {
            "text/plain": [
              "            imgs  _1  _2\n",
              "0      잎31.png   1   0\n",
              "1      잎28.png   1   0\n",
              "2      잎42.png   1   0\n",
              "3      잎47.png   1   0\n",
              "4      잎48.png   1   0\n",
              "..           ...  ..  ..\n",
              "82  전체606.png   0   1\n",
              "83  전체614.png   0   1\n",
              "84  전체618.png   0   1\n",
              "85  전체636.png   0   1\n",
              "86  전체600.png   0   1\n",
              "\n",
              "[87 rows x 3 columns]"
            ],
            "text/html": [
              "\n",
              "  <div id=\"df-d9ff4159-7d72-4a54-ba42-437034903b0a\">\n",
              "    <div class=\"colab-df-container\">\n",
              "      <div>\n",
              "<style scoped>\n",
              "    .dataframe tbody tr th:only-of-type {\n",
              "        vertical-align: middle;\n",
              "    }\n",
              "\n",
              "    .dataframe tbody tr th {\n",
              "        vertical-align: top;\n",
              "    }\n",
              "\n",
              "    .dataframe thead th {\n",
              "        text-align: right;\n",
              "    }\n",
              "</style>\n",
              "<table border=\"1\" class=\"dataframe\">\n",
              "  <thead>\n",
              "    <tr style=\"text-align: right;\">\n",
              "      <th></th>\n",
              "      <th>imgs</th>\n",
              "      <th>_1</th>\n",
              "      <th>_2</th>\n",
              "    </tr>\n",
              "  </thead>\n",
              "  <tbody>\n",
              "    <tr>\n",
              "      <th>0</th>\n",
              "      <td>잎31.png</td>\n",
              "      <td>1</td>\n",
              "      <td>0</td>\n",
              "    </tr>\n",
              "    <tr>\n",
              "      <th>1</th>\n",
              "      <td>잎28.png</td>\n",
              "      <td>1</td>\n",
              "      <td>0</td>\n",
              "    </tr>\n",
              "    <tr>\n",
              "      <th>2</th>\n",
              "      <td>잎42.png</td>\n",
              "      <td>1</td>\n",
              "      <td>0</td>\n",
              "    </tr>\n",
              "    <tr>\n",
              "      <th>3</th>\n",
              "      <td>잎47.png</td>\n",
              "      <td>1</td>\n",
              "      <td>0</td>\n",
              "    </tr>\n",
              "    <tr>\n",
              "      <th>4</th>\n",
              "      <td>잎48.png</td>\n",
              "      <td>1</td>\n",
              "      <td>0</td>\n",
              "    </tr>\n",
              "    <tr>\n",
              "      <th>...</th>\n",
              "      <td>...</td>\n",
              "      <td>...</td>\n",
              "      <td>...</td>\n",
              "    </tr>\n",
              "    <tr>\n",
              "      <th>82</th>\n",
              "      <td>전체606.png</td>\n",
              "      <td>0</td>\n",
              "      <td>1</td>\n",
              "    </tr>\n",
              "    <tr>\n",
              "      <th>83</th>\n",
              "      <td>전체614.png</td>\n",
              "      <td>0</td>\n",
              "      <td>1</td>\n",
              "    </tr>\n",
              "    <tr>\n",
              "      <th>84</th>\n",
              "      <td>전체618.png</td>\n",
              "      <td>0</td>\n",
              "      <td>1</td>\n",
              "    </tr>\n",
              "    <tr>\n",
              "      <th>85</th>\n",
              "      <td>전체636.png</td>\n",
              "      <td>0</td>\n",
              "      <td>1</td>\n",
              "    </tr>\n",
              "    <tr>\n",
              "      <th>86</th>\n",
              "      <td>전체600.png</td>\n",
              "      <td>0</td>\n",
              "      <td>1</td>\n",
              "    </tr>\n",
              "  </tbody>\n",
              "</table>\n",
              "<p>87 rows × 3 columns</p>\n",
              "</div>\n",
              "      <button class=\"colab-df-convert\" onclick=\"convertToInteractive('df-d9ff4159-7d72-4a54-ba42-437034903b0a')\"\n",
              "              title=\"Convert this dataframe to an interactive table.\"\n",
              "              style=\"display:none;\">\n",
              "        \n",
              "  <svg xmlns=\"http://www.w3.org/2000/svg\" height=\"24px\"viewBox=\"0 0 24 24\"\n",
              "       width=\"24px\">\n",
              "    <path d=\"M0 0h24v24H0V0z\" fill=\"none\"/>\n",
              "    <path d=\"M18.56 5.44l.94 2.06.94-2.06 2.06-.94-2.06-.94-.94-2.06-.94 2.06-2.06.94zm-11 1L8.5 8.5l.94-2.06 2.06-.94-2.06-.94L8.5 2.5l-.94 2.06-2.06.94zm10 10l.94 2.06.94-2.06 2.06-.94-2.06-.94-.94-2.06-.94 2.06-2.06.94z\"/><path d=\"M17.41 7.96l-1.37-1.37c-.4-.4-.92-.59-1.43-.59-.52 0-1.04.2-1.43.59L10.3 9.45l-7.72 7.72c-.78.78-.78 2.05 0 2.83L4 21.41c.39.39.9.59 1.41.59.51 0 1.02-.2 1.41-.59l7.78-7.78 2.81-2.81c.8-.78.8-2.07 0-2.86zM5.41 20L4 18.59l7.72-7.72 1.47 1.35L5.41 20z\"/>\n",
              "  </svg>\n",
              "      </button>\n",
              "      \n",
              "  <style>\n",
              "    .colab-df-container {\n",
              "      display:flex;\n",
              "      flex-wrap:wrap;\n",
              "      gap: 12px;\n",
              "    }\n",
              "\n",
              "    .colab-df-convert {\n",
              "      background-color: #E8F0FE;\n",
              "      border: none;\n",
              "      border-radius: 50%;\n",
              "      cursor: pointer;\n",
              "      display: none;\n",
              "      fill: #1967D2;\n",
              "      height: 32px;\n",
              "      padding: 0 0 0 0;\n",
              "      width: 32px;\n",
              "    }\n",
              "\n",
              "    .colab-df-convert:hover {\n",
              "      background-color: #E2EBFA;\n",
              "      box-shadow: 0px 1px 2px rgba(60, 64, 67, 0.3), 0px 1px 3px 1px rgba(60, 64, 67, 0.15);\n",
              "      fill: #174EA6;\n",
              "    }\n",
              "\n",
              "    [theme=dark] .colab-df-convert {\n",
              "      background-color: #3B4455;\n",
              "      fill: #D2E3FC;\n",
              "    }\n",
              "\n",
              "    [theme=dark] .colab-df-convert:hover {\n",
              "      background-color: #434B5C;\n",
              "      box-shadow: 0px 1px 3px 1px rgba(0, 0, 0, 0.15);\n",
              "      filter: drop-shadow(0px 1px 2px rgba(0, 0, 0, 0.3));\n",
              "      fill: #FFFFFF;\n",
              "    }\n",
              "  </style>\n",
              "\n",
              "      <script>\n",
              "        const buttonEl =\n",
              "          document.querySelector('#df-d9ff4159-7d72-4a54-ba42-437034903b0a button.colab-df-convert');\n",
              "        buttonEl.style.display =\n",
              "          google.colab.kernel.accessAllowed ? 'block' : 'none';\n",
              "\n",
              "        async function convertToInteractive(key) {\n",
              "          const element = document.querySelector('#df-d9ff4159-7d72-4a54-ba42-437034903b0a');\n",
              "          const dataTable =\n",
              "            await google.colab.kernel.invokeFunction('convertToInteractive',\n",
              "                                                     [key], {});\n",
              "          if (!dataTable) return;\n",
              "\n",
              "          const docLinkHtml = 'Like what you see? Visit the ' +\n",
              "            '<a target=\"_blank\" href=https://colab.research.google.com/notebooks/data_table.ipynb>data table notebook</a>'\n",
              "            + ' to learn more about interactive tables.';\n",
              "          element.innerHTML = '';\n",
              "          dataTable['output_type'] = 'display_data';\n",
              "          await google.colab.output.renderOutput(dataTable, element);\n",
              "          const docLink = document.createElement('div');\n",
              "          docLink.innerHTML = docLinkHtml;\n",
              "          element.appendChild(docLink);\n",
              "        }\n",
              "      </script>\n",
              "    </div>\n",
              "  </div>\n",
              "  "
            ]
          },
          "metadata": {},
          "execution_count": 16
        }
      ]
    },
    {
      "cell_type": "code",
      "source": [
        "result.columns = ['imgs','그물', '그물 아닌']"
      ],
      "metadata": {
        "id": "L4bvtPQAANvA"
      },
      "execution_count": 17,
      "outputs": []
    },
    {
      "cell_type": "code",
      "source": [
        "result1 = result.copy()"
      ],
      "metadata": {
        "id": "Kf0ksNpa_2vw"
      },
      "execution_count": 18,
      "outputs": []
    },
    {
      "cell_type": "code",
      "source": [
        "# def chage(data):\n",
        "#     if data == 1:\n",
        "#         data = 0\n",
        "#         return data\n",
        "#     else:\n",
        "#         data = 1\n",
        "#         return data\n",
        "# result1['잎을 무성하게 그린'] = result1['잎을 무성하게 그린'].apply(chage)\n",
        "\n",
        "# result['_2'] = result['_2'].apply(binary)\n",
        "# result['_3'] = result['_3'].apply(binary)"
      ],
      "metadata": {
        "id": "5TA80HcuZtie"
      },
      "execution_count": null,
      "outputs": []
    },
    {
      "cell_type": "code",
      "source": [
        "# def chage2(data):\n",
        "#     if data == 1:\n",
        "#         data = 2\n",
        "#         return data\n",
        "#     else:\n",
        "#         data = 0\n",
        "#         return data\n",
        "# result['잎을 안 무성하게 그린'] = result['잎을 안 무성하게 그린'].apply(chage2)"
      ],
      "metadata": {
        "id": "sb2vRDx1gPty"
      },
      "execution_count": null,
      "outputs": []
    },
    {
      "cell_type": "code",
      "source": [
        "result1.iloc[101:120]"
      ],
      "metadata": {
        "colab": {
          "base_uri": "https://localhost:8080/",
          "height": 49
        },
        "id": "-LEDNDJa1O6E",
        "outputId": "9c0ee263-d1a6-413d-c34b-03436a30998e"
      },
      "execution_count": null,
      "outputs": [
        {
          "output_type": "execute_result",
          "data": {
            "text/plain": [
              "Empty DataFrame\n",
              "Columns: [imgs, 윗쪽으로 안 뻗는, 윗쪽으로 뻗는]\n",
              "Index: []"
            ],
            "text/html": [
              "\n",
              "  <div id=\"df-a8a7a2dc-5a38-443a-bee9-e5a4b2266115\">\n",
              "    <div class=\"colab-df-container\">\n",
              "      <div>\n",
              "<style scoped>\n",
              "    .dataframe tbody tr th:only-of-type {\n",
              "        vertical-align: middle;\n",
              "    }\n",
              "\n",
              "    .dataframe tbody tr th {\n",
              "        vertical-align: top;\n",
              "    }\n",
              "\n",
              "    .dataframe thead th {\n",
              "        text-align: right;\n",
              "    }\n",
              "</style>\n",
              "<table border=\"1\" class=\"dataframe\">\n",
              "  <thead>\n",
              "    <tr style=\"text-align: right;\">\n",
              "      <th></th>\n",
              "      <th>imgs</th>\n",
              "      <th>윗쪽으로 안 뻗는</th>\n",
              "      <th>윗쪽으로 뻗는</th>\n",
              "    </tr>\n",
              "  </thead>\n",
              "  <tbody>\n",
              "  </tbody>\n",
              "</table>\n",
              "</div>\n",
              "      <button class=\"colab-df-convert\" onclick=\"convertToInteractive('df-a8a7a2dc-5a38-443a-bee9-e5a4b2266115')\"\n",
              "              title=\"Convert this dataframe to an interactive table.\"\n",
              "              style=\"display:none;\">\n",
              "        \n",
              "  <svg xmlns=\"http://www.w3.org/2000/svg\" height=\"24px\"viewBox=\"0 0 24 24\"\n",
              "       width=\"24px\">\n",
              "    <path d=\"M0 0h24v24H0V0z\" fill=\"none\"/>\n",
              "    <path d=\"M18.56 5.44l.94 2.06.94-2.06 2.06-.94-2.06-.94-.94-2.06-.94 2.06-2.06.94zm-11 1L8.5 8.5l.94-2.06 2.06-.94-2.06-.94L8.5 2.5l-.94 2.06-2.06.94zm10 10l.94 2.06.94-2.06 2.06-.94-2.06-.94-.94-2.06-.94 2.06-2.06.94z\"/><path d=\"M17.41 7.96l-1.37-1.37c-.4-.4-.92-.59-1.43-.59-.52 0-1.04.2-1.43.59L10.3 9.45l-7.72 7.72c-.78.78-.78 2.05 0 2.83L4 21.41c.39.39.9.59 1.41.59.51 0 1.02-.2 1.41-.59l7.78-7.78 2.81-2.81c.8-.78.8-2.07 0-2.86zM5.41 20L4 18.59l7.72-7.72 1.47 1.35L5.41 20z\"/>\n",
              "  </svg>\n",
              "      </button>\n",
              "      \n",
              "  <style>\n",
              "    .colab-df-container {\n",
              "      display:flex;\n",
              "      flex-wrap:wrap;\n",
              "      gap: 12px;\n",
              "    }\n",
              "\n",
              "    .colab-df-convert {\n",
              "      background-color: #E8F0FE;\n",
              "      border: none;\n",
              "      border-radius: 50%;\n",
              "      cursor: pointer;\n",
              "      display: none;\n",
              "      fill: #1967D2;\n",
              "      height: 32px;\n",
              "      padding: 0 0 0 0;\n",
              "      width: 32px;\n",
              "    }\n",
              "\n",
              "    .colab-df-convert:hover {\n",
              "      background-color: #E2EBFA;\n",
              "      box-shadow: 0px 1px 2px rgba(60, 64, 67, 0.3), 0px 1px 3px 1px rgba(60, 64, 67, 0.15);\n",
              "      fill: #174EA6;\n",
              "    }\n",
              "\n",
              "    [theme=dark] .colab-df-convert {\n",
              "      background-color: #3B4455;\n",
              "      fill: #D2E3FC;\n",
              "    }\n",
              "\n",
              "    [theme=dark] .colab-df-convert:hover {\n",
              "      background-color: #434B5C;\n",
              "      box-shadow: 0px 1px 3px 1px rgba(0, 0, 0, 0.15);\n",
              "      filter: drop-shadow(0px 1px 2px rgba(0, 0, 0, 0.3));\n",
              "      fill: #FFFFFF;\n",
              "    }\n",
              "  </style>\n",
              "\n",
              "      <script>\n",
              "        const buttonEl =\n",
              "          document.querySelector('#df-a8a7a2dc-5a38-443a-bee9-e5a4b2266115 button.colab-df-convert');\n",
              "        buttonEl.style.display =\n",
              "          google.colab.kernel.accessAllowed ? 'block' : 'none';\n",
              "\n",
              "        async function convertToInteractive(key) {\n",
              "          const element = document.querySelector('#df-a8a7a2dc-5a38-443a-bee9-e5a4b2266115');\n",
              "          const dataTable =\n",
              "            await google.colab.kernel.invokeFunction('convertToInteractive',\n",
              "                                                     [key], {});\n",
              "          if (!dataTable) return;\n",
              "\n",
              "          const docLinkHtml = 'Like what you see? Visit the ' +\n",
              "            '<a target=\"_blank\" href=https://colab.research.google.com/notebooks/data_table.ipynb>data table notebook</a>'\n",
              "            + ' to learn more about interactive tables.';\n",
              "          element.innerHTML = '';\n",
              "          dataTable['output_type'] = 'display_data';\n",
              "          await google.colab.output.renderOutput(dataTable, element);\n",
              "          const docLink = document.createElement('div');\n",
              "          docLink.innerHTML = docLinkHtml;\n",
              "          element.appendChild(docLink);\n",
              "        }\n",
              "      </script>\n",
              "    </div>\n",
              "  </div>\n",
              "  "
            ]
          },
          "metadata": {},
          "execution_count": 21
        }
      ]
    },
    {
      "cell_type": "code",
      "source": [
        "data_1 = result1[['imgs','그물']]\n",
        "data_1.columns = ['imgs','잎']"
      ],
      "metadata": {
        "id": "-Sp8eDTjazTo"
      },
      "execution_count": 19,
      "outputs": []
    },
    {
      "cell_type": "code",
      "source": [
        "data_1"
      ],
      "metadata": {
        "colab": {
          "base_uri": "https://localhost:8080/",
          "height": 423
        },
        "id": "-q97lEUkVqgg",
        "outputId": "5ac31c28-3944-4e00-abbc-baf2bb010b0d"
      },
      "execution_count": 20,
      "outputs": [
        {
          "output_type": "execute_result",
          "data": {
            "text/plain": [
              "            imgs  잎\n",
              "0      잎31.png  1\n",
              "1      잎28.png  1\n",
              "2      잎42.png  1\n",
              "3      잎47.png  1\n",
              "4      잎48.png  1\n",
              "..           ... ..\n",
              "82  전체606.png  0\n",
              "83  전체614.png  0\n",
              "84  전체618.png  0\n",
              "85  전체636.png  0\n",
              "86  전체600.png  0\n",
              "\n",
              "[87 rows x 2 columns]"
            ],
            "text/html": [
              "\n",
              "  <div id=\"df-da8582ab-6dba-4a4f-901d-cc42aa95ca86\">\n",
              "    <div class=\"colab-df-container\">\n",
              "      <div>\n",
              "<style scoped>\n",
              "    .dataframe tbody tr th:only-of-type {\n",
              "        vertical-align: middle;\n",
              "    }\n",
              "\n",
              "    .dataframe tbody tr th {\n",
              "        vertical-align: top;\n",
              "    }\n",
              "\n",
              "    .dataframe thead th {\n",
              "        text-align: right;\n",
              "    }\n",
              "</style>\n",
              "<table border=\"1\" class=\"dataframe\">\n",
              "  <thead>\n",
              "    <tr style=\"text-align: right;\">\n",
              "      <th></th>\n",
              "      <th>imgs</th>\n",
              "      <th>잎</th>\n",
              "    </tr>\n",
              "  </thead>\n",
              "  <tbody>\n",
              "    <tr>\n",
              "      <th>0</th>\n",
              "      <td>잎31.png</td>\n",
              "      <td>1</td>\n",
              "    </tr>\n",
              "    <tr>\n",
              "      <th>1</th>\n",
              "      <td>잎28.png</td>\n",
              "      <td>1</td>\n",
              "    </tr>\n",
              "    <tr>\n",
              "      <th>2</th>\n",
              "      <td>잎42.png</td>\n",
              "      <td>1</td>\n",
              "    </tr>\n",
              "    <tr>\n",
              "      <th>3</th>\n",
              "      <td>잎47.png</td>\n",
              "      <td>1</td>\n",
              "    </tr>\n",
              "    <tr>\n",
              "      <th>4</th>\n",
              "      <td>잎48.png</td>\n",
              "      <td>1</td>\n",
              "    </tr>\n",
              "    <tr>\n",
              "      <th>...</th>\n",
              "      <td>...</td>\n",
              "      <td>...</td>\n",
              "    </tr>\n",
              "    <tr>\n",
              "      <th>82</th>\n",
              "      <td>전체606.png</td>\n",
              "      <td>0</td>\n",
              "    </tr>\n",
              "    <tr>\n",
              "      <th>83</th>\n",
              "      <td>전체614.png</td>\n",
              "      <td>0</td>\n",
              "    </tr>\n",
              "    <tr>\n",
              "      <th>84</th>\n",
              "      <td>전체618.png</td>\n",
              "      <td>0</td>\n",
              "    </tr>\n",
              "    <tr>\n",
              "      <th>85</th>\n",
              "      <td>전체636.png</td>\n",
              "      <td>0</td>\n",
              "    </tr>\n",
              "    <tr>\n",
              "      <th>86</th>\n",
              "      <td>전체600.png</td>\n",
              "      <td>0</td>\n",
              "    </tr>\n",
              "  </tbody>\n",
              "</table>\n",
              "<p>87 rows × 2 columns</p>\n",
              "</div>\n",
              "      <button class=\"colab-df-convert\" onclick=\"convertToInteractive('df-da8582ab-6dba-4a4f-901d-cc42aa95ca86')\"\n",
              "              title=\"Convert this dataframe to an interactive table.\"\n",
              "              style=\"display:none;\">\n",
              "        \n",
              "  <svg xmlns=\"http://www.w3.org/2000/svg\" height=\"24px\"viewBox=\"0 0 24 24\"\n",
              "       width=\"24px\">\n",
              "    <path d=\"M0 0h24v24H0V0z\" fill=\"none\"/>\n",
              "    <path d=\"M18.56 5.44l.94 2.06.94-2.06 2.06-.94-2.06-.94-.94-2.06-.94 2.06-2.06.94zm-11 1L8.5 8.5l.94-2.06 2.06-.94-2.06-.94L8.5 2.5l-.94 2.06-2.06.94zm10 10l.94 2.06.94-2.06 2.06-.94-2.06-.94-.94-2.06-.94 2.06-2.06.94z\"/><path d=\"M17.41 7.96l-1.37-1.37c-.4-.4-.92-.59-1.43-.59-.52 0-1.04.2-1.43.59L10.3 9.45l-7.72 7.72c-.78.78-.78 2.05 0 2.83L4 21.41c.39.39.9.59 1.41.59.51 0 1.02-.2 1.41-.59l7.78-7.78 2.81-2.81c.8-.78.8-2.07 0-2.86zM5.41 20L4 18.59l7.72-7.72 1.47 1.35L5.41 20z\"/>\n",
              "  </svg>\n",
              "      </button>\n",
              "      \n",
              "  <style>\n",
              "    .colab-df-container {\n",
              "      display:flex;\n",
              "      flex-wrap:wrap;\n",
              "      gap: 12px;\n",
              "    }\n",
              "\n",
              "    .colab-df-convert {\n",
              "      background-color: #E8F0FE;\n",
              "      border: none;\n",
              "      border-radius: 50%;\n",
              "      cursor: pointer;\n",
              "      display: none;\n",
              "      fill: #1967D2;\n",
              "      height: 32px;\n",
              "      padding: 0 0 0 0;\n",
              "      width: 32px;\n",
              "    }\n",
              "\n",
              "    .colab-df-convert:hover {\n",
              "      background-color: #E2EBFA;\n",
              "      box-shadow: 0px 1px 2px rgba(60, 64, 67, 0.3), 0px 1px 3px 1px rgba(60, 64, 67, 0.15);\n",
              "      fill: #174EA6;\n",
              "    }\n",
              "\n",
              "    [theme=dark] .colab-df-convert {\n",
              "      background-color: #3B4455;\n",
              "      fill: #D2E3FC;\n",
              "    }\n",
              "\n",
              "    [theme=dark] .colab-df-convert:hover {\n",
              "      background-color: #434B5C;\n",
              "      box-shadow: 0px 1px 3px 1px rgba(0, 0, 0, 0.15);\n",
              "      filter: drop-shadow(0px 1px 2px rgba(0, 0, 0, 0.3));\n",
              "      fill: #FFFFFF;\n",
              "    }\n",
              "  </style>\n",
              "\n",
              "      <script>\n",
              "        const buttonEl =\n",
              "          document.querySelector('#df-da8582ab-6dba-4a4f-901d-cc42aa95ca86 button.colab-df-convert');\n",
              "        buttonEl.style.display =\n",
              "          google.colab.kernel.accessAllowed ? 'block' : 'none';\n",
              "\n",
              "        async function convertToInteractive(key) {\n",
              "          const element = document.querySelector('#df-da8582ab-6dba-4a4f-901d-cc42aa95ca86');\n",
              "          const dataTable =\n",
              "            await google.colab.kernel.invokeFunction('convertToInteractive',\n",
              "                                                     [key], {});\n",
              "          if (!dataTable) return;\n",
              "\n",
              "          const docLinkHtml = 'Like what you see? Visit the ' +\n",
              "            '<a target=\"_blank\" href=https://colab.research.google.com/notebooks/data_table.ipynb>data table notebook</a>'\n",
              "            + ' to learn more about interactive tables.';\n",
              "          element.innerHTML = '';\n",
              "          dataTable['output_type'] = 'display_data';\n",
              "          await google.colab.output.renderOutput(dataTable, element);\n",
              "          const docLink = document.createElement('div');\n",
              "          docLink.innerHTML = docLinkHtml;\n",
              "          element.appendChild(docLink);\n",
              "        }\n",
              "      </script>\n",
              "    </div>\n",
              "  </div>\n",
              "  "
            ]
          },
          "metadata": {},
          "execution_count": 20
        }
      ]
    },
    {
      "cell_type": "code",
      "source": [
        "data_1['잎'].value_counts()"
      ],
      "metadata": {
        "colab": {
          "base_uri": "https://localhost:8080/"
        },
        "id": "2EhrRcGEfvk5",
        "outputId": "97b1678a-5e58-448e-990b-22e306ae2e89"
      },
      "execution_count": 21,
      "outputs": [
        {
          "output_type": "execute_result",
          "data": {
            "text/plain": [
              "0    46\n",
              "1    41\n",
              "Name: 잎, dtype: int64"
            ]
          },
          "metadata": {},
          "execution_count": 21
        }
      ]
    },
    {
      "cell_type": "code",
      "source": [
        "import sklearn\n",
        "data_merge2_shuffled = sklearn.utils.shuffle(data_1)"
      ],
      "metadata": {
        "id": "oxAX2flsfWh_"
      },
      "execution_count": 22,
      "outputs": []
    },
    {
      "cell_type": "code",
      "source": [
        "data_merge2_shuffled"
      ],
      "metadata": {
        "colab": {
          "base_uri": "https://localhost:8080/",
          "height": 423
        },
        "id": "f1EU7ATajxP0",
        "outputId": "ea086813-b8a4-4e37-9a8d-5a7b5ac64a27"
      },
      "execution_count": 23,
      "outputs": [
        {
          "output_type": "execute_result",
          "data": {
            "text/plain": [
              "            imgs  잎\n",
              "75    잎480.png  0\n",
              "55     잎74.png  0\n",
              "13    잎149.png  1\n",
              "61    잎116.png  0\n",
              "49     잎12.png  0\n",
              "..           ... ..\n",
              "40  전체824.png  1\n",
              "74    잎479.png  0\n",
              "73    잎481.png  0\n",
              "70    잎470.png  0\n",
              "81  전체598.png  0\n",
              "\n",
              "[87 rows x 2 columns]"
            ],
            "text/html": [
              "\n",
              "  <div id=\"df-687ea9c6-6783-4178-a6e3-4baf1c03b938\">\n",
              "    <div class=\"colab-df-container\">\n",
              "      <div>\n",
              "<style scoped>\n",
              "    .dataframe tbody tr th:only-of-type {\n",
              "        vertical-align: middle;\n",
              "    }\n",
              "\n",
              "    .dataframe tbody tr th {\n",
              "        vertical-align: top;\n",
              "    }\n",
              "\n",
              "    .dataframe thead th {\n",
              "        text-align: right;\n",
              "    }\n",
              "</style>\n",
              "<table border=\"1\" class=\"dataframe\">\n",
              "  <thead>\n",
              "    <tr style=\"text-align: right;\">\n",
              "      <th></th>\n",
              "      <th>imgs</th>\n",
              "      <th>잎</th>\n",
              "    </tr>\n",
              "  </thead>\n",
              "  <tbody>\n",
              "    <tr>\n",
              "      <th>75</th>\n",
              "      <td>잎480.png</td>\n",
              "      <td>0</td>\n",
              "    </tr>\n",
              "    <tr>\n",
              "      <th>55</th>\n",
              "      <td>잎74.png</td>\n",
              "      <td>0</td>\n",
              "    </tr>\n",
              "    <tr>\n",
              "      <th>13</th>\n",
              "      <td>잎149.png</td>\n",
              "      <td>1</td>\n",
              "    </tr>\n",
              "    <tr>\n",
              "      <th>61</th>\n",
              "      <td>잎116.png</td>\n",
              "      <td>0</td>\n",
              "    </tr>\n",
              "    <tr>\n",
              "      <th>49</th>\n",
              "      <td>잎12.png</td>\n",
              "      <td>0</td>\n",
              "    </tr>\n",
              "    <tr>\n",
              "      <th>...</th>\n",
              "      <td>...</td>\n",
              "      <td>...</td>\n",
              "    </tr>\n",
              "    <tr>\n",
              "      <th>40</th>\n",
              "      <td>전체824.png</td>\n",
              "      <td>1</td>\n",
              "    </tr>\n",
              "    <tr>\n",
              "      <th>74</th>\n",
              "      <td>잎479.png</td>\n",
              "      <td>0</td>\n",
              "    </tr>\n",
              "    <tr>\n",
              "      <th>73</th>\n",
              "      <td>잎481.png</td>\n",
              "      <td>0</td>\n",
              "    </tr>\n",
              "    <tr>\n",
              "      <th>70</th>\n",
              "      <td>잎470.png</td>\n",
              "      <td>0</td>\n",
              "    </tr>\n",
              "    <tr>\n",
              "      <th>81</th>\n",
              "      <td>전체598.png</td>\n",
              "      <td>0</td>\n",
              "    </tr>\n",
              "  </tbody>\n",
              "</table>\n",
              "<p>87 rows × 2 columns</p>\n",
              "</div>\n",
              "      <button class=\"colab-df-convert\" onclick=\"convertToInteractive('df-687ea9c6-6783-4178-a6e3-4baf1c03b938')\"\n",
              "              title=\"Convert this dataframe to an interactive table.\"\n",
              "              style=\"display:none;\">\n",
              "        \n",
              "  <svg xmlns=\"http://www.w3.org/2000/svg\" height=\"24px\"viewBox=\"0 0 24 24\"\n",
              "       width=\"24px\">\n",
              "    <path d=\"M0 0h24v24H0V0z\" fill=\"none\"/>\n",
              "    <path d=\"M18.56 5.44l.94 2.06.94-2.06 2.06-.94-2.06-.94-.94-2.06-.94 2.06-2.06.94zm-11 1L8.5 8.5l.94-2.06 2.06-.94-2.06-.94L8.5 2.5l-.94 2.06-2.06.94zm10 10l.94 2.06.94-2.06 2.06-.94-2.06-.94-.94-2.06-.94 2.06-2.06.94z\"/><path d=\"M17.41 7.96l-1.37-1.37c-.4-.4-.92-.59-1.43-.59-.52 0-1.04.2-1.43.59L10.3 9.45l-7.72 7.72c-.78.78-.78 2.05 0 2.83L4 21.41c.39.39.9.59 1.41.59.51 0 1.02-.2 1.41-.59l7.78-7.78 2.81-2.81c.8-.78.8-2.07 0-2.86zM5.41 20L4 18.59l7.72-7.72 1.47 1.35L5.41 20z\"/>\n",
              "  </svg>\n",
              "      </button>\n",
              "      \n",
              "  <style>\n",
              "    .colab-df-container {\n",
              "      display:flex;\n",
              "      flex-wrap:wrap;\n",
              "      gap: 12px;\n",
              "    }\n",
              "\n",
              "    .colab-df-convert {\n",
              "      background-color: #E8F0FE;\n",
              "      border: none;\n",
              "      border-radius: 50%;\n",
              "      cursor: pointer;\n",
              "      display: none;\n",
              "      fill: #1967D2;\n",
              "      height: 32px;\n",
              "      padding: 0 0 0 0;\n",
              "      width: 32px;\n",
              "    }\n",
              "\n",
              "    .colab-df-convert:hover {\n",
              "      background-color: #E2EBFA;\n",
              "      box-shadow: 0px 1px 2px rgba(60, 64, 67, 0.3), 0px 1px 3px 1px rgba(60, 64, 67, 0.15);\n",
              "      fill: #174EA6;\n",
              "    }\n",
              "\n",
              "    [theme=dark] .colab-df-convert {\n",
              "      background-color: #3B4455;\n",
              "      fill: #D2E3FC;\n",
              "    }\n",
              "\n",
              "    [theme=dark] .colab-df-convert:hover {\n",
              "      background-color: #434B5C;\n",
              "      box-shadow: 0px 1px 3px 1px rgba(0, 0, 0, 0.15);\n",
              "      filter: drop-shadow(0px 1px 2px rgba(0, 0, 0, 0.3));\n",
              "      fill: #FFFFFF;\n",
              "    }\n",
              "  </style>\n",
              "\n",
              "      <script>\n",
              "        const buttonEl =\n",
              "          document.querySelector('#df-687ea9c6-6783-4178-a6e3-4baf1c03b938 button.colab-df-convert');\n",
              "        buttonEl.style.display =\n",
              "          google.colab.kernel.accessAllowed ? 'block' : 'none';\n",
              "\n",
              "        async function convertToInteractive(key) {\n",
              "          const element = document.querySelector('#df-687ea9c6-6783-4178-a6e3-4baf1c03b938');\n",
              "          const dataTable =\n",
              "            await google.colab.kernel.invokeFunction('convertToInteractive',\n",
              "                                                     [key], {});\n",
              "          if (!dataTable) return;\n",
              "\n",
              "          const docLinkHtml = 'Like what you see? Visit the ' +\n",
              "            '<a target=\"_blank\" href=https://colab.research.google.com/notebooks/data_table.ipynb>data table notebook</a>'\n",
              "            + ' to learn more about interactive tables.';\n",
              "          element.innerHTML = '';\n",
              "          dataTable['output_type'] = 'display_data';\n",
              "          await google.colab.output.renderOutput(dataTable, element);\n",
              "          const docLink = document.createElement('div');\n",
              "          docLink.innerHTML = docLinkHtml;\n",
              "          element.appendChild(docLink);\n",
              "        }\n",
              "      </script>\n",
              "    </div>\n",
              "  </div>\n",
              "  "
            ]
          },
          "metadata": {},
          "execution_count": 23
        }
      ]
    },
    {
      "cell_type": "code",
      "source": [
        "data = data_merge2_shuffled"
      ],
      "metadata": {
        "id": "63bdXeDTfmVU"
      },
      "execution_count": 24,
      "outputs": []
    },
    {
      "cell_type": "code",
      "source": [
        "train_df, test_df = train_test_split(data, test_size=0.2, random_state=1, stratify=data['잎'])"
      ],
      "metadata": {
        "id": "jym8c3zOaI8A"
      },
      "execution_count": 25,
      "outputs": []
    },
    {
      "cell_type": "code",
      "source": [
        "#확인\n",
        "print(\"Train set rows: {}\".format(train_df.shape[0]))\n",
        "print(\"Test  set rows: {}\".format(test_df.shape[0]))"
      ],
      "metadata": {
        "id": "lsjd1jkaiIuW",
        "colab": {
          "base_uri": "https://localhost:8080/"
        },
        "outputId": "4c4c6af2-3201-43a6-c59a-66cde671ac34"
      },
      "execution_count": 26,
      "outputs": [
        {
          "output_type": "stream",
          "name": "stdout",
          "text": [
            "Train set rows: 69\n",
            "Test  set rows: 18\n"
          ]
        }
      ]
    },
    {
      "cell_type": "code",
      "source": [
        "IMAGE_PATH = '/content/drive/MyDrive/total/'"
      ],
      "metadata": {
        "id": "N7fZ0g0iis4V"
      },
      "execution_count": 27,
      "outputs": []
    },
    {
      "cell_type": "code",
      "source": [
        "def read_image(file_name):\n",
        "  # print(file_name)\n",
        "  image = cv2.imread(IMAGE_PATH + file_name)\n",
        "  image = cv2.resize(image, dsize=(300, 300))\n",
        "  # print(image.shape)\n",
        "  return image[:,:,:3]"
      ],
      "metadata": {
        "id": "HmOaK-HbiKGU"
      },
      "execution_count": 28,
      "outputs": []
    },
    {
      "cell_type": "code",
      "source": [
        "def categories_encoder(dataset):\n",
        "    #file명을 읽어 이미지 경로에서 불러온다. X 값.\n",
        "    X = np.stack(dataset['imgs'].apply(read_image))\n",
        "    # subspecies를 더미변수화 하여 y값으로\n",
        "    y = pd.get_dummies(dataset['잎'], drop_first=False)\n",
        "    return X, y"
      ],
      "metadata": {
        "id": "yqrWZL4Tidab"
      },
      "execution_count": 29,
      "outputs": []
    },
    {
      "cell_type": "code",
      "source": [
        "#file명을 읽어 이미지 경로에서 불러온다. X 값.\n",
        "X_train, y_train = categories_encoder(train_df)\n",
        "X_test, y_test = categories_encoder(test_df)"
      ],
      "metadata": {
        "id": "JWw01MbiiddK"
      },
      "execution_count": 30,
      "outputs": []
    },
    {
      "cell_type": "code",
      "source": [
        "#개수, size, channel\n",
        "print(X_train.shape)\n",
        "print(y_train.shape)\n",
        "print(X_test.shape)\n",
        "print(y_test.shape)"
      ],
      "metadata": {
        "id": "NpcvbeVmidf6",
        "colab": {
          "base_uri": "https://localhost:8080/"
        },
        "outputId": "75328bec-838f-4722-bac3-eac2ace00ad4"
      },
      "execution_count": 31,
      "outputs": [
        {
          "output_type": "stream",
          "name": "stdout",
          "text": [
            "(69, 300, 300, 3)\n",
            "(69, 2)\n",
            "(18, 300, 300, 3)\n",
            "(18, 2)\n"
          ]
        }
      ]
    },
    {
      "cell_type": "code",
      "source": [
        "#하이퍼 파라미터 생성\n",
        "BATCH_SIZE = 7 # 한 번에 처리할 데이터량 설정\n",
        "EPOCHS = 20 # 신경망을 학습할 횟수\n",
        "VERBOSE = 1 # 학습 진행 상황 출력 모드 설정 "
      ],
      "metadata": {
        "id": "mi7q3L6UidiS"
      },
      "execution_count": 32,
      "outputs": []
    },
    {
      "cell_type": "code",
      "source": [
        "!pip install -U efficientnet"
      ],
      "metadata": {
        "colab": {
          "base_uri": "https://localhost:8080/"
        },
        "id": "cqDnBEzridkj",
        "outputId": "7fbb78f4-b310-4ae1-b5c3-74874db2a150"
      },
      "execution_count": 33,
      "outputs": [
        {
          "output_type": "stream",
          "name": "stdout",
          "text": [
            "Looking in indexes: https://pypi.org/simple, https://us-python.pkg.dev/colab-wheels/public/simple/\n",
            "Collecting efficientnet\n",
            "  Downloading efficientnet-1.1.1-py3-none-any.whl (18 kB)\n",
            "Requirement already satisfied: scikit-image in /usr/local/lib/python3.8/dist-packages (from efficientnet) (0.18.3)\n",
            "Collecting keras-applications<=1.0.8,>=1.0.7\n",
            "  Downloading Keras_Applications-1.0.8-py3-none-any.whl (50 kB)\n",
            "\u001b[2K     \u001b[90m━━━━━━━━━━━━━━━━━━━━━━━━━━━━━━━━━━━━━━━━\u001b[0m \u001b[32m50.7/50.7 KB\u001b[0m \u001b[31m6.1 MB/s\u001b[0m eta \u001b[36m0:00:00\u001b[0m\n",
            "\u001b[?25hRequirement already satisfied: numpy>=1.9.1 in /usr/local/lib/python3.8/dist-packages (from keras-applications<=1.0.8,>=1.0.7->efficientnet) (1.21.6)\n",
            "Requirement already satisfied: h5py in /usr/local/lib/python3.8/dist-packages (from keras-applications<=1.0.8,>=1.0.7->efficientnet) (3.1.0)\n",
            "Requirement already satisfied: scipy>=1.0.1 in /usr/local/lib/python3.8/dist-packages (from scikit-image->efficientnet) (1.7.3)\n",
            "Requirement already satisfied: PyWavelets>=1.1.1 in /usr/local/lib/python3.8/dist-packages (from scikit-image->efficientnet) (1.4.1)\n",
            "Requirement already satisfied: tifffile>=2019.7.26 in /usr/local/lib/python3.8/dist-packages (from scikit-image->efficientnet) (2023.2.3)\n",
            "Requirement already satisfied: matplotlib!=3.0.0,>=2.0.0 in /usr/local/lib/python3.8/dist-packages (from scikit-image->efficientnet) (3.2.2)\n",
            "Requirement already satisfied: networkx>=2.0 in /usr/local/lib/python3.8/dist-packages (from scikit-image->efficientnet) (3.0)\n",
            "Requirement already satisfied: pillow!=7.1.0,!=7.1.1,>=4.3.0 in /usr/local/lib/python3.8/dist-packages (from scikit-image->efficientnet) (7.1.2)\n",
            "Requirement already satisfied: imageio>=2.3.0 in /usr/local/lib/python3.8/dist-packages (from scikit-image->efficientnet) (2.9.0)\n",
            "Requirement already satisfied: pyparsing!=2.0.4,!=2.1.2,!=2.1.6,>=2.0.1 in /usr/local/lib/python3.8/dist-packages (from matplotlib!=3.0.0,>=2.0.0->scikit-image->efficientnet) (3.0.9)\n",
            "Requirement already satisfied: python-dateutil>=2.1 in /usr/local/lib/python3.8/dist-packages (from matplotlib!=3.0.0,>=2.0.0->scikit-image->efficientnet) (2.8.2)\n",
            "Requirement already satisfied: cycler>=0.10 in /usr/local/lib/python3.8/dist-packages (from matplotlib!=3.0.0,>=2.0.0->scikit-image->efficientnet) (0.11.0)\n",
            "Requirement already satisfied: kiwisolver>=1.0.1 in /usr/local/lib/python3.8/dist-packages (from matplotlib!=3.0.0,>=2.0.0->scikit-image->efficientnet) (1.4.4)\n",
            "Requirement already satisfied: six>=1.5 in /usr/local/lib/python3.8/dist-packages (from python-dateutil>=2.1->matplotlib!=3.0.0,>=2.0.0->scikit-image->efficientnet) (1.15.0)\n",
            "Installing collected packages: keras-applications, efficientnet\n",
            "Successfully installed efficientnet-1.1.1 keras-applications-1.0.8\n"
          ]
        }
      ]
    },
    {
      "cell_type": "code",
      "source": [
        "import numpy as np\n",
        "import pandas as pd\n",
        "from skimage.io import imread\n",
        "import matplotlib.pyplot as plt\n",
        "import efficientnet.keras as efn \n",
        "import keras \n",
        "from keras.models import Model\n",
        "\n",
        "from keras.applications.imagenet_utils import decode_predictions\n",
        "\n",
        "from efficientnet.keras import EfficientNetB0, EfficientNetB3\n",
        "from efficientnet.keras import center_crop_and_resize, preprocess_input\n",
        "\n",
        "## if you use tensorflow.keras: \n",
        "# from efficientnet.tfkeras import EfficientNetB0\n",
        "# from efficientnet.tfkeras import center_crop_and_resize, preprocess_input\n",
        "\n",
        "import os"
      ],
      "metadata": {
        "id": "9WolpeAtidnI"
      },
      "execution_count": 34,
      "outputs": []
    },
    {
      "cell_type": "code",
      "source": [
        "base_model = efn.EfficientNetB3(weights='imagenet') #imagenet 가중치 사용"
      ],
      "metadata": {
        "id": "Fbp-xjVyiKIi",
        "colab": {
          "base_uri": "https://localhost:8080/"
        },
        "outputId": "c423f83e-08ee-4bbc-802e-b92223e1d490"
      },
      "execution_count": 35,
      "outputs": [
        {
          "output_type": "stream",
          "name": "stdout",
          "text": [
            "Downloading data from https://github.com/Callidior/keras-applications/releases/download/efficientnet/efficientnet-b3_weights_tf_dim_ordering_tf_kernels_autoaugment.h5\n",
            "50086816/50086816 [==============================] - 4s 0us/step\n"
          ]
        }
      ]
    },
    {
      "cell_type": "code",
      "source": [
        "#output layer 변경\n",
        "from tensorflow.keras.models import Sequential\n",
        "from tensorflow.keras.layers import Conv2D, MaxPooling2D, Dense, Flatten, Dropout\n",
        "net = Dense(2, activation='softmax')(base_model.layers[-2].output)"
      ],
      "metadata": {
        "id": "nRIveZ8ej_i7"
      },
      "execution_count": 36,
      "outputs": []
    },
    {
      "cell_type": "code",
      "source": [
        "# model = Model(inputs=base_model.input, outputs=net)\n",
        "\n",
        "\n",
        "model = Sequential()\n",
        "\n",
        "model.add(Conv2D(filters=16, kernel_size=(5, 5), activation=\"relu\", input_shape=(300,300,3)))\n",
        "model.add(BatchNormalization())\n",
        "model.add(MaxPooling2D(pool_size=(2, 2)))\n",
        "model.add(Dropout(0.2))\n",
        "\n",
        "model.add(Conv2D(filters=32, kernel_size=(5, 5), activation='relu'))\n",
        "model.add(MaxPooling2D(pool_size=(2, 2)))\n",
        "model.add(BatchNormalization())\n",
        "model.add(Dropout(0.2))\n",
        "\n",
        "model.add(Conv2D(filters=64, kernel_size=(5, 5), activation=\"relu\"))\n",
        "model.add(MaxPooling2D(pool_size=(2, 2)))\n",
        "model.add(BatchNormalization())\n",
        "model.add(Dropout(0.2))\n",
        "\n",
        "model.add(Conv2D(filters=64, kernel_size=(5, 5), activation='relu'))\n",
        "model.add(MaxPooling2D(pool_size=(2, 2)))\n",
        "model.add(BatchNormalization())\n",
        "model.add(Dropout(0.2))\n",
        "\n",
        "model.add(Flatten())\n",
        "model.add(Dense(128, activation='relu'))\n",
        "model.add(Dropout(0.5))\n",
        "model.add(Dense(64, activation='relu'))\n",
        "model.add(Dropout(0.5))\n",
        "model.add(Dense(2, activation='sigmoid'))\n",
        "\n",
        "model.summary()\n"
      ],
      "metadata": {
        "id": "LdTUheeQj_z0",
        "colab": {
          "base_uri": "https://localhost:8080/"
        },
        "outputId": "d9ced3d3-a433-4870-a5de-feac2297d491"
      },
      "execution_count": 37,
      "outputs": [
        {
          "output_type": "stream",
          "name": "stdout",
          "text": [
            "Model: \"sequential\"\n",
            "_________________________________________________________________\n",
            " Layer (type)                Output Shape              Param #   \n",
            "=================================================================\n",
            " conv2d (Conv2D)             (None, 296, 296, 16)      1216      \n",
            "                                                                 \n",
            " batch_normalization (BatchN  (None, 296, 296, 16)     64        \n",
            " ormalization)                                                   \n",
            "                                                                 \n",
            " max_pooling2d (MaxPooling2D  (None, 148, 148, 16)     0         \n",
            " )                                                               \n",
            "                                                                 \n",
            " dropout (Dropout)           (None, 148, 148, 16)      0         \n",
            "                                                                 \n",
            " conv2d_1 (Conv2D)           (None, 144, 144, 32)      12832     \n",
            "                                                                 \n",
            " max_pooling2d_1 (MaxPooling  (None, 72, 72, 32)       0         \n",
            " 2D)                                                             \n",
            "                                                                 \n",
            " batch_normalization_1 (Batc  (None, 72, 72, 32)       128       \n",
            " hNormalization)                                                 \n",
            "                                                                 \n",
            " dropout_1 (Dropout)         (None, 72, 72, 32)        0         \n",
            "                                                                 \n",
            " conv2d_2 (Conv2D)           (None, 68, 68, 64)        51264     \n",
            "                                                                 \n",
            " max_pooling2d_2 (MaxPooling  (None, 34, 34, 64)       0         \n",
            " 2D)                                                             \n",
            "                                                                 \n",
            " batch_normalization_2 (Batc  (None, 34, 34, 64)       256       \n",
            " hNormalization)                                                 \n",
            "                                                                 \n",
            " dropout_2 (Dropout)         (None, 34, 34, 64)        0         \n",
            "                                                                 \n",
            " conv2d_3 (Conv2D)           (None, 30, 30, 64)        102464    \n",
            "                                                                 \n",
            " max_pooling2d_3 (MaxPooling  (None, 15, 15, 64)       0         \n",
            " 2D)                                                             \n",
            "                                                                 \n",
            " batch_normalization_3 (Batc  (None, 15, 15, 64)       256       \n",
            " hNormalization)                                                 \n",
            "                                                                 \n",
            " dropout_3 (Dropout)         (None, 15, 15, 64)        0         \n",
            "                                                                 \n",
            " flatten (Flatten)           (None, 14400)             0         \n",
            "                                                                 \n",
            " dense_1 (Dense)             (None, 128)               1843328   \n",
            "                                                                 \n",
            " dropout_4 (Dropout)         (None, 128)               0         \n",
            "                                                                 \n",
            " dense_2 (Dense)             (None, 64)                8256      \n",
            "                                                                 \n",
            " dropout_5 (Dropout)         (None, 64)                0         \n",
            "                                                                 \n",
            " dense_3 (Dense)             (None, 2)                 130       \n",
            "                                                                 \n",
            "=================================================================\n",
            "Total params: 2,020,194\n",
            "Trainable params: 2,019,842\n",
            "Non-trainable params: 352\n",
            "_________________________________________________________________\n"
          ]
        }
      ]
    },
    {
      "cell_type": "code",
      "source": [
        "model.compile(\n",
        "    optimizer='adam',\n",
        "    loss='categorical_crossentropy', \n",
        "    metrics=['accuracy']\n",
        ")"
      ],
      "metadata": {
        "id": "1W20AqHCj_2Q"
      },
      "execution_count": 38,
      "outputs": []
    },
    {
      "cell_type": "code",
      "source": [
        "model.summary()"
      ],
      "metadata": {
        "colab": {
          "base_uri": "https://localhost:8080/"
        },
        "id": "zG1tXB9Kj_4Z",
        "outputId": "6023a259-1c17-409e-eb31-19f10d7889bc"
      },
      "execution_count": 39,
      "outputs": [
        {
          "output_type": "stream",
          "name": "stdout",
          "text": [
            "Model: \"sequential\"\n",
            "_________________________________________________________________\n",
            " Layer (type)                Output Shape              Param #   \n",
            "=================================================================\n",
            " conv2d (Conv2D)             (None, 296, 296, 16)      1216      \n",
            "                                                                 \n",
            " batch_normalization (BatchN  (None, 296, 296, 16)     64        \n",
            " ormalization)                                                   \n",
            "                                                                 \n",
            " max_pooling2d (MaxPooling2D  (None, 148, 148, 16)     0         \n",
            " )                                                               \n",
            "                                                                 \n",
            " dropout (Dropout)           (None, 148, 148, 16)      0         \n",
            "                                                                 \n",
            " conv2d_1 (Conv2D)           (None, 144, 144, 32)      12832     \n",
            "                                                                 \n",
            " max_pooling2d_1 (MaxPooling  (None, 72, 72, 32)       0         \n",
            " 2D)                                                             \n",
            "                                                                 \n",
            " batch_normalization_1 (Batc  (None, 72, 72, 32)       128       \n",
            " hNormalization)                                                 \n",
            "                                                                 \n",
            " dropout_1 (Dropout)         (None, 72, 72, 32)        0         \n",
            "                                                                 \n",
            " conv2d_2 (Conv2D)           (None, 68, 68, 64)        51264     \n",
            "                                                                 \n",
            " max_pooling2d_2 (MaxPooling  (None, 34, 34, 64)       0         \n",
            " 2D)                                                             \n",
            "                                                                 \n",
            " batch_normalization_2 (Batc  (None, 34, 34, 64)       256       \n",
            " hNormalization)                                                 \n",
            "                                                                 \n",
            " dropout_2 (Dropout)         (None, 34, 34, 64)        0         \n",
            "                                                                 \n",
            " conv2d_3 (Conv2D)           (None, 30, 30, 64)        102464    \n",
            "                                                                 \n",
            " max_pooling2d_3 (MaxPooling  (None, 15, 15, 64)       0         \n",
            " 2D)                                                             \n",
            "                                                                 \n",
            " batch_normalization_3 (Batc  (None, 15, 15, 64)       256       \n",
            " hNormalization)                                                 \n",
            "                                                                 \n",
            " dropout_3 (Dropout)         (None, 15, 15, 64)        0         \n",
            "                                                                 \n",
            " flatten (Flatten)           (None, 14400)             0         \n",
            "                                                                 \n",
            " dense_1 (Dense)             (None, 128)               1843328   \n",
            "                                                                 \n",
            " dropout_4 (Dropout)         (None, 128)               0         \n",
            "                                                                 \n",
            " dense_2 (Dense)             (None, 64)                8256      \n",
            "                                                                 \n",
            " dropout_5 (Dropout)         (None, 64)                0         \n",
            "                                                                 \n",
            " dense_3 (Dense)             (None, 2)                 130       \n",
            "                                                                 \n",
            "=================================================================\n",
            "Total params: 2,020,194\n",
            "Trainable params: 2,019,842\n",
            "Non-trainable params: 352\n",
            "_________________________________________________________________\n"
          ]
        }
      ]
    },
    {
      "cell_type": "code",
      "source": [
        "%mkdir /content/drive/MyDrive/models/\n",
        "%mkdir /content/drive/MyDrive/models/그물/\n",
        "%mkdir /content/drive/MyDrive/models/그물/check_point\n",
        "checkpoint_path = \"/content/drive/MyDrive/models/그물/check_point/cp-{epoch:04d}.ckpt\"\n",
        "checkpoint_dir = os.path.dirname(checkpoint_path)"
      ],
      "metadata": {
        "colab": {
          "base_uri": "https://localhost:8080/"
        },
        "id": "llgd8SHztu3L",
        "outputId": "421fcc2a-1b32-4be6-a339-ac88c8834e60"
      },
      "execution_count": 40,
      "outputs": [
        {
          "output_type": "stream",
          "name": "stdout",
          "text": [
            "mkdir: cannot create directory ‘/content/drive/MyDrive/models/’: File exists\n"
          ]
        }
      ]
    },
    {
      "cell_type": "code",
      "source": [
        "from keras.callbacks import EarlyStopping \n",
        "early_stopping = EarlyStopping(patience=30)\n",
        "cp_callback = keras.callbacks.ModelCheckpoint(\n",
        "    filepath=checkpoint_path, \n",
        "    verbose=1, \n",
        "    save_weights_only=True,\n",
        "    save_freq=7*10)\n",
        "\n",
        "history = model.fit(\n",
        "    X_train, y_train,\n",
        "    epochs=200,\n",
        "    batch_size=6,\n",
        "    verbose=VERBOSE,\n",
        "    validation_split=0.2,\n",
        "    callbacks=[early_stopping, cp_callback]\n",
        ")"
      ],
      "metadata": {
        "colab": {
          "base_uri": "https://localhost:8080/"
        },
        "id": "JT4W4G08j_7F",
        "outputId": "16724ece-2286-4cac-e55a-02e1f2962fc3"
      },
      "execution_count": 41,
      "outputs": [
        {
          "output_type": "stream",
          "name": "stdout",
          "text": [
            "Epoch 1/200\n",
            "10/10 [==============================] - 14s 65ms/step - loss: 2.6505 - accuracy: 0.5636 - val_loss: 5.7147 - val_accuracy: 0.5714\n",
            "Epoch 2/200\n",
            "10/10 [==============================] - 0s 15ms/step - loss: 3.5634 - accuracy: 0.6545 - val_loss: 33.9660 - val_accuracy: 0.4286\n",
            "Epoch 3/200\n",
            "10/10 [==============================] - 0s 15ms/step - loss: 2.8746 - accuracy: 0.6727 - val_loss: 11.1917 - val_accuracy: 0.5714\n",
            "Epoch 4/200\n",
            "10/10 [==============================] - 0s 14ms/step - loss: 5.2539 - accuracy: 0.6364 - val_loss: 42.5420 - val_accuracy: 0.5714\n",
            "Epoch 5/200\n",
            "10/10 [==============================] - 0s 14ms/step - loss: 4.4352 - accuracy: 0.5636 - val_loss: 19.6772 - val_accuracy: 0.5714\n",
            "Epoch 6/200\n",
            "10/10 [==============================] - 0s 14ms/step - loss: 3.1410 - accuracy: 0.6364 - val_loss: 18.7829 - val_accuracy: 0.5714\n",
            "Epoch 7/200\n",
            " 7/10 [====================>.........] - ETA: 0s - loss: 5.6771 - accuracy: 0.6429 \n",
            "Epoch 7: saving model to /content/drive/MyDrive/models/그물/check_point/cp-0007.ckpt\n",
            "10/10 [==============================] - 0s 41ms/step - loss: 4.9048 - accuracy: 0.6364 - val_loss: 0.3185 - val_accuracy: 0.8571\n",
            "Epoch 8/200\n",
            "10/10 [==============================] - 0s 14ms/step - loss: 2.8531 - accuracy: 0.7091 - val_loss: 3.5370 - val_accuracy: 0.6429\n",
            "Epoch 9/200\n",
            "10/10 [==============================] - 0s 13ms/step - loss: 3.8226 - accuracy: 0.7636 - val_loss: 4.8123 - val_accuracy: 0.7143\n",
            "Epoch 10/200\n",
            "10/10 [==============================] - 0s 14ms/step - loss: 4.4934 - accuracy: 0.6727 - val_loss: 4.0521 - val_accuracy: 0.7143\n",
            "Epoch 11/200\n",
            "10/10 [==============================] - 0s 14ms/step - loss: 2.1731 - accuracy: 0.8727 - val_loss: 2.6187 - val_accuracy: 0.7857\n",
            "Epoch 12/200\n",
            "10/10 [==============================] - 0s 14ms/step - loss: 2.6418 - accuracy: 0.6909 - val_loss: 1.3938 - val_accuracy: 0.6429\n",
            "Epoch 13/200\n",
            "10/10 [==============================] - 0s 14ms/step - loss: 2.8328 - accuracy: 0.6727 - val_loss: 0.4794 - val_accuracy: 0.8571\n",
            "Epoch 14/200\n",
            " 7/10 [====================>.........] - ETA: 0s - loss: 2.0075 - accuracy: 0.7381\n",
            "Epoch 14: saving model to /content/drive/MyDrive/models/그물/check_point/cp-0014.ckpt\n",
            "10/10 [==============================] - 0s 34ms/step - loss: 2.3757 - accuracy: 0.6909 - val_loss: 2.3652 - val_accuracy: 0.7857\n",
            "Epoch 15/200\n",
            "10/10 [==============================] - 0s 14ms/step - loss: 1.9210 - accuracy: 0.8000 - val_loss: 1.8425 - val_accuracy: 0.6429\n",
            "Epoch 16/200\n",
            "10/10 [==============================] - 0s 14ms/step - loss: 2.9493 - accuracy: 0.6909 - val_loss: 0.1819 - val_accuracy: 0.8571\n",
            "Epoch 17/200\n",
            "10/10 [==============================] - 0s 14ms/step - loss: 1.6639 - accuracy: 0.6909 - val_loss: 0.4598 - val_accuracy: 0.8571\n",
            "Epoch 18/200\n",
            "10/10 [==============================] - 0s 14ms/step - loss: 2.4996 - accuracy: 0.6909 - val_loss: 0.4096 - val_accuracy: 0.7857\n",
            "Epoch 19/200\n",
            "10/10 [==============================] - 0s 14ms/step - loss: 1.3672 - accuracy: 0.7818 - val_loss: 0.6681 - val_accuracy: 0.7857\n",
            "Epoch 20/200\n",
            "10/10 [==============================] - 0s 14ms/step - loss: 1.1399 - accuracy: 0.7636 - val_loss: 2.4867 - val_accuracy: 0.7143\n",
            "Epoch 21/200\n",
            " 7/10 [====================>.........] - ETA: 0s - loss: 0.7806 - accuracy: 0.8095\n",
            "Epoch 21: saving model to /content/drive/MyDrive/models/그물/check_point/cp-0021.ckpt\n",
            "10/10 [==============================] - 0s 32ms/step - loss: 0.5991 - accuracy: 0.8545 - val_loss: 2.2616 - val_accuracy: 0.7143\n",
            "Epoch 22/200\n",
            "10/10 [==============================] - 0s 14ms/step - loss: 1.3932 - accuracy: 0.8364 - val_loss: 0.5275 - val_accuracy: 0.9286\n",
            "Epoch 23/200\n",
            "10/10 [==============================] - 0s 14ms/step - loss: 1.4683 - accuracy: 0.8364 - val_loss: 0.5283 - val_accuracy: 0.8571\n",
            "Epoch 24/200\n",
            "10/10 [==============================] - 0s 14ms/step - loss: 1.5249 - accuracy: 0.8364 - val_loss: 0.4461 - val_accuracy: 0.7857\n",
            "Epoch 25/200\n",
            "10/10 [==============================] - 0s 14ms/step - loss: 1.1497 - accuracy: 0.7818 - val_loss: 0.3948 - val_accuracy: 0.8571\n",
            "Epoch 26/200\n",
            "10/10 [==============================] - 0s 14ms/step - loss: 0.4305 - accuracy: 0.9273 - val_loss: 1.0151 - val_accuracy: 0.7143\n",
            "Epoch 27/200\n",
            "10/10 [==============================] - 0s 14ms/step - loss: 0.4825 - accuracy: 0.9273 - val_loss: 11.1892 - val_accuracy: 0.6429\n",
            "Epoch 28/200\n",
            " 6/10 [=================>............] - ETA: 0s - loss: 0.7015 - accuracy: 0.9167\n",
            "Epoch 28: saving model to /content/drive/MyDrive/models/그물/check_point/cp-0028.ckpt\n",
            "10/10 [==============================] - 0s 33ms/step - loss: 1.1860 - accuracy: 0.8909 - val_loss: 3.5454 - val_accuracy: 0.6429\n",
            "Epoch 29/200\n",
            "10/10 [==============================] - 0s 14ms/step - loss: 1.1325 - accuracy: 0.8364 - val_loss: 0.4534 - val_accuracy: 0.7857\n",
            "Epoch 30/200\n",
            "10/10 [==============================] - 0s 14ms/step - loss: 0.7099 - accuracy: 0.8909 - val_loss: 0.4551 - val_accuracy: 0.7143\n",
            "Epoch 31/200\n",
            "10/10 [==============================] - 0s 14ms/step - loss: 2.2380 - accuracy: 0.7818 - val_loss: 1.7878 - val_accuracy: 0.9286\n",
            "Epoch 32/200\n",
            "10/10 [==============================] - 0s 14ms/step - loss: 0.8309 - accuracy: 0.8000 - val_loss: 27.8715 - val_accuracy: 0.6429\n",
            "Epoch 33/200\n",
            "10/10 [==============================] - 0s 14ms/step - loss: 1.4453 - accuracy: 0.8364 - val_loss: 5.7946 - val_accuracy: 0.7857\n",
            "Epoch 34/200\n",
            "10/10 [==============================] - 0s 14ms/step - loss: 0.4020 - accuracy: 0.9636 - val_loss: 0.8162 - val_accuracy: 0.7857\n",
            "Epoch 35/200\n",
            " 7/10 [====================>.........] - ETA: 0s - loss: 0.4476 - accuracy: 0.8810    \n",
            "Epoch 35: saving model to /content/drive/MyDrive/models/그물/check_point/cp-0035.ckpt\n",
            "10/10 [==============================] - 0s 31ms/step - loss: 0.3966 - accuracy: 0.8727 - val_loss: 2.0432 - val_accuracy: 0.7143\n",
            "Epoch 36/200\n",
            "10/10 [==============================] - 0s 14ms/step - loss: 0.6679 - accuracy: 0.8182 - val_loss: 2.9120 - val_accuracy: 0.7143\n",
            "Epoch 37/200\n",
            "10/10 [==============================] - 0s 14ms/step - loss: 0.5917 - accuracy: 0.8545 - val_loss: 2.8532 - val_accuracy: 0.7143\n",
            "Epoch 38/200\n",
            "10/10 [==============================] - 0s 14ms/step - loss: 1.0904 - accuracy: 0.8182 - val_loss: 2.2969 - val_accuracy: 0.6429\n",
            "Epoch 39/200\n",
            "10/10 [==============================] - 0s 14ms/step - loss: 1.1539 - accuracy: 0.8364 - val_loss: 1.5447 - val_accuracy: 0.7143\n",
            "Epoch 40/200\n",
            "10/10 [==============================] - 0s 14ms/step - loss: 0.8235 - accuracy: 0.8182 - val_loss: 0.1617 - val_accuracy: 0.9286\n",
            "Epoch 41/200\n",
            "10/10 [==============================] - 0s 14ms/step - loss: 0.2116 - accuracy: 0.9455 - val_loss: 0.1738 - val_accuracy: 0.8571\n",
            "Epoch 42/200\n",
            " 7/10 [====================>.........] - ETA: 0s - loss: 0.2752 - accuracy: 0.9286\n",
            "Epoch 42: saving model to /content/drive/MyDrive/models/그물/check_point/cp-0042.ckpt\n",
            "10/10 [==============================] - 0s 33ms/step - loss: 0.2337 - accuracy: 0.9273 - val_loss: 1.3713 - val_accuracy: 0.7143\n",
            "Epoch 43/200\n",
            "10/10 [==============================] - 0s 14ms/step - loss: 0.1404 - accuracy: 0.9091 - val_loss: 1.7026 - val_accuracy: 0.7143\n",
            "Epoch 44/200\n",
            "10/10 [==============================] - 0s 14ms/step - loss: 0.0683 - accuracy: 0.9818 - val_loss: 0.3158 - val_accuracy: 0.8571\n",
            "Epoch 45/200\n",
            "10/10 [==============================] - 0s 14ms/step - loss: 0.4302 - accuracy: 0.8909 - val_loss: 0.1266 - val_accuracy: 1.0000\n",
            "Epoch 46/200\n",
            "10/10 [==============================] - 0s 14ms/step - loss: 0.7240 - accuracy: 0.9091 - val_loss: 0.2127 - val_accuracy: 0.8571\n",
            "Epoch 47/200\n",
            "10/10 [==============================] - 0s 14ms/step - loss: 0.0924 - accuracy: 0.9636 - val_loss: 1.9752 - val_accuracy: 0.7857\n",
            "Epoch 48/200\n",
            "10/10 [==============================] - 0s 14ms/step - loss: 0.4064 - accuracy: 0.9273 - val_loss: 1.4214 - val_accuracy: 0.7857\n",
            "Epoch 49/200\n",
            " 7/10 [====================>.........] - ETA: 0s - loss: 0.4152 - accuracy: 0.8571\n",
            "Epoch 49: saving model to /content/drive/MyDrive/models/그물/check_point/cp-0049.ckpt\n",
            "10/10 [==============================] - 0s 31ms/step - loss: 0.3177 - accuracy: 0.8909 - val_loss: 0.0962 - val_accuracy: 1.0000\n",
            "Epoch 50/200\n",
            "10/10 [==============================] - 0s 14ms/step - loss: 0.3428 - accuracy: 0.8909 - val_loss: 0.1023 - val_accuracy: 0.9286\n",
            "Epoch 51/200\n",
            "10/10 [==============================] - 0s 14ms/step - loss: 0.2923 - accuracy: 0.9455 - val_loss: 3.7108 - val_accuracy: 0.7857\n",
            "Epoch 52/200\n",
            "10/10 [==============================] - 0s 14ms/step - loss: 0.1597 - accuracy: 0.9636 - val_loss: 9.5014 - val_accuracy: 0.5714\n",
            "Epoch 53/200\n",
            "10/10 [==============================] - 0s 14ms/step - loss: 0.2068 - accuracy: 0.9636 - val_loss: 9.3996 - val_accuracy: 0.5714\n",
            "Epoch 54/200\n",
            "10/10 [==============================] - 0s 14ms/step - loss: 0.0915 - accuracy: 0.9455 - val_loss: 5.3173 - val_accuracy: 0.6429\n",
            "Epoch 55/200\n",
            "10/10 [==============================] - 0s 14ms/step - loss: 0.0970 - accuracy: 0.9636 - val_loss: 3.7863 - val_accuracy: 0.6429\n",
            "Epoch 56/200\n",
            " 7/10 [====================>.........] - ETA: 0s - loss: 0.1974 - accuracy: 0.9762\n",
            "Epoch 56: saving model to /content/drive/MyDrive/models/그물/check_point/cp-0056.ckpt\n",
            "10/10 [==============================] - 0s 31ms/step - loss: 0.2177 - accuracy: 0.9636 - val_loss: 1.5767 - val_accuracy: 0.7143\n",
            "Epoch 57/200\n",
            "10/10 [==============================] - 0s 14ms/step - loss: 0.0918 - accuracy: 0.9636 - val_loss: 0.4400 - val_accuracy: 0.8571\n",
            "Epoch 58/200\n",
            "10/10 [==============================] - 0s 14ms/step - loss: 0.0520 - accuracy: 0.9636 - val_loss: 0.5354 - val_accuracy: 0.7143\n",
            "Epoch 59/200\n",
            "10/10 [==============================] - 0s 14ms/step - loss: 0.3655 - accuracy: 0.9455 - val_loss: 0.8996 - val_accuracy: 0.7143\n",
            "Epoch 60/200\n",
            "10/10 [==============================] - 0s 14ms/step - loss: 0.0394 - accuracy: 0.9818 - val_loss: 1.5357 - val_accuracy: 0.6429\n",
            "Epoch 61/200\n",
            "10/10 [==============================] - 0s 15ms/step - loss: 0.0689 - accuracy: 0.9455 - val_loss: 1.8014 - val_accuracy: 0.6429\n",
            "Epoch 62/200\n",
            "10/10 [==============================] - 0s 14ms/step - loss: 0.4781 - accuracy: 0.9273 - val_loss: 1.4122 - val_accuracy: 0.7143\n",
            "Epoch 63/200\n",
            " 7/10 [====================>.........] - ETA: 0s - loss: 0.4900 - accuracy: 0.9286\n",
            "Epoch 63: saving model to /content/drive/MyDrive/models/그물/check_point/cp-0063.ckpt\n",
            "10/10 [==============================] - 0s 33ms/step - loss: 0.4315 - accuracy: 0.9273 - val_loss: 0.8397 - val_accuracy: 0.7857\n",
            "Epoch 64/200\n",
            "10/10 [==============================] - 0s 15ms/step - loss: 0.0321 - accuracy: 0.9818 - val_loss: 0.4431 - val_accuracy: 0.8571\n",
            "Epoch 65/200\n",
            "10/10 [==============================] - 0s 16ms/step - loss: 0.2330 - accuracy: 0.9636 - val_loss: 0.3125 - val_accuracy: 0.8571\n",
            "Epoch 66/200\n",
            "10/10 [==============================] - 0s 14ms/step - loss: 1.8008 - accuracy: 0.8909 - val_loss: 0.4013 - val_accuracy: 0.7857\n",
            "Epoch 67/200\n",
            "10/10 [==============================] - 0s 14ms/step - loss: 0.1458 - accuracy: 0.9455 - val_loss: 0.9584 - val_accuracy: 0.7857\n",
            "Epoch 68/200\n",
            "10/10 [==============================] - 0s 14ms/step - loss: 0.6361 - accuracy: 0.9091 - val_loss: 0.2914 - val_accuracy: 0.8571\n",
            "Epoch 69/200\n",
            "10/10 [==============================] - 0s 15ms/step - loss: 0.8866 - accuracy: 0.9273 - val_loss: 1.0983 - val_accuracy: 0.7857\n",
            "Epoch 70/200\n",
            " 6/10 [=================>............] - ETA: 0s - loss: 0.1448 - accuracy: 0.9444\n",
            "Epoch 70: saving model to /content/drive/MyDrive/models/그물/check_point/cp-0070.ckpt\n",
            "10/10 [==============================] - 0s 32ms/step - loss: 0.1344 - accuracy: 0.9455 - val_loss: 1.8154 - val_accuracy: 0.7857\n",
            "Epoch 71/200\n",
            "10/10 [==============================] - 0s 14ms/step - loss: 0.1473 - accuracy: 0.9636 - val_loss: 0.1242 - val_accuracy: 0.9286\n",
            "Epoch 72/200\n",
            "10/10 [==============================] - 0s 15ms/step - loss: 0.1531 - accuracy: 0.9636 - val_loss: 0.3592 - val_accuracy: 0.8571\n",
            "Epoch 73/200\n",
            "10/10 [==============================] - 0s 14ms/step - loss: 0.3676 - accuracy: 0.9455 - val_loss: 0.5055 - val_accuracy: 0.7857\n",
            "Epoch 74/200\n",
            "10/10 [==============================] - 0s 13ms/step - loss: 0.0561 - accuracy: 0.9455 - val_loss: 0.2055 - val_accuracy: 0.8571\n",
            "Epoch 75/200\n",
            "10/10 [==============================] - 0s 13ms/step - loss: 0.3181 - accuracy: 0.9455 - val_loss: 0.4934 - val_accuracy: 0.7857\n",
            "Epoch 76/200\n",
            "10/10 [==============================] - 0s 13ms/step - loss: 0.3037 - accuracy: 0.9273 - val_loss: 0.5078 - val_accuracy: 0.7857\n",
            "Epoch 77/200\n",
            " 7/10 [====================>.........] - ETA: 0s - loss: 0.0211 - accuracy: 0.9762\n",
            "Epoch 77: saving model to /content/drive/MyDrive/models/그물/check_point/cp-0077.ckpt\n",
            "10/10 [==============================] - 0s 30ms/step - loss: 0.0306 - accuracy: 0.9636 - val_loss: 0.1115 - val_accuracy: 0.9286\n",
            "Epoch 78/200\n",
            "10/10 [==============================] - 0s 13ms/step - loss: 0.0653 - accuracy: 0.9818 - val_loss: 0.3673 - val_accuracy: 0.8571\n",
            "Epoch 79/200\n",
            "10/10 [==============================] - 0s 13ms/step - loss: 0.0812 - accuracy: 0.9636 - val_loss: 0.5375 - val_accuracy: 0.8571\n"
          ]
        }
      ]
    },
    {
      "cell_type": "code",
      "source": [
        "plt.figure(figsize=(14, 5))\n",
        "\n",
        "plt.subplot(1, 2, 1)\n",
        "plt.plot(history.history['accuracy'], label='Training Accuracy')\n",
        "plt.plot(history.history['val_accuracy'], label='Validation Accuracy')\n",
        "plt.legend(loc='lower right')\n",
        "plt.title('Training and Validation Accuracy (subspecies)')\n",
        "\n",
        "plt.subplot(1, 2, 2)\n",
        "plt.plot(history.history['loss'], label='Training Loss')\n",
        "plt.plot(history.history['val_loss'], label='Validation Loss')\n",
        "plt.legend(loc='upper right')\n",
        "plt.title('Training and Validation Loss (subspecies)')\n",
        "\n",
        "plt.show()"
      ],
      "metadata": {
        "colab": {
          "base_uri": "https://localhost:8080/",
          "height": 336
        },
        "id": "Pra97sy0j_9l",
        "outputId": "aecd2cf5-8b54-4632-ba9d-5f43933f0f84"
      },
      "execution_count": 42,
      "outputs": [
        {
          "output_type": "display_data",
          "data": {
            "text/plain": [
              "<Figure size 1008x360 with 2 Axes>"
            ],
            "image/png": "[encoded data removed]"
          },
          "metadata": {
            "needs_background": "light"
          }
        }
      ]
    },
    {
      "cell_type": "code",
      "source": [
        "model.evaluate(X_test, y_test)"
      ],
      "metadata": {
        "colab": {
          "base_uri": "https://localhost:8080/"
        },
        "id": "NafVOLpQj__H",
        "outputId": "a0a445d5-af9c-4e0d-b942-f7eed509213f"
      },
      "execution_count": 43,
      "outputs": [
        {
          "output_type": "stream",
          "name": "stdout",
          "text": [
            "1/1 [==============================] - 0s 123ms/step - loss: 0.5739 - accuracy: 0.8889\n"
          ]
        },
        {
          "output_type": "execute_result",
          "data": {
            "text/plain": [
              "[0.5739292502403259, 0.8888888955116272]"
            ]
          },
          "metadata": {},
          "execution_count": 43
        }
      ]
    },
    {
      "cell_type": "code",
      "source": [
        "predictions = model.predict(X_test)"
      ],
      "metadata": {
        "colab": {
          "base_uri": "https://localhost:8080/"
        },
        "id": "1jNu9EA5lzbF",
        "outputId": "2f21110c-9c16-485e-8847-be92ebbbbdea"
      },
      "execution_count": 44,
      "outputs": [
        {
          "output_type": "stream",
          "name": "stdout",
          "text": [
            "1/1 [==============================] - 0s 197ms/step\n"
          ]
        }
      ]
    },
    {
      "cell_type": "code",
      "source": [
        "np.argmax(predictions[2])"
      ],
      "metadata": {
        "colab": {
          "base_uri": "https://localhost:8080/"
        },
        "id": "HSXlqezZlq0U",
        "outputId": "0904f77c-3c54-40c5-c37f-57191f7e9d39"
      },
      "execution_count": 45,
      "outputs": [
        {
          "output_type": "execute_result",
          "data": {
            "text/plain": [
              "0"
            ]
          },
          "metadata": {},
          "execution_count": 45
        }
      ]
    },
    {
      "cell_type": "code",
      "source": [
        "y_test"
      ],
      "metadata": {
        "colab": {
          "base_uri": "https://localhost:8080/",
          "height": 614
        },
        "id": "rcM_q8SUlq2_",
        "outputId": "b72ce30f-69dc-404f-9572-a798c2316ff0"
      },
      "execution_count": 46,
      "outputs": [
        {
          "output_type": "execute_result",
          "data": {
            "text/plain": [
              "    0  1\n",
              "25  0  1\n",
              "82  1  0\n",
              "73  1  0\n",
              "38  0  1\n",
              "36  0  1\n",
              "1   0  1\n",
              "0   0  1\n",
              "39  0  1\n",
              "69  1  0\n",
              "75  1  0\n",
              "48  1  0\n",
              "11  0  1\n",
              "53  1  0\n",
              "10  0  1\n",
              "41  1  0\n",
              "44  1  0\n",
              "79  1  0\n",
              "42  1  0"
            ],
            "text/html": [
              "\n",
              "  <div id=\"df-dc1c97aa-d736-4034-991e-71b9a9d19397\">\n",
              "    <div class=\"colab-df-container\">\n",
              "      <div>\n",
              "<style scoped>\n",
              "    .dataframe tbody tr th:only-of-type {\n",
              "        vertical-align: middle;\n",
              "    }\n",
              "\n",
              "    .dataframe tbody tr th {\n",
              "        vertical-align: top;\n",
              "    }\n",
              "\n",
              "    .dataframe thead th {\n",
              "        text-align: right;\n",
              "    }\n",
              "</style>\n",
              "<table border=\"1\" class=\"dataframe\">\n",
              "  <thead>\n",
              "    <tr style=\"text-align: right;\">\n",
              "      <th></th>\n",
              "      <th>0</th>\n",
              "      <th>1</th>\n",
              "    </tr>\n",
              "  </thead>\n",
              "  <tbody>\n",
              "    <tr>\n",
              "      <th>25</th>\n",
              "      <td>0</td>\n",
              "      <td>1</td>\n",
              "    </tr>\n",
              "    <tr>\n",
              "      <th>82</th>\n",
              "      <td>1</td>\n",
              "      <td>0</td>\n",
              "    </tr>\n",
              "    <tr>\n",
              "      <th>73</th>\n",
              "      <td>1</td>\n",
              "      <td>0</td>\n",
              "    </tr>\n",
              "    <tr>\n",
              "      <th>38</th>\n",
              "      <td>0</td>\n",
              "      <td>1</td>\n",
              "    </tr>\n",
              "    <tr>\n",
              "      <th>36</th>\n",
              "      <td>0</td>\n",
              "      <td>1</td>\n",
              "    </tr>\n",
              "    <tr>\n",
              "      <th>1</th>\n",
              "      <td>0</td>\n",
              "      <td>1</td>\n",
              "    </tr>\n",
              "    <tr>\n",
              "      <th>0</th>\n",
              "      <td>0</td>\n",
              "      <td>1</td>\n",
              "    </tr>\n",
              "    <tr>\n",
              "      <th>39</th>\n",
              "      <td>0</td>\n",
              "      <td>1</td>\n",
              "    </tr>\n",
              "    <tr>\n",
              "      <th>69</th>\n",
              "      <td>1</td>\n",
              "      <td>0</td>\n",
              "    </tr>\n",
              "    <tr>\n",
              "      <th>75</th>\n",
              "      <td>1</td>\n",
              "      <td>0</td>\n",
              "    </tr>\n",
              "    <tr>\n",
              "      <th>48</th>\n",
              "      <td>1</td>\n",
              "      <td>0</td>\n",
              "    </tr>\n",
              "    <tr>\n",
              "      <th>11</th>\n",
              "      <td>0</td>\n",
              "      <td>1</td>\n",
              "    </tr>\n",
              "    <tr>\n",
              "      <th>53</th>\n",
              "      <td>1</td>\n",
              "      <td>0</td>\n",
              "    </tr>\n",
              "    <tr>\n",
              "      <th>10</th>\n",
              "      <td>0</td>\n",
              "      <td>1</td>\n",
              "    </tr>\n",
              "    <tr>\n",
              "      <th>41</th>\n",
              "      <td>1</td>\n",
              "      <td>0</td>\n",
              "    </tr>\n",
              "    <tr>\n",
              "      <th>44</th>\n",
              "      <td>1</td>\n",
              "      <td>0</td>\n",
              "    </tr>\n",
              "    <tr>\n",
              "      <th>79</th>\n",
              "      <td>1</td>\n",
              "      <td>0</td>\n",
              "    </tr>\n",
              "    <tr>\n",
              "      <th>42</th>\n",
              "      <td>1</td>\n",
              "      <td>0</td>\n",
              "    </tr>\n",
              "  </tbody>\n",
              "</table>\n",
              "</div>\n",
              "      <button class=\"colab-df-convert\" onclick=\"convertToInteractive('df-dc1c97aa-d736-4034-991e-71b9a9d19397')\"\n",
              "              title=\"Convert this dataframe to an interactive table.\"\n",
              "              style=\"display:none;\">\n",
              "        \n",
              "  <svg xmlns=\"http://www.w3.org/2000/svg\" height=\"24px\"viewBox=\"0 0 24 24\"\n",
              "       width=\"24px\">\n",
              "    <path d=\"M0 0h24v24H0V0z\" fill=\"none\"/>\n",
              "    <path d=\"M18.56 5.44l.94 2.06.94-2.06 2.06-.94-2.06-.94-.94-2.06-.94 2.06-2.06.94zm-11 1L8.5 8.5l.94-2.06 2.06-.94-2.06-.94L8.5 2.5l-.94 2.06-2.06.94zm10 10l.94 2.06.94-2.06 2.06-.94-2.06-.94-.94-2.06-.94 2.06-2.06.94z\"/><path d=\"M17.41 7.96l-1.37-1.37c-.4-.4-.92-.59-1.43-.59-.52 0-1.04.2-1.43.59L10.3 9.45l-7.72 7.72c-.78.78-.78 2.05 0 2.83L4 21.41c.39.39.9.59 1.41.59.51 0 1.02-.2 1.41-.59l7.78-7.78 2.81-2.81c.8-.78.8-2.07 0-2.86zM5.41 20L4 18.59l7.72-7.72 1.47 1.35L5.41 20z\"/>\n",
              "  </svg>\n",
              "      </button>\n",
              "      \n",
              "  <style>\n",
              "    .colab-df-container {\n",
              "      display:flex;\n",
              "      flex-wrap:wrap;\n",
              "      gap: 12px;\n",
              "    }\n",
              "\n",
              "    .colab-df-convert {\n",
              "      background-color: #E8F0FE;\n",
              "      border: none;\n",
              "      border-radius: 50%;\n",
              "      cursor: pointer;\n",
              "      display: none;\n",
              "      fill: #1967D2;\n",
              "      height: 32px;\n",
              "      padding: 0 0 0 0;\n",
              "      width: 32px;\n",
              "    }\n",
              "\n",
              "    .colab-df-convert:hover {\n",
              "      background-color: #E2EBFA;\n",
              "      box-shadow: 0px 1px 2px rgba(60, 64, 67, 0.3), 0px 1px 3px 1px rgba(60, 64, 67, 0.15);\n",
              "      fill: #174EA6;\n",
              "    }\n",
              "\n",
              "    [theme=dark] .colab-df-convert {\n",
              "      background-color: #3B4455;\n",
              "      fill: #D2E3FC;\n",
              "    }\n",
              "\n",
              "    [theme=dark] .colab-df-convert:hover {\n",
              "      background-color: #434B5C;\n",
              "      box-shadow: 0px 1px 3px 1px rgba(0, 0, 0, 0.15);\n",
              "      filter: drop-shadow(0px 1px 2px rgba(0, 0, 0, 0.3));\n",
              "      fill: #FFFFFF;\n",
              "    }\n",
              "  </style>\n",
              "\n",
              "      <script>\n",
              "        const buttonEl =\n",
              "          document.querySelector('#df-dc1c97aa-d736-4034-991e-71b9a9d19397 button.colab-df-convert');\n",
              "        buttonEl.style.display =\n",
              "          google.colab.kernel.accessAllowed ? 'block' : 'none';\n",
              "\n",
              "        async function convertToInteractive(key) {\n",
              "          const element = document.querySelector('#df-dc1c97aa-d736-4034-991e-71b9a9d19397');\n",
              "          const dataTable =\n",
              "            await google.colab.kernel.invokeFunction('convertToInteractive',\n",
              "                                                     [key], {});\n",
              "          if (!dataTable) return;\n",
              "\n",
              "          const docLinkHtml = 'Like what you see? Visit the ' +\n",
              "            '<a target=\"_blank\" href=https://colab.research.google.com/notebooks/data_table.ipynb>data table notebook</a>'\n",
              "            + ' to learn more about interactive tables.';\n",
              "          element.innerHTML = '';\n",
              "          dataTable['output_type'] = 'display_data';\n",
              "          await google.colab.output.renderOutput(dataTable, element);\n",
              "          const docLink = document.createElement('div');\n",
              "          docLink.innerHTML = docLinkHtml;\n",
              "          element.appendChild(docLink);\n",
              "        }\n",
              "      </script>\n",
              "    </div>\n",
              "  </div>\n",
              "  "
            ]
          },
          "metadata": {},
          "execution_count": 46
        }
      ]
    },
    {
      "cell_type": "code",
      "source": [
        "%cd /content/drive/MyDrive/models/그물/\n",
        "from keras.models import load_model\n",
        "model.save('그물_model.h5')"
      ],
      "metadata": {
        "colab": {
          "base_uri": "https://localhost:8080/"
        },
        "id": "1Uq7tMWplq6X",
        "outputId": "f21f0ed0-0b2c-462d-9506-3d72d5cb533a"
      },
      "execution_count": null,
      "outputs": [
        {
          "output_type": "stream",
          "name": "stdout",
          "text": [
            "/content/drive/MyDrive/models/열매\n"
          ]
        }
      ]
    },
    {
      "cell_type": "code",
      "source": [],
      "metadata": {
        "id": "BJyL-Vf8mK1r"
      },
      "execution_count": null,
      "outputs": []
    },
    {
      "cell_type": "code",
      "source": [],
      "metadata": {
        "id": "BRlpitWImK__"
      },
      "execution_count": null,
      "outputs": []
    },
    {
      "cell_type": "code",
      "source": [],
      "metadata": {
        "id": "KKEqpI41lq8x"
      },
      "execution_count": null,
      "outputs": []
    },
    {
      "cell_type": "code",
      "source": [],
      "metadata": {
        "id": "Faf9_yWOzVCv"
      },
      "execution_count": null,
      "outputs": []
    },
    {
      "cell_type": "code",
      "source": [],
      "metadata": {
        "id": "YlwfZuE8zVFY"
      },
      "execution_count": null,
      "outputs": []
    },
    {
      "cell_type": "code",
      "source": [],
      "metadata": {
        "id": "Pm94xL9FzVHd"
      },
      "execution_count": null,
      "outputs": []
    }
  ]
}