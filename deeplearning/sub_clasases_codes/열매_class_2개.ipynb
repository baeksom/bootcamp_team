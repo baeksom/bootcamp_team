{
  "nbformat": 4,
  "nbformat_minor": 0,
  "metadata": {
    "colab": {
      "provenance": [],
      "machine_shape": "hm",
      "authorship_tag": "ABX9TyO1UEJ4bJsEuerNVcb3WL+L",
      "include_colab_link": true
    },
    "kernelspec": {
      "name": "python3",
      "display_name": "Python 3"
    },
    "language_info": {
      "name": "python"
    },
    "gpuClass": "premium",
    "accelerator": "GPU"
  },
  "cells": [
    {
      "cell_type": "markdown",
      "metadata": {
        "id": "view-in-github",
        "colab_type": "text"
      },
      "source": [
        "<a href=\"https://colab.research.google.com/github/chaeeerish/bootcamp_team/blob/main/deeplearning/sub_clasases_codes/%EC%97%B4%EB%A7%A4_class_2%EA%B0%9C.ipynb\" target=\"_parent\"><img src=\"https://colab.research.google.com/assets/colab-badge.svg\" alt=\"Open In Colab\"/></a>"
      ]
    },
    {
      "cell_type": "code",
      "source": [
        "import keras\n",
        "from keras.models import Sequential\n",
        "from keras.layers import Dense, Dropout, Flatten\n",
        "from keras.layers import Conv2D, MaxPooling2D\n",
        "import keras.utils as image\n",
        "import numpy as np\n",
        "import pandas as pd\n",
        "import matplotlib.pyplot as plt\n",
        "from sklearn.model_selection import train_test_split\n",
        "from tqdm import tqdm\n",
        "from keras.layers import BatchNormalization\n",
        "import cv2\n",
        "import matplotlib.pyplot as plt\n",
        "import os\n",
        "import random\n",
        "import glob\n",
        "from os.path import isdir"
      ],
      "metadata": {
        "id": "D4hm8ZWZEWT8"
      },
      "execution_count": 1,
      "outputs": []
    },
    {
      "cell_type": "code",
      "execution_count": 2,
      "metadata": {
        "id": "SJEogrtbjeth"
      },
      "outputs": [],
      "source": [
        "from google.colab import drive"
      ]
    },
    {
      "cell_type": "code",
      "source": [
        "drive.mount('/content/drive')"
      ],
      "metadata": {
        "colab": {
          "base_uri": "https://localhost:8080/"
        },
        "id": "Stu4IQ9FxXEL",
        "outputId": "e97e529b-32a4-458f-a18c-52fd91b40823"
      },
      "execution_count": 3,
      "outputs": [
        {
          "output_type": "stream",
          "name": "stdout",
          "text": [
            "Mounted at /content/drive\n"
          ]
        }
      ]
    },
    {
      "cell_type": "code",
      "source": [
        "dir = '/content/drive/MyDrive/tree_test/'"
      ],
      "metadata": {
        "id": "r51cX-R13Iwy"
      },
      "execution_count": 4,
      "outputs": []
    },
    {
      "cell_type": "code",
      "source": [
        "name = os.listdir(dir)\n",
        "name"
      ],
      "metadata": {
        "colab": {
          "base_uri": "https://localhost:8080/"
        },
        "id": "9Znt9uvb3Z_S",
        "outputId": "bf70dc39-bb70-44c7-a946-c3cf5b06843d"
      },
      "execution_count": 5,
      "outputs": [
        {
          "output_type": "execute_result",
          "data": {
            "text/plain": [
              "['잎을 무성하게 그린',\n",
              " '잎을 안 무성하게 그린',\n",
              " '잎이 없는',\n",
              " '잎이 큰',\n",
              " '잎이 안 큰',\n",
              " '윗쪽으로 뻗는',\n",
              " '윗쪽으로 안 뻗는',\n",
              " '열매있음',\n",
              " '열매없음',\n",
              " '그물 아닌',\n",
              " '꽃없음',\n",
              " '그물',\n",
              " '꽃있음']"
            ]
          },
          "metadata": {},
          "execution_count": 5
        }
      ]
    },
    {
      "cell_type": "code",
      "source": [
        "_1, _2, _3, _4, _5, _6 = [],[],[],[],[],[]\n",
        "_1.append(os.listdir(dir + '열매있음'))\n",
        "_2.append(os.listdir(dir +'열매없음'))\n",
        "# _3.append(os.listdir(dir + '잎이 안 큰'))\n",
        "# _4.append(os.listdir(dir + '윗쪽으로 안 뻗는'))\n",
        "# _5.append(os.listdir(dir + '잎을 무성하게 그린'))\n",
        "# _6.append(os.listdir(dir + '잎을 안 무성하게 그린'))"
      ],
      "metadata": {
        "id": "mMS1kNRE6n4U"
      },
      "execution_count": 6,
      "outputs": []
    },
    {
      "cell_type": "code",
      "source": [
        "total_list = []\n",
        "total_list.append(os.listdir(dir + '열매있음'))\n",
        "total_list.append(os.listdir(dir +'열매없음'))\n",
        "# total_list.append(os.listdir(dir + '잎이 안 큰'))\n",
        "# total_list.append(os.listdir(dir + '윗쪽으로 안 뻗는'))\n",
        "# total_list.append(os.listdir(dir + '잎을 무성하게 그린'))\n",
        "# total_list.append(os.listdir(dir + '잎을 안 무성하게 그린'))\n",
        "# x = set(total_list)\n",
        "print(total_list)"
      ],
      "metadata": {
        "colab": {
          "base_uri": "https://localhost:8080/"
        },
        "id": "LADF7UJ9-5Rp",
        "outputId": "20993311-91cd-4dd7-8824-685472dad334"
      },
      "execution_count": 7,
      "outputs": [
        {
          "output_type": "stream",
          "name": "stdout",
          "text": [
            "[['잎13.png', '잎19.png', '잎24.png', '잎20.png', '잎33.png', '잎217.png', '잎229.png', '잎238.png', '잎255.png', '잎289.png', '잎365.png', '잎374.png', '잎376.png', '잎409.png', '잎411.png', '잎410.png', '잎412.png', '잎413.png', '잎414.png', '잎416.png', '잎417.png', '잎415.png', '잎419.png', '잎420.png', '잎424.png', '잎422.png', '잎423.png', '잎426.png', '잎427.png', '잎430.png', '잎431.png', '잎432.png', '잎434.png', '잎435.png', '잎436.png', '잎438.png', '잎437.png', '잎433.png', '잎440.png', '잎439.png', '잎442.png', '잎441.png', '잎445.png', '잎444.png', '잎443.png', '잎446.png', '잎496.png', '잎495.png', '잎493.png', '잎499.png', '잎498.png', '잎497.png', '잎501.png', '잎500.png', '잎503.png', '잎505.png', '잎506.png', '잎504.png', '잎509.png', '잎507.png', '잎508.png', '잎510.png', '잎513.png', '잎512.png', '잎511.png', '잎516.png', '잎515.png', '잎517.png', '잎518.png', '잎514.png', '잎519.png', '잎520.png', '잎523.png', '잎524.png', '잎522.png', '잎528.png', '잎529.png', '잎530.png', '잎533.png', '잎532.png', '잎531.png', '잎536.png', '잎534.png', '잎539.png', '잎537.png', '잎538.png', '잎542.png', '잎540.png', '잎545.png', '잎550.png', '잎551.png', '잎555.png', '잎562.png', '잎566.png', '잎569.png', '잎570.png'], ['잎211.png', '잎212.png', '잎218.png', '잎220.png', '잎214.png', '잎216.png', '잎219.png', '잎215.png', '잎222.png', '잎221.png', '잎213.png', '잎236.png', '잎223.png', '잎231.png', '잎230.png', '잎227.png', '잎237.png', '잎226.png', '잎235.png', '잎233.png', '잎224.png', '잎225.png', '잎228.png', '잎232.png', '잎234.png', '잎254.png', '잎242.png', '잎245.png', '잎251.png', '잎244.png', '잎252.png', '잎253.png', '잎250.png', '잎241.png', '잎247.png', '잎248.png', '잎240.png', '잎239.png', '잎246.png', '잎249.png', '잎243.png', '잎263.png', '잎258.png', '잎262.png', '잎257.png', '잎265.png', '잎256.png', '잎266.png', '잎259.png', '잎261.png', '잎260.png', '잎264.png', '잎267.png', '잎269.png', '잎268.png', '잎274.png', '잎279.png', '잎270.png', '잎276.png', '잎277.png', '잎280.png', '잎273.png', '잎271.png', '잎272.png', '잎275.png', '잎278.png', '잎288.png', '잎293.png', '잎291.png', '잎283.png', '잎282.png', '잎292.png', '잎281.png', '잎287.png', '잎285.png', '잎290.png', '잎286.png', '잎284.png', '잎296.png', '잎303.png', '잎299.png', '잎301.png', '잎295.png', '잎300.png', '잎304.png', '잎302.png', '잎294.png', '잎297.png', '잎298.png', '잎305.png', '전체821.png', '전체823.png', '전체824.png', '전체825.png', '전체822.png', '전체826.png', '전체827.png', '전체781.png', '전체782.png', '전체784.png', '전체783.png', '전체785.png']]\n"
          ]
        }
      ]
    },
    {
      "cell_type": "code",
      "source": [
        "total_list = np.concatenate(total_list).tolist()\n",
        "print(total_list)"
      ],
      "metadata": {
        "colab": {
          "base_uri": "https://localhost:8080/"
        },
        "id": "voDO7lRZ_Pv_",
        "outputId": "49082874-6563-4681-cc8d-d2ddae2dddc6"
      },
      "execution_count": 8,
      "outputs": [
        {
          "output_type": "stream",
          "name": "stdout",
          "text": [
            "['잎13.png', '잎19.png', '잎24.png', '잎20.png', '잎33.png', '잎217.png', '잎229.png', '잎238.png', '잎255.png', '잎289.png', '잎365.png', '잎374.png', '잎376.png', '잎409.png', '잎411.png', '잎410.png', '잎412.png', '잎413.png', '잎414.png', '잎416.png', '잎417.png', '잎415.png', '잎419.png', '잎420.png', '잎424.png', '잎422.png', '잎423.png', '잎426.png', '잎427.png', '잎430.png', '잎431.png', '잎432.png', '잎434.png', '잎435.png', '잎436.png', '잎438.png', '잎437.png', '잎433.png', '잎440.png', '잎439.png', '잎442.png', '잎441.png', '잎445.png', '잎444.png', '잎443.png', '잎446.png', '잎496.png', '잎495.png', '잎493.png', '잎499.png', '잎498.png', '잎497.png', '잎501.png', '잎500.png', '잎503.png', '잎505.png', '잎506.png', '잎504.png', '잎509.png', '잎507.png', '잎508.png', '잎510.png', '잎513.png', '잎512.png', '잎511.png', '잎516.png', '잎515.png', '잎517.png', '잎518.png', '잎514.png', '잎519.png', '잎520.png', '잎523.png', '잎524.png', '잎522.png', '잎528.png', '잎529.png', '잎530.png', '잎533.png', '잎532.png', '잎531.png', '잎536.png', '잎534.png', '잎539.png', '잎537.png', '잎538.png', '잎542.png', '잎540.png', '잎545.png', '잎550.png', '잎551.png', '잎555.png', '잎562.png', '잎566.png', '잎569.png', '잎570.png', '잎211.png', '잎212.png', '잎218.png', '잎220.png', '잎214.png', '잎216.png', '잎219.png', '잎215.png', '잎222.png', '잎221.png', '잎213.png', '잎236.png', '잎223.png', '잎231.png', '잎230.png', '잎227.png', '잎237.png', '잎226.png', '잎235.png', '잎233.png', '잎224.png', '잎225.png', '잎228.png', '잎232.png', '잎234.png', '잎254.png', '잎242.png', '잎245.png', '잎251.png', '잎244.png', '잎252.png', '잎253.png', '잎250.png', '잎241.png', '잎247.png', '잎248.png', '잎240.png', '잎239.png', '잎246.png', '잎249.png', '잎243.png', '잎263.png', '잎258.png', '잎262.png', '잎257.png', '잎265.png', '잎256.png', '잎266.png', '잎259.png', '잎261.png', '잎260.png', '잎264.png', '잎267.png', '잎269.png', '잎268.png', '잎274.png', '잎279.png', '잎270.png', '잎276.png', '잎277.png', '잎280.png', '잎273.png', '잎271.png', '잎272.png', '잎275.png', '잎278.png', '잎288.png', '잎293.png', '잎291.png', '잎283.png', '잎282.png', '잎292.png', '잎281.png', '잎287.png', '잎285.png', '잎290.png', '잎286.png', '잎284.png', '잎296.png', '잎303.png', '잎299.png', '잎301.png', '잎295.png', '잎300.png', '잎304.png', '잎302.png', '잎294.png', '잎297.png', '잎298.png', '잎305.png', '전체821.png', '전체823.png', '전체824.png', '전체825.png', '전체822.png', '전체826.png', '전체827.png', '전체781.png', '전체782.png', '전체784.png', '전체783.png', '전체785.png']\n"
          ]
        }
      ]
    },
    {
      "cell_type": "code",
      "source": [
        "_1 = np.concatenate(_1).tolist()\n",
        "_2 = np.concatenate(_2).tolist()\n",
        "# _3 = np.concatenate(_3).tolist()\n",
        "# _4 = np.concatenate(_4).tolist()\n",
        "# _5 = np.concatenate(_5).tolist()\n",
        "# _6 = np.concatenate(_6).tolist()"
      ],
      "metadata": {
        "id": "1S51CSVq8czV"
      },
      "execution_count": 9,
      "outputs": []
    },
    {
      "cell_type": "code",
      "source": [
        "df = pd.DataFrame({\n",
        "    'imgs' : total_list\n",
        "})"
      ],
      "metadata": {
        "id": "-OnwxyfM_cBp"
      },
      "execution_count": 10,
      "outputs": []
    },
    {
      "cell_type": "code",
      "source": [
        "df1 = pd.DataFrame({\n",
        "    '_1' : _1\n",
        "})\n",
        "df2 = pd.DataFrame({\n",
        "    '_2' : _2\n",
        "})\n",
        "# df3 = pd.DataFrame({\n",
        "#     '_3' : _3\n",
        "# })\n",
        "# df4 = pd.DataFrame({\n",
        "#     '_4' : _4\n",
        "# })\n",
        "# df5 = pd.DataFrame({\n",
        "#     '_5' : _5\n",
        "# })\n",
        "# df6 = pd.DataFrame({\n",
        "#     '_6' : _6\n",
        "# })"
      ],
      "metadata": {
        "id": "xH11NCEQ_2X4"
      },
      "execution_count": 11,
      "outputs": []
    },
    {
      "cell_type": "code",
      "source": [
        "result = pd.merge(df,df1, how='left', left_on='imgs', right_on='_1')\n",
        "result = pd.merge(result,df2, how='left', left_on='imgs', right_on='_2')\n",
        "# result = pd.merge(result,df3, how='left', left_on='imgs', right_on='_3')\n",
        "# result = pd.merge(result,df4, how='left', left_on='imgs', right_on='_4')\n",
        "# result = pd.merge(result,df5, how='left', left_on='imgs', right_on='_5')\n",
        "# result = pd.merge(result,df6, how='left', left_on='imgs', right_on='_6')"
      ],
      "metadata": {
        "id": "7JHB1So8ANKg"
      },
      "execution_count": 12,
      "outputs": []
    },
    {
      "cell_type": "code",
      "source": [
        "result = result.fillna(0)"
      ],
      "metadata": {
        "id": "xTwtGkWcANjn"
      },
      "execution_count": 13,
      "outputs": []
    },
    {
      "cell_type": "code",
      "source": [
        "result"
      ],
      "metadata": {
        "colab": {
          "base_uri": "https://localhost:8080/",
          "height": 423
        },
        "id": "TZL7Sz8YANqe",
        "outputId": "13df2c15-c32d-4c09-c727-8811d291c7af"
      },
      "execution_count": 14,
      "outputs": [
        {
          "output_type": "execute_result",
          "data": {
            "text/plain": [
              "             imgs         _1            _2\n",
              "0       잎13.png  잎13.png             0\n",
              "1       잎19.png  잎19.png             0\n",
              "2       잎24.png  잎24.png             0\n",
              "3       잎20.png  잎20.png             0\n",
              "4       잎33.png  잎33.png             0\n",
              "..            ...        ...           ...\n",
              "193  전체781.png          0  전체781.png\n",
              "194  전체782.png          0  전체782.png\n",
              "195  전체784.png          0  전체784.png\n",
              "196  전체783.png          0  전체783.png\n",
              "197  전체785.png          0  전체785.png\n",
              "\n",
              "[198 rows x 3 columns]"
            ],
            "text/html": [
              "\n",
              "  <div id=\"df-e56bd54e-594b-4e44-b5ab-bfadd97fb9c8\">\n",
              "    <div class=\"colab-df-container\">\n",
              "      <div>\n",
              "<style scoped>\n",
              "    .dataframe tbody tr th:only-of-type {\n",
              "        vertical-align: middle;\n",
              "    }\n",
              "\n",
              "    .dataframe tbody tr th {\n",
              "        vertical-align: top;\n",
              "    }\n",
              "\n",
              "    .dataframe thead th {\n",
              "        text-align: right;\n",
              "    }\n",
              "</style>\n",
              "<table border=\"1\" class=\"dataframe\">\n",
              "  <thead>\n",
              "    <tr style=\"text-align: right;\">\n",
              "      <th></th>\n",
              "      <th>imgs</th>\n",
              "      <th>_1</th>\n",
              "      <th>_2</th>\n",
              "    </tr>\n",
              "  </thead>\n",
              "  <tbody>\n",
              "    <tr>\n",
              "      <th>0</th>\n",
              "      <td>잎13.png</td>\n",
              "      <td>잎13.png</td>\n",
              "      <td>0</td>\n",
              "    </tr>\n",
              "    <tr>\n",
              "      <th>1</th>\n",
              "      <td>잎19.png</td>\n",
              "      <td>잎19.png</td>\n",
              "      <td>0</td>\n",
              "    </tr>\n",
              "    <tr>\n",
              "      <th>2</th>\n",
              "      <td>잎24.png</td>\n",
              "      <td>잎24.png</td>\n",
              "      <td>0</td>\n",
              "    </tr>\n",
              "    <tr>\n",
              "      <th>3</th>\n",
              "      <td>잎20.png</td>\n",
              "      <td>잎20.png</td>\n",
              "      <td>0</td>\n",
              "    </tr>\n",
              "    <tr>\n",
              "      <th>4</th>\n",
              "      <td>잎33.png</td>\n",
              "      <td>잎33.png</td>\n",
              "      <td>0</td>\n",
              "    </tr>\n",
              "    <tr>\n",
              "      <th>...</th>\n",
              "      <td>...</td>\n",
              "      <td>...</td>\n",
              "      <td>...</td>\n",
              "    </tr>\n",
              "    <tr>\n",
              "      <th>193</th>\n",
              "      <td>전체781.png</td>\n",
              "      <td>0</td>\n",
              "      <td>전체781.png</td>\n",
              "    </tr>\n",
              "    <tr>\n",
              "      <th>194</th>\n",
              "      <td>전체782.png</td>\n",
              "      <td>0</td>\n",
              "      <td>전체782.png</td>\n",
              "    </tr>\n",
              "    <tr>\n",
              "      <th>195</th>\n",
              "      <td>전체784.png</td>\n",
              "      <td>0</td>\n",
              "      <td>전체784.png</td>\n",
              "    </tr>\n",
              "    <tr>\n",
              "      <th>196</th>\n",
              "      <td>전체783.png</td>\n",
              "      <td>0</td>\n",
              "      <td>전체783.png</td>\n",
              "    </tr>\n",
              "    <tr>\n",
              "      <th>197</th>\n",
              "      <td>전체785.png</td>\n",
              "      <td>0</td>\n",
              "      <td>전체785.png</td>\n",
              "    </tr>\n",
              "  </tbody>\n",
              "</table>\n",
              "<p>198 rows × 3 columns</p>\n",
              "</div>\n",
              "      <button class=\"colab-df-convert\" onclick=\"convertToInteractive('df-e56bd54e-594b-4e44-b5ab-bfadd97fb9c8')\"\n",
              "              title=\"Convert this dataframe to an interactive table.\"\n",
              "              style=\"display:none;\">\n",
              "        \n",
              "  <svg xmlns=\"http://www.w3.org/2000/svg\" height=\"24px\"viewBox=\"0 0 24 24\"\n",
              "       width=\"24px\">\n",
              "    <path d=\"M0 0h24v24H0V0z\" fill=\"none\"/>\n",
              "    <path d=\"M18.56 5.44l.94 2.06.94-2.06 2.06-.94-2.06-.94-.94-2.06-.94 2.06-2.06.94zm-11 1L8.5 8.5l.94-2.06 2.06-.94-2.06-.94L8.5 2.5l-.94 2.06-2.06.94zm10 10l.94 2.06.94-2.06 2.06-.94-2.06-.94-.94-2.06-.94 2.06-2.06.94z\"/><path d=\"M17.41 7.96l-1.37-1.37c-.4-.4-.92-.59-1.43-.59-.52 0-1.04.2-1.43.59L10.3 9.45l-7.72 7.72c-.78.78-.78 2.05 0 2.83L4 21.41c.39.39.9.59 1.41.59.51 0 1.02-.2 1.41-.59l7.78-7.78 2.81-2.81c.8-.78.8-2.07 0-2.86zM5.41 20L4 18.59l7.72-7.72 1.47 1.35L5.41 20z\"/>\n",
              "  </svg>\n",
              "      </button>\n",
              "      \n",
              "  <style>\n",
              "    .colab-df-container {\n",
              "      display:flex;\n",
              "      flex-wrap:wrap;\n",
              "      gap: 12px;\n",
              "    }\n",
              "\n",
              "    .colab-df-convert {\n",
              "      background-color: #E8F0FE;\n",
              "      border: none;\n",
              "      border-radius: 50%;\n",
              "      cursor: pointer;\n",
              "      display: none;\n",
              "      fill: #1967D2;\n",
              "      height: 32px;\n",
              "      padding: 0 0 0 0;\n",
              "      width: 32px;\n",
              "    }\n",
              "\n",
              "    .colab-df-convert:hover {\n",
              "      background-color: #E2EBFA;\n",
              "      box-shadow: 0px 1px 2px rgba(60, 64, 67, 0.3), 0px 1px 3px 1px rgba(60, 64, 67, 0.15);\n",
              "      fill: #174EA6;\n",
              "    }\n",
              "\n",
              "    [theme=dark] .colab-df-convert {\n",
              "      background-color: #3B4455;\n",
              "      fill: #D2E3FC;\n",
              "    }\n",
              "\n",
              "    [theme=dark] .colab-df-convert:hover {\n",
              "      background-color: #434B5C;\n",
              "      box-shadow: 0px 1px 3px 1px rgba(0, 0, 0, 0.15);\n",
              "      filter: drop-shadow(0px 1px 2px rgba(0, 0, 0, 0.3));\n",
              "      fill: #FFFFFF;\n",
              "    }\n",
              "  </style>\n",
              "\n",
              "      <script>\n",
              "        const buttonEl =\n",
              "          document.querySelector('#df-e56bd54e-594b-4e44-b5ab-bfadd97fb9c8 button.colab-df-convert');\n",
              "        buttonEl.style.display =\n",
              "          google.colab.kernel.accessAllowed ? 'block' : 'none';\n",
              "\n",
              "        async function convertToInteractive(key) {\n",
              "          const element = document.querySelector('#df-e56bd54e-594b-4e44-b5ab-bfadd97fb9c8');\n",
              "          const dataTable =\n",
              "            await google.colab.kernel.invokeFunction('convertToInteractive',\n",
              "                                                     [key], {});\n",
              "          if (!dataTable) return;\n",
              "\n",
              "          const docLinkHtml = 'Like what you see? Visit the ' +\n",
              "            '<a target=\"_blank\" href=https://colab.research.google.com/notebooks/data_table.ipynb>data table notebook</a>'\n",
              "            + ' to learn more about interactive tables.';\n",
              "          element.innerHTML = '';\n",
              "          dataTable['output_type'] = 'display_data';\n",
              "          await google.colab.output.renderOutput(dataTable, element);\n",
              "          const docLink = document.createElement('div');\n",
              "          docLink.innerHTML = docLinkHtml;\n",
              "          element.appendChild(docLink);\n",
              "        }\n",
              "      </script>\n",
              "    </div>\n",
              "  </div>\n",
              "  "
            ]
          },
          "metadata": {},
          "execution_count": 14
        }
      ]
    },
    {
      "cell_type": "code",
      "source": [
        "def binary(data):\n",
        "    if data != 0:\n",
        "        data = 1\n",
        "        return data\n",
        "    else:\n",
        "        return data\n",
        "result['_1'] = result['_1'].apply(binary)\n",
        "result['_2'] = result['_2'].apply(binary)\n",
        "# result['_3'] = result['_3'].apply(binary)\n",
        "# result['_4'] = result['_4'].apply(binary)\n",
        "# result['_5'] = result['_5'].apply(binary)\n",
        "# result['_6'] = result['_6'].apply(binary)"
      ],
      "metadata": {
        "id": "PmfI6UJPC1iM"
      },
      "execution_count": 18,
      "outputs": []
    },
    {
      "cell_type": "code",
      "source": [
        "result"
      ],
      "metadata": {
        "colab": {
          "base_uri": "https://localhost:8080/",
          "height": 423
        },
        "id": "SkV-uNMyANtI",
        "outputId": "d34dcfc1-b49f-489b-bca2-8019868e3a35"
      },
      "execution_count": 19,
      "outputs": [
        {
          "output_type": "execute_result",
          "data": {
            "text/plain": [
              "             imgs  _1  _2\n",
              "0       잎13.png   1   0\n",
              "1       잎19.png   1   0\n",
              "2       잎24.png   1   0\n",
              "3       잎20.png   1   0\n",
              "4       잎33.png   1   0\n",
              "..            ...  ..  ..\n",
              "193  전체781.png   0   1\n",
              "194  전체782.png   0   1\n",
              "195  전체784.png   0   1\n",
              "196  전체783.png   0   1\n",
              "197  전체785.png   0   1\n",
              "\n",
              "[198 rows x 3 columns]"
            ],
            "text/html": [
              "\n",
              "  <div id=\"df-ab073ea5-ac12-490f-9b47-355ca2188dda\">\n",
              "    <div class=\"colab-df-container\">\n",
              "      <div>\n",
              "<style scoped>\n",
              "    .dataframe tbody tr th:only-of-type {\n",
              "        vertical-align: middle;\n",
              "    }\n",
              "\n",
              "    .dataframe tbody tr th {\n",
              "        vertical-align: top;\n",
              "    }\n",
              "\n",
              "    .dataframe thead th {\n",
              "        text-align: right;\n",
              "    }\n",
              "</style>\n",
              "<table border=\"1\" class=\"dataframe\">\n",
              "  <thead>\n",
              "    <tr style=\"text-align: right;\">\n",
              "      <th></th>\n",
              "      <th>imgs</th>\n",
              "      <th>_1</th>\n",
              "      <th>_2</th>\n",
              "    </tr>\n",
              "  </thead>\n",
              "  <tbody>\n",
              "    <tr>\n",
              "      <th>0</th>\n",
              "      <td>잎13.png</td>\n",
              "      <td>1</td>\n",
              "      <td>0</td>\n",
              "    </tr>\n",
              "    <tr>\n",
              "      <th>1</th>\n",
              "      <td>잎19.png</td>\n",
              "      <td>1</td>\n",
              "      <td>0</td>\n",
              "    </tr>\n",
              "    <tr>\n",
              "      <th>2</th>\n",
              "      <td>잎24.png</td>\n",
              "      <td>1</td>\n",
              "      <td>0</td>\n",
              "    </tr>\n",
              "    <tr>\n",
              "      <th>3</th>\n",
              "      <td>잎20.png</td>\n",
              "      <td>1</td>\n",
              "      <td>0</td>\n",
              "    </tr>\n",
              "    <tr>\n",
              "      <th>4</th>\n",
              "      <td>잎33.png</td>\n",
              "      <td>1</td>\n",
              "      <td>0</td>\n",
              "    </tr>\n",
              "    <tr>\n",
              "      <th>...</th>\n",
              "      <td>...</td>\n",
              "      <td>...</td>\n",
              "      <td>...</td>\n",
              "    </tr>\n",
              "    <tr>\n",
              "      <th>193</th>\n",
              "      <td>전체781.png</td>\n",
              "      <td>0</td>\n",
              "      <td>1</td>\n",
              "    </tr>\n",
              "    <tr>\n",
              "      <th>194</th>\n",
              "      <td>전체782.png</td>\n",
              "      <td>0</td>\n",
              "      <td>1</td>\n",
              "    </tr>\n",
              "    <tr>\n",
              "      <th>195</th>\n",
              "      <td>전체784.png</td>\n",
              "      <td>0</td>\n",
              "      <td>1</td>\n",
              "    </tr>\n",
              "    <tr>\n",
              "      <th>196</th>\n",
              "      <td>전체783.png</td>\n",
              "      <td>0</td>\n",
              "      <td>1</td>\n",
              "    </tr>\n",
              "    <tr>\n",
              "      <th>197</th>\n",
              "      <td>전체785.png</td>\n",
              "      <td>0</td>\n",
              "      <td>1</td>\n",
              "    </tr>\n",
              "  </tbody>\n",
              "</table>\n",
              "<p>198 rows × 3 columns</p>\n",
              "</div>\n",
              "      <button class=\"colab-df-convert\" onclick=\"convertToInteractive('df-ab073ea5-ac12-490f-9b47-355ca2188dda')\"\n",
              "              title=\"Convert this dataframe to an interactive table.\"\n",
              "              style=\"display:none;\">\n",
              "        \n",
              "  <svg xmlns=\"http://www.w3.org/2000/svg\" height=\"24px\"viewBox=\"0 0 24 24\"\n",
              "       width=\"24px\">\n",
              "    <path d=\"M0 0h24v24H0V0z\" fill=\"none\"/>\n",
              "    <path d=\"M18.56 5.44l.94 2.06.94-2.06 2.06-.94-2.06-.94-.94-2.06-.94 2.06-2.06.94zm-11 1L8.5 8.5l.94-2.06 2.06-.94-2.06-.94L8.5 2.5l-.94 2.06-2.06.94zm10 10l.94 2.06.94-2.06 2.06-.94-2.06-.94-.94-2.06-.94 2.06-2.06.94z\"/><path d=\"M17.41 7.96l-1.37-1.37c-.4-.4-.92-.59-1.43-.59-.52 0-1.04.2-1.43.59L10.3 9.45l-7.72 7.72c-.78.78-.78 2.05 0 2.83L4 21.41c.39.39.9.59 1.41.59.51 0 1.02-.2 1.41-.59l7.78-7.78 2.81-2.81c.8-.78.8-2.07 0-2.86zM5.41 20L4 18.59l7.72-7.72 1.47 1.35L5.41 20z\"/>\n",
              "  </svg>\n",
              "      </button>\n",
              "      \n",
              "  <style>\n",
              "    .colab-df-container {\n",
              "      display:flex;\n",
              "      flex-wrap:wrap;\n",
              "      gap: 12px;\n",
              "    }\n",
              "\n",
              "    .colab-df-convert {\n",
              "      background-color: #E8F0FE;\n",
              "      border: none;\n",
              "      border-radius: 50%;\n",
              "      cursor: pointer;\n",
              "      display: none;\n",
              "      fill: #1967D2;\n",
              "      height: 32px;\n",
              "      padding: 0 0 0 0;\n",
              "      width: 32px;\n",
              "    }\n",
              "\n",
              "    .colab-df-convert:hover {\n",
              "      background-color: #E2EBFA;\n",
              "      box-shadow: 0px 1px 2px rgba(60, 64, 67, 0.3), 0px 1px 3px 1px rgba(60, 64, 67, 0.15);\n",
              "      fill: #174EA6;\n",
              "    }\n",
              "\n",
              "    [theme=dark] .colab-df-convert {\n",
              "      background-color: #3B4455;\n",
              "      fill: #D2E3FC;\n",
              "    }\n",
              "\n",
              "    [theme=dark] .colab-df-convert:hover {\n",
              "      background-color: #434B5C;\n",
              "      box-shadow: 0px 1px 3px 1px rgba(0, 0, 0, 0.15);\n",
              "      filter: drop-shadow(0px 1px 2px rgba(0, 0, 0, 0.3));\n",
              "      fill: #FFFFFF;\n",
              "    }\n",
              "  </style>\n",
              "\n",
              "      <script>\n",
              "        const buttonEl =\n",
              "          document.querySelector('#df-ab073ea5-ac12-490f-9b47-355ca2188dda button.colab-df-convert');\n",
              "        buttonEl.style.display =\n",
              "          google.colab.kernel.accessAllowed ? 'block' : 'none';\n",
              "\n",
              "        async function convertToInteractive(key) {\n",
              "          const element = document.querySelector('#df-ab073ea5-ac12-490f-9b47-355ca2188dda');\n",
              "          const dataTable =\n",
              "            await google.colab.kernel.invokeFunction('convertToInteractive',\n",
              "                                                     [key], {});\n",
              "          if (!dataTable) return;\n",
              "\n",
              "          const docLinkHtml = 'Like what you see? Visit the ' +\n",
              "            '<a target=\"_blank\" href=https://colab.research.google.com/notebooks/data_table.ipynb>data table notebook</a>'\n",
              "            + ' to learn more about interactive tables.';\n",
              "          element.innerHTML = '';\n",
              "          dataTable['output_type'] = 'display_data';\n",
              "          await google.colab.output.renderOutput(dataTable, element);\n",
              "          const docLink = document.createElement('div');\n",
              "          docLink.innerHTML = docLinkHtml;\n",
              "          element.appendChild(docLink);\n",
              "        }\n",
              "      </script>\n",
              "    </div>\n",
              "  </div>\n",
              "  "
            ]
          },
          "metadata": {},
          "execution_count": 19
        }
      ]
    },
    {
      "cell_type": "code",
      "source": [
        "result.columns = ['imgs','열매있음', '열매없음']"
      ],
      "metadata": {
        "id": "L4bvtPQAANvA"
      },
      "execution_count": 20,
      "outputs": []
    },
    {
      "cell_type": "code",
      "source": [
        "result1 = result.copy()"
      ],
      "metadata": {
        "id": "Kf0ksNpa_2vw"
      },
      "execution_count": 21,
      "outputs": []
    },
    {
      "cell_type": "code",
      "source": [
        "# def chage(data):\n",
        "#     if data == 1:\n",
        "#         data = 0\n",
        "#         return data\n",
        "#     else:\n",
        "#         data = 1\n",
        "#         return data\n",
        "# result1['잎을 무성하게 그린'] = result1['잎을 무성하게 그린'].apply(chage)\n",
        "\n",
        "# result['_2'] = result['_2'].apply(binary)\n",
        "# result['_3'] = result['_3'].apply(binary)"
      ],
      "metadata": {
        "id": "5TA80HcuZtie"
      },
      "execution_count": null,
      "outputs": []
    },
    {
      "cell_type": "code",
      "source": [
        "# def chage2(data):\n",
        "#     if data == 1:\n",
        "#         data = 2\n",
        "#         return data\n",
        "#     else:\n",
        "#         data = 0\n",
        "#         return data\n",
        "# result['잎을 안 무성하게 그린'] = result['잎을 안 무성하게 그린'].apply(chage2)"
      ],
      "metadata": {
        "id": "sb2vRDx1gPty"
      },
      "execution_count": null,
      "outputs": []
    },
    {
      "cell_type": "code",
      "source": [
        "result1.iloc[101:120]"
      ],
      "metadata": {
        "colab": {
          "base_uri": "https://localhost:8080/",
          "height": 49
        },
        "id": "-LEDNDJa1O6E",
        "outputId": "9c0ee263-d1a6-413d-c34b-03436a30998e"
      },
      "execution_count": null,
      "outputs": [
        {
          "output_type": "execute_result",
          "data": {
            "text/plain": [
              "Empty DataFrame\n",
              "Columns: [imgs, 윗쪽으로 안 뻗는, 윗쪽으로 뻗는]\n",
              "Index: []"
            ],
            "text/html": [
              "\n",
              "  <div id=\"df-a8a7a2dc-5a38-443a-bee9-e5a4b2266115\">\n",
              "    <div class=\"colab-df-container\">\n",
              "      <div>\n",
              "<style scoped>\n",
              "    .dataframe tbody tr th:only-of-type {\n",
              "        vertical-align: middle;\n",
              "    }\n",
              "\n",
              "    .dataframe tbody tr th {\n",
              "        vertical-align: top;\n",
              "    }\n",
              "\n",
              "    .dataframe thead th {\n",
              "        text-align: right;\n",
              "    }\n",
              "</style>\n",
              "<table border=\"1\" class=\"dataframe\">\n",
              "  <thead>\n",
              "    <tr style=\"text-align: right;\">\n",
              "      <th></th>\n",
              "      <th>imgs</th>\n",
              "      <th>윗쪽으로 안 뻗는</th>\n",
              "      <th>윗쪽으로 뻗는</th>\n",
              "    </tr>\n",
              "  </thead>\n",
              "  <tbody>\n",
              "  </tbody>\n",
              "</table>\n",
              "</div>\n",
              "      <button class=\"colab-df-convert\" onclick=\"convertToInteractive('df-a8a7a2dc-5a38-443a-bee9-e5a4b2266115')\"\n",
              "              title=\"Convert this dataframe to an interactive table.\"\n",
              "              style=\"display:none;\">\n",
              "        \n",
              "  <svg xmlns=\"http://www.w3.org/2000/svg\" height=\"24px\"viewBox=\"0 0 24 24\"\n",
              "       width=\"24px\">\n",
              "    <path d=\"M0 0h24v24H0V0z\" fill=\"none\"/>\n",
              "    <path d=\"M18.56 5.44l.94 2.06.94-2.06 2.06-.94-2.06-.94-.94-2.06-.94 2.06-2.06.94zm-11 1L8.5 8.5l.94-2.06 2.06-.94-2.06-.94L8.5 2.5l-.94 2.06-2.06.94zm10 10l.94 2.06.94-2.06 2.06-.94-2.06-.94-.94-2.06-.94 2.06-2.06.94z\"/><path d=\"M17.41 7.96l-1.37-1.37c-.4-.4-.92-.59-1.43-.59-.52 0-1.04.2-1.43.59L10.3 9.45l-7.72 7.72c-.78.78-.78 2.05 0 2.83L4 21.41c.39.39.9.59 1.41.59.51 0 1.02-.2 1.41-.59l7.78-7.78 2.81-2.81c.8-.78.8-2.07 0-2.86zM5.41 20L4 18.59l7.72-7.72 1.47 1.35L5.41 20z\"/>\n",
              "  </svg>\n",
              "      </button>\n",
              "      \n",
              "  <style>\n",
              "    .colab-df-container {\n",
              "      display:flex;\n",
              "      flex-wrap:wrap;\n",
              "      gap: 12px;\n",
              "    }\n",
              "\n",
              "    .colab-df-convert {\n",
              "      background-color: #E8F0FE;\n",
              "      border: none;\n",
              "      border-radius: 50%;\n",
              "      cursor: pointer;\n",
              "      display: none;\n",
              "      fill: #1967D2;\n",
              "      height: 32px;\n",
              "      padding: 0 0 0 0;\n",
              "      width: 32px;\n",
              "    }\n",
              "\n",
              "    .colab-df-convert:hover {\n",
              "      background-color: #E2EBFA;\n",
              "      box-shadow: 0px 1px 2px rgba(60, 64, 67, 0.3), 0px 1px 3px 1px rgba(60, 64, 67, 0.15);\n",
              "      fill: #174EA6;\n",
              "    }\n",
              "\n",
              "    [theme=dark] .colab-df-convert {\n",
              "      background-color: #3B4455;\n",
              "      fill: #D2E3FC;\n",
              "    }\n",
              "\n",
              "    [theme=dark] .colab-df-convert:hover {\n",
              "      background-color: #434B5C;\n",
              "      box-shadow: 0px 1px 3px 1px rgba(0, 0, 0, 0.15);\n",
              "      filter: drop-shadow(0px 1px 2px rgba(0, 0, 0, 0.3));\n",
              "      fill: #FFFFFF;\n",
              "    }\n",
              "  </style>\n",
              "\n",
              "      <script>\n",
              "        const buttonEl =\n",
              "          document.querySelector('#df-a8a7a2dc-5a38-443a-bee9-e5a4b2266115 button.colab-df-convert');\n",
              "        buttonEl.style.display =\n",
              "          google.colab.kernel.accessAllowed ? 'block' : 'none';\n",
              "\n",
              "        async function convertToInteractive(key) {\n",
              "          const element = document.querySelector('#df-a8a7a2dc-5a38-443a-bee9-e5a4b2266115');\n",
              "          const dataTable =\n",
              "            await google.colab.kernel.invokeFunction('convertToInteractive',\n",
              "                                                     [key], {});\n",
              "          if (!dataTable) return;\n",
              "\n",
              "          const docLinkHtml = 'Like what you see? Visit the ' +\n",
              "            '<a target=\"_blank\" href=https://colab.research.google.com/notebooks/data_table.ipynb>data table notebook</a>'\n",
              "            + ' to learn more about interactive tables.';\n",
              "          element.innerHTML = '';\n",
              "          dataTable['output_type'] = 'display_data';\n",
              "          await google.colab.output.renderOutput(dataTable, element);\n",
              "          const docLink = document.createElement('div');\n",
              "          docLink.innerHTML = docLinkHtml;\n",
              "          element.appendChild(docLink);\n",
              "        }\n",
              "      </script>\n",
              "    </div>\n",
              "  </div>\n",
              "  "
            ]
          },
          "metadata": {},
          "execution_count": 21
        }
      ]
    },
    {
      "cell_type": "code",
      "source": [
        "data_1 = result1[['imgs','열매있음']]\n",
        "data_1.columns = ['imgs','잎']"
      ],
      "metadata": {
        "id": "-Sp8eDTjazTo"
      },
      "execution_count": 22,
      "outputs": []
    },
    {
      "cell_type": "code",
      "source": [
        "data_1"
      ],
      "metadata": {
        "colab": {
          "base_uri": "https://localhost:8080/",
          "height": 423
        },
        "id": "-q97lEUkVqgg",
        "outputId": "8b27170f-099f-4f9b-c836-42a0b7a5f425"
      },
      "execution_count": 23,
      "outputs": [
        {
          "output_type": "execute_result",
          "data": {
            "text/plain": [
              "             imgs  잎\n",
              "0       잎13.png  1\n",
              "1       잎19.png  1\n",
              "2       잎24.png  1\n",
              "3       잎20.png  1\n",
              "4       잎33.png  1\n",
              "..            ... ..\n",
              "193  전체781.png  0\n",
              "194  전체782.png  0\n",
              "195  전체784.png  0\n",
              "196  전체783.png  0\n",
              "197  전체785.png  0\n",
              "\n",
              "[198 rows x 2 columns]"
            ],
            "text/html": [
              "\n",
              "  <div id=\"df-e238f4b1-f4f3-4601-ad58-d637c207f31e\">\n",
              "    <div class=\"colab-df-container\">\n",
              "      <div>\n",
              "<style scoped>\n",
              "    .dataframe tbody tr th:only-of-type {\n",
              "        vertical-align: middle;\n",
              "    }\n",
              "\n",
              "    .dataframe tbody tr th {\n",
              "        vertical-align: top;\n",
              "    }\n",
              "\n",
              "    .dataframe thead th {\n",
              "        text-align: right;\n",
              "    }\n",
              "</style>\n",
              "<table border=\"1\" class=\"dataframe\">\n",
              "  <thead>\n",
              "    <tr style=\"text-align: right;\">\n",
              "      <th></th>\n",
              "      <th>imgs</th>\n",
              "      <th>잎</th>\n",
              "    </tr>\n",
              "  </thead>\n",
              "  <tbody>\n",
              "    <tr>\n",
              "      <th>0</th>\n",
              "      <td>잎13.png</td>\n",
              "      <td>1</td>\n",
              "    </tr>\n",
              "    <tr>\n",
              "      <th>1</th>\n",
              "      <td>잎19.png</td>\n",
              "      <td>1</td>\n",
              "    </tr>\n",
              "    <tr>\n",
              "      <th>2</th>\n",
              "      <td>잎24.png</td>\n",
              "      <td>1</td>\n",
              "    </tr>\n",
              "    <tr>\n",
              "      <th>3</th>\n",
              "      <td>잎20.png</td>\n",
              "      <td>1</td>\n",
              "    </tr>\n",
              "    <tr>\n",
              "      <th>4</th>\n",
              "      <td>잎33.png</td>\n",
              "      <td>1</td>\n",
              "    </tr>\n",
              "    <tr>\n",
              "      <th>...</th>\n",
              "      <td>...</td>\n",
              "      <td>...</td>\n",
              "    </tr>\n",
              "    <tr>\n",
              "      <th>193</th>\n",
              "      <td>전체781.png</td>\n",
              "      <td>0</td>\n",
              "    </tr>\n",
              "    <tr>\n",
              "      <th>194</th>\n",
              "      <td>전체782.png</td>\n",
              "      <td>0</td>\n",
              "    </tr>\n",
              "    <tr>\n",
              "      <th>195</th>\n",
              "      <td>전체784.png</td>\n",
              "      <td>0</td>\n",
              "    </tr>\n",
              "    <tr>\n",
              "      <th>196</th>\n",
              "      <td>전체783.png</td>\n",
              "      <td>0</td>\n",
              "    </tr>\n",
              "    <tr>\n",
              "      <th>197</th>\n",
              "      <td>전체785.png</td>\n",
              "      <td>0</td>\n",
              "    </tr>\n",
              "  </tbody>\n",
              "</table>\n",
              "<p>198 rows × 2 columns</p>\n",
              "</div>\n",
              "      <button class=\"colab-df-convert\" onclick=\"convertToInteractive('df-e238f4b1-f4f3-4601-ad58-d637c207f31e')\"\n",
              "              title=\"Convert this dataframe to an interactive table.\"\n",
              "              style=\"display:none;\">\n",
              "        \n",
              "  <svg xmlns=\"http://www.w3.org/2000/svg\" height=\"24px\"viewBox=\"0 0 24 24\"\n",
              "       width=\"24px\">\n",
              "    <path d=\"M0 0h24v24H0V0z\" fill=\"none\"/>\n",
              "    <path d=\"M18.56 5.44l.94 2.06.94-2.06 2.06-.94-2.06-.94-.94-2.06-.94 2.06-2.06.94zm-11 1L8.5 8.5l.94-2.06 2.06-.94-2.06-.94L8.5 2.5l-.94 2.06-2.06.94zm10 10l.94 2.06.94-2.06 2.06-.94-2.06-.94-.94-2.06-.94 2.06-2.06.94z\"/><path d=\"M17.41 7.96l-1.37-1.37c-.4-.4-.92-.59-1.43-.59-.52 0-1.04.2-1.43.59L10.3 9.45l-7.72 7.72c-.78.78-.78 2.05 0 2.83L4 21.41c.39.39.9.59 1.41.59.51 0 1.02-.2 1.41-.59l7.78-7.78 2.81-2.81c.8-.78.8-2.07 0-2.86zM5.41 20L4 18.59l7.72-7.72 1.47 1.35L5.41 20z\"/>\n",
              "  </svg>\n",
              "      </button>\n",
              "      \n",
              "  <style>\n",
              "    .colab-df-container {\n",
              "      display:flex;\n",
              "      flex-wrap:wrap;\n",
              "      gap: 12px;\n",
              "    }\n",
              "\n",
              "    .colab-df-convert {\n",
              "      background-color: #E8F0FE;\n",
              "      border: none;\n",
              "      border-radius: 50%;\n",
              "      cursor: pointer;\n",
              "      display: none;\n",
              "      fill: #1967D2;\n",
              "      height: 32px;\n",
              "      padding: 0 0 0 0;\n",
              "      width: 32px;\n",
              "    }\n",
              "\n",
              "    .colab-df-convert:hover {\n",
              "      background-color: #E2EBFA;\n",
              "      box-shadow: 0px 1px 2px rgba(60, 64, 67, 0.3), 0px 1px 3px 1px rgba(60, 64, 67, 0.15);\n",
              "      fill: #174EA6;\n",
              "    }\n",
              "\n",
              "    [theme=dark] .colab-df-convert {\n",
              "      background-color: #3B4455;\n",
              "      fill: #D2E3FC;\n",
              "    }\n",
              "\n",
              "    [theme=dark] .colab-df-convert:hover {\n",
              "      background-color: #434B5C;\n",
              "      box-shadow: 0px 1px 3px 1px rgba(0, 0, 0, 0.15);\n",
              "      filter: drop-shadow(0px 1px 2px rgba(0, 0, 0, 0.3));\n",
              "      fill: #FFFFFF;\n",
              "    }\n",
              "  </style>\n",
              "\n",
              "      <script>\n",
              "        const buttonEl =\n",
              "          document.querySelector('#df-e238f4b1-f4f3-4601-ad58-d637c207f31e button.colab-df-convert');\n",
              "        buttonEl.style.display =\n",
              "          google.colab.kernel.accessAllowed ? 'block' : 'none';\n",
              "\n",
              "        async function convertToInteractive(key) {\n",
              "          const element = document.querySelector('#df-e238f4b1-f4f3-4601-ad58-d637c207f31e');\n",
              "          const dataTable =\n",
              "            await google.colab.kernel.invokeFunction('convertToInteractive',\n",
              "                                                     [key], {});\n",
              "          if (!dataTable) return;\n",
              "\n",
              "          const docLinkHtml = 'Like what you see? Visit the ' +\n",
              "            '<a target=\"_blank\" href=https://colab.research.google.com/notebooks/data_table.ipynb>data table notebook</a>'\n",
              "            + ' to learn more about interactive tables.';\n",
              "          element.innerHTML = '';\n",
              "          dataTable['output_type'] = 'display_data';\n",
              "          await google.colab.output.renderOutput(dataTable, element);\n",
              "          const docLink = document.createElement('div');\n",
              "          docLink.innerHTML = docLinkHtml;\n",
              "          element.appendChild(docLink);\n",
              "        }\n",
              "      </script>\n",
              "    </div>\n",
              "  </div>\n",
              "  "
            ]
          },
          "metadata": {},
          "execution_count": 23
        }
      ]
    },
    {
      "cell_type": "code",
      "source": [
        "data_1['잎'].value_counts()"
      ],
      "metadata": {
        "colab": {
          "base_uri": "https://localhost:8080/"
        },
        "id": "2EhrRcGEfvk5",
        "outputId": "6af18eac-16aa-45aa-f2ff-173bb5487c4d"
      },
      "execution_count": 24,
      "outputs": [
        {
          "output_type": "execute_result",
          "data": {
            "text/plain": [
              "0    102\n",
              "1     96\n",
              "Name: 잎, dtype: int64"
            ]
          },
          "metadata": {},
          "execution_count": 24
        }
      ]
    },
    {
      "cell_type": "code",
      "source": [
        "import sklearn\n",
        "data_merge2_shuffled = sklearn.utils.shuffle(data_1)"
      ],
      "metadata": {
        "id": "oxAX2flsfWh_"
      },
      "execution_count": 25,
      "outputs": []
    },
    {
      "cell_type": "code",
      "source": [
        "data_merge2_shuffled"
      ],
      "metadata": {
        "colab": {
          "base_uri": "https://localhost:8080/",
          "height": 423
        },
        "id": "f1EU7ATajxP0",
        "outputId": "23e34038-fd96-4d71-a088-d3e7719c0496"
      },
      "execution_count": 26,
      "outputs": [
        {
          "output_type": "execute_result",
          "data": {
            "text/plain": [
              "             imgs  잎\n",
              "2       잎24.png  1\n",
              "128    잎250.png  0\n",
              "77     잎530.png  1\n",
              "194  전체782.png  0\n",
              "98     잎218.png  0\n",
              "..            ... ..\n",
              "193  전체781.png  0\n",
              "69     잎514.png  1\n",
              "5      잎217.png  1\n",
              "192  전체827.png  0\n",
              "67     잎517.png  1\n",
              "\n",
              "[198 rows x 2 columns]"
            ],
            "text/html": [
              "\n",
              "  <div id=\"df-40d52aa0-6197-4196-a84b-144e31ba99ee\">\n",
              "    <div class=\"colab-df-container\">\n",
              "      <div>\n",
              "<style scoped>\n",
              "    .dataframe tbody tr th:only-of-type {\n",
              "        vertical-align: middle;\n",
              "    }\n",
              "\n",
              "    .dataframe tbody tr th {\n",
              "        vertical-align: top;\n",
              "    }\n",
              "\n",
              "    .dataframe thead th {\n",
              "        text-align: right;\n",
              "    }\n",
              "</style>\n",
              "<table border=\"1\" class=\"dataframe\">\n",
              "  <thead>\n",
              "    <tr style=\"text-align: right;\">\n",
              "      <th></th>\n",
              "      <th>imgs</th>\n",
              "      <th>잎</th>\n",
              "    </tr>\n",
              "  </thead>\n",
              "  <tbody>\n",
              "    <tr>\n",
              "      <th>2</th>\n",
              "      <td>잎24.png</td>\n",
              "      <td>1</td>\n",
              "    </tr>\n",
              "    <tr>\n",
              "      <th>128</th>\n",
              "      <td>잎250.png</td>\n",
              "      <td>0</td>\n",
              "    </tr>\n",
              "    <tr>\n",
              "      <th>77</th>\n",
              "      <td>잎530.png</td>\n",
              "      <td>1</td>\n",
              "    </tr>\n",
              "    <tr>\n",
              "      <th>194</th>\n",
              "      <td>전체782.png</td>\n",
              "      <td>0</td>\n",
              "    </tr>\n",
              "    <tr>\n",
              "      <th>98</th>\n",
              "      <td>잎218.png</td>\n",
              "      <td>0</td>\n",
              "    </tr>\n",
              "    <tr>\n",
              "      <th>...</th>\n",
              "      <td>...</td>\n",
              "      <td>...</td>\n",
              "    </tr>\n",
              "    <tr>\n",
              "      <th>193</th>\n",
              "      <td>전체781.png</td>\n",
              "      <td>0</td>\n",
              "    </tr>\n",
              "    <tr>\n",
              "      <th>69</th>\n",
              "      <td>잎514.png</td>\n",
              "      <td>1</td>\n",
              "    </tr>\n",
              "    <tr>\n",
              "      <th>5</th>\n",
              "      <td>잎217.png</td>\n",
              "      <td>1</td>\n",
              "    </tr>\n",
              "    <tr>\n",
              "      <th>192</th>\n",
              "      <td>전체827.png</td>\n",
              "      <td>0</td>\n",
              "    </tr>\n",
              "    <tr>\n",
              "      <th>67</th>\n",
              "      <td>잎517.png</td>\n",
              "      <td>1</td>\n",
              "    </tr>\n",
              "  </tbody>\n",
              "</table>\n",
              "<p>198 rows × 2 columns</p>\n",
              "</div>\n",
              "      <button class=\"colab-df-convert\" onclick=\"convertToInteractive('df-40d52aa0-6197-4196-a84b-144e31ba99ee')\"\n",
              "              title=\"Convert this dataframe to an interactive table.\"\n",
              "              style=\"display:none;\">\n",
              "        \n",
              "  <svg xmlns=\"http://www.w3.org/2000/svg\" height=\"24px\"viewBox=\"0 0 24 24\"\n",
              "       width=\"24px\">\n",
              "    <path d=\"M0 0h24v24H0V0z\" fill=\"none\"/>\n",
              "    <path d=\"M18.56 5.44l.94 2.06.94-2.06 2.06-.94-2.06-.94-.94-2.06-.94 2.06-2.06.94zm-11 1L8.5 8.5l.94-2.06 2.06-.94-2.06-.94L8.5 2.5l-.94 2.06-2.06.94zm10 10l.94 2.06.94-2.06 2.06-.94-2.06-.94-.94-2.06-.94 2.06-2.06.94z\"/><path d=\"M17.41 7.96l-1.37-1.37c-.4-.4-.92-.59-1.43-.59-.52 0-1.04.2-1.43.59L10.3 9.45l-7.72 7.72c-.78.78-.78 2.05 0 2.83L4 21.41c.39.39.9.59 1.41.59.51 0 1.02-.2 1.41-.59l7.78-7.78 2.81-2.81c.8-.78.8-2.07 0-2.86zM5.41 20L4 18.59l7.72-7.72 1.47 1.35L5.41 20z\"/>\n",
              "  </svg>\n",
              "      </button>\n",
              "      \n",
              "  <style>\n",
              "    .colab-df-container {\n",
              "      display:flex;\n",
              "      flex-wrap:wrap;\n",
              "      gap: 12px;\n",
              "    }\n",
              "\n",
              "    .colab-df-convert {\n",
              "      background-color: #E8F0FE;\n",
              "      border: none;\n",
              "      border-radius: 50%;\n",
              "      cursor: pointer;\n",
              "      display: none;\n",
              "      fill: #1967D2;\n",
              "      height: 32px;\n",
              "      padding: 0 0 0 0;\n",
              "      width: 32px;\n",
              "    }\n",
              "\n",
              "    .colab-df-convert:hover {\n",
              "      background-color: #E2EBFA;\n",
              "      box-shadow: 0px 1px 2px rgba(60, 64, 67, 0.3), 0px 1px 3px 1px rgba(60, 64, 67, 0.15);\n",
              "      fill: #174EA6;\n",
              "    }\n",
              "\n",
              "    [theme=dark] .colab-df-convert {\n",
              "      background-color: #3B4455;\n",
              "      fill: #D2E3FC;\n",
              "    }\n",
              "\n",
              "    [theme=dark] .colab-df-convert:hover {\n",
              "      background-color: #434B5C;\n",
              "      box-shadow: 0px 1px 3px 1px rgba(0, 0, 0, 0.15);\n",
              "      filter: drop-shadow(0px 1px 2px rgba(0, 0, 0, 0.3));\n",
              "      fill: #FFFFFF;\n",
              "    }\n",
              "  </style>\n",
              "\n",
              "      <script>\n",
              "        const buttonEl =\n",
              "          document.querySelector('#df-40d52aa0-6197-4196-a84b-144e31ba99ee button.colab-df-convert');\n",
              "        buttonEl.style.display =\n",
              "          google.colab.kernel.accessAllowed ? 'block' : 'none';\n",
              "\n",
              "        async function convertToInteractive(key) {\n",
              "          const element = document.querySelector('#df-40d52aa0-6197-4196-a84b-144e31ba99ee');\n",
              "          const dataTable =\n",
              "            await google.colab.kernel.invokeFunction('convertToInteractive',\n",
              "                                                     [key], {});\n",
              "          if (!dataTable) return;\n",
              "\n",
              "          const docLinkHtml = 'Like what you see? Visit the ' +\n",
              "            '<a target=\"_blank\" href=https://colab.research.google.com/notebooks/data_table.ipynb>data table notebook</a>'\n",
              "            + ' to learn more about interactive tables.';\n",
              "          element.innerHTML = '';\n",
              "          dataTable['output_type'] = 'display_data';\n",
              "          await google.colab.output.renderOutput(dataTable, element);\n",
              "          const docLink = document.createElement('div');\n",
              "          docLink.innerHTML = docLinkHtml;\n",
              "          element.appendChild(docLink);\n",
              "        }\n",
              "      </script>\n",
              "    </div>\n",
              "  </div>\n",
              "  "
            ]
          },
          "metadata": {},
          "execution_count": 26
        }
      ]
    },
    {
      "cell_type": "code",
      "source": [
        "data = data_merge2_shuffled"
      ],
      "metadata": {
        "id": "63bdXeDTfmVU"
      },
      "execution_count": 27,
      "outputs": []
    },
    {
      "cell_type": "code",
      "source": [
        "train_df, test_df = train_test_split(data, test_size=0.2, random_state=1, stratify=data['잎'])"
      ],
      "metadata": {
        "id": "jym8c3zOaI8A"
      },
      "execution_count": 28,
      "outputs": []
    },
    {
      "cell_type": "code",
      "source": [
        "#확인\n",
        "print(\"Train set rows: {}\".format(train_df.shape[0]))\n",
        "print(\"Test  set rows: {}\".format(test_df.shape[0]))"
      ],
      "metadata": {
        "id": "lsjd1jkaiIuW",
        "colab": {
          "base_uri": "https://localhost:8080/"
        },
        "outputId": "834b6122-3bcd-4ab1-b478-7e71ce04daa0"
      },
      "execution_count": 29,
      "outputs": [
        {
          "output_type": "stream",
          "name": "stdout",
          "text": [
            "Train set rows: 158\n",
            "Test  set rows: 40\n"
          ]
        }
      ]
    },
    {
      "cell_type": "code",
      "source": [
        "IMAGE_PATH = '/content/drive/MyDrive/total/'"
      ],
      "metadata": {
        "id": "N7fZ0g0iis4V"
      },
      "execution_count": 30,
      "outputs": []
    },
    {
      "cell_type": "code",
      "source": [
        "def read_image(file_name):\n",
        "  # print(file_name)\n",
        "  image = cv2.imread(IMAGE_PATH + file_name)\n",
        "  image = cv2.resize(image, dsize=(300, 300))\n",
        "  # print(image.shape)\n",
        "  return image[:,:,:3]"
      ],
      "metadata": {
        "id": "HmOaK-HbiKGU"
      },
      "execution_count": 31,
      "outputs": []
    },
    {
      "cell_type": "code",
      "source": [
        "def categories_encoder(dataset):\n",
        "    #file명을 읽어 이미지 경로에서 불러온다. X 값.\n",
        "    X = np.stack(dataset['imgs'].apply(read_image))\n",
        "    # subspecies를 더미변수화 하여 y값으로\n",
        "    y = pd.get_dummies(dataset['잎'], drop_first=False)\n",
        "    return X, y"
      ],
      "metadata": {
        "id": "yqrWZL4Tidab"
      },
      "execution_count": 32,
      "outputs": []
    },
    {
      "cell_type": "code",
      "source": [
        "#file명을 읽어 이미지 경로에서 불러온다. X 값.\n",
        "X_train, y_train = categories_encoder(train_df)\n",
        "X_test, y_test = categories_encoder(test_df)"
      ],
      "metadata": {
        "id": "JWw01MbiiddK"
      },
      "execution_count": 33,
      "outputs": []
    },
    {
      "cell_type": "code",
      "source": [
        "#개수, size, channel\n",
        "print(X_train.shape)\n",
        "print(y_train.shape)\n",
        "print(X_test.shape)\n",
        "print(y_test.shape)"
      ],
      "metadata": {
        "id": "NpcvbeVmidf6",
        "colab": {
          "base_uri": "https://localhost:8080/"
        },
        "outputId": "6bee86d4-7ecc-46c8-c6f7-d39bb3d56b95"
      },
      "execution_count": 34,
      "outputs": [
        {
          "output_type": "stream",
          "name": "stdout",
          "text": [
            "(158, 300, 300, 3)\n",
            "(158, 2)\n",
            "(40, 300, 300, 3)\n",
            "(40, 2)\n"
          ]
        }
      ]
    },
    {
      "cell_type": "code",
      "source": [
        "#하이퍼 파라미터 생성\n",
        "BATCH_SIZE = 7 # 한 번에 처리할 데이터량 설정\n",
        "EPOCHS = 20 # 신경망을 학습할 횟수\n",
        "VERBOSE = 1 # 학습 진행 상황 출력 모드 설정 "
      ],
      "metadata": {
        "id": "mi7q3L6UidiS"
      },
      "execution_count": 35,
      "outputs": []
    },
    {
      "cell_type": "code",
      "source": [
        "!pip install -U efficientnet"
      ],
      "metadata": {
        "colab": {
          "base_uri": "https://localhost:8080/"
        },
        "id": "cqDnBEzridkj",
        "outputId": "0ef84312-32fa-4580-e698-b065330f059d"
      },
      "execution_count": 36,
      "outputs": [
        {
          "output_type": "stream",
          "name": "stdout",
          "text": [
            "Looking in indexes: https://pypi.org/simple, https://us-python.pkg.dev/colab-wheels/public/simple/\n",
            "Collecting efficientnet\n",
            "  Downloading efficientnet-1.1.1-py3-none-any.whl (18 kB)\n",
            "Collecting keras-applications<=1.0.8,>=1.0.7\n",
            "  Downloading Keras_Applications-1.0.8-py3-none-any.whl (50 kB)\n",
            "\u001b[2K     \u001b[90m━━━━━━━━━━━━━━━━━━━━━━━━━━━━━━━━━━━━━━━━\u001b[0m \u001b[32m50.7/50.7 KB\u001b[0m \u001b[31m8.1 MB/s\u001b[0m eta \u001b[36m0:00:00\u001b[0m\n",
            "\u001b[?25hRequirement already satisfied: scikit-image in /usr/local/lib/python3.8/dist-packages (from efficientnet) (0.18.3)\n",
            "Requirement already satisfied: h5py in /usr/local/lib/python3.8/dist-packages (from keras-applications<=1.0.8,>=1.0.7->efficientnet) (3.1.0)\n",
            "Requirement already satisfied: numpy>=1.9.1 in /usr/local/lib/python3.8/dist-packages (from keras-applications<=1.0.8,>=1.0.7->efficientnet) (1.21.6)\n",
            "Requirement already satisfied: networkx>=2.0 in /usr/local/lib/python3.8/dist-packages (from scikit-image->efficientnet) (3.0)\n",
            "Requirement already satisfied: scipy>=1.0.1 in /usr/local/lib/python3.8/dist-packages (from scikit-image->efficientnet) (1.7.3)\n",
            "Requirement already satisfied: matplotlib!=3.0.0,>=2.0.0 in /usr/local/lib/python3.8/dist-packages (from scikit-image->efficientnet) (3.2.2)\n",
            "Requirement already satisfied: PyWavelets>=1.1.1 in /usr/local/lib/python3.8/dist-packages (from scikit-image->efficientnet) (1.4.1)\n",
            "Requirement already satisfied: pillow!=7.1.0,!=7.1.1,>=4.3.0 in /usr/local/lib/python3.8/dist-packages (from scikit-image->efficientnet) (7.1.2)\n",
            "Requirement already satisfied: tifffile>=2019.7.26 in /usr/local/lib/python3.8/dist-packages (from scikit-image->efficientnet) (2023.2.3)\n",
            "Requirement already satisfied: imageio>=2.3.0 in /usr/local/lib/python3.8/dist-packages (from scikit-image->efficientnet) (2.9.0)\n",
            "Requirement already satisfied: kiwisolver>=1.0.1 in /usr/local/lib/python3.8/dist-packages (from matplotlib!=3.0.0,>=2.0.0->scikit-image->efficientnet) (1.4.4)\n",
            "Requirement already satisfied: pyparsing!=2.0.4,!=2.1.2,!=2.1.6,>=2.0.1 in /usr/local/lib/python3.8/dist-packages (from matplotlib!=3.0.0,>=2.0.0->scikit-image->efficientnet) (3.0.9)\n",
            "Requirement already satisfied: python-dateutil>=2.1 in /usr/local/lib/python3.8/dist-packages (from matplotlib!=3.0.0,>=2.0.0->scikit-image->efficientnet) (2.8.2)\n",
            "Requirement already satisfied: cycler>=0.10 in /usr/local/lib/python3.8/dist-packages (from matplotlib!=3.0.0,>=2.0.0->scikit-image->efficientnet) (0.11.0)\n",
            "Requirement already satisfied: six>=1.5 in /usr/local/lib/python3.8/dist-packages (from python-dateutil>=2.1->matplotlib!=3.0.0,>=2.0.0->scikit-image->efficientnet) (1.15.0)\n",
            "Installing collected packages: keras-applications, efficientnet\n",
            "Successfully installed efficientnet-1.1.1 keras-applications-1.0.8\n"
          ]
        }
      ]
    },
    {
      "cell_type": "code",
      "source": [
        "import numpy as np\n",
        "import pandas as pd\n",
        "from skimage.io import imread\n",
        "import matplotlib.pyplot as plt\n",
        "import efficientnet.keras as efn \n",
        "import keras \n",
        "from keras.models import Model\n",
        "\n",
        "from keras.applications.imagenet_utils import decode_predictions\n",
        "\n",
        "from efficientnet.keras import EfficientNetB0, EfficientNetB3\n",
        "from efficientnet.keras import center_crop_and_resize, preprocess_input\n",
        "\n",
        "## if you use tensorflow.keras: \n",
        "# from efficientnet.tfkeras import EfficientNetB0\n",
        "# from efficientnet.tfkeras import center_crop_and_resize, preprocess_input\n",
        "\n",
        "import os"
      ],
      "metadata": {
        "id": "9WolpeAtidnI"
      },
      "execution_count": 37,
      "outputs": []
    },
    {
      "cell_type": "code",
      "source": [
        "base_model = efn.EfficientNetB3(weights='imagenet') #imagenet 가중치 사용"
      ],
      "metadata": {
        "id": "Fbp-xjVyiKIi",
        "colab": {
          "base_uri": "https://localhost:8080/"
        },
        "outputId": "fde2b52c-5ccf-48c1-d0f6-6122b46924b3"
      },
      "execution_count": 38,
      "outputs": [
        {
          "output_type": "stream",
          "name": "stdout",
          "text": [
            "Downloading data from https://github.com/Callidior/keras-applications/releases/download/efficientnet/efficientnet-b3_weights_tf_dim_ordering_tf_kernels_autoaugment.h5\n",
            "50086816/50086816 [==============================] - 2s 0us/step\n"
          ]
        }
      ]
    },
    {
      "cell_type": "code",
      "source": [
        "#output layer 변경\n",
        "from tensorflow.keras.models import Sequential\n",
        "from tensorflow.keras.layers import Conv2D, MaxPooling2D, Dense, Flatten, Dropout\n",
        "net = Dense(2, activation='softmax')(base_model.layers[-2].output)"
      ],
      "metadata": {
        "id": "nRIveZ8ej_i7"
      },
      "execution_count": 39,
      "outputs": []
    },
    {
      "cell_type": "code",
      "source": [
        "# model = Model(inputs=base_model.input, outputs=net)\n",
        "\n",
        "\n",
        "model = Sequential()\n",
        "\n",
        "model.add(Conv2D(filters=16, kernel_size=(5, 5), activation=\"relu\", input_shape=(300,300,3)))\n",
        "model.add(BatchNormalization())\n",
        "model.add(MaxPooling2D(pool_size=(2, 2)))\n",
        "model.add(Dropout(0.2))\n",
        "\n",
        "model.add(Conv2D(filters=32, kernel_size=(5, 5), activation='relu'))\n",
        "model.add(MaxPooling2D(pool_size=(2, 2)))\n",
        "model.add(BatchNormalization())\n",
        "model.add(Dropout(0.2))\n",
        "\n",
        "model.add(Conv2D(filters=64, kernel_size=(5, 5), activation=\"relu\"))\n",
        "model.add(MaxPooling2D(pool_size=(2, 2)))\n",
        "model.add(BatchNormalization())\n",
        "model.add(Dropout(0.2))\n",
        "\n",
        "model.add(Conv2D(filters=64, kernel_size=(5, 5), activation='relu'))\n",
        "model.add(MaxPooling2D(pool_size=(2, 2)))\n",
        "model.add(BatchNormalization())\n",
        "model.add(Dropout(0.2))\n",
        "\n",
        "model.add(Flatten())\n",
        "model.add(Dense(128, activation='relu'))\n",
        "model.add(Dropout(0.5))\n",
        "model.add(Dense(64, activation='relu'))\n",
        "model.add(Dropout(0.5))\n",
        "model.add(Dense(2, activation='sigmoid'))\n",
        "\n",
        "model.summary()\n"
      ],
      "metadata": {
        "id": "LdTUheeQj_z0",
        "colab": {
          "base_uri": "https://localhost:8080/"
        },
        "outputId": "2223ba6d-d81d-44ea-b9e5-8d1e6a7a6952"
      },
      "execution_count": 40,
      "outputs": [
        {
          "output_type": "stream",
          "name": "stdout",
          "text": [
            "Model: \"sequential\"\n",
            "_________________________________________________________________\n",
            " Layer (type)                Output Shape              Param #   \n",
            "=================================================================\n",
            " conv2d (Conv2D)             (None, 296, 296, 16)      1216      \n",
            "                                                                 \n",
            " batch_normalization (BatchN  (None, 296, 296, 16)     64        \n",
            " ormalization)                                                   \n",
            "                                                                 \n",
            " max_pooling2d (MaxPooling2D  (None, 148, 148, 16)     0         \n",
            " )                                                               \n",
            "                                                                 \n",
            " dropout (Dropout)           (None, 148, 148, 16)      0         \n",
            "                                                                 \n",
            " conv2d_1 (Conv2D)           (None, 144, 144, 32)      12832     \n",
            "                                                                 \n",
            " max_pooling2d_1 (MaxPooling  (None, 72, 72, 32)       0         \n",
            " 2D)                                                             \n",
            "                                                                 \n",
            " batch_normalization_1 (Batc  (None, 72, 72, 32)       128       \n",
            " hNormalization)                                                 \n",
            "                                                                 \n",
            " dropout_1 (Dropout)         (None, 72, 72, 32)        0         \n",
            "                                                                 \n",
            " conv2d_2 (Conv2D)           (None, 68, 68, 64)        51264     \n",
            "                                                                 \n",
            " max_pooling2d_2 (MaxPooling  (None, 34, 34, 64)       0         \n",
            " 2D)                                                             \n",
            "                                                                 \n",
            " batch_normalization_2 (Batc  (None, 34, 34, 64)       256       \n",
            " hNormalization)                                                 \n",
            "                                                                 \n",
            " dropout_2 (Dropout)         (None, 34, 34, 64)        0         \n",
            "                                                                 \n",
            " conv2d_3 (Conv2D)           (None, 30, 30, 64)        102464    \n",
            "                                                                 \n",
            " max_pooling2d_3 (MaxPooling  (None, 15, 15, 64)       0         \n",
            " 2D)                                                             \n",
            "                                                                 \n",
            " batch_normalization_3 (Batc  (None, 15, 15, 64)       256       \n",
            " hNormalization)                                                 \n",
            "                                                                 \n",
            " dropout_3 (Dropout)         (None, 15, 15, 64)        0         \n",
            "                                                                 \n",
            " flatten (Flatten)           (None, 14400)             0         \n",
            "                                                                 \n",
            " dense_1 (Dense)             (None, 128)               1843328   \n",
            "                                                                 \n",
            " dropout_4 (Dropout)         (None, 128)               0         \n",
            "                                                                 \n",
            " dense_2 (Dense)             (None, 64)                8256      \n",
            "                                                                 \n",
            " dropout_5 (Dropout)         (None, 64)                0         \n",
            "                                                                 \n",
            " dense_3 (Dense)             (None, 2)                 130       \n",
            "                                                                 \n",
            "=================================================================\n",
            "Total params: 2,020,194\n",
            "Trainable params: 2,019,842\n",
            "Non-trainable params: 352\n",
            "_________________________________________________________________\n"
          ]
        }
      ]
    },
    {
      "cell_type": "code",
      "source": [
        "model.compile(\n",
        "    optimizer='adam',\n",
        "    loss='categorical_crossentropy', \n",
        "    metrics=['accuracy']\n",
        ")"
      ],
      "metadata": {
        "id": "1W20AqHCj_2Q"
      },
      "execution_count": 41,
      "outputs": []
    },
    {
      "cell_type": "code",
      "source": [
        "model.summary()"
      ],
      "metadata": {
        "colab": {
          "base_uri": "https://localhost:8080/"
        },
        "id": "zG1tXB9Kj_4Z",
        "outputId": "9a6eaf0e-9d45-4c47-bbf8-c269fbcd778d"
      },
      "execution_count": 42,
      "outputs": [
        {
          "output_type": "stream",
          "name": "stdout",
          "text": [
            "Model: \"sequential\"\n",
            "_________________________________________________________________\n",
            " Layer (type)                Output Shape              Param #   \n",
            "=================================================================\n",
            " conv2d (Conv2D)             (None, 296, 296, 16)      1216      \n",
            "                                                                 \n",
            " batch_normalization (BatchN  (None, 296, 296, 16)     64        \n",
            " ormalization)                                                   \n",
            "                                                                 \n",
            " max_pooling2d (MaxPooling2D  (None, 148, 148, 16)     0         \n",
            " )                                                               \n",
            "                                                                 \n",
            " dropout (Dropout)           (None, 148, 148, 16)      0         \n",
            "                                                                 \n",
            " conv2d_1 (Conv2D)           (None, 144, 144, 32)      12832     \n",
            "                                                                 \n",
            " max_pooling2d_1 (MaxPooling  (None, 72, 72, 32)       0         \n",
            " 2D)                                                             \n",
            "                                                                 \n",
            " batch_normalization_1 (Batc  (None, 72, 72, 32)       128       \n",
            " hNormalization)                                                 \n",
            "                                                                 \n",
            " dropout_1 (Dropout)         (None, 72, 72, 32)        0         \n",
            "                                                                 \n",
            " conv2d_2 (Conv2D)           (None, 68, 68, 64)        51264     \n",
            "                                                                 \n",
            " max_pooling2d_2 (MaxPooling  (None, 34, 34, 64)       0         \n",
            " 2D)                                                             \n",
            "                                                                 \n",
            " batch_normalization_2 (Batc  (None, 34, 34, 64)       256       \n",
            " hNormalization)                                                 \n",
            "                                                                 \n",
            " dropout_2 (Dropout)         (None, 34, 34, 64)        0         \n",
            "                                                                 \n",
            " conv2d_3 (Conv2D)           (None, 30, 30, 64)        102464    \n",
            "                                                                 \n",
            " max_pooling2d_3 (MaxPooling  (None, 15, 15, 64)       0         \n",
            " 2D)                                                             \n",
            "                                                                 \n",
            " batch_normalization_3 (Batc  (None, 15, 15, 64)       256       \n",
            " hNormalization)                                                 \n",
            "                                                                 \n",
            " dropout_3 (Dropout)         (None, 15, 15, 64)        0         \n",
            "                                                                 \n",
            " flatten (Flatten)           (None, 14400)             0         \n",
            "                                                                 \n",
            " dense_1 (Dense)             (None, 128)               1843328   \n",
            "                                                                 \n",
            " dropout_4 (Dropout)         (None, 128)               0         \n",
            "                                                                 \n",
            " dense_2 (Dense)             (None, 64)                8256      \n",
            "                                                                 \n",
            " dropout_5 (Dropout)         (None, 64)                0         \n",
            "                                                                 \n",
            " dense_3 (Dense)             (None, 2)                 130       \n",
            "                                                                 \n",
            "=================================================================\n",
            "Total params: 2,020,194\n",
            "Trainable params: 2,019,842\n",
            "Non-trainable params: 352\n",
            "_________________________________________________________________\n"
          ]
        }
      ]
    },
    {
      "cell_type": "code",
      "source": [
        "%mkdir /content/drive/MyDrive/models/\n",
        "%mkdir /content/drive/MyDrive/models/열매/\n",
        "%mkdir /content/drive/MyDrive/models/열매/check_point\n",
        "checkpoint_path = \"/content/drive/MyDrive/models/열매/check_point/cp-{epoch:04d}.ckpt\"\n",
        "checkpoint_dir = os.path.dirname(checkpoint_path)"
      ],
      "metadata": {
        "colab": {
          "base_uri": "https://localhost:8080/"
        },
        "id": "llgd8SHztu3L",
        "outputId": "3300ccce-6cee-4461-e072-9f400a9a6b75"
      },
      "execution_count": 43,
      "outputs": [
        {
          "output_type": "stream",
          "name": "stdout",
          "text": [
            "mkdir: cannot create directory ‘/content/drive/MyDrive/models/’: File exists\n"
          ]
        }
      ]
    },
    {
      "cell_type": "code",
      "source": [
        "from keras.callbacks import EarlyStopping \n",
        "early_stopping = EarlyStopping(patience=30)\n",
        "cp_callback = keras.callbacks.ModelCheckpoint(\n",
        "    filepath=checkpoint_path, \n",
        "    verbose=1, \n",
        "    save_weights_only=True,\n",
        "    save_freq=7*10)\n",
        "\n",
        "history = model.fit(\n",
        "    X_train, y_train,\n",
        "    epochs=200,\n",
        "    batch_size=6,\n",
        "    verbose=VERBOSE,\n",
        "    validation_split=0.2,\n",
        "    callbacks=[early_stopping, cp_callback]\n",
        ")"
      ],
      "metadata": {
        "colab": {
          "base_uri": "https://localhost:8080/"
        },
        "id": "JT4W4G08j_7F",
        "outputId": "efa362e8-4cf1-41ca-dc66-456b12963b8f"
      },
      "execution_count": 44,
      "outputs": [
        {
          "output_type": "stream",
          "name": "stdout",
          "text": [
            "Epoch 1/200\n",
            "21/21 [==============================] - 13s 30ms/step - loss: 4.2153 - accuracy: 0.5159 - val_loss: 1.4517 - val_accuracy: 0.4688\n",
            "Epoch 2/200\n",
            "21/21 [==============================] - 0s 11ms/step - loss: 3.2125 - accuracy: 0.6508 - val_loss: 5.4808 - val_accuracy: 0.5312\n",
            "Epoch 3/200\n",
            "21/21 [==============================] - 0s 12ms/step - loss: 5.5620 - accuracy: 0.5794 - val_loss: 3.6668 - val_accuracy: 0.7500\n",
            "Epoch 4/200\n",
            " 1/21 [>.............................] - ETA: 0s - loss: 1.2344 - accuracy: 0.8333\n",
            "Epoch 4: saving model to /content/drive/MyDrive/models/열매/check_point/cp-0004.ckpt\n",
            "21/21 [==============================] - 0s 23ms/step - loss: 3.1061 - accuracy: 0.6667 - val_loss: 3.4203 - val_accuracy: 0.7188\n",
            "Epoch 5/200\n",
            "21/21 [==============================] - 0s 11ms/step - loss: 3.9836 - accuracy: 0.7381 - val_loss: 0.4828 - val_accuracy: 0.9062\n",
            "Epoch 6/200\n",
            "21/21 [==============================] - 0s 12ms/step - loss: 2.7317 - accuracy: 0.6905 - val_loss: 6.8971 - val_accuracy: 0.5938\n",
            "Epoch 7/200\n",
            " 7/21 [=========>....................] - ETA: 0s - loss: 1.9848 - accuracy: 0.7381\n",
            "Epoch 7: saving model to /content/drive/MyDrive/models/열매/check_point/cp-0007.ckpt\n",
            "21/21 [==============================] - 0s 20ms/step - loss: 1.7782 - accuracy: 0.7778 - val_loss: 9.9070 - val_accuracy: 0.5312\n",
            "Epoch 8/200\n",
            "21/21 [==============================] - 0s 11ms/step - loss: 2.4004 - accuracy: 0.7460 - val_loss: 13.2834 - val_accuracy: 0.5000\n",
            "Epoch 9/200\n",
            "21/21 [==============================] - 0s 11ms/step - loss: 1.1577 - accuracy: 0.7619 - val_loss: 1.3697 - val_accuracy: 0.8750\n",
            "Epoch 10/200\n",
            "20/21 [===========================>..] - ETA: 0s - loss: 1.4032 - accuracy: 0.8167\n",
            "Epoch 10: saving model to /content/drive/MyDrive/models/열매/check_point/cp-0010.ckpt\n",
            "21/21 [==============================] - 0s 19ms/step - loss: 1.5420 - accuracy: 0.8175 - val_loss: 0.4860 - val_accuracy: 0.8125\n",
            "Epoch 11/200\n",
            "21/21 [==============================] - 0s 11ms/step - loss: 1.3779 - accuracy: 0.8175 - val_loss: 0.7737 - val_accuracy: 0.8125\n",
            "Epoch 12/200\n",
            "21/21 [==============================] - 0s 10ms/step - loss: 1.4482 - accuracy: 0.8016 - val_loss: 1.3272 - val_accuracy: 0.7500\n",
            "Epoch 13/200\n",
            "21/21 [==============================] - 0s 11ms/step - loss: 0.6614 - accuracy: 0.8333 - val_loss: 1.5055 - val_accuracy: 0.8125\n",
            "Epoch 14/200\n",
            " 1/21 [>.............................] - ETA: 0s - loss: 3.1297 - accuracy: 0.6667\n",
            "Epoch 14: saving model to /content/drive/MyDrive/models/열매/check_point/cp-0014.ckpt\n",
            "21/21 [==============================] - 0s 18ms/step - loss: 1.6151 - accuracy: 0.8095 - val_loss: 1.3528 - val_accuracy: 0.6250\n",
            "Epoch 15/200\n",
            "21/21 [==============================] - 0s 11ms/step - loss: 1.1794 - accuracy: 0.7381 - val_loss: 0.3288 - val_accuracy: 0.8438\n",
            "Epoch 16/200\n",
            "21/21 [==============================] - 0s 11ms/step - loss: 1.4459 - accuracy: 0.7698 - val_loss: 1.2571 - val_accuracy: 0.5625\n",
            "Epoch 17/200\n",
            "13/21 [=================>............] - ETA: 0s - loss: 1.3055 - accuracy: 0.7949\n",
            "Epoch 17: saving model to /content/drive/MyDrive/models/열매/check_point/cp-0017.ckpt\n",
            "21/21 [==============================] - 0s 19ms/step - loss: 1.2987 - accuracy: 0.7698 - val_loss: 0.5507 - val_accuracy: 0.9375\n",
            "Epoch 18/200\n",
            "21/21 [==============================] - 0s 11ms/step - loss: 1.7407 - accuracy: 0.7937 - val_loss: 0.5477 - val_accuracy: 0.8438\n",
            "Epoch 19/200\n",
            "21/21 [==============================] - 0s 11ms/step - loss: 1.0257 - accuracy: 0.8571 - val_loss: 0.6990 - val_accuracy: 0.8750\n",
            "Epoch 20/200\n",
            "14/21 [===================>..........] - ETA: 0s - loss: 0.9243 - accuracy: 0.8452\n",
            "Epoch 20: saving model to /content/drive/MyDrive/models/열매/check_point/cp-0020.ckpt\n",
            "21/21 [==============================] - 0s 19ms/step - loss: 0.6936 - accuracy: 0.8571 - val_loss: 1.3466 - val_accuracy: 0.7500\n",
            "Epoch 21/200\n",
            "21/21 [==============================] - 0s 11ms/step - loss: 0.6988 - accuracy: 0.8730 - val_loss: 1.7844 - val_accuracy: 0.8125\n",
            "Epoch 22/200\n",
            "21/21 [==============================] - 0s 10ms/step - loss: 1.0295 - accuracy: 0.8254 - val_loss: 0.9884 - val_accuracy: 0.8438\n",
            "Epoch 23/200\n",
            "21/21 [==============================] - 0s 10ms/step - loss: 0.4111 - accuracy: 0.8571 - val_loss: 0.5259 - val_accuracy: 0.8125\n",
            "Epoch 24/200\n",
            " 1/21 [>.............................] - ETA: 0s - loss: 0.0239 - accuracy: 1.0000\n",
            "Epoch 24: saving model to /content/drive/MyDrive/models/열매/check_point/cp-0024.ckpt\n",
            "21/21 [==============================] - 0s 18ms/step - loss: 0.4700 - accuracy: 0.8333 - val_loss: 0.2633 - val_accuracy: 0.8750\n",
            "Epoch 25/200\n",
            "21/21 [==============================] - 0s 11ms/step - loss: 0.7621 - accuracy: 0.8730 - val_loss: 0.3670 - val_accuracy: 0.8750\n",
            "Epoch 26/200\n",
            "21/21 [==============================] - 0s 10ms/step - loss: 0.5538 - accuracy: 0.8889 - val_loss: 0.4761 - val_accuracy: 0.8438\n",
            "Epoch 27/200\n",
            " 8/21 [==========>...................] - ETA: 0s - loss: 0.2442 - accuracy: 0.9375\n",
            "Epoch 27: saving model to /content/drive/MyDrive/models/열매/check_point/cp-0027.ckpt\n",
            "21/21 [==============================] - 0s 19ms/step - loss: 0.4168 - accuracy: 0.9127 - val_loss: 0.3834 - val_accuracy: 0.9062\n",
            "Epoch 28/200\n",
            "21/21 [==============================] - 0s 10ms/step - loss: 0.5250 - accuracy: 0.8651 - val_loss: 0.5130 - val_accuracy: 0.7812\n",
            "Epoch 29/200\n",
            "21/21 [==============================] - 0s 11ms/step - loss: 0.5540 - accuracy: 0.8968 - val_loss: 0.5345 - val_accuracy: 0.8438\n",
            "Epoch 30/200\n",
            "15/21 [====================>.........] - ETA: 0s - loss: 0.5043 - accuracy: 0.9000\n",
            "Epoch 30: saving model to /content/drive/MyDrive/models/열매/check_point/cp-0030.ckpt\n",
            "21/21 [==============================] - 0s 18ms/step - loss: 0.3808 - accuracy: 0.9127 - val_loss: 0.6975 - val_accuracy: 0.8125\n",
            "Epoch 31/200\n",
            "21/21 [==============================] - 0s 11ms/step - loss: 0.3431 - accuracy: 0.9127 - val_loss: 0.7758 - val_accuracy: 0.8125\n",
            "Epoch 32/200\n",
            "21/21 [==============================] - 0s 11ms/step - loss: 0.5130 - accuracy: 0.8651 - val_loss: 0.5486 - val_accuracy: 0.7812\n",
            "Epoch 33/200\n",
            "21/21 [==============================] - 0s 11ms/step - loss: 0.6511 - accuracy: 0.8730 - val_loss: 1.0428 - val_accuracy: 0.7812\n",
            "Epoch 34/200\n",
            " 1/21 [>.............................] - ETA: 0s - loss: 0.1870 - accuracy: 0.8333\n",
            "Epoch 34: saving model to /content/drive/MyDrive/models/열매/check_point/cp-0034.ckpt\n",
            "21/21 [==============================] - 0s 19ms/step - loss: 0.3415 - accuracy: 0.8571 - val_loss: 0.5709 - val_accuracy: 0.7500\n",
            "Epoch 35/200\n",
            "21/21 [==============================] - 0s 10ms/step - loss: 0.4681 - accuracy: 0.8413 - val_loss: 0.4245 - val_accuracy: 0.7812\n",
            "Epoch 36/200\n",
            "21/21 [==============================] - 0s 11ms/step - loss: 0.2066 - accuracy: 0.9206 - val_loss: 0.4153 - val_accuracy: 0.8438\n",
            "Epoch 37/200\n",
            " 7/21 [=========>....................] - ETA: 0s - loss: 0.2435 - accuracy: 0.9286\n",
            "Epoch 37: saving model to /content/drive/MyDrive/models/열매/check_point/cp-0037.ckpt\n",
            "21/21 [==============================] - 0s 20ms/step - loss: 0.1946 - accuracy: 0.9286 - val_loss: 0.3519 - val_accuracy: 0.9062\n",
            "Epoch 38/200\n",
            "21/21 [==============================] - 0s 10ms/step - loss: 0.3372 - accuracy: 0.9048 - val_loss: 0.3900 - val_accuracy: 0.8750\n",
            "Epoch 39/200\n",
            "21/21 [==============================] - 0s 11ms/step - loss: 0.2872 - accuracy: 0.9365 - val_loss: 0.3159 - val_accuracy: 0.8750\n",
            "Epoch 40/200\n",
            "20/21 [===========================>..] - ETA: 0s - loss: 0.2587 - accuracy: 0.9167\n",
            "Epoch 40: saving model to /content/drive/MyDrive/models/열매/check_point/cp-0040.ckpt\n",
            "21/21 [==============================] - 0s 20ms/step - loss: 0.2683 - accuracy: 0.9127 - val_loss: 0.2456 - val_accuracy: 0.9062\n",
            "Epoch 41/200\n",
            "21/21 [==============================] - 0s 12ms/step - loss: 0.3927 - accuracy: 0.9127 - val_loss: 0.2719 - val_accuracy: 0.9062\n",
            "Epoch 42/200\n",
            "21/21 [==============================] - 0s 12ms/step - loss: 0.1919 - accuracy: 0.9365 - val_loss: 0.4942 - val_accuracy: 0.7812\n",
            "Epoch 43/200\n",
            "21/21 [==============================] - 0s 11ms/step - loss: 0.1336 - accuracy: 0.9603 - val_loss: 0.5571 - val_accuracy: 0.7812\n",
            "Epoch 44/200\n",
            " 1/21 [>.............................] - ETA: 0s - loss: 0.0334 - accuracy: 1.0000\n",
            "Epoch 44: saving model to /content/drive/MyDrive/models/열매/check_point/cp-0044.ckpt\n",
            "21/21 [==============================] - 0s 19ms/step - loss: 0.1953 - accuracy: 0.9683 - val_loss: 0.4679 - val_accuracy: 0.9062\n",
            "Epoch 45/200\n",
            "21/21 [==============================] - 0s 11ms/step - loss: 0.1325 - accuracy: 0.9365 - val_loss: 0.4924 - val_accuracy: 0.8750\n",
            "Epoch 46/200\n",
            "21/21 [==============================] - 0s 11ms/step - loss: 0.0661 - accuracy: 0.9841 - val_loss: 1.6197 - val_accuracy: 0.8125\n",
            "Epoch 47/200\n",
            "13/21 [=================>............] - ETA: 0s - loss: 0.3829 - accuracy: 0.8846\n",
            "Epoch 47: saving model to /content/drive/MyDrive/models/열매/check_point/cp-0047.ckpt\n",
            "21/21 [==============================] - 0s 21ms/step - loss: 0.3295 - accuracy: 0.9048 - val_loss: 0.8679 - val_accuracy: 0.8125\n",
            "Epoch 48/200\n",
            "21/21 [==============================] - 0s 12ms/step - loss: 0.2621 - accuracy: 0.9444 - val_loss: 0.2664 - val_accuracy: 0.9062\n",
            "Epoch 49/200\n",
            "21/21 [==============================] - 0s 11ms/step - loss: 0.2820 - accuracy: 0.9048 - val_loss: 0.3298 - val_accuracy: 0.9062\n",
            "Epoch 50/200\n",
            "19/21 [==========================>...] - ETA: 0s - loss: 0.1453 - accuracy: 0.9561\n",
            "Epoch 50: saving model to /content/drive/MyDrive/models/열매/check_point/cp-0050.ckpt\n",
            "21/21 [==============================] - 0s 19ms/step - loss: 0.1317 - accuracy: 0.9603 - val_loss: 0.4883 - val_accuracy: 0.8125\n",
            "Epoch 51/200\n",
            "21/21 [==============================] - 0s 10ms/step - loss: 0.2660 - accuracy: 0.9286 - val_loss: 0.1968 - val_accuracy: 0.8750\n",
            "Epoch 52/200\n",
            "21/21 [==============================] - 0s 11ms/step - loss: 0.2148 - accuracy: 0.9206 - val_loss: 0.3162 - val_accuracy: 0.8750\n",
            "Epoch 53/200\n",
            "21/21 [==============================] - 0s 11ms/step - loss: 0.1712 - accuracy: 0.9444 - val_loss: 0.2512 - val_accuracy: 0.8750\n",
            "Epoch 54/200\n",
            " 1/21 [>.............................] - ETA: 0s - loss: 0.0925 - accuracy: 1.0000\n",
            "Epoch 54: saving model to /content/drive/MyDrive/models/열매/check_point/cp-0054.ckpt\n",
            "21/21 [==============================] - 0s 20ms/step - loss: 0.4374 - accuracy: 0.9444 - val_loss: 0.2709 - val_accuracy: 0.9062\n",
            "Epoch 55/200\n",
            "21/21 [==============================] - 0s 12ms/step - loss: 0.2033 - accuracy: 0.9444 - val_loss: 0.2353 - val_accuracy: 0.9062\n",
            "Epoch 56/200\n",
            "21/21 [==============================] - 0s 11ms/step - loss: 0.1622 - accuracy: 0.9206 - val_loss: 0.2156 - val_accuracy: 0.9375\n",
            "Epoch 57/200\n",
            "13/21 [=================>............] - ETA: 0s - loss: 0.1133 - accuracy: 0.9487\n",
            "Epoch 57: saving model to /content/drive/MyDrive/models/열매/check_point/cp-0057.ckpt\n",
            "21/21 [==============================] - 0s 19ms/step - loss: 0.0923 - accuracy: 0.9524 - val_loss: 0.3055 - val_accuracy: 0.9062\n",
            "Epoch 58/200\n",
            "21/21 [==============================] - 0s 11ms/step - loss: 0.2944 - accuracy: 0.9365 - val_loss: 0.3054 - val_accuracy: 0.8750\n",
            "Epoch 59/200\n",
            "21/21 [==============================] - 0s 11ms/step - loss: 0.1921 - accuracy: 0.9444 - val_loss: 0.2482 - val_accuracy: 0.8750\n",
            "Epoch 60/200\n",
            "20/21 [===========================>..] - ETA: 0s - loss: 0.0804 - accuracy: 0.9750\n",
            "Epoch 60: saving model to /content/drive/MyDrive/models/열매/check_point/cp-0060.ckpt\n",
            "21/21 [==============================] - 0s 18ms/step - loss: 0.0766 - accuracy: 0.9762 - val_loss: 0.2455 - val_accuracy: 0.8750\n",
            "Epoch 61/200\n",
            "21/21 [==============================] - 0s 11ms/step - loss: 0.1327 - accuracy: 0.9603 - val_loss: 0.2542 - val_accuracy: 0.9062\n",
            "Epoch 62/200\n",
            "21/21 [==============================] - 0s 11ms/step - loss: 0.2056 - accuracy: 0.9524 - val_loss: 0.5903 - val_accuracy: 0.8438\n",
            "Epoch 63/200\n",
            "21/21 [==============================] - 0s 11ms/step - loss: 0.0904 - accuracy: 0.9603 - val_loss: 0.7888 - val_accuracy: 0.8438\n",
            "Epoch 64/200\n",
            " 1/21 [>.............................] - ETA: 0s - loss: 7.5807e-04 - accuracy: 1.0000\n",
            "Epoch 64: saving model to /content/drive/MyDrive/models/열매/check_point/cp-0064.ckpt\n",
            "21/21 [==============================] - 0s 19ms/step - loss: 0.0450 - accuracy: 0.9683 - val_loss: 0.8335 - val_accuracy: 0.8438\n",
            "Epoch 65/200\n",
            "21/21 [==============================] - 0s 11ms/step - loss: 0.1125 - accuracy: 0.9762 - val_loss: 0.7918 - val_accuracy: 0.8125\n",
            "Epoch 66/200\n",
            "21/21 [==============================] - 0s 11ms/step - loss: 0.0718 - accuracy: 0.9921 - val_loss: 0.6181 - val_accuracy: 0.8125\n",
            "Epoch 67/200\n",
            " 8/21 [==========>...................] - ETA: 0s - loss: 0.0676 - accuracy: 0.9792\n",
            "Epoch 67: saving model to /content/drive/MyDrive/models/열매/check_point/cp-0067.ckpt\n",
            "21/21 [==============================] - 0s 18ms/step - loss: 0.0754 - accuracy: 0.9762 - val_loss: 0.5511 - val_accuracy: 0.8438\n",
            "Epoch 68/200\n",
            "21/21 [==============================] - 0s 11ms/step - loss: 0.1087 - accuracy: 0.9762 - val_loss: 0.7239 - val_accuracy: 0.8438\n",
            "Epoch 69/200\n",
            "21/21 [==============================] - 0s 11ms/step - loss: 0.0884 - accuracy: 0.9762 - val_loss: 1.2775 - val_accuracy: 0.7812\n",
            "Epoch 70/200\n",
            "14/21 [===================>..........] - ETA: 0s - loss: 0.2721 - accuracy: 0.9643\n",
            "Epoch 70: saving model to /content/drive/MyDrive/models/열매/check_point/cp-0070.ckpt\n",
            "21/21 [==============================] - 0s 18ms/step - loss: 0.2450 - accuracy: 0.9603 - val_loss: 0.9385 - val_accuracy: 0.8125\n",
            "Epoch 71/200\n",
            "21/21 [==============================] - 0s 10ms/step - loss: 0.1039 - accuracy: 0.9683 - val_loss: 0.7242 - val_accuracy: 0.8438\n",
            "Epoch 72/200\n",
            "21/21 [==============================] - 0s 10ms/step - loss: 0.0780 - accuracy: 0.9762 - val_loss: 0.6548 - val_accuracy: 0.8438\n",
            "Epoch 73/200\n",
            "21/21 [==============================] - 0s 11ms/step - loss: 0.0624 - accuracy: 0.9683 - val_loss: 0.6271 - val_accuracy: 0.7812\n",
            "Epoch 74/200\n",
            " 1/21 [>.............................] - ETA: 0s - loss: 0.0354 - accuracy: 1.0000\n",
            "Epoch 74: saving model to /content/drive/MyDrive/models/열매/check_point/cp-0074.ckpt\n",
            "21/21 [==============================] - 1s 25ms/step - loss: 0.0707 - accuracy: 0.9841 - val_loss: 0.7864 - val_accuracy: 0.8125\n",
            "Epoch 75/200\n",
            "21/21 [==============================] - 0s 10ms/step - loss: 0.1088 - accuracy: 0.9841 - val_loss: 0.7011 - val_accuracy: 0.8438\n",
            "Epoch 76/200\n",
            "21/21 [==============================] - 0s 10ms/step - loss: 0.0986 - accuracy: 0.9603 - val_loss: 0.8254 - val_accuracy: 0.8438\n",
            "Epoch 77/200\n",
            " 8/21 [==========>...................] - ETA: 0s - loss: 0.0711 - accuracy: 0.9792    \n",
            "Epoch 77: saving model to /content/drive/MyDrive/models/열매/check_point/cp-0077.ckpt\n",
            "21/21 [==============================] - 0s 18ms/step - loss: 0.0618 - accuracy: 0.9762 - val_loss: 0.6028 - val_accuracy: 0.8438\n",
            "Epoch 78/200\n",
            "21/21 [==============================] - 0s 11ms/step - loss: 0.0664 - accuracy: 0.9603 - val_loss: 0.5485 - val_accuracy: 0.8750\n",
            "Epoch 79/200\n",
            "21/21 [==============================] - 0s 11ms/step - loss: 0.0805 - accuracy: 0.9762 - val_loss: 0.6553 - val_accuracy: 0.8750\n",
            "Epoch 80/200\n",
            "15/21 [====================>.........] - ETA: 0s - loss: 0.0678 - accuracy: 0.9667\n",
            "Epoch 80: saving model to /content/drive/MyDrive/models/열매/check_point/cp-0080.ckpt\n",
            "21/21 [==============================] - 0s 18ms/step - loss: 0.0521 - accuracy: 0.9762 - val_loss: 0.5780 - val_accuracy: 0.8438\n",
            "Epoch 81/200\n",
            "21/21 [==============================] - 0s 10ms/step - loss: 0.0400 - accuracy: 0.9921 - val_loss: 0.6382 - val_accuracy: 0.8438\n"
          ]
        }
      ]
    },
    {
      "cell_type": "code",
      "source": [
        "plt.figure(figsize=(14, 5))\n",
        "\n",
        "plt.subplot(1, 2, 1)\n",
        "plt.plot(history.history['accuracy'], label='Training Accuracy')\n",
        "plt.plot(history.history['val_accuracy'], label='Validation Accuracy')\n",
        "plt.legend(loc='lower right')\n",
        "plt.title('Training and Validation Accuracy (subspecies)')\n",
        "\n",
        "plt.subplot(1, 2, 2)\n",
        "plt.plot(history.history['loss'], label='Training Loss')\n",
        "plt.plot(history.history['val_loss'], label='Validation Loss')\n",
        "plt.legend(loc='upper right')\n",
        "plt.title('Training and Validation Loss (subspecies)')\n",
        "\n",
        "plt.show()"
      ],
      "metadata": {
        "colab": {
          "base_uri": "https://localhost:8080/",
          "height": 336
        },
        "id": "Pra97sy0j_9l",
        "outputId": "747fc61a-ccb6-481c-98f8-7aff5a712393"
      },
      "execution_count": 45,
      "outputs": [
        {
          "output_type": "display_data",
          "data": {
            "text/plain": [
              "<Figure size 1008x360 with 2 Axes>"
            ],
            "image/png": "[encoded data removed]"
          },
          "metadata": {
            "needs_background": "light"
          }
        }
      ]
    },
    {
      "cell_type": "code",
      "source": [
        "model.evaluate(X_test, y_test)"
      ],
      "metadata": {
        "colab": {
          "base_uri": "https://localhost:8080/"
        },
        "id": "NafVOLpQj__H",
        "outputId": "f27a3241-e9b4-4435-b18a-a12667b54e2b"
      },
      "execution_count": 46,
      "outputs": [
        {
          "output_type": "stream",
          "name": "stdout",
          "text": [
            "2/2 [==============================] - 0s 58ms/step - loss: 0.4499 - accuracy: 0.8250\n"
          ]
        },
        {
          "output_type": "execute_result",
          "data": {
            "text/plain": [
              "[0.4499451220035553, 0.824999988079071]"
            ]
          },
          "metadata": {},
          "execution_count": 46
        }
      ]
    },
    {
      "cell_type": "code",
      "source": [
        "predictions = model.predict(X_test)"
      ],
      "metadata": {
        "colab": {
          "base_uri": "https://localhost:8080/"
        },
        "id": "1jNu9EA5lzbF",
        "outputId": "dbc39aaa-70e7-4fca-8c4c-22ae91ec0218"
      },
      "execution_count": 47,
      "outputs": [
        {
          "output_type": "stream",
          "name": "stdout",
          "text": [
            "2/2 [==============================] - 0s 6ms/step\n"
          ]
        }
      ]
    },
    {
      "cell_type": "code",
      "source": [
        "np.argmax(predictions[2])"
      ],
      "metadata": {
        "colab": {
          "base_uri": "https://localhost:8080/"
        },
        "id": "HSXlqezZlq0U",
        "outputId": "97754bae-9725-467a-e33d-c2a1ecde61df"
      },
      "execution_count": 48,
      "outputs": [
        {
          "output_type": "execute_result",
          "data": {
            "text/plain": [
              "0"
            ]
          },
          "metadata": {},
          "execution_count": 48
        }
      ]
    },
    {
      "cell_type": "code",
      "source": [
        "y_test"
      ],
      "metadata": {
        "colab": {
          "base_uri": "https://localhost:8080/",
          "height": 676
        },
        "id": "rcM_q8SUlq2_",
        "outputId": "e0337b82-f968-4740-84b1-d5c41c978eea"
      },
      "execution_count": null,
      "outputs": [
        {
          "output_type": "execute_result",
          "data": {
            "text/plain": [
              "    0  1\n",
              "43  0  1\n",
              "34  0  1\n",
              "88  1  0\n",
              "62  1  0\n",
              "28  0  1\n",
              "24  0  1\n",
              "95  1  0\n",
              "17  0  1\n",
              "89  1  0\n",
              "14  0  1\n",
              "66  1  0\n",
              "91  1  0\n",
              "60  1  0\n",
              "90  1  0\n",
              "25  0  1\n",
              "92  1  0\n",
              "38  0  1\n",
              "26  0  1\n",
              "63  1  0\n",
              "32  0  1"
            ],
            "text/html": [
              "\n",
              "  <div id=\"df-73c515d5-ce9a-45fb-8664-0d824b0e0d21\">\n",
              "    <div class=\"colab-df-container\">\n",
              "      <div>\n",
              "<style scoped>\n",
              "    .dataframe tbody tr th:only-of-type {\n",
              "        vertical-align: middle;\n",
              "    }\n",
              "\n",
              "    .dataframe tbody tr th {\n",
              "        vertical-align: top;\n",
              "    }\n",
              "\n",
              "    .dataframe thead th {\n",
              "        text-align: right;\n",
              "    }\n",
              "</style>\n",
              "<table border=\"1\" class=\"dataframe\">\n",
              "  <thead>\n",
              "    <tr style=\"text-align: right;\">\n",
              "      <th></th>\n",
              "      <th>0</th>\n",
              "      <th>1</th>\n",
              "    </tr>\n",
              "  </thead>\n",
              "  <tbody>\n",
              "    <tr>\n",
              "      <th>43</th>\n",
              "      <td>0</td>\n",
              "      <td>1</td>\n",
              "    </tr>\n",
              "    <tr>\n",
              "      <th>34</th>\n",
              "      <td>0</td>\n",
              "      <td>1</td>\n",
              "    </tr>\n",
              "    <tr>\n",
              "      <th>88</th>\n",
              "      <td>1</td>\n",
              "      <td>0</td>\n",
              "    </tr>\n",
              "    <tr>\n",
              "      <th>62</th>\n",
              "      <td>1</td>\n",
              "      <td>0</td>\n",
              "    </tr>\n",
              "    <tr>\n",
              "      <th>28</th>\n",
              "      <td>0</td>\n",
              "      <td>1</td>\n",
              "    </tr>\n",
              "    <tr>\n",
              "      <th>24</th>\n",
              "      <td>0</td>\n",
              "      <td>1</td>\n",
              "    </tr>\n",
              "    <tr>\n",
              "      <th>95</th>\n",
              "      <td>1</td>\n",
              "      <td>0</td>\n",
              "    </tr>\n",
              "    <tr>\n",
              "      <th>17</th>\n",
              "      <td>0</td>\n",
              "      <td>1</td>\n",
              "    </tr>\n",
              "    <tr>\n",
              "      <th>89</th>\n",
              "      <td>1</td>\n",
              "      <td>0</td>\n",
              "    </tr>\n",
              "    <tr>\n",
              "      <th>14</th>\n",
              "      <td>0</td>\n",
              "      <td>1</td>\n",
              "    </tr>\n",
              "    <tr>\n",
              "      <th>66</th>\n",
              "      <td>1</td>\n",
              "      <td>0</td>\n",
              "    </tr>\n",
              "    <tr>\n",
              "      <th>91</th>\n",
              "      <td>1</td>\n",
              "      <td>0</td>\n",
              "    </tr>\n",
              "    <tr>\n",
              "      <th>60</th>\n",
              "      <td>1</td>\n",
              "      <td>0</td>\n",
              "    </tr>\n",
              "    <tr>\n",
              "      <th>90</th>\n",
              "      <td>1</td>\n",
              "      <td>0</td>\n",
              "    </tr>\n",
              "    <tr>\n",
              "      <th>25</th>\n",
              "      <td>0</td>\n",
              "      <td>1</td>\n",
              "    </tr>\n",
              "    <tr>\n",
              "      <th>92</th>\n",
              "      <td>1</td>\n",
              "      <td>0</td>\n",
              "    </tr>\n",
              "    <tr>\n",
              "      <th>38</th>\n",
              "      <td>0</td>\n",
              "      <td>1</td>\n",
              "    </tr>\n",
              "    <tr>\n",
              "      <th>26</th>\n",
              "      <td>0</td>\n",
              "      <td>1</td>\n",
              "    </tr>\n",
              "    <tr>\n",
              "      <th>63</th>\n",
              "      <td>1</td>\n",
              "      <td>0</td>\n",
              "    </tr>\n",
              "    <tr>\n",
              "      <th>32</th>\n",
              "      <td>0</td>\n",
              "      <td>1</td>\n",
              "    </tr>\n",
              "  </tbody>\n",
              "</table>\n",
              "</div>\n",
              "      <button class=\"colab-df-convert\" onclick=\"convertToInteractive('df-73c515d5-ce9a-45fb-8664-0d824b0e0d21')\"\n",
              "              title=\"Convert this dataframe to an interactive table.\"\n",
              "              style=\"display:none;\">\n",
              "        \n",
              "  <svg xmlns=\"http://www.w3.org/2000/svg\" height=\"24px\"viewBox=\"0 0 24 24\"\n",
              "       width=\"24px\">\n",
              "    <path d=\"M0 0h24v24H0V0z\" fill=\"none\"/>\n",
              "    <path d=\"M18.56 5.44l.94 2.06.94-2.06 2.06-.94-2.06-.94-.94-2.06-.94 2.06-2.06.94zm-11 1L8.5 8.5l.94-2.06 2.06-.94-2.06-.94L8.5 2.5l-.94 2.06-2.06.94zm10 10l.94 2.06.94-2.06 2.06-.94-2.06-.94-.94-2.06-.94 2.06-2.06.94z\"/><path d=\"M17.41 7.96l-1.37-1.37c-.4-.4-.92-.59-1.43-.59-.52 0-1.04.2-1.43.59L10.3 9.45l-7.72 7.72c-.78.78-.78 2.05 0 2.83L4 21.41c.39.39.9.59 1.41.59.51 0 1.02-.2 1.41-.59l7.78-7.78 2.81-2.81c.8-.78.8-2.07 0-2.86zM5.41 20L4 18.59l7.72-7.72 1.47 1.35L5.41 20z\"/>\n",
              "  </svg>\n",
              "      </button>\n",
              "      \n",
              "  <style>\n",
              "    .colab-df-container {\n",
              "      display:flex;\n",
              "      flex-wrap:wrap;\n",
              "      gap: 12px;\n",
              "    }\n",
              "\n",
              "    .colab-df-convert {\n",
              "      background-color: #E8F0FE;\n",
              "      border: none;\n",
              "      border-radius: 50%;\n",
              "      cursor: pointer;\n",
              "      display: none;\n",
              "      fill: #1967D2;\n",
              "      height: 32px;\n",
              "      padding: 0 0 0 0;\n",
              "      width: 32px;\n",
              "    }\n",
              "\n",
              "    .colab-df-convert:hover {\n",
              "      background-color: #E2EBFA;\n",
              "      box-shadow: 0px 1px 2px rgba(60, 64, 67, 0.3), 0px 1px 3px 1px rgba(60, 64, 67, 0.15);\n",
              "      fill: #174EA6;\n",
              "    }\n",
              "\n",
              "    [theme=dark] .colab-df-convert {\n",
              "      background-color: #3B4455;\n",
              "      fill: #D2E3FC;\n",
              "    }\n",
              "\n",
              "    [theme=dark] .colab-df-convert:hover {\n",
              "      background-color: #434B5C;\n",
              "      box-shadow: 0px 1px 3px 1px rgba(0, 0, 0, 0.15);\n",
              "      filter: drop-shadow(0px 1px 2px rgba(0, 0, 0, 0.3));\n",
              "      fill: #FFFFFF;\n",
              "    }\n",
              "  </style>\n",
              "\n",
              "      <script>\n",
              "        const buttonEl =\n",
              "          document.querySelector('#df-73c515d5-ce9a-45fb-8664-0d824b0e0d21 button.colab-df-convert');\n",
              "        buttonEl.style.display =\n",
              "          google.colab.kernel.accessAllowed ? 'block' : 'none';\n",
              "\n",
              "        async function convertToInteractive(key) {\n",
              "          const element = document.querySelector('#df-73c515d5-ce9a-45fb-8664-0d824b0e0d21');\n",
              "          const dataTable =\n",
              "            await google.colab.kernel.invokeFunction('convertToInteractive',\n",
              "                                                     [key], {});\n",
              "          if (!dataTable) return;\n",
              "\n",
              "          const docLinkHtml = 'Like what you see? Visit the ' +\n",
              "            '<a target=\"_blank\" href=https://colab.research.google.com/notebooks/data_table.ipynb>data table notebook</a>'\n",
              "            + ' to learn more about interactive tables.';\n",
              "          element.innerHTML = '';\n",
              "          dataTable['output_type'] = 'display_data';\n",
              "          await google.colab.output.renderOutput(dataTable, element);\n",
              "          const docLink = document.createElement('div');\n",
              "          docLink.innerHTML = docLinkHtml;\n",
              "          element.appendChild(docLink);\n",
              "        }\n",
              "      </script>\n",
              "    </div>\n",
              "  </div>\n",
              "  "
            ]
          },
          "metadata": {},
          "execution_count": 100
        }
      ]
    },
    {
      "cell_type": "code",
      "source": [
        "%cd /content/drive/MyDrive/models/열매/\n",
        "from keras.models import load_model\n",
        "model.save('열매_model.h5')"
      ],
      "metadata": {
        "colab": {
          "base_uri": "https://localhost:8080/"
        },
        "id": "1Uq7tMWplq6X",
        "outputId": "f21f0ed0-0b2c-462d-9506-3d72d5cb533a"
      },
      "execution_count": 49,
      "outputs": [
        {
          "output_type": "stream",
          "name": "stdout",
          "text": [
            "/content/drive/MyDrive/models/열매\n"
          ]
        }
      ]
    },
    {
      "cell_type": "code",
      "source": [],
      "metadata": {
        "id": "BJyL-Vf8mK1r"
      },
      "execution_count": null,
      "outputs": []
    },
    {
      "cell_type": "code",
      "source": [],
      "metadata": {
        "id": "BRlpitWImK__"
      },
      "execution_count": null,
      "outputs": []
    },
    {
      "cell_type": "code",
      "source": [],
      "metadata": {
        "id": "KKEqpI41lq8x"
      },
      "execution_count": null,
      "outputs": []
    },
    {
      "cell_type": "code",
      "source": [],
      "metadata": {
        "id": "Faf9_yWOzVCv"
      },
      "execution_count": null,
      "outputs": []
    },
    {
      "cell_type": "code",
      "source": [],
      "metadata": {
        "id": "YlwfZuE8zVFY"
      },
      "execution_count": null,
      "outputs": []
    },
    {
      "cell_type": "code",
      "source": [],
      "metadata": {
        "id": "Pm94xL9FzVHd"
      },
      "execution_count": null,
      "outputs": []
    }
  ]
}